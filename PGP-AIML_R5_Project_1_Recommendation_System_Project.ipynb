{
 "cells": [
  {
   "cell_type": "markdown",
   "metadata": {},
   "source": [
    "# Recommendation System Project"
   ]
  },
  {
   "cell_type": "markdown",
   "metadata": {},
   "source": [
    "## Context:\n",
    "India is the second largest market globally for smartphones after China. About 134 million smartphones were sold across India\n",
    "in the year 2017 and is estimated to increase to about 442 million in 2022. India ranked second in the average time spent on mobile web by\n",
    "smartphone users across Asia Pacific. The combination of very high sales volumes and the average smartphone consumer behaviour has\n",
    "made India a very attractive market for foreign vendors. As per Consumer behaviour, 97% of consumers turn to a search engine when they\n",
    "are buying a product vs. 15% who turn to social media. If a seller succeeds to publish smartphones based on user’s behaviour/choice at the\n",
    "right place, there are 90% chances that user will enquire for the same. This Case Study is targeted to build a recommendation system\n",
    "based on individual consumer’s behaviour or choice."
   ]
  },
  {
   "cell_type": "markdown",
   "metadata": {},
   "source": [
    "## Data Description: \n",
    "- <b>author:</b> name of the person who gave the rating\n",
    "- <b>country:</b> country the person who gave the rating belongs to\n",
    "- <b>data:</b> date of the rating\n",
    "- <b>domain:</b> website from which the rating was taken from\n",
    "- <b>extract:</b> rating content\n",
    "- <b>language:</b> language in which the rating was given\n",
    "- <b>product:</b> name of the product/mobile phone for which the rating was given\n",
    "- <b>score:</b> average rating for the phone\n",
    "- <b>score_max:</b> highest rating given for the phone\n",
    "- <b>source:</b> source from where the rating was taken"
   ]
  },
  {
   "cell_type": "markdown",
   "metadata": {},
   "source": [
    "## Project Objective:\n",
    "We will build a recommendation system using popularity based and collaborative filtering methods to recommend\n",
    "mobile phones to a user which are most popular and personalised respectively.."
   ]
  },
  {
   "cell_type": "markdown",
   "metadata": {},
   "source": [
    "## 1. Import the necessary libraries and read the provided CSVs as a data frame"
   ]
  },
  {
   "cell_type": "code",
   "execution_count": 1,
   "metadata": {},
   "outputs": [],
   "source": [
    "import pandas as pd\n",
    "import numpy as np\n",
    "import matplotlib.pyplot as plt\n",
    "import seaborn as sns\n",
    "import os\n",
    "from surprise import Dataset,Reader\n",
    "from surprise.model_selection import train_test_split, cross_validate\n",
    "from surprise import SVD\n",
    "from surprise import KNNWithMeans\n",
    "from surprise import accuracy\n",
    "from collections import defaultdict\n",
    "import warnings\n",
    "warnings.filterwarnings(\"ignore\")"
   ]
  },
  {
   "cell_type": "markdown",
   "metadata": {},
   "source": [
    "### Merge the all .csv files"
   ]
  },
  {
   "cell_type": "code",
   "execution_count": 2,
   "metadata": {},
   "outputs": [],
   "source": [
    "# Read the first file and store into dataframe\n",
    "dfuserreview1 = pd.read_csv(\"phone_user_review_file_1.csv\", encoding=\"latin-1\")"
   ]
  },
  {
   "cell_type": "code",
   "execution_count": 3,
   "metadata": {},
   "outputs": [
    {
     "data": {
      "text/plain": [
       "(374910, 11)"
      ]
     },
     "execution_count": 3,
     "metadata": {},
     "output_type": "execute_result"
    }
   ],
   "source": [
    "# Find the number of rows and columns\n",
    "dfuserreview1.shape"
   ]
  },
  {
   "cell_type": "markdown",
   "metadata": {},
   "source": [
    "<b>Observation:</b>\n",
    "- There are 374910 rows and 11 attributes in first file set"
   ]
  },
  {
   "cell_type": "code",
   "execution_count": 4,
   "metadata": {},
   "outputs": [
    {
     "data": {
      "text/plain": [
       "Index(['phone_url', 'date', 'lang', 'country', 'source', 'domain', 'score',\n",
       "       'score_max', 'extract', 'author', 'product'],\n",
       "      dtype='object')"
      ]
     },
     "execution_count": 4,
     "metadata": {},
     "output_type": "execute_result"
    }
   ],
   "source": [
    "# Verify the list of columns\n",
    "dfuserreview1.columns"
   ]
  },
  {
   "cell_type": "code",
   "execution_count": 5,
   "metadata": {},
   "outputs": [],
   "source": [
    "# Read the second file and store into dataframe\n",
    "dfuserreview2 = pd.read_csv(\"phone_user_review_file_2.csv\", encoding=\"latin-1\")"
   ]
  },
  {
   "cell_type": "code",
   "execution_count": 6,
   "metadata": {},
   "outputs": [
    {
     "data": {
      "text/plain": [
       "(114925, 11)"
      ]
     },
     "execution_count": 6,
     "metadata": {},
     "output_type": "execute_result"
    }
   ],
   "source": [
    "# Find the number of rows and columns\n",
    "dfuserreview2.shape"
   ]
  },
  {
   "cell_type": "markdown",
   "metadata": {},
   "source": [
    "<b>Observation:</b>\n",
    "- There are 114925 in rows and 11 attributes in second file set"
   ]
  },
  {
   "cell_type": "code",
   "execution_count": 7,
   "metadata": {},
   "outputs": [
    {
     "data": {
      "text/plain": [
       "Index(['phone_url', 'date', 'lang', 'country', 'source', 'domain', 'score',\n",
       "       'score_max', 'extract', 'author', 'product'],\n",
       "      dtype='object')"
      ]
     },
     "execution_count": 7,
     "metadata": {},
     "output_type": "execute_result"
    }
   ],
   "source": [
    "# Verify the list of columns\n",
    "dfuserreview2.columns"
   ]
  },
  {
   "cell_type": "code",
   "execution_count": 8,
   "metadata": {},
   "outputs": [],
   "source": [
    "# Read the third file and store into dataframe\n",
    "dfuserreview3 = pd.read_csv(\"phone_user_review_file_3.csv\", encoding=\"latin-1\")"
   ]
  },
  {
   "cell_type": "code",
   "execution_count": 9,
   "metadata": {},
   "outputs": [
    {
     "data": {
      "text/plain": [
       "(312961, 11)"
      ]
     },
     "execution_count": 9,
     "metadata": {},
     "output_type": "execute_result"
    }
   ],
   "source": [
    "# Find the number of rows and columns\n",
    "dfuserreview3.shape"
   ]
  },
  {
   "cell_type": "markdown",
   "metadata": {},
   "source": [
    "<b>Observation:</b>\n",
    "- There are 312961 in rows and 11 attributes in third file set"
   ]
  },
  {
   "cell_type": "code",
   "execution_count": 10,
   "metadata": {},
   "outputs": [
    {
     "data": {
      "text/plain": [
       "Index(['phone_url', 'date', 'lang', 'country', 'source', 'domain', 'score',\n",
       "       'score_max', 'extract', 'author', 'product'],\n",
       "      dtype='object')"
      ]
     },
     "execution_count": 10,
     "metadata": {},
     "output_type": "execute_result"
    }
   ],
   "source": [
    "# Verify the list of columns\n",
    "dfuserreview3.columns"
   ]
  },
  {
   "cell_type": "code",
   "execution_count": 11,
   "metadata": {},
   "outputs": [],
   "source": [
    "# Read the fourth file and store into dataframe\n",
    "dfuserreview4 = pd.read_csv(\"phone_user_review_file_4.csv\", encoding=\"latin-1\")"
   ]
  },
  {
   "cell_type": "code",
   "execution_count": 12,
   "metadata": {},
   "outputs": [
    {
     "data": {
      "text/plain": [
       "(98284, 11)"
      ]
     },
     "execution_count": 12,
     "metadata": {},
     "output_type": "execute_result"
    }
   ],
   "source": [
    "# Find the number of rows and columns\n",
    "dfuserreview4.shape"
   ]
  },
  {
   "cell_type": "markdown",
   "metadata": {},
   "source": [
    "<b>Observation:</b>\n",
    "- There are 98284 in rows and 11 attributes in fourth file set"
   ]
  },
  {
   "cell_type": "code",
   "execution_count": 13,
   "metadata": {},
   "outputs": [
    {
     "data": {
      "text/plain": [
       "Index(['phone_url', 'date', 'lang', 'country', 'source', 'domain', 'score',\n",
       "       'score_max', 'extract', 'author', 'product'],\n",
       "      dtype='object')"
      ]
     },
     "execution_count": 13,
     "metadata": {},
     "output_type": "execute_result"
    }
   ],
   "source": [
    "# Verify the list of columns\n",
    "dfuserreview4.columns"
   ]
  },
  {
   "cell_type": "code",
   "execution_count": 14,
   "metadata": {},
   "outputs": [],
   "source": [
    "# Read the fifth file and store into dataframe\n",
    "dfuserreview5 = pd.read_csv(\"phone_user_review_file_5.csv\", encoding=\"latin-1\")"
   ]
  },
  {
   "cell_type": "code",
   "execution_count": 15,
   "metadata": {},
   "outputs": [
    {
     "data": {
      "text/plain": [
       "(350216, 11)"
      ]
     },
     "execution_count": 15,
     "metadata": {},
     "output_type": "execute_result"
    }
   ],
   "source": [
    "# Find the number of rows and columns\n",
    "dfuserreview5.shape"
   ]
  },
  {
   "cell_type": "markdown",
   "metadata": {},
   "source": [
    "<b>Observation:</b>\n",
    "- There are 350216 in rows and 11 attributes in fifth file set"
   ]
  },
  {
   "cell_type": "code",
   "execution_count": 16,
   "metadata": {},
   "outputs": [
    {
     "data": {
      "text/plain": [
       "Index(['phone_url', 'date', 'lang', 'country', 'source', 'domain', 'score',\n",
       "       'score_max', 'extract', 'author', 'product'],\n",
       "      dtype='object')"
      ]
     },
     "execution_count": 16,
     "metadata": {},
     "output_type": "execute_result"
    }
   ],
   "source": [
    "# Verify the list of columns\n",
    "dfuserreview5.columns"
   ]
  },
  {
   "cell_type": "code",
   "execution_count": 17,
   "metadata": {},
   "outputs": [],
   "source": [
    "# Read the sixth file and store into dataframe\n",
    "dfuserreview6 = pd.read_csv(\"phone_user_review_file_6.csv\", encoding=\"latin-1\")"
   ]
  },
  {
   "cell_type": "code",
   "execution_count": 18,
   "metadata": {},
   "outputs": [
    {
     "data": {
      "text/plain": [
       "(163837, 11)"
      ]
     },
     "execution_count": 18,
     "metadata": {},
     "output_type": "execute_result"
    }
   ],
   "source": [
    "# Find the number of rows and columns\n",
    "dfuserreview6.shape"
   ]
  },
  {
   "cell_type": "markdown",
   "metadata": {},
   "source": [
    "<b>Observation:</b>\n",
    "- There are 163837 in rows and 11 attributes in sixth file set"
   ]
  },
  {
   "cell_type": "code",
   "execution_count": 19,
   "metadata": {},
   "outputs": [
    {
     "data": {
      "text/plain": [
       "Index(['phone_url', 'date', 'lang', 'country', 'source', 'domain', 'score',\n",
       "       'score_max', 'extract', 'author', 'product'],\n",
       "      dtype='object')"
      ]
     },
     "execution_count": 19,
     "metadata": {},
     "output_type": "execute_result"
    }
   ],
   "source": [
    "# Verify the list of columns\n",
    "dfuserreview6.columns"
   ]
  },
  {
   "cell_type": "code",
   "execution_count": 20,
   "metadata": {},
   "outputs": [],
   "source": [
    "# Merge all dataframes into one dataframe\n",
    "df_final = pd.concat([dfuserreview1, dfuserreview2, dfuserreview3, dfuserreview4, dfuserreview5, dfuserreview6])"
   ]
  },
  {
   "cell_type": "code",
   "execution_count": 21,
   "metadata": {},
   "outputs": [
    {
     "data": {
      "text/html": [
       "<div>\n",
       "<style scoped>\n",
       "    .dataframe tbody tr th:only-of-type {\n",
       "        vertical-align: middle;\n",
       "    }\n",
       "\n",
       "    .dataframe tbody tr th {\n",
       "        vertical-align: top;\n",
       "    }\n",
       "\n",
       "    .dataframe thead th {\n",
       "        text-align: right;\n",
       "    }\n",
       "</style>\n",
       "<table border=\"1\" class=\"dataframe\">\n",
       "  <thead>\n",
       "    <tr style=\"text-align: right;\">\n",
       "      <th></th>\n",
       "      <th>phone_url</th>\n",
       "      <th>date</th>\n",
       "      <th>lang</th>\n",
       "      <th>country</th>\n",
       "      <th>source</th>\n",
       "      <th>domain</th>\n",
       "      <th>score</th>\n",
       "      <th>score_max</th>\n",
       "      <th>extract</th>\n",
       "      <th>author</th>\n",
       "      <th>product</th>\n",
       "    </tr>\n",
       "  </thead>\n",
       "  <tbody>\n",
       "    <tr>\n",
       "      <th>0</th>\n",
       "      <td>/cellphones/samsung-galaxy-s8/</td>\n",
       "      <td>5/2/2017</td>\n",
       "      <td>en</td>\n",
       "      <td>us</td>\n",
       "      <td>Verizon Wireless</td>\n",
       "      <td>verizonwireless.com</td>\n",
       "      <td>10.0</td>\n",
       "      <td>10.0</td>\n",
       "      <td>As a diehard Samsung fan who has had every Sam...</td>\n",
       "      <td>CarolAnn35</td>\n",
       "      <td>Samsung Galaxy S8</td>\n",
       "    </tr>\n",
       "    <tr>\n",
       "      <th>1</th>\n",
       "      <td>/cellphones/samsung-galaxy-s8/</td>\n",
       "      <td>4/28/2017</td>\n",
       "      <td>en</td>\n",
       "      <td>us</td>\n",
       "      <td>Phone Arena</td>\n",
       "      <td>phonearena.com</td>\n",
       "      <td>10.0</td>\n",
       "      <td>10.0</td>\n",
       "      <td>Love the phone. the phone is sleek and smooth ...</td>\n",
       "      <td>james0923</td>\n",
       "      <td>Samsung Galaxy S8</td>\n",
       "    </tr>\n",
       "    <tr>\n",
       "      <th>2</th>\n",
       "      <td>/cellphones/samsung-galaxy-s8/</td>\n",
       "      <td>5/4/2017</td>\n",
       "      <td>en</td>\n",
       "      <td>us</td>\n",
       "      <td>Amazon</td>\n",
       "      <td>amazon.com</td>\n",
       "      <td>6.0</td>\n",
       "      <td>10.0</td>\n",
       "      <td>Adequate feel. Nice heft. Processor's still sl...</td>\n",
       "      <td>R. Craig</td>\n",
       "      <td>Samsung Galaxy S8 (64GB) G950U 5.8\" 4G LTE Unl...</td>\n",
       "    </tr>\n",
       "    <tr>\n",
       "      <th>3</th>\n",
       "      <td>/cellphones/samsung-galaxy-s8/</td>\n",
       "      <td>5/2/2017</td>\n",
       "      <td>en</td>\n",
       "      <td>us</td>\n",
       "      <td>Samsung</td>\n",
       "      <td>samsung.com</td>\n",
       "      <td>9.2</td>\n",
       "      <td>10.0</td>\n",
       "      <td>Never disappointed. One of the reasons I've be...</td>\n",
       "      <td>Buster2020</td>\n",
       "      <td>Samsung Galaxy S8 64GB (AT&amp;T)</td>\n",
       "    </tr>\n",
       "    <tr>\n",
       "      <th>4</th>\n",
       "      <td>/cellphones/samsung-galaxy-s8/</td>\n",
       "      <td>5/11/2017</td>\n",
       "      <td>en</td>\n",
       "      <td>us</td>\n",
       "      <td>Verizon Wireless</td>\n",
       "      <td>verizonwireless.com</td>\n",
       "      <td>4.0</td>\n",
       "      <td>10.0</td>\n",
       "      <td>I've now found that i'm in a group of people t...</td>\n",
       "      <td>S Ate Mine</td>\n",
       "      <td>Samsung Galaxy S8</td>\n",
       "    </tr>\n",
       "  </tbody>\n",
       "</table>\n",
       "</div>"
      ],
      "text/plain": [
       "                        phone_url       date lang country            source  \\\n",
       "0  /cellphones/samsung-galaxy-s8/   5/2/2017   en      us  Verizon Wireless   \n",
       "1  /cellphones/samsung-galaxy-s8/  4/28/2017   en      us       Phone Arena   \n",
       "2  /cellphones/samsung-galaxy-s8/   5/4/2017   en      us            Amazon   \n",
       "3  /cellphones/samsung-galaxy-s8/   5/2/2017   en      us           Samsung   \n",
       "4  /cellphones/samsung-galaxy-s8/  5/11/2017   en      us  Verizon Wireless   \n",
       "\n",
       "                domain  score  score_max  \\\n",
       "0  verizonwireless.com   10.0       10.0   \n",
       "1       phonearena.com   10.0       10.0   \n",
       "2           amazon.com    6.0       10.0   \n",
       "3          samsung.com    9.2       10.0   \n",
       "4  verizonwireless.com    4.0       10.0   \n",
       "\n",
       "                                             extract       author  \\\n",
       "0  As a diehard Samsung fan who has had every Sam...   CarolAnn35   \n",
       "1  Love the phone. the phone is sleek and smooth ...    james0923   \n",
       "2  Adequate feel. Nice heft. Processor's still sl...     R. Craig   \n",
       "3  Never disappointed. One of the reasons I've be...  Buster2020    \n",
       "4  I've now found that i'm in a group of people t...   S Ate Mine   \n",
       "\n",
       "                                             product  \n",
       "0                                  Samsung Galaxy S8  \n",
       "1                                  Samsung Galaxy S8  \n",
       "2  Samsung Galaxy S8 (64GB) G950U 5.8\" 4G LTE Unl...  \n",
       "3                      Samsung Galaxy S8 64GB (AT&T)  \n",
       "4                                  Samsung Galaxy S8  "
      ]
     },
     "execution_count": 21,
     "metadata": {},
     "output_type": "execute_result"
    }
   ],
   "source": [
    "df_final.head()"
   ]
  },
  {
   "cell_type": "markdown",
   "metadata": {},
   "source": [
    "### Shape of merged dataframe and observations"
   ]
  },
  {
   "cell_type": "code",
   "execution_count": 22,
   "metadata": {},
   "outputs": [
    {
     "data": {
      "text/plain": [
       "(1415133, 11)"
      ]
     },
     "execution_count": 22,
     "metadata": {},
     "output_type": "execute_result"
    }
   ],
   "source": [
    "# Find the number of rows and columns in merged dataframe\n",
    "df_final.shape"
   ]
  },
  {
   "cell_type": "markdown",
   "metadata": {},
   "source": [
    "<b>Observation:</b>\n",
    "- The merged dataset has 1415133 rows and 11 attributes. "
   ]
  },
  {
   "cell_type": "code",
   "execution_count": 23,
   "metadata": {},
   "outputs": [
    {
     "name": "stdout",
     "output_type": "stream",
     "text": [
      "<class 'pandas.core.frame.DataFrame'>\n",
      "Int64Index: 1415133 entries, 0 to 163836\n",
      "Data columns (total 11 columns):\n",
      " #   Column     Non-Null Count    Dtype  \n",
      "---  ------     --------------    -----  \n",
      " 0   phone_url  1415133 non-null  object \n",
      " 1   date       1415133 non-null  object \n",
      " 2   lang       1415133 non-null  object \n",
      " 3   country    1415133 non-null  object \n",
      " 4   source     1415133 non-null  object \n",
      " 5   domain     1415133 non-null  object \n",
      " 6   score      1351644 non-null  float64\n",
      " 7   score_max  1351644 non-null  float64\n",
      " 8   extract    1395772 non-null  object \n",
      " 9   author     1351931 non-null  object \n",
      " 10  product    1415132 non-null  object \n",
      "dtypes: float64(2), object(9)\n",
      "memory usage: 129.6+ MB\n"
     ]
    }
   ],
   "source": [
    "df_final.info()"
   ]
  },
  {
   "cell_type": "markdown",
   "metadata": {},
   "source": [
    "<b>Observation:</b>\n",
    "- There are missing values in score, score_max, extract, author and product attributes. \n",
    "- score and score_max are numeric values and data type for rest of the attribues is object. "
   ]
  },
  {
   "cell_type": "code",
   "execution_count": 24,
   "metadata": {},
   "outputs": [
    {
     "data": {
      "text/html": [
       "<div>\n",
       "<style scoped>\n",
       "    .dataframe tbody tr th:only-of-type {\n",
       "        vertical-align: middle;\n",
       "    }\n",
       "\n",
       "    .dataframe tbody tr th {\n",
       "        vertical-align: top;\n",
       "    }\n",
       "\n",
       "    .dataframe thead th {\n",
       "        text-align: right;\n",
       "    }\n",
       "</style>\n",
       "<table border=\"1\" class=\"dataframe\">\n",
       "  <thead>\n",
       "    <tr style=\"text-align: right;\">\n",
       "      <th></th>\n",
       "      <th>score</th>\n",
       "      <th>score_max</th>\n",
       "    </tr>\n",
       "  </thead>\n",
       "  <tbody>\n",
       "    <tr>\n",
       "      <th>count</th>\n",
       "      <td>1.351644e+06</td>\n",
       "      <td>1351644.0</td>\n",
       "    </tr>\n",
       "    <tr>\n",
       "      <th>mean</th>\n",
       "      <td>8.007060e+00</td>\n",
       "      <td>10.0</td>\n",
       "    </tr>\n",
       "    <tr>\n",
       "      <th>std</th>\n",
       "      <td>2.616121e+00</td>\n",
       "      <td>0.0</td>\n",
       "    </tr>\n",
       "    <tr>\n",
       "      <th>min</th>\n",
       "      <td>2.000000e-01</td>\n",
       "      <td>10.0</td>\n",
       "    </tr>\n",
       "    <tr>\n",
       "      <th>25%</th>\n",
       "      <td>7.200000e+00</td>\n",
       "      <td>10.0</td>\n",
       "    </tr>\n",
       "    <tr>\n",
       "      <th>50%</th>\n",
       "      <td>9.200000e+00</td>\n",
       "      <td>10.0</td>\n",
       "    </tr>\n",
       "    <tr>\n",
       "      <th>75%</th>\n",
       "      <td>1.000000e+01</td>\n",
       "      <td>10.0</td>\n",
       "    </tr>\n",
       "    <tr>\n",
       "      <th>max</th>\n",
       "      <td>1.000000e+01</td>\n",
       "      <td>10.0</td>\n",
       "    </tr>\n",
       "  </tbody>\n",
       "</table>\n",
       "</div>"
      ],
      "text/plain": [
       "              score  score_max\n",
       "count  1.351644e+06  1351644.0\n",
       "mean   8.007060e+00       10.0\n",
       "std    2.616121e+00        0.0\n",
       "min    2.000000e-01       10.0\n",
       "25%    7.200000e+00       10.0\n",
       "50%    9.200000e+00       10.0\n",
       "75%    1.000000e+01       10.0\n",
       "max    1.000000e+01       10.0"
      ]
     },
     "execution_count": 24,
     "metadata": {},
     "output_type": "execute_result"
    }
   ],
   "source": [
    "# Five points summary\n",
    "df_final.describe()"
   ]
  },
  {
   "cell_type": "code",
   "execution_count": 25,
   "metadata": {},
   "outputs": [
    {
     "data": {
      "text/plain": [
       "<matplotlib.axes._subplots.AxesSubplot at 0x181acce6d90>"
      ]
     },
     "execution_count": 25,
     "metadata": {},
     "output_type": "execute_result"
    },
    {
     "data": {
      "image/png": "[encoded data removed]",
      "text/plain": [
       "<Figure size 1440x720 with 1 Axes>"
      ]
     },
     "metadata": {
      "needs_background": "light"
     },
     "output_type": "display_data"
    }
   ],
   "source": [
    "# Plotting the graph for lang attribute\n",
    "plt.figure(figsize=(20,10))\n",
    "sns.countplot(df_final['lang'])"
   ]
  },
  {
   "cell_type": "markdown",
   "metadata": {},
   "source": [
    "<b>Observation:</b>\n",
    "- There are more reviews in Engligh launguage."
   ]
  },
  {
   "cell_type": "code",
   "execution_count": 26,
   "metadata": {},
   "outputs": [
    {
     "data": {
      "text/plain": [
       "<matplotlib.axes._subplots.AxesSubplot at 0x181c9424e80>"
      ]
     },
     "execution_count": 26,
     "metadata": {},
     "output_type": "execute_result"
    },
    {
     "data": {
      "image/png": "[encoded data removed]",
      "text/plain": [
       "<Figure size 1440x720 with 1 Axes>"
      ]
     },
     "metadata": {
      "needs_background": "light"
     },
     "output_type": "display_data"
    }
   ],
   "source": [
    "# plotting the grapy for country attribute\n",
    "plt.figure(figsize=(20,10))\n",
    "sns.countplot(df_final['country'])"
   ]
  },
  {
   "cell_type": "markdown",
   "metadata": {},
   "source": [
    "<b>Observation:</b>\n",
    "- There are more reviews from US region. "
   ]
  },
  {
   "cell_type": "code",
   "execution_count": 27,
   "metadata": {},
   "outputs": [
    {
     "data": {
      "text/plain": [
       "Amazon           728471\n",
       "Yandex           123066\n",
       "Ciao              59425\n",
       "Samsung           45585\n",
       "MercadoLibre      33531\n",
       "                  ...  \n",
       "Office Depot          1\n",
       "DWI                   1\n",
       "Elkj??p               1\n",
       "Shop Your Way         1\n",
       " SHOP                 1\n",
       "Name: source, Length: 331, dtype: int64"
      ]
     },
     "execution_count": 27,
     "metadata": {},
     "output_type": "execute_result"
    }
   ],
   "source": [
    "# Checking the value counts for each class in source attribute\n",
    "df_final['source'].value_counts().head(1500000)"
   ]
  },
  {
   "cell_type": "markdown",
   "metadata": {},
   "source": [
    "<b>Observation:</b>\n",
    "- There are more reviews from Amazon. "
   ]
  },
  {
   "cell_type": "code",
   "execution_count": 28,
   "metadata": {},
   "outputs": [
    {
     "data": {
      "text/plain": [
       "amazon.com          214776\n",
       "amazon.de           132720\n",
       "market.yandex.ru    123066\n",
       "amazon.in           112880\n",
       "amazon.it            89533\n",
       "                     ...  \n",
       "euronics.fi              1\n",
       "skapiec.pl               1\n",
       "staples.nl               1\n",
       "officedepot.com          1\n",
       "qvc.de                   1\n",
       "Name: domain, Length: 384, dtype: int64"
      ]
     },
     "execution_count": 28,
     "metadata": {},
     "output_type": "execute_result"
    }
   ],
   "source": [
    "# Checking the value counts for each class in domain attribute\n",
    "df_final['domain'].value_counts().head(1500000)"
   ]
  },
  {
   "cell_type": "markdown",
   "metadata": {},
   "source": [
    "<b>Observation:</b>\n",
    "- There are more reviews from amazon.com"
   ]
  },
  {
   "cell_type": "code",
   "execution_count": 29,
   "metadata": {},
   "outputs": [
    {
     "data": {
      "text/plain": [
       "Lenovo Vibe K4 Note (White,16GB)                                                    5226\n",
       "Lenovo Vibe K4 Note (Black, 16GB)                                                   4390\n",
       "OnePlus 3 (Graphite, 64 GB)                                                         4103\n",
       "OnePlus 3 (Soft Gold, 64 GB)                                                        3563\n",
       "Huawei P8lite zwart / 16 GB                                                         2707\n",
       "                                                                                    ... \n",
       "Samsung G389F GALAXY Xcover 3 VE unlocked                                              1\n",
       "Lenovo Vibe P1a42 (2GB RAM , 32GB , Grey)                                              1\n",
       "Smartphone LG Optimus L7 II, 3G, Dual Chip, Android 4.1, CÃ¢mera 8MP, 4GB - P714       1\n",
       "Sony PartNumber: XPERIA M DUAL WH : Sony Mobile Xperia M dual                          1\n",
       "Nokia 808 Pureview white                                                               1\n",
       "Name: product, Length: 61313, dtype: int64"
      ]
     },
     "execution_count": 29,
     "metadata": {},
     "output_type": "execute_result"
    }
   ],
   "source": [
    "# Checking the total review counts for each attribute\n",
    "df_final['product'].value_counts().head(1500000)"
   ]
  },
  {
   "cell_type": "markdown",
   "metadata": {},
   "source": [
    "<b>Observation:</b>\n",
    "- There is highest number of reviews for product Lenovo Vibe K4 Note (White,16GB)."
   ]
  },
  {
   "cell_type": "code",
   "execution_count": 30,
   "metadata": {},
   "outputs": [
    {
     "data": {
      "text/plain": [
       "10.0    656239\n",
       "8.0     296018\n",
       "2.0     128485\n",
       "6.0     116616\n",
       "4.0      72462\n",
       "         ...  \n",
       "0.4          2\n",
       "4.9          1\n",
       "1.5          1\n",
       "8.9          1\n",
       "6.1          1\n",
       "Name: score, Length: 86, dtype: int64"
      ]
     },
     "execution_count": 30,
     "metadata": {},
     "output_type": "execute_result"
    }
   ],
   "source": [
    "# Checking the number of reviews for each score\n",
    "df_final['score'].value_counts().head(1500000)"
   ]
  },
  {
   "cell_type": "markdown",
   "metadata": {},
   "source": [
    "<b>Observation:</b>\n",
    "- Many users provided the highest rating 10 for productus. "
   ]
  },
  {
   "cell_type": "code",
   "execution_count": 31,
   "metadata": {},
   "outputs": [
    {
     "data": {
      "text/plain": [
       "10.0    1351644\n",
       "Name: score_max, dtype: int64"
      ]
     },
     "execution_count": 31,
     "metadata": {},
     "output_type": "execute_result"
    }
   ],
   "source": [
    "# Checking the number of reviews for each score_max\n",
    "df_final['score_max'].value_counts().head(1500000)"
   ]
  },
  {
   "cell_type": "markdown",
   "metadata": {},
   "source": [
    "<b>Observation:</b>\n",
    "- All the products are having highest rating 10 (i.e) at least one user has provided highest rating 10 for the product. "
   ]
  },
  {
   "cell_type": "markdown",
   "metadata": {},
   "source": [
    "### Round off scores to the nearest integers"
   ]
  },
  {
   "cell_type": "code",
   "execution_count": 32,
   "metadata": {},
   "outputs": [],
   "source": [
    "# Round off the score value using round function\n",
    "df_final['score'] = round(df_final['score'])\n",
    "\n",
    "# Round off the score_max value using round function\n",
    "df_final['score_max'] = round(df_final['score_max'])"
   ]
  },
  {
   "cell_type": "code",
   "execution_count": 33,
   "metadata": {},
   "outputs": [
    {
     "data": {
      "text/html": [
       "<div>\n",
       "<style scoped>\n",
       "    .dataframe tbody tr th:only-of-type {\n",
       "        vertical-align: middle;\n",
       "    }\n",
       "\n",
       "    .dataframe tbody tr th {\n",
       "        vertical-align: top;\n",
       "    }\n",
       "\n",
       "    .dataframe thead th {\n",
       "        text-align: right;\n",
       "    }\n",
       "</style>\n",
       "<table border=\"1\" class=\"dataframe\">\n",
       "  <thead>\n",
       "    <tr style=\"text-align: right;\">\n",
       "      <th></th>\n",
       "      <th>phone_url</th>\n",
       "      <th>date</th>\n",
       "      <th>lang</th>\n",
       "      <th>country</th>\n",
       "      <th>source</th>\n",
       "      <th>domain</th>\n",
       "      <th>score</th>\n",
       "      <th>score_max</th>\n",
       "      <th>extract</th>\n",
       "      <th>author</th>\n",
       "      <th>product</th>\n",
       "    </tr>\n",
       "  </thead>\n",
       "  <tbody>\n",
       "    <tr>\n",
       "      <th>0</th>\n",
       "      <td>/cellphones/samsung-galaxy-s8/</td>\n",
       "      <td>5/2/2017</td>\n",
       "      <td>en</td>\n",
       "      <td>us</td>\n",
       "      <td>Verizon Wireless</td>\n",
       "      <td>verizonwireless.com</td>\n",
       "      <td>10.0</td>\n",
       "      <td>10.0</td>\n",
       "      <td>As a diehard Samsung fan who has had every Sam...</td>\n",
       "      <td>CarolAnn35</td>\n",
       "      <td>Samsung Galaxy S8</td>\n",
       "    </tr>\n",
       "    <tr>\n",
       "      <th>1</th>\n",
       "      <td>/cellphones/samsung-galaxy-s8/</td>\n",
       "      <td>4/28/2017</td>\n",
       "      <td>en</td>\n",
       "      <td>us</td>\n",
       "      <td>Phone Arena</td>\n",
       "      <td>phonearena.com</td>\n",
       "      <td>10.0</td>\n",
       "      <td>10.0</td>\n",
       "      <td>Love the phone. the phone is sleek and smooth ...</td>\n",
       "      <td>james0923</td>\n",
       "      <td>Samsung Galaxy S8</td>\n",
       "    </tr>\n",
       "    <tr>\n",
       "      <th>2</th>\n",
       "      <td>/cellphones/samsung-galaxy-s8/</td>\n",
       "      <td>5/4/2017</td>\n",
       "      <td>en</td>\n",
       "      <td>us</td>\n",
       "      <td>Amazon</td>\n",
       "      <td>amazon.com</td>\n",
       "      <td>6.0</td>\n",
       "      <td>10.0</td>\n",
       "      <td>Adequate feel. Nice heft. Processor's still sl...</td>\n",
       "      <td>R. Craig</td>\n",
       "      <td>Samsung Galaxy S8 (64GB) G950U 5.8\" 4G LTE Unl...</td>\n",
       "    </tr>\n",
       "    <tr>\n",
       "      <th>3</th>\n",
       "      <td>/cellphones/samsung-galaxy-s8/</td>\n",
       "      <td>5/2/2017</td>\n",
       "      <td>en</td>\n",
       "      <td>us</td>\n",
       "      <td>Samsung</td>\n",
       "      <td>samsung.com</td>\n",
       "      <td>9.0</td>\n",
       "      <td>10.0</td>\n",
       "      <td>Never disappointed. One of the reasons I've be...</td>\n",
       "      <td>Buster2020</td>\n",
       "      <td>Samsung Galaxy S8 64GB (AT&amp;T)</td>\n",
       "    </tr>\n",
       "    <tr>\n",
       "      <th>4</th>\n",
       "      <td>/cellphones/samsung-galaxy-s8/</td>\n",
       "      <td>5/11/2017</td>\n",
       "      <td>en</td>\n",
       "      <td>us</td>\n",
       "      <td>Verizon Wireless</td>\n",
       "      <td>verizonwireless.com</td>\n",
       "      <td>4.0</td>\n",
       "      <td>10.0</td>\n",
       "      <td>I've now found that i'm in a group of people t...</td>\n",
       "      <td>S Ate Mine</td>\n",
       "      <td>Samsung Galaxy S8</td>\n",
       "    </tr>\n",
       "  </tbody>\n",
       "</table>\n",
       "</div>"
      ],
      "text/plain": [
       "                        phone_url       date lang country            source  \\\n",
       "0  /cellphones/samsung-galaxy-s8/   5/2/2017   en      us  Verizon Wireless   \n",
       "1  /cellphones/samsung-galaxy-s8/  4/28/2017   en      us       Phone Arena   \n",
       "2  /cellphones/samsung-galaxy-s8/   5/4/2017   en      us            Amazon   \n",
       "3  /cellphones/samsung-galaxy-s8/   5/2/2017   en      us           Samsung   \n",
       "4  /cellphones/samsung-galaxy-s8/  5/11/2017   en      us  Verizon Wireless   \n",
       "\n",
       "                domain  score  score_max  \\\n",
       "0  verizonwireless.com   10.0       10.0   \n",
       "1       phonearena.com   10.0       10.0   \n",
       "2           amazon.com    6.0       10.0   \n",
       "3          samsung.com    9.0       10.0   \n",
       "4  verizonwireless.com    4.0       10.0   \n",
       "\n",
       "                                             extract       author  \\\n",
       "0  As a diehard Samsung fan who has had every Sam...   CarolAnn35   \n",
       "1  Love the phone. the phone is sleek and smooth ...    james0923   \n",
       "2  Adequate feel. Nice heft. Processor's still sl...     R. Craig   \n",
       "3  Never disappointed. One of the reasons I've be...  Buster2020    \n",
       "4  I've now found that i'm in a group of people t...   S Ate Mine   \n",
       "\n",
       "                                             product  \n",
       "0                                  Samsung Galaxy S8  \n",
       "1                                  Samsung Galaxy S8  \n",
       "2  Samsung Galaxy S8 (64GB) G950U 5.8\" 4G LTE Unl...  \n",
       "3                      Samsung Galaxy S8 64GB (AT&T)  \n",
       "4                                  Samsung Galaxy S8  "
      ]
     },
     "execution_count": 33,
     "metadata": {},
     "output_type": "execute_result"
    }
   ],
   "source": [
    "# Checking Score and Score_max values are rounded off\n",
    "df_final.head()"
   ]
  },
  {
   "cell_type": "markdown",
   "metadata": {},
   "source": [
    "### Impute the missing values"
   ]
  },
  {
   "cell_type": "code",
   "execution_count": 34,
   "metadata": {},
   "outputs": [],
   "source": [
    "# Impute the missing values for score and score_max using median\n",
    "df_final['score'].fillna(df_final['score'].median(), inplace=True)\n",
    "df_final['score_max'].fillna(df_final['score_max'].median(), inplace=True)\n",
    "\n",
    "# Impute the missing values for author, product and extract using mode\n",
    "df_final['author'].fillna(df_final['author'].mode()[0], inplace=True)\n",
    "df_final['product'].fillna(df_final['product'].mode()[0], inplace=True)\n",
    "df_final['extract'].fillna(df_final['extract'].mode()[0], inplace=True)"
   ]
  },
  {
   "cell_type": "code",
   "execution_count": 35,
   "metadata": {},
   "outputs": [
    {
     "data": {
      "text/plain": [
       "phone_url    0\n",
       "date         0\n",
       "lang         0\n",
       "country      0\n",
       "source       0\n",
       "domain       0\n",
       "score        0\n",
       "score_max    0\n",
       "extract      0\n",
       "author       0\n",
       "product      0\n",
       "dtype: int64"
      ]
     },
     "execution_count": 35,
     "metadata": {},
     "output_type": "execute_result"
    }
   ],
   "source": [
    "# Verify that any missing values in dataset\n",
    "df_final.isnull().sum()"
   ]
  },
  {
   "cell_type": "markdown",
   "metadata": {},
   "source": [
    "<b>Observation:</b>\n",
    "- There is no missing value in dataset. All the missing values are imputed successfully. "
   ]
  },
  {
   "cell_type": "markdown",
   "metadata": {},
   "source": [
    "### Handling duplicate rows"
   ]
  },
  {
   "cell_type": "code",
   "execution_count": 36,
   "metadata": {},
   "outputs": [
    {
     "data": {
      "text/plain": [
       "6458"
      ]
     },
     "execution_count": 36,
     "metadata": {},
     "output_type": "execute_result"
    }
   ],
   "source": [
    "# Checking number of duplicate rows\n",
    "df_final.duplicated().sum()"
   ]
  },
  {
   "cell_type": "markdown",
   "metadata": {},
   "source": [
    "<b>Observation:</b>\n",
    "- There are 6458 duplicated rows in dataset."
   ]
  },
  {
   "cell_type": "code",
   "execution_count": 37,
   "metadata": {},
   "outputs": [],
   "source": [
    "# Dropping duplicate values \n",
    "df_final.drop_duplicates(keep='first',inplace=True) "
   ]
  },
  {
   "cell_type": "code",
   "execution_count": 38,
   "metadata": {},
   "outputs": [
    {
     "data": {
      "text/html": [
       "<div>\n",
       "<style scoped>\n",
       "    .dataframe tbody tr th:only-of-type {\n",
       "        vertical-align: middle;\n",
       "    }\n",
       "\n",
       "    .dataframe tbody tr th {\n",
       "        vertical-align: top;\n",
       "    }\n",
       "\n",
       "    .dataframe thead th {\n",
       "        text-align: right;\n",
       "    }\n",
       "</style>\n",
       "<table border=\"1\" class=\"dataframe\">\n",
       "  <thead>\n",
       "    <tr style=\"text-align: right;\">\n",
       "      <th></th>\n",
       "      <th>phone_url</th>\n",
       "      <th>date</th>\n",
       "      <th>lang</th>\n",
       "      <th>country</th>\n",
       "      <th>source</th>\n",
       "      <th>domain</th>\n",
       "      <th>score</th>\n",
       "      <th>score_max</th>\n",
       "      <th>extract</th>\n",
       "      <th>author</th>\n",
       "      <th>product</th>\n",
       "    </tr>\n",
       "  </thead>\n",
       "  <tbody>\n",
       "  </tbody>\n",
       "</table>\n",
       "</div>"
      ],
      "text/plain": [
       "Empty DataFrame\n",
       "Columns: [phone_url, date, lang, country, source, domain, score, score_max, extract, author, product]\n",
       "Index: []"
      ]
     },
     "execution_count": 38,
     "metadata": {},
     "output_type": "execute_result"
    }
   ],
   "source": [
    "# Checking any duplicated rows\n",
    "df_final[df_final.duplicated()] "
   ]
  },
  {
   "cell_type": "code",
   "execution_count": 39,
   "metadata": {},
   "outputs": [
    {
     "data": {
      "text/plain": [
       "(1408675, 11)"
      ]
     },
     "execution_count": 39,
     "metadata": {},
     "output_type": "execute_result"
    }
   ],
   "source": [
    "# Checking total row counts after removing duplicates. \n",
    "df_final.shape"
   ]
  },
  {
   "cell_type": "markdown",
   "metadata": {},
   "source": [
    "<b>Observation:</b>\n",
    "- There are 1408675 rows after removing duplicates.  "
   ]
  },
  {
   "cell_type": "markdown",
   "metadata": {},
   "source": [
    "### Keep only 1000000 data samples. Use random state=612"
   ]
  },
  {
   "cell_type": "code",
   "execution_count": 40,
   "metadata": {},
   "outputs": [],
   "source": [
    "# Take the 1M data sampels randomly using sample function\n",
    "df_data_final = df_final.sample(n=1000000, random_state=612)"
   ]
  },
  {
   "cell_type": "code",
   "execution_count": 41,
   "metadata": {},
   "outputs": [
    {
     "data": {
      "text/plain": [
       "(1000000, 11)"
      ]
     },
     "execution_count": 41,
     "metadata": {},
     "output_type": "execute_result"
    }
   ],
   "source": [
    "# Checking the number of rows and attributes for sample\n",
    "df_data_final.shape"
   ]
  },
  {
   "cell_type": "markdown",
   "metadata": {},
   "source": [
    "### Drop irrelevant features"
   ]
  },
  {
   "cell_type": "code",
   "execution_count": 42,
   "metadata": {},
   "outputs": [],
   "source": [
    "# Dropping irrelevant features\n",
    "df_data_final.drop(['phone_url','date','lang','country','source','domain','score_max','extract'], axis=1, inplace=True)"
   ]
  },
  {
   "cell_type": "code",
   "execution_count": 43,
   "metadata": {},
   "outputs": [
    {
     "data": {
      "text/plain": [
       "(1000000, 3)"
      ]
     },
     "execution_count": 43,
     "metadata": {},
     "output_type": "execute_result"
    }
   ],
   "source": [
    "# Checking the number of rows and columns in final data set\n",
    "df_data_final.shape"
   ]
  },
  {
   "cell_type": "markdown",
   "metadata": {},
   "source": [
    "<b>Observation:</b>\n",
    "- There are 1000000 rows and 3 attributes. "
   ]
  },
  {
   "cell_type": "code",
   "execution_count": 44,
   "metadata": {},
   "outputs": [
    {
     "data": {
      "text/plain": [
       "117219"
      ]
     },
     "execution_count": 44,
     "metadata": {},
     "output_type": "execute_result"
    }
   ],
   "source": [
    "# Checking the duplicates after removing the irrelevant features\n",
    "df_data_final.duplicated().sum()"
   ]
  },
  {
   "cell_type": "code",
   "execution_count": 45,
   "metadata": {},
   "outputs": [],
   "source": [
    "# Dropping duplicate values \n",
    "df_data_final.drop_duplicates(keep='first',inplace=True) "
   ]
  },
  {
   "cell_type": "code",
   "execution_count": 46,
   "metadata": {},
   "outputs": [
    {
     "data": {
      "text/html": [
       "<div>\n",
       "<style scoped>\n",
       "    .dataframe tbody tr th:only-of-type {\n",
       "        vertical-align: middle;\n",
       "    }\n",
       "\n",
       "    .dataframe tbody tr th {\n",
       "        vertical-align: top;\n",
       "    }\n",
       "\n",
       "    .dataframe thead th {\n",
       "        text-align: right;\n",
       "    }\n",
       "</style>\n",
       "<table border=\"1\" class=\"dataframe\">\n",
       "  <thead>\n",
       "    <tr style=\"text-align: right;\">\n",
       "      <th></th>\n",
       "      <th>score</th>\n",
       "      <th>author</th>\n",
       "      <th>product</th>\n",
       "    </tr>\n",
       "  </thead>\n",
       "  <tbody>\n",
       "  </tbody>\n",
       "</table>\n",
       "</div>"
      ],
      "text/plain": [
       "Empty DataFrame\n",
       "Columns: [score, author, product]\n",
       "Index: []"
      ]
     },
     "execution_count": 46,
     "metadata": {},
     "output_type": "execute_result"
    }
   ],
   "source": [
    "# Checking any duplicated rows\n",
    "df_data_final[df_data_final.duplicated()] "
   ]
  },
  {
   "cell_type": "markdown",
   "metadata": {},
   "source": [
    "## 2. Answer the following"
   ]
  },
  {
   "cell_type": "markdown",
   "metadata": {},
   "source": [
    "### Identify the most rated products"
   ]
  },
  {
   "cell_type": "code",
   "execution_count": 47,
   "metadata": {},
   "outputs": [
    {
     "data": {
      "text/html": [
       "<div>\n",
       "<style scoped>\n",
       "    .dataframe tbody tr th:only-of-type {\n",
       "        vertical-align: middle;\n",
       "    }\n",
       "\n",
       "    .dataframe tbody tr th {\n",
       "        vertical-align: top;\n",
       "    }\n",
       "\n",
       "    .dataframe thead th {\n",
       "        text-align: right;\n",
       "    }\n",
       "</style>\n",
       "<table border=\"1\" class=\"dataframe\">\n",
       "  <thead>\n",
       "    <tr style=\"text-align: right;\">\n",
       "      <th></th>\n",
       "      <th>product</th>\n",
       "      <th>score</th>\n",
       "      <th>counts</th>\n",
       "    </tr>\n",
       "  </thead>\n",
       "  <tbody>\n",
       "    <tr>\n",
       "      <th>86397</th>\n",
       "      <td>OnePlus 3 (Graphite, 64 GB)</td>\n",
       "      <td>10.0</td>\n",
       "      <td>1117</td>\n",
       "    </tr>\n",
       "    <tr>\n",
       "      <th>86402</th>\n",
       "      <td>OnePlus 3 (Soft Gold, 64 GB)</td>\n",
       "      <td>10.0</td>\n",
       "      <td>862</td>\n",
       "    </tr>\n",
       "    <tr>\n",
       "      <th>112344</th>\n",
       "      <td>Samsung Galaxy S7 edge 32GB (T-Mobile)</td>\n",
       "      <td>10.0</td>\n",
       "      <td>821</td>\n",
       "    </tr>\n",
       "    <tr>\n",
       "      <th>112366</th>\n",
       "      <td>Samsung Galaxy S7 edge 32GB (Verizon)</td>\n",
       "      <td>10.0</td>\n",
       "      <td>800</td>\n",
       "    </tr>\n",
       "    <tr>\n",
       "      <th>84524</th>\n",
       "      <td>Nokia N95</td>\n",
       "      <td>10.0</td>\n",
       "      <td>772</td>\n",
       "    </tr>\n",
       "    <tr>\n",
       "      <th>...</th>\n",
       "      <td>...</td>\n",
       "      <td>...</td>\n",
       "      <td>...</td>\n",
       "    </tr>\n",
       "    <tr>\n",
       "      <th>76828</th>\n",
       "      <td>Nokia 6300</td>\n",
       "      <td>0.0</td>\n",
       "      <td>1</td>\n",
       "    </tr>\n",
       "    <tr>\n",
       "      <th>119137</th>\n",
       "      <td>Samsung SGH-C260</td>\n",
       "      <td>0.0</td>\n",
       "      <td>1</td>\n",
       "    </tr>\n",
       "    <tr>\n",
       "      <th>119390</th>\n",
       "      <td>Samsung SGH-E210</td>\n",
       "      <td>0.0</td>\n",
       "      <td>1</td>\n",
       "    </tr>\n",
       "    <tr>\n",
       "      <th>120165</th>\n",
       "      <td>Samsung SGH-S3500</td>\n",
       "      <td>0.0</td>\n",
       "      <td>1</td>\n",
       "    </tr>\n",
       "    <tr>\n",
       "      <th>130116</th>\n",
       "      <td>Sony Ericsson W350i</td>\n",
       "      <td>0.0</td>\n",
       "      <td>1</td>\n",
       "    </tr>\n",
       "  </tbody>\n",
       "</table>\n",
       "<p>150911 rows × 3 columns</p>\n",
       "</div>"
      ],
      "text/plain": [
       "                                       product  score  counts\n",
       "86397              OnePlus 3 (Graphite, 64 GB)   10.0    1117\n",
       "86402             OnePlus 3 (Soft Gold, 64 GB)   10.0     862\n",
       "112344  Samsung Galaxy S7 edge 32GB (T-Mobile)   10.0     821\n",
       "112366   Samsung Galaxy S7 edge 32GB (Verizon)   10.0     800\n",
       "84524                                Nokia N95   10.0     772\n",
       "...                                        ...    ...     ...\n",
       "76828                               Nokia 6300    0.0       1\n",
       "119137                        Samsung SGH-C260    0.0       1\n",
       "119390                        Samsung SGH-E210    0.0       1\n",
       "120165                       Samsung SGH-S3500    0.0       1\n",
       "130116                     Sony Ericsson W350i    0.0       1\n",
       "\n",
       "[150911 rows x 3 columns]"
      ]
     },
     "execution_count": 47,
     "metadata": {},
     "output_type": "execute_result"
    }
   ],
   "source": [
    "# Find the most rated products\n",
    "df_data_final.groupby([\"product\",\"score\"]).size().reset_index(name='counts').sort_values(by=['counts',\"score\"],ascending=False)"
   ]
  },
  {
   "cell_type": "markdown",
   "metadata": {},
   "source": [
    "<b>Observation:</b>\n",
    "- OnePlus 3 (Graphite, 64 GB) is having highest number of ratings. \n",
    "- OnePlus 3 (Soft Gold, 64 GB) is having second highest number of ratings. \n",
    "- Samsung Galaxy S7 edge 32GB (T-Mobile) is having third highest number of ratings. "
   ]
  },
  {
   "cell_type": "markdown",
   "metadata": {},
   "source": [
    "### Identify the users with most number of reviews"
   ]
  },
  {
   "cell_type": "code",
   "execution_count": 48,
   "metadata": {},
   "outputs": [
    {
     "data": {
      "text/html": [
       "<div>\n",
       "<style scoped>\n",
       "    .dataframe tbody tr th:only-of-type {\n",
       "        vertical-align: middle;\n",
       "    }\n",
       "\n",
       "    .dataframe tbody tr th {\n",
       "        vertical-align: top;\n",
       "    }\n",
       "\n",
       "    .dataframe thead th {\n",
       "        text-align: right;\n",
       "    }\n",
       "</style>\n",
       "<table border=\"1\" class=\"dataframe\">\n",
       "  <thead>\n",
       "    <tr style=\"text-align: right;\">\n",
       "      <th></th>\n",
       "      <th>author</th>\n",
       "      <th>counts</th>\n",
       "    </tr>\n",
       "  </thead>\n",
       "  <tbody>\n",
       "    <tr>\n",
       "      <th>22606</th>\n",
       "      <td>Amazon Customer</td>\n",
       "      <td>25082</td>\n",
       "    </tr>\n",
       "    <tr>\n",
       "      <th>72234</th>\n",
       "      <td>Cliente Amazon</td>\n",
       "      <td>5242</td>\n",
       "    </tr>\n",
       "    <tr>\n",
       "      <th>72215</th>\n",
       "      <td>Client d'Amazon</td>\n",
       "      <td>2252</td>\n",
       "    </tr>\n",
       "    <tr>\n",
       "      <th>22927</th>\n",
       "      <td>Amazon Kunde</td>\n",
       "      <td>1593</td>\n",
       "    </tr>\n",
       "    <tr>\n",
       "      <th>30999</th>\n",
       "      <td>Anonymous</td>\n",
       "      <td>1403</td>\n",
       "    </tr>\n",
       "    <tr>\n",
       "      <th>...</th>\n",
       "      <td>...</td>\n",
       "      <td>...</td>\n",
       "    </tr>\n",
       "    <tr>\n",
       "      <th>211861</th>\n",
       "      <td>Ludo17</td>\n",
       "      <td>1</td>\n",
       "    </tr>\n",
       "    <tr>\n",
       "      <th>211860</th>\n",
       "      <td>Ludo Of Genesis</td>\n",
       "      <td>1</td>\n",
       "    </tr>\n",
       "    <tr>\n",
       "      <th>211859</th>\n",
       "      <td>Ludo Borgers</td>\n",
       "      <td>1</td>\n",
       "    </tr>\n",
       "    <tr>\n",
       "      <th>211857</th>\n",
       "      <td>Ludmille</td>\n",
       "      <td>1</td>\n",
       "    </tr>\n",
       "    <tr>\n",
       "      <th>596837</th>\n",
       "      <td>ï¿½ï¿½ï¿½ï¿½ï¿½ï¿½ï¿½ï¿½ï¿½ Xï¿½ï¿½ ï¿½ï¿½ï¿½ï...</td>\n",
       "      <td>1</td>\n",
       "    </tr>\n",
       "  </tbody>\n",
       "</table>\n",
       "<p>596838 rows × 2 columns</p>\n",
       "</div>"
      ],
      "text/plain": [
       "                                                   author  counts\n",
       "22606                                     Amazon Customer   25082\n",
       "72234                                      Cliente Amazon    5242\n",
       "72215                                     Client d'Amazon    2252\n",
       "22927                                        Amazon Kunde    1593\n",
       "30999                                           Anonymous    1403\n",
       "...                                                   ...     ...\n",
       "211861                                             Ludo17       1\n",
       "211860                                    Ludo Of Genesis       1\n",
       "211859                                       Ludo Borgers       1\n",
       "211857                                           Ludmille       1\n",
       "596837  ï¿½ï¿½ï¿½ï¿½ï¿½ï¿½ï¿½ï¿½ï¿½ Xï¿½ï¿½ ï¿½ï¿½ï¿½ï...       1\n",
       "\n",
       "[596838 rows x 2 columns]"
      ]
     },
     "execution_count": 48,
     "metadata": {},
     "output_type": "execute_result"
    }
   ],
   "source": [
    "df_data_final.groupby([\"author\"]).size().reset_index(name='counts').sort_values(by='counts',ascending=False)"
   ]
  },
  {
   "cell_type": "markdown",
   "metadata": {},
   "source": [
    "<b>Observation:</b>\n",
    "- 'Amazon Customer' user has given highest number of reviews on the products. \n",
    "- 'Cliente Amazon' user has given second hightest number of reviews on the products. \n",
    "- 'Client d''Amazon' user has given third highest number of reviews on the products. "
   ]
  },
  {
   "cell_type": "markdown",
   "metadata": {},
   "source": [
    "### Select the data with products having more than 50 ratings and users who have given more than 50 ratings"
   ]
  },
  {
   "cell_type": "code",
   "execution_count": 49,
   "metadata": {},
   "outputs": [
    {
     "data": {
      "text/html": [
       "<div>\n",
       "<style scoped>\n",
       "    .dataframe tbody tr th:only-of-type {\n",
       "        vertical-align: middle;\n",
       "    }\n",
       "\n",
       "    .dataframe tbody tr th {\n",
       "        vertical-align: top;\n",
       "    }\n",
       "\n",
       "    .dataframe thead th {\n",
       "        text-align: right;\n",
       "    }\n",
       "</style>\n",
       "<table border=\"1\" class=\"dataframe\">\n",
       "  <thead>\n",
       "    <tr style=\"text-align: right;\">\n",
       "      <th></th>\n",
       "      <th>score</th>\n",
       "      <th>author</th>\n",
       "      <th>product</th>\n",
       "    </tr>\n",
       "  </thead>\n",
       "  <tbody>\n",
       "    <tr>\n",
       "      <th>292303</th>\n",
       "      <td>8.0</td>\n",
       "      <td>Cliente Amazon</td>\n",
       "      <td>Alcatel One Touch 20-04G Telefono Cellulare, Nero</td>\n",
       "    </tr>\n",
       "    <tr>\n",
       "      <th>24371</th>\n",
       "      <td>8.0</td>\n",
       "      <td>Anthony</td>\n",
       "      <td>Motorola Moto E Smartphone dÃ©bloquÃ© 3G (Ecra...</td>\n",
       "    </tr>\n",
       "    <tr>\n",
       "      <th>257176</th>\n",
       "      <td>8.0</td>\n",
       "      <td>Amazon Customer</td>\n",
       "      <td>Sony Ericsson W595</td>\n",
       "    </tr>\n",
       "    <tr>\n",
       "      <th>109934</th>\n",
       "      <td>10.0</td>\n",
       "      <td>Amazon Customer</td>\n",
       "      <td>BlackBerry Z30 Unlocked Cellphone, 16GB, Black</td>\n",
       "    </tr>\n",
       "    <tr>\n",
       "      <th>55952</th>\n",
       "      <td>2.0</td>\n",
       "      <td>Amazon Customer</td>\n",
       "      <td>Lenovo Vibe K4 Note (White,16GB)</td>\n",
       "    </tr>\n",
       "    <tr>\n",
       "      <th>...</th>\n",
       "      <td>...</td>\n",
       "      <td>...</td>\n",
       "      <td>...</td>\n",
       "    </tr>\n",
       "    <tr>\n",
       "      <th>243160</th>\n",
       "      <td>10.0</td>\n",
       "      <td>e-bit</td>\n",
       "      <td>Smartphone Motorola Moto X 2Âª GeraÃ§Ã£o XT109...</td>\n",
       "    </tr>\n",
       "    <tr>\n",
       "      <th>15239</th>\n",
       "      <td>9.0</td>\n",
       "      <td>ÐÐ°ÑÐ¸Ñ</td>\n",
       "      <td>Sony Xperia J (ÑÐµÑÐ½ÑÐ¹)</td>\n",
       "    </tr>\n",
       "    <tr>\n",
       "      <th>108759</th>\n",
       "      <td>2.0</td>\n",
       "      <td>Amazon Customer</td>\n",
       "      <td>Apple iPhone 5c 16GB (Yellow) - Unlocked</td>\n",
       "    </tr>\n",
       "    <tr>\n",
       "      <th>217257</th>\n",
       "      <td>2.0</td>\n",
       "      <td>Amazon Customer</td>\n",
       "      <td>Apple iPhone 6 Plus Unlocked Cellphone, 16GB, ...</td>\n",
       "    </tr>\n",
       "    <tr>\n",
       "      <th>304580</th>\n",
       "      <td>10.0</td>\n",
       "      <td>Amazon Customer</td>\n",
       "      <td>Asus ZenFone 2 Laser Smartphone, Display da 5\"...</td>\n",
       "    </tr>\n",
       "  </tbody>\n",
       "</table>\n",
       "<p>100 rows × 3 columns</p>\n",
       "</div>"
      ],
      "text/plain": [
       "        score           author  \\\n",
       "292303    8.0   Cliente Amazon   \n",
       "24371     8.0          Anthony   \n",
       "257176    8.0  Amazon Customer   \n",
       "109934   10.0  Amazon Customer   \n",
       "55952     2.0  Amazon Customer   \n",
       "...       ...              ...   \n",
       "243160   10.0            e-bit   \n",
       "15239     9.0       ÐÐ°ÑÐ¸Ñ   \n",
       "108759    2.0  Amazon Customer   \n",
       "217257    2.0  Amazon Customer   \n",
       "304580   10.0  Amazon Customer   \n",
       "\n",
       "                                                  product  \n",
       "292303  Alcatel One Touch 20-04G Telefono Cellulare, Nero  \n",
       "24371   Motorola Moto E Smartphone dÃ©bloquÃ© 3G (Ecra...  \n",
       "257176                                 Sony Ericsson W595  \n",
       "109934     BlackBerry Z30 Unlocked Cellphone, 16GB, Black  \n",
       "55952                    Lenovo Vibe K4 Note (White,16GB)  \n",
       "...                                                   ...  \n",
       "243160  Smartphone Motorola Moto X 2Âª GeraÃ§Ã£o XT109...  \n",
       "15239                        Sony Xperia J (ÑÐµÑÐ½ÑÐ¹)  \n",
       "108759           Apple iPhone 5c 16GB (Yellow) - Unlocked  \n",
       "217257  Apple iPhone 6 Plus Unlocked Cellphone, 16GB, ...  \n",
       "304580  Asus ZenFone 2 Laser Smartphone, Display da 5\"...  \n",
       "\n",
       "[100 rows x 3 columns]"
      ]
     },
     "execution_count": 49,
     "metadata": {},
     "output_type": "execute_result"
    }
   ],
   "source": [
    "# Getting the data with products having more than 50 ratings\n",
    "prd_count = df_data_final['product'].value_counts()\n",
    "df_top_prod = df_data_final[df_data_final['product'].isin(prd_count[prd_count>=50].index)]\n",
    "\n",
    "# Getting the data with users who have given more than 50 ratings from data frame which has more than 50 ratings for products.\n",
    "author_count = df_top_prod['author'].value_counts()\n",
    "df_top_all = df_top_prod[df_top_prod['author'].isin(author_count[author_count>=50].index)]\n",
    "df_top_all.head(100)"
   ]
  },
  {
   "cell_type": "markdown",
   "metadata": {},
   "source": [
    "### Shape of final dataset"
   ]
  },
  {
   "cell_type": "code",
   "execution_count": 50,
   "metadata": {},
   "outputs": [
    {
     "data": {
      "text/plain": [
       "(30150, 3)"
      ]
     },
     "execution_count": 50,
     "metadata": {},
     "output_type": "execute_result"
    }
   ],
   "source": [
    "df_top_all.shape"
   ]
  },
  {
   "cell_type": "markdown",
   "metadata": {},
   "source": [
    "<b>Observation:</b>\n",
    "- There are 30150 rows and 3 attributes in final dataset"
   ]
  },
  {
   "cell_type": "markdown",
   "metadata": {},
   "source": [
    "## 3. Build a popularity based model and recommend top 5 mobile phones"
   ]
  },
  {
   "cell_type": "code",
   "execution_count": 51,
   "metadata": {},
   "outputs": [],
   "source": [
    "# Find the mean score for each product\n",
    "ratings_mean_count = pd.DataFrame(df_top_all.groupby('product')['score'].mean()) "
   ]
  },
  {
   "cell_type": "code",
   "execution_count": 52,
   "metadata": {},
   "outputs": [],
   "source": [
    "# Find the number of ratings for products\n",
    "ratings_mean_count['rating_counts'] = pd.DataFrame(df_top_all.groupby('product')['score'].count()) "
   ]
  },
  {
   "cell_type": "code",
   "execution_count": 53,
   "metadata": {},
   "outputs": [],
   "source": [
    "# Normally, one product has hight rating 10 from only user (i.e) the mean of product is still 10. This product will always \n",
    "# recommended. This is not correct. To avoid this, we need to consider number of rating for the product as well. Hence, \n",
    "# we are calculating top score by multiplying score with number of ratings for products. \n",
    "\n",
    "ratings_mean_count['topscore'] = ratings_mean_count['rating_counts']*ratings_mean_count['score']"
   ]
  },
  {
   "cell_type": "code",
   "execution_count": 54,
   "metadata": {},
   "outputs": [
    {
     "data": {
      "text/html": [
       "<div>\n",
       "<style scoped>\n",
       "    .dataframe tbody tr th:only-of-type {\n",
       "        vertical-align: middle;\n",
       "    }\n",
       "\n",
       "    .dataframe tbody tr th {\n",
       "        vertical-align: top;\n",
       "    }\n",
       "\n",
       "    .dataframe thead th {\n",
       "        text-align: right;\n",
       "    }\n",
       "</style>\n",
       "<table border=\"1\" class=\"dataframe\">\n",
       "  <thead>\n",
       "    <tr style=\"text-align: right;\">\n",
       "      <th></th>\n",
       "      <th>score</th>\n",
       "      <th>rating_counts</th>\n",
       "      <th>topscore</th>\n",
       "    </tr>\n",
       "    <tr>\n",
       "      <th>product</th>\n",
       "      <th></th>\n",
       "      <th></th>\n",
       "      <th></th>\n",
       "    </tr>\n",
       "  </thead>\n",
       "  <tbody>\n",
       "    <tr>\n",
       "      <th>Apple iPhone 5s 16GB (ÑÐµÑÐµÐ±ÑÐ¸ÑÑÑÐ¹)</th>\n",
       "      <td>8.645161</td>\n",
       "      <td>124</td>\n",
       "      <td>1072.0</td>\n",
       "    </tr>\n",
       "    <tr>\n",
       "      <th>Lenovo Motorola Moto G Smartphone, 4,5 pollici display HD, processore Qualcomm, memoria 16GB, MicroSIM, Android 4.3 OS, fotocamera da 5 MP, Nero [Germania]</th>\n",
       "      <td>8.823529</td>\n",
       "      <td>102</td>\n",
       "      <td>900.0</td>\n",
       "    </tr>\n",
       "    <tr>\n",
       "      <th>Sony Xperia Z (Ð±ÐµÐ»ÑÐ¹)</th>\n",
       "      <td>8.835052</td>\n",
       "      <td>97</td>\n",
       "      <td>857.0</td>\n",
       "    </tr>\n",
       "    <tr>\n",
       "      <th>Sony Xperia Z (ÑÐµÑÐ½ÑÐ¹)</th>\n",
       "      <td>8.591398</td>\n",
       "      <td>93</td>\n",
       "      <td>799.0</td>\n",
       "    </tr>\n",
       "    <tr>\n",
       "      <th>Huawei P9 Lite Smartphone, LTE, Display 5.2'' FHD, Processore Octa-Core Kirin 650, 16 GB Memoria Interna, 3GB RAM, Fotocamera 13 MP, Single-SIM, Android 6.0 Marshmallow, Bianco [Italia]</th>\n",
       "      <td>8.559140</td>\n",
       "      <td>93</td>\n",
       "      <td>796.0</td>\n",
       "    </tr>\n",
       "  </tbody>\n",
       "</table>\n",
       "</div>"
      ],
      "text/plain": [
       "                                                       score  rating_counts  \\\n",
       "product                                                                       \n",
       "Apple iPhone 5s 16GB (ÑÐµÑÐµÐ±ÑÐ¸ÑÑÑÐ¹)       8.645161            124   \n",
       "Lenovo Motorola Moto G Smartphone, 4,5 pollici ...  8.823529            102   \n",
       "Sony Xperia Z (Ð±ÐµÐ»ÑÐ¹)                          8.835052             97   \n",
       "Sony Xperia Z (ÑÐµÑÐ½ÑÐ¹)                        8.591398             93   \n",
       "Huawei P9 Lite Smartphone, LTE, Display 5.2'' F...  8.559140             93   \n",
       "\n",
       "                                                    topscore  \n",
       "product                                                       \n",
       "Apple iPhone 5s 16GB (ÑÐµÑÐµÐ±ÑÐ¸ÑÑÑÐ¹)         1072.0  \n",
       "Lenovo Motorola Moto G Smartphone, 4,5 pollici ...     900.0  \n",
       "Sony Xperia Z (Ð±ÐµÐ»ÑÐ¹)                             857.0  \n",
       "Sony Xperia Z (ÑÐµÑÐ½ÑÐ¹)                           799.0  \n",
       "Huawei P9 Lite Smartphone, LTE, Display 5.2'' F...     796.0  "
      ]
     },
     "execution_count": 54,
     "metadata": {},
     "output_type": "execute_result"
    }
   ],
   "source": [
    "# Getting top 5 mobile phones\n",
    "ratings_mean_count.sort_values(by='topscore', ascending=False).head()"
   ]
  },
  {
   "cell_type": "markdown",
   "metadata": {},
   "source": [
    "## 4. Build a collaborative filtering model using SVD"
   ]
  },
  {
   "cell_type": "code",
   "execution_count": 55,
   "metadata": {},
   "outputs": [],
   "source": [
    "# Set the rating scale\n",
    "reader = Reader(rating_scale=(df_top_all['score'].min(), df_top_all['score'].max()))"
   ]
  },
  {
   "cell_type": "code",
   "execution_count": 56,
   "metadata": {},
   "outputs": [],
   "source": [
    "# Convert the data into surprise format\n",
    "data = Dataset.load_from_df(df_top_all[['author', 'product', 'score']], reader)"
   ]
  },
  {
   "cell_type": "code",
   "execution_count": 57,
   "metadata": {},
   "outputs": [
    {
     "data": {
      "text/plain": [
       "surprise.dataset.DatasetAutoFolds"
      ]
     },
     "execution_count": 57,
     "metadata": {},
     "output_type": "execute_result"
    }
   ],
   "source": [
    "# Verify the data that converted into surprise format\n",
    "type(data)"
   ]
  },
  {
   "cell_type": "code",
   "execution_count": 58,
   "metadata": {},
   "outputs": [],
   "source": [
    "# Split data into train and test sets\n",
    "trainset, testset = train_test_split(data, test_size=.25,random_state=10)"
   ]
  },
  {
   "cell_type": "code",
   "execution_count": 59,
   "metadata": {},
   "outputs": [
    {
     "data": {
      "text/plain": [
       "<surprise.prediction_algorithms.matrix_factorization.SVD at 0x181e0b5afa0>"
      ]
     },
     "execution_count": 59,
     "metadata": {},
     "output_type": "execute_result"
    }
   ],
   "source": [
    "#Initiating the SVD \n",
    "svd_model = SVD(random_state=10)\n",
    "# Train the model\n",
    "svd_model.fit(trainset)"
   ]
  },
  {
   "cell_type": "code",
   "execution_count": 60,
   "metadata": {},
   "outputs": [],
   "source": [
    "# Find the prediction on test data\n",
    "test_pred_svd = svd_model.test(testset)"
   ]
  },
  {
   "cell_type": "code",
   "execution_count": 61,
   "metadata": {},
   "outputs": [
    {
     "name": "stdout",
     "output_type": "stream",
     "text": [
      "RMSE: 2.9671\n"
     ]
    },
    {
     "data": {
      "text/plain": [
       "2.9670836725388186"
      ]
     },
     "execution_count": 61,
     "metadata": {},
     "output_type": "execute_result"
    }
   ],
   "source": [
    "# Find the accuracy by computing RMSE\n",
    "accuracy.rmse(test_pred_svd)"
   ]
  },
  {
   "cell_type": "code",
   "execution_count": 62,
   "metadata": {},
   "outputs": [
    {
     "name": "stdout",
     "output_type": "stream",
     "text": [
      "MAE:  2.3553\n"
     ]
    },
    {
     "data": {
      "text/plain": [
       "2.355316185180489"
      ]
     },
     "execution_count": 62,
     "metadata": {},
     "output_type": "execute_result"
    }
   ],
   "source": [
    "accuracy.mae(test_pred_svd)"
   ]
  },
  {
   "cell_type": "code",
   "execution_count": 63,
   "metadata": {},
   "outputs": [],
   "source": [
    "# Convert predicted recommendation into data frame\n",
    "test_pred_df = pd.DataFrame([[x.uid,x.iid,x.est] for x in test_pred_svd], columns=[\"author\",\"product\",\"est_score\"])"
   ]
  },
  {
   "cell_type": "code",
   "execution_count": 64,
   "metadata": {},
   "outputs": [],
   "source": [
    "# Sorting the value by est_score descending order\n",
    "test_pred_df.sort_values(by = [\"est_score\"],ascending=False,inplace=True)"
   ]
  },
  {
   "cell_type": "code",
   "execution_count": 65,
   "metadata": {},
   "outputs": [
    {
     "data": {
      "text/html": [
       "<div>\n",
       "<style scoped>\n",
       "    .dataframe tbody tr th:only-of-type {\n",
       "        vertical-align: middle;\n",
       "    }\n",
       "\n",
       "    .dataframe tbody tr th {\n",
       "        vertical-align: top;\n",
       "    }\n",
       "\n",
       "    .dataframe thead th {\n",
       "        text-align: right;\n",
       "    }\n",
       "</style>\n",
       "<table border=\"1\" class=\"dataframe\">\n",
       "  <thead>\n",
       "    <tr style=\"text-align: right;\">\n",
       "      <th></th>\n",
       "      <th>author</th>\n",
       "      <th>product</th>\n",
       "      <th>est_score</th>\n",
       "    </tr>\n",
       "  </thead>\n",
       "  <tbody>\n",
       "    <tr>\n",
       "      <th>6701</th>\n",
       "      <td>ÐÐ»Ð°Ð´Ð¸ÑÐ»Ð°Ð²</td>\n",
       "      <td>Samsung Galaxy A5 (2016)</td>\n",
       "      <td>10.0</td>\n",
       "    </tr>\n",
       "    <tr>\n",
       "      <th>1288</th>\n",
       "      <td>fabio</td>\n",
       "      <td>LG D855 G3 Smartphone, 32 GB, Nero Metallico [...</td>\n",
       "      <td>10.0</td>\n",
       "    </tr>\n",
       "    <tr>\n",
       "      <th>5870</th>\n",
       "      <td>Francesco</td>\n",
       "      <td>Samsung Galaxy J5 Smartphone, Nero [Italia]</td>\n",
       "      <td>10.0</td>\n",
       "    </tr>\n",
       "    <tr>\n",
       "      <th>1216</th>\n",
       "      <td>David</td>\n",
       "      <td>MICROSOFT Lumia 650 - 16 GB, Black</td>\n",
       "      <td>10.0</td>\n",
       "    </tr>\n",
       "    <tr>\n",
       "      <th>2178</th>\n",
       "      <td>Mario</td>\n",
       "      <td>Lenovo Motorola Moto G Smartphone, 4,5 pollici...</td>\n",
       "      <td>10.0</td>\n",
       "    </tr>\n",
       "  </tbody>\n",
       "</table>\n",
       "</div>"
      ],
      "text/plain": [
       "                  author                                            product  \\\n",
       "6701  ÐÐ»Ð°Ð´Ð¸ÑÐ»Ð°Ð²                           Samsung Galaxy A5 (2016)   \n",
       "1288               fabio  LG D855 G3 Smartphone, 32 GB, Nero Metallico [...   \n",
       "5870           Francesco        Samsung Galaxy J5 Smartphone, Nero [Italia]   \n",
       "1216               David                 MICROSOFT Lumia 650 - 16 GB, Black   \n",
       "2178               Mario  Lenovo Motorola Moto G Smartphone, 4,5 pollici...   \n",
       "\n",
       "      est_score  \n",
       "6701       10.0  \n",
       "1288       10.0  \n",
       "5870       10.0  \n",
       "1216       10.0  \n",
       "2178       10.0  "
      ]
     },
     "execution_count": 65,
     "metadata": {},
     "output_type": "execute_result"
    }
   ],
   "source": [
    "test_pred_df.head()"
   ]
  },
  {
   "cell_type": "code",
   "execution_count": 66,
   "metadata": {},
   "outputs": [
    {
     "name": "stdout",
     "output_type": "stream",
     "text": [
      "Average Rating: 7.634295589777678\n"
     ]
    }
   ],
   "source": [
    "SVDPredAvgRating = np.mean(test_pred_df['est_score'])\n",
    "print(\"Average Rating:\", SVDPredAvgRating)"
   ]
  },
  {
   "cell_type": "code",
   "execution_count": 67,
   "metadata": {},
   "outputs": [],
   "source": [
    "# Create the function for getting top recommendations\n",
    "def get_recomm_SVD(userID,n):\n",
    "    recomm = test_pred_df[test_pred_df['author']==userID][['author','product','est_score']].sort_values(by='est_score',ascending=False).head(n)\n",
    "    return recomm"
   ]
  },
  {
   "cell_type": "code",
   "execution_count": 68,
   "metadata": {},
   "outputs": [
    {
     "data": {
      "text/html": [
       "<div>\n",
       "<style scoped>\n",
       "    .dataframe tbody tr th:only-of-type {\n",
       "        vertical-align: middle;\n",
       "    }\n",
       "\n",
       "    .dataframe tbody tr th {\n",
       "        vertical-align: top;\n",
       "    }\n",
       "\n",
       "    .dataframe thead th {\n",
       "        text-align: right;\n",
       "    }\n",
       "</style>\n",
       "<table border=\"1\" class=\"dataframe\">\n",
       "  <thead>\n",
       "    <tr style=\"text-align: right;\">\n",
       "      <th></th>\n",
       "      <th>author</th>\n",
       "      <th>product</th>\n",
       "      <th>est_score</th>\n",
       "    </tr>\n",
       "  </thead>\n",
       "  <tbody>\n",
       "    <tr>\n",
       "      <th>2864</th>\n",
       "      <td>Marco</td>\n",
       "      <td>Asus ZenFone 5 Smartphone, 16 GB, RAM 2 GB, Ne...</td>\n",
       "      <td>9.605734</td>\n",
       "    </tr>\n",
       "    <tr>\n",
       "      <th>372</th>\n",
       "      <td>Marco</td>\n",
       "      <td>Apple iPhone 5C 16GB - sbloccato - blu / ciano</td>\n",
       "      <td>9.303817</td>\n",
       "    </tr>\n",
       "    <tr>\n",
       "      <th>1029</th>\n",
       "      <td>Marco</td>\n",
       "      <td>Huawei Ascend P8 Smartphone, Display 5.2\" FHD,...</td>\n",
       "      <td>9.295102</td>\n",
       "    </tr>\n",
       "    <tr>\n",
       "      <th>3994</th>\n",
       "      <td>Marco</td>\n",
       "      <td>Huawei Ascend P8 Smartphone, Display 5.2\" FHD,...</td>\n",
       "      <td>9.295102</td>\n",
       "    </tr>\n",
       "    <tr>\n",
       "      <th>4158</th>\n",
       "      <td>Marco</td>\n",
       "      <td>Samsung Galaxy S Advance, Display 4 Pollici, W...</td>\n",
       "      <td>9.196091</td>\n",
       "    </tr>\n",
       "  </tbody>\n",
       "</table>\n",
       "</div>"
      ],
      "text/plain": [
       "     author                                            product  est_score\n",
       "2864  Marco  Asus ZenFone 5 Smartphone, 16 GB, RAM 2 GB, Ne...   9.605734\n",
       "372   Marco     Apple iPhone 5C 16GB - sbloccato - blu / ciano   9.303817\n",
       "1029  Marco  Huawei Ascend P8 Smartphone, Display 5.2\" FHD,...   9.295102\n",
       "3994  Marco  Huawei Ascend P8 Smartphone, Display 5.2\" FHD,...   9.295102\n",
       "4158  Marco  Samsung Galaxy S Advance, Display 4 Pollici, W...   9.196091"
      ]
     },
     "execution_count": 68,
     "metadata": {},
     "output_type": "execute_result"
    }
   ],
   "source": [
    "# Recommending top products for the user\n",
    "get_recomm_SVD('Marco',5)"
   ]
  },
  {
   "cell_type": "code",
   "execution_count": 69,
   "metadata": {},
   "outputs": [
    {
     "data": {
      "text/html": [
       "<div>\n",
       "<style scoped>\n",
       "    .dataframe tbody tr th:only-of-type {\n",
       "        vertical-align: middle;\n",
       "    }\n",
       "\n",
       "    .dataframe tbody tr th {\n",
       "        vertical-align: top;\n",
       "    }\n",
       "\n",
       "    .dataframe thead th {\n",
       "        text-align: right;\n",
       "    }\n",
       "</style>\n",
       "<table border=\"1\" class=\"dataframe\">\n",
       "  <thead>\n",
       "    <tr style=\"text-align: right;\">\n",
       "      <th></th>\n",
       "      <th>author</th>\n",
       "      <th>product</th>\n",
       "      <th>est_score</th>\n",
       "    </tr>\n",
       "  </thead>\n",
       "  <tbody>\n",
       "    <tr>\n",
       "      <th>1216</th>\n",
       "      <td>David</td>\n",
       "      <td>MICROSOFT Lumia 650 - 16 GB, Black</td>\n",
       "      <td>10.000000</td>\n",
       "    </tr>\n",
       "    <tr>\n",
       "      <th>6512</th>\n",
       "      <td>David</td>\n",
       "      <td>MICROSOFT Lumia 650 - 16 GB, Black</td>\n",
       "      <td>10.000000</td>\n",
       "    </tr>\n",
       "    <tr>\n",
       "      <th>3096</th>\n",
       "      <td>David</td>\n",
       "      <td>Samsung Galaxy J5 Smartphone (5 Zoll (12,7 cm)...</td>\n",
       "      <td>9.996035</td>\n",
       "    </tr>\n",
       "    <tr>\n",
       "      <th>962</th>\n",
       "      <td>David</td>\n",
       "      <td>LG G2 mini - Smartphone libre Android (Pantall...</td>\n",
       "      <td>9.948839</td>\n",
       "    </tr>\n",
       "    <tr>\n",
       "      <th>1343</th>\n",
       "      <td>David</td>\n",
       "      <td>Nokia 808 PureView Unlocked Phone with a 41 MP...</td>\n",
       "      <td>9.880541</td>\n",
       "    </tr>\n",
       "  </tbody>\n",
       "</table>\n",
       "</div>"
      ],
      "text/plain": [
       "     author                                            product  est_score\n",
       "1216  David                 MICROSOFT Lumia 650 - 16 GB, Black  10.000000\n",
       "6512  David                 MICROSOFT Lumia 650 - 16 GB, Black  10.000000\n",
       "3096  David  Samsung Galaxy J5 Smartphone (5 Zoll (12,7 cm)...   9.996035\n",
       "962   David  LG G2 mini - Smartphone libre Android (Pantall...   9.948839\n",
       "1343  David  Nokia 808 PureView Unlocked Phone with a 41 MP...   9.880541"
      ]
     },
     "execution_count": 69,
     "metadata": {},
     "output_type": "execute_result"
    }
   ],
   "source": [
    "get_recomm_SVD('David',5)"
   ]
  },
  {
   "cell_type": "markdown",
   "metadata": {},
   "source": [
    "## 5. Build a collaborative filtering model using KNNWithMeans from Surprise"
   ]
  },
  {
   "cell_type": "markdown",
   "metadata": {},
   "source": [
    "#### User Based Collaborative Filtering"
   ]
  },
  {
   "cell_type": "code",
   "execution_count": 70,
   "metadata": {},
   "outputs": [
    {
     "name": "stdout",
     "output_type": "stream",
     "text": [
      "Computing the cosine similarity matrix...\n",
      "Done computing similarity matrix.\n"
     ]
    },
    {
     "data": {
      "text/plain": [
       "<surprise.prediction_algorithms.knns.KNNWithMeans at 0x181be3a27f0>"
      ]
     },
     "execution_count": 70,
     "metadata": {},
     "output_type": "execute_result"
    }
   ],
   "source": [
    "# Use user_based true/false to switch between user-based or item-based collaborative filtering\n",
    "knn = KNNWithMeans(k=50, sim_options={'name': 'cosine', 'user_based': True})\n",
    "# Train the model for trainset (Note: Trainset already converted into surprise format in SVD model. We can reuse the same)\n",
    "knn.fit(trainset)"
   ]
  },
  {
   "cell_type": "code",
   "execution_count": 71,
   "metadata": {},
   "outputs": [],
   "source": [
    "# Predict the recommendations for test set (Note: Test already converted into surprise format in SVD model. \n",
    "# We can reuse the same)\n",
    "test_pred_user = knn.test(testset)"
   ]
  },
  {
   "cell_type": "code",
   "execution_count": 72,
   "metadata": {},
   "outputs": [
    {
     "name": "stdout",
     "output_type": "stream",
     "text": [
      "RMSE: 2.9204\n"
     ]
    },
    {
     "data": {
      "text/plain": [
       "2.9204205061511876"
      ]
     },
     "execution_count": 72,
     "metadata": {},
     "output_type": "execute_result"
    }
   ],
   "source": [
    "# Get accuracy by RMSE\n",
    "accuracy.rmse(test_pred_user)"
   ]
  },
  {
   "cell_type": "code",
   "execution_count": 73,
   "metadata": {},
   "outputs": [],
   "source": [
    "preduser = pd.DataFrame(test_pred_user)"
   ]
  },
  {
   "cell_type": "code",
   "execution_count": 74,
   "metadata": {},
   "outputs": [
    {
     "name": "stdout",
     "output_type": "stream",
     "text": [
      "Average Rating: 7.671408796506113\n"
     ]
    }
   ],
   "source": [
    "UBPredAvgRating = np.mean(preduser['est'])\n",
    "print(\"Average Rating:\", UBPredAvgRating)"
   ]
  },
  {
   "cell_type": "code",
   "execution_count": 75,
   "metadata": {},
   "outputs": [],
   "source": [
    "# Create the function for getting top recommendations.\n",
    "def get_recomm_userbased(userID,n):\n",
    "    recomm = preduser[preduser['uid']==userID][['uid','iid','est']].sort_values(by='est',ascending=False).head(n)\n",
    "    return recomm"
   ]
  },
  {
   "cell_type": "code",
   "execution_count": 78,
   "metadata": {},
   "outputs": [
    {
     "data": {
      "text/html": [
       "<div>\n",
       "<style scoped>\n",
       "    .dataframe tbody tr th:only-of-type {\n",
       "        vertical-align: middle;\n",
       "    }\n",
       "\n",
       "    .dataframe tbody tr th {\n",
       "        vertical-align: top;\n",
       "    }\n",
       "\n",
       "    .dataframe thead th {\n",
       "        text-align: right;\n",
       "    }\n",
       "</style>\n",
       "<table border=\"1\" class=\"dataframe\">\n",
       "  <thead>\n",
       "    <tr style=\"text-align: right;\">\n",
       "      <th></th>\n",
       "      <th>uid</th>\n",
       "      <th>iid</th>\n",
       "      <th>est</th>\n",
       "    </tr>\n",
       "  </thead>\n",
       "  <tbody>\n",
       "    <tr>\n",
       "      <th>5984</th>\n",
       "      <td>Amazon Customer</td>\n",
       "      <td>Sony Ericsson W508</td>\n",
       "      <td>10.0</td>\n",
       "    </tr>\n",
       "    <tr>\n",
       "      <th>4730</th>\n",
       "      <td>Amazon Customer</td>\n",
       "      <td>Apple iPhone 6, Silver, 128 GB (Verizon)</td>\n",
       "      <td>10.0</td>\n",
       "    </tr>\n",
       "    <tr>\n",
       "      <th>5339</th>\n",
       "      <td>Amazon Customer</td>\n",
       "      <td>Motorola W220</td>\n",
       "      <td>10.0</td>\n",
       "    </tr>\n",
       "    <tr>\n",
       "      <th>7275</th>\n",
       "      <td>Amazon Customer</td>\n",
       "      <td>Apple iPhone 6, Silver, 128 GB (Verizon)</td>\n",
       "      <td>10.0</td>\n",
       "    </tr>\n",
       "    <tr>\n",
       "      <th>6898</th>\n",
       "      <td>Amazon Customer</td>\n",
       "      <td>Samsung Verizon Samsung Alias 2 U750 No Contra...</td>\n",
       "      <td>10.0</td>\n",
       "    </tr>\n",
       "  </tbody>\n",
       "</table>\n",
       "</div>"
      ],
      "text/plain": [
       "                  uid                                                iid   est\n",
       "5984  Amazon Customer                                 Sony Ericsson W508  10.0\n",
       "4730  Amazon Customer           Apple iPhone 6, Silver, 128 GB (Verizon)  10.0\n",
       "5339  Amazon Customer                                      Motorola W220  10.0\n",
       "7275  Amazon Customer           Apple iPhone 6, Silver, 128 GB (Verizon)  10.0\n",
       "6898  Amazon Customer  Samsung Verizon Samsung Alias 2 U750 No Contra...  10.0"
      ]
     },
     "execution_count": 78,
     "metadata": {},
     "output_type": "execute_result"
    }
   ],
   "source": [
    "# Find the top 5 recommendations\n",
    "get_recomm_userbased('Amazon Customer', 5)"
   ]
  },
  {
   "cell_type": "code",
   "execution_count": 80,
   "metadata": {},
   "outputs": [
    {
     "data": {
      "text/html": [
       "<div>\n",
       "<style scoped>\n",
       "    .dataframe tbody tr th:only-of-type {\n",
       "        vertical-align: middle;\n",
       "    }\n",
       "\n",
       "    .dataframe tbody tr th {\n",
       "        vertical-align: top;\n",
       "    }\n",
       "\n",
       "    .dataframe thead th {\n",
       "        text-align: right;\n",
       "    }\n",
       "</style>\n",
       "<table border=\"1\" class=\"dataframe\">\n",
       "  <thead>\n",
       "    <tr style=\"text-align: right;\">\n",
       "      <th></th>\n",
       "      <th>uid</th>\n",
       "      <th>iid</th>\n",
       "      <th>est</th>\n",
       "    </tr>\n",
       "  </thead>\n",
       "  <tbody>\n",
       "    <tr>\n",
       "      <th>525</th>\n",
       "      <td>Peter</td>\n",
       "      <td>Sim Free Samsung Galaxy S7 Edge Mobile Phone -...</td>\n",
       "      <td>10.000000</td>\n",
       "    </tr>\n",
       "    <tr>\n",
       "      <th>1515</th>\n",
       "      <td>Peter</td>\n",
       "      <td>Samsung Galaxy S III i9300 Smartphone (4,8 Zol...</td>\n",
       "      <td>9.801837</td>\n",
       "    </tr>\n",
       "    <tr>\n",
       "      <th>6693</th>\n",
       "      <td>Peter</td>\n",
       "      <td>LG Electronics E430 Optimus L3 II Smartphone (...</td>\n",
       "      <td>9.759627</td>\n",
       "    </tr>\n",
       "    <tr>\n",
       "      <th>6114</th>\n",
       "      <td>Peter</td>\n",
       "      <td>Sony Ericsson Cedar Handy (UMTS, HSDPA, 2MP, 3...</td>\n",
       "      <td>9.450087</td>\n",
       "    </tr>\n",
       "    <tr>\n",
       "      <th>2603</th>\n",
       "      <td>Peter</td>\n",
       "      <td>Nokia 6021</td>\n",
       "      <td>9.125562</td>\n",
       "    </tr>\n",
       "  </tbody>\n",
       "</table>\n",
       "</div>"
      ],
      "text/plain": [
       "        uid                                                iid        est\n",
       "525   Peter  Sim Free Samsung Galaxy S7 Edge Mobile Phone -...  10.000000\n",
       "1515  Peter  Samsung Galaxy S III i9300 Smartphone (4,8 Zol...   9.801837\n",
       "6693  Peter  LG Electronics E430 Optimus L3 II Smartphone (...   9.759627\n",
       "6114  Peter  Sony Ericsson Cedar Handy (UMTS, HSDPA, 2MP, 3...   9.450087\n",
       "2603  Peter                                         Nokia 6021   9.125562"
      ]
     },
     "execution_count": 80,
     "metadata": {},
     "output_type": "execute_result"
    }
   ],
   "source": [
    "# Find the top 5 recommendations\n",
    "get_recomm_userbased('Peter', 5)"
   ]
  },
  {
   "cell_type": "markdown",
   "metadata": {},
   "source": [
    "#### Item Based Collaborative Filtering"
   ]
  },
  {
   "cell_type": "code",
   "execution_count": 81,
   "metadata": {},
   "outputs": [
    {
     "name": "stdout",
     "output_type": "stream",
     "text": [
      "Computing the cosine similarity matrix...\n",
      "Done computing similarity matrix.\n"
     ]
    },
    {
     "data": {
      "text/plain": [
       "<surprise.prediction_algorithms.knns.KNNWithMeans at 0x181c9499520>"
      ]
     },
     "execution_count": 81,
     "metadata": {},
     "output_type": "execute_result"
    }
   ],
   "source": [
    "# Use user_based true/false to switch between user-based or item-based collaborative filtering\n",
    "knnitem = KNNWithMeans(k=50, sim_options={'name': 'cosine', 'user_based': False})\n",
    "# Train the model\n",
    "knnitem.fit(trainset)"
   ]
  },
  {
   "cell_type": "code",
   "execution_count": 82,
   "metadata": {},
   "outputs": [],
   "source": [
    "# Predict the recommendations for test set\n",
    "test_pred_item = knnitem.test(testset)"
   ]
  },
  {
   "cell_type": "code",
   "execution_count": 83,
   "metadata": {},
   "outputs": [
    {
     "name": "stdout",
     "output_type": "stream",
     "text": [
      "RMSE: 2.9557\n"
     ]
    },
    {
     "data": {
      "text/plain": [
       "2.955724973099792"
      ]
     },
     "execution_count": 83,
     "metadata": {},
     "output_type": "execute_result"
    }
   ],
   "source": [
    "# Get the accuracy by RMSE\n",
    "accuracy.rmse(test_pred_item)"
   ]
  },
  {
   "cell_type": "code",
   "execution_count": 84,
   "metadata": {},
   "outputs": [],
   "source": [
    "preditem = pd.DataFrame(test_pred_item)"
   ]
  },
  {
   "cell_type": "code",
   "execution_count": 85,
   "metadata": {},
   "outputs": [
    {
     "name": "stdout",
     "output_type": "stream",
     "text": [
      "Average Rating: 7.680518350210292\n"
     ]
    }
   ],
   "source": [
    "ItmPredAvgRating = np.mean(preditem[\"est\"])\n",
    "print(\"Average Rating:\", ItmPredAvgRating)"
   ]
  },
  {
   "cell_type": "code",
   "execution_count": 86,
   "metadata": {},
   "outputs": [],
   "source": [
    "# Create the function\n",
    "def get_recommitem(itemID,n):\n",
    "    recomm = preditem[preditem['uid']==itemID][['uid','iid','est']].sort_values(by='est',ascending=False).head(n)\n",
    "    return recomm"
   ]
  },
  {
   "cell_type": "code",
   "execution_count": 87,
   "metadata": {},
   "outputs": [
    {
     "data": {
      "text/html": [
       "<div>\n",
       "<style scoped>\n",
       "    .dataframe tbody tr th:only-of-type {\n",
       "        vertical-align: middle;\n",
       "    }\n",
       "\n",
       "    .dataframe tbody tr th {\n",
       "        vertical-align: top;\n",
       "    }\n",
       "\n",
       "    .dataframe thead th {\n",
       "        text-align: right;\n",
       "    }\n",
       "</style>\n",
       "<table border=\"1\" class=\"dataframe\">\n",
       "  <thead>\n",
       "    <tr style=\"text-align: right;\">\n",
       "      <th></th>\n",
       "      <th>uid</th>\n",
       "      <th>iid</th>\n",
       "      <th>est</th>\n",
       "    </tr>\n",
       "  </thead>\n",
       "  <tbody>\n",
       "    <tr>\n",
       "      <th>2551</th>\n",
       "      <td>Cliente Amazon</td>\n",
       "      <td>Honor 6 - Smartphone libre (pantalla de 5\", 16...</td>\n",
       "      <td>9.891433</td>\n",
       "    </tr>\n",
       "    <tr>\n",
       "      <th>4623</th>\n",
       "      <td>Cliente Amazon</td>\n",
       "      <td>Asus ZenFone 5 Smartphone, 8 GB, RAM 2 GB, Ner...</td>\n",
       "      <td>9.874469</td>\n",
       "    </tr>\n",
       "    <tr>\n",
       "      <th>646</th>\n",
       "      <td>Cliente Amazon</td>\n",
       "      <td>Microsoft Lumia 640 LTE RM 1072 Smartphone, Ma...</td>\n",
       "      <td>9.771094</td>\n",
       "    </tr>\n",
       "    <tr>\n",
       "      <th>2124</th>\n",
       "      <td>Cliente Amazon</td>\n",
       "      <td>Alcatel One Touch Idol 3 Smartphone, 4.7\", Dua...</td>\n",
       "      <td>9.691789</td>\n",
       "    </tr>\n",
       "    <tr>\n",
       "      <th>4777</th>\n",
       "      <td>Cliente Amazon</td>\n",
       "      <td>Alcatel One Touch Idol 3 Smartphone, 4.7\", Dua...</td>\n",
       "      <td>9.691789</td>\n",
       "    </tr>\n",
       "  </tbody>\n",
       "</table>\n",
       "</div>"
      ],
      "text/plain": [
       "                 uid                                                iid  \\\n",
       "2551  Cliente Amazon  Honor 6 - Smartphone libre (pantalla de 5\", 16...   \n",
       "4623  Cliente Amazon  Asus ZenFone 5 Smartphone, 8 GB, RAM 2 GB, Ner...   \n",
       "646   Cliente Amazon  Microsoft Lumia 640 LTE RM 1072 Smartphone, Ma...   \n",
       "2124  Cliente Amazon  Alcatel One Touch Idol 3 Smartphone, 4.7\", Dua...   \n",
       "4777  Cliente Amazon  Alcatel One Touch Idol 3 Smartphone, 4.7\", Dua...   \n",
       "\n",
       "           est  \n",
       "2551  9.891433  \n",
       "4623  9.874469  \n",
       "646   9.771094  \n",
       "2124  9.691789  \n",
       "4777  9.691789  "
      ]
     },
     "execution_count": 87,
     "metadata": {},
     "output_type": "execute_result"
    }
   ],
   "source": [
    "# Find the top 5 recommendations\n",
    "get_recommitem('Cliente Amazon', 5)"
   ]
  },
  {
   "cell_type": "code",
   "execution_count": 88,
   "metadata": {},
   "outputs": [
    {
     "data": {
      "text/html": [
       "<div>\n",
       "<style scoped>\n",
       "    .dataframe tbody tr th:only-of-type {\n",
       "        vertical-align: middle;\n",
       "    }\n",
       "\n",
       "    .dataframe tbody tr th {\n",
       "        vertical-align: top;\n",
       "    }\n",
       "\n",
       "    .dataframe thead th {\n",
       "        text-align: right;\n",
       "    }\n",
       "</style>\n",
       "<table border=\"1\" class=\"dataframe\">\n",
       "  <thead>\n",
       "    <tr style=\"text-align: right;\">\n",
       "      <th></th>\n",
       "      <th>uid</th>\n",
       "      <th>iid</th>\n",
       "      <th>est</th>\n",
       "    </tr>\n",
       "  </thead>\n",
       "  <tbody>\n",
       "    <tr>\n",
       "      <th>1515</th>\n",
       "      <td>Peter</td>\n",
       "      <td>Samsung Galaxy S III i9300 Smartphone (4,8 Zol...</td>\n",
       "      <td>9.864268</td>\n",
       "    </tr>\n",
       "    <tr>\n",
       "      <th>6693</th>\n",
       "      <td>Peter</td>\n",
       "      <td>LG Electronics E430 Optimus L3 II Smartphone (...</td>\n",
       "      <td>9.704355</td>\n",
       "    </tr>\n",
       "    <tr>\n",
       "      <th>1479</th>\n",
       "      <td>Peter</td>\n",
       "      <td>Huawei P9 grijs, zwart / 32 GB</td>\n",
       "      <td>9.428356</td>\n",
       "    </tr>\n",
       "    <tr>\n",
       "      <th>2675</th>\n",
       "      <td>Peter</td>\n",
       "      <td>Samsung Galaxy S7 Edge zwart / 32 GB</td>\n",
       "      <td>9.417323</td>\n",
       "    </tr>\n",
       "    <tr>\n",
       "      <th>6114</th>\n",
       "      <td>Peter</td>\n",
       "      <td>Sony Ericsson Cedar Handy (UMTS, HSDPA, 2MP, 3...</td>\n",
       "      <td>9.382651</td>\n",
       "    </tr>\n",
       "  </tbody>\n",
       "</table>\n",
       "</div>"
      ],
      "text/plain": [
       "        uid                                                iid       est\n",
       "1515  Peter  Samsung Galaxy S III i9300 Smartphone (4,8 Zol...  9.864268\n",
       "6693  Peter  LG Electronics E430 Optimus L3 II Smartphone (...  9.704355\n",
       "1479  Peter                     Huawei P9 grijs, zwart / 32 GB  9.428356\n",
       "2675  Peter               Samsung Galaxy S7 Edge zwart / 32 GB  9.417323\n",
       "6114  Peter  Sony Ericsson Cedar Handy (UMTS, HSDPA, 2MP, 3...  9.382651"
      ]
     },
     "execution_count": 88,
     "metadata": {},
     "output_type": "execute_result"
    }
   ],
   "source": [
    "# Find the top 5 recommendations\n",
    "get_recommitem('Peter', 5)"
   ]
  },
  {
   "cell_type": "markdown",
   "metadata": {},
   "source": [
    "## 6. Evaluate the collaborative model"
   ]
  },
  {
   "cell_type": "code",
   "execution_count": 89,
   "metadata": {},
   "outputs": [
    {
     "data": {
      "text/html": [
       "<div>\n",
       "<style scoped>\n",
       "    .dataframe tbody tr th:only-of-type {\n",
       "        vertical-align: middle;\n",
       "    }\n",
       "\n",
       "    .dataframe tbody tr th {\n",
       "        vertical-align: top;\n",
       "    }\n",
       "\n",
       "    .dataframe thead th {\n",
       "        text-align: right;\n",
       "    }\n",
       "</style>\n",
       "<table border=\"1\" class=\"dataframe\">\n",
       "  <thead>\n",
       "    <tr style=\"text-align: right;\">\n",
       "      <th></th>\n",
       "      <th>Collaborative Model</th>\n",
       "      <th>RMSE</th>\n",
       "      <th>MAE</th>\n",
       "    </tr>\n",
       "  </thead>\n",
       "  <tbody>\n",
       "    <tr>\n",
       "      <th>0</th>\n",
       "      <td>SVD</td>\n",
       "      <td>2.967084</td>\n",
       "      <td>2.355316</td>\n",
       "    </tr>\n",
       "    <tr>\n",
       "      <th>1</th>\n",
       "      <td>User Based</td>\n",
       "      <td>2.920421</td>\n",
       "      <td>2.258335</td>\n",
       "    </tr>\n",
       "    <tr>\n",
       "      <th>2</th>\n",
       "      <td>Item Based</td>\n",
       "      <td>2.955725</td>\n",
       "      <td>2.301350</td>\n",
       "    </tr>\n",
       "  </tbody>\n",
       "</table>\n",
       "</div>"
      ],
      "text/plain": [
       "  Collaborative Model      RMSE       MAE\n",
       "0                 SVD  2.967084  2.355316\n",
       "1          User Based  2.920421  2.258335\n",
       "2          Item Based  2.955725  2.301350"
      ]
     },
     "execution_count": 89,
     "metadata": {},
     "output_type": "execute_result"
    }
   ],
   "source": [
    "userrmse = accuracy.rmse(test_pred_user, verbose=False)\n",
    "usermae = accuracy.mae(test_pred_user, verbose=False)\n",
    "itemrmse = accuracy.rmse(test_pred_item, verbose=False)\n",
    "itemmae = accuracy.mae(test_pred_item, verbose=False)\n",
    "svdrmse = accuracy.rmse(test_pred_svd, verbose=False)\n",
    "svdmae = accuracy.mae(test_pred_svd, verbose=False)\n",
    "\n",
    "# initialize list of lists \n",
    "data = [['SVD', svdrmse, svdmae],['User Based', userrmse, usermae], ['Item Based', itemrmse, itemmae]] \n",
    "  \n",
    "# Create the pandas DataFrame \n",
    "df = pd.DataFrame(data, columns = ['Collaborative Model', 'RMSE', 'MAE']) \n",
    "df"
   ]
  },
  {
   "cell_type": "markdown",
   "metadata": {},
   "source": [
    "<b>Observation:</b>\n",
    "- Used based is having less error when compared to item based model. Hence, user based model is better model than item based."
   ]
  },
  {
   "cell_type": "markdown",
   "metadata": {},
   "source": [
    "## 7. Predict score (average rating) for test users"
   ]
  },
  {
   "cell_type": "code",
   "execution_count": 90,
   "metadata": {},
   "outputs": [
    {
     "data": {
      "text/html": [
       "<div>\n",
       "<style scoped>\n",
       "    .dataframe tbody tr th:only-of-type {\n",
       "        vertical-align: middle;\n",
       "    }\n",
       "\n",
       "    .dataframe tbody tr th {\n",
       "        vertical-align: top;\n",
       "    }\n",
       "\n",
       "    .dataframe thead th {\n",
       "        text-align: right;\n",
       "    }\n",
       "</style>\n",
       "<table border=\"1\" class=\"dataframe\">\n",
       "  <thead>\n",
       "    <tr style=\"text-align: right;\">\n",
       "      <th></th>\n",
       "      <th>Model</th>\n",
       "      <th>Avg Prediction Rating</th>\n",
       "    </tr>\n",
       "  </thead>\n",
       "  <tbody>\n",
       "    <tr>\n",
       "      <th>0</th>\n",
       "      <td>SVD</td>\n",
       "      <td>7.634296</td>\n",
       "    </tr>\n",
       "    <tr>\n",
       "      <th>1</th>\n",
       "      <td>User Based</td>\n",
       "      <td>7.671409</td>\n",
       "    </tr>\n",
       "    <tr>\n",
       "      <th>2</th>\n",
       "      <td>Item Based</td>\n",
       "      <td>7.680518</td>\n",
       "    </tr>\n",
       "  </tbody>\n",
       "</table>\n",
       "</div>"
      ],
      "text/plain": [
       "        Model  Avg Prediction Rating\n",
       "0         SVD               7.634296\n",
       "1  User Based               7.671409\n",
       "2  Item Based               7.680518"
      ]
     },
     "execution_count": 90,
     "metadata": {},
     "output_type": "execute_result"
    }
   ],
   "source": [
    "data = [['SVD', SVDPredAvgRating],['User Based', UBPredAvgRating], ['Item Based', ItmPredAvgRating]] \n",
    "avg = pd.DataFrame(data, columns = ['Model', 'Avg Prediction Rating']) \n",
    "avg"
   ]
  },
  {
   "cell_type": "markdown",
   "metadata": {},
   "source": [
    "<b>Observation:</b>\n",
    "- Average predicted score is 7.6 for all the models (SVD, User Based and Item Based Collaborative models)"
   ]
  },
  {
   "cell_type": "markdown",
   "metadata": {},
   "source": [
    "## 8. Report findings and inferences"
   ]
  },
  {
   "cell_type": "markdown",
   "metadata": {},
   "source": [
    "- Done EDA to understand the data in precise way and found that most of the users have given 10 rating. Which gives us an important information that Oneplus 3 smart phone is having top rating. \n",
    "- We have dropped irrelevant features and kept author, score and product for model building. \n",
    "- Taken the subset of data based on products having more than 50 ratings and users who have given more than 50 ratings to overcome the Grey ship problem.\n",
    "- In Popularity Model, shown the top 5 recommended products irrespective of users. This means same top 5 products will be recommended to each user.\n",
    "- SVD has given RMSE 2.967084 and KNNWithMeans for Usser based and Item based have given RMSE 2.920421 and 2.955725 respectively. User based is better model when compared to SVD and Item based collaborative models. \n",
    "- Also, Average prediction rating alomost same 7.6 across the models SVD, User based and Item based collaborative models. \n",
    "- SVD computatioal time is very less than other models computational time. \n",
    " "
   ]
  },
  {
   "cell_type": "markdown",
   "metadata": {},
   "source": [
    "## 9. Try and recommend top 5 products for test users"
   ]
  },
  {
   "cell_type": "markdown",
   "metadata": {},
   "source": [
    "<b>SVD:</b>"
   ]
  },
  {
   "cell_type": "code",
   "execution_count": 91,
   "metadata": {},
   "outputs": [
    {
     "data": {
      "text/html": [
       "<div>\n",
       "<style scoped>\n",
       "    .dataframe tbody tr th:only-of-type {\n",
       "        vertical-align: middle;\n",
       "    }\n",
       "\n",
       "    .dataframe tbody tr th {\n",
       "        vertical-align: top;\n",
       "    }\n",
       "\n",
       "    .dataframe thead th {\n",
       "        text-align: right;\n",
       "    }\n",
       "</style>\n",
       "<table border=\"1\" class=\"dataframe\">\n",
       "  <thead>\n",
       "    <tr style=\"text-align: right;\">\n",
       "      <th></th>\n",
       "      <th>author</th>\n",
       "      <th>product</th>\n",
       "      <th>est_score</th>\n",
       "    </tr>\n",
       "  </thead>\n",
       "  <tbody>\n",
       "    <tr>\n",
       "      <th>4578</th>\n",
       "      <td>Amazon Customer</td>\n",
       "      <td>Sony Xperia L Smartphone (10,9 cm (4,3 Zoll) T...</td>\n",
       "      <td>9.542306</td>\n",
       "    </tr>\n",
       "    <tr>\n",
       "      <th>2926</th>\n",
       "      <td>Amazon Customer</td>\n",
       "      <td>Samsung Galaxy S5 SIM-Free Smartphone, SM-G900...</td>\n",
       "      <td>9.337854</td>\n",
       "    </tr>\n",
       "    <tr>\n",
       "      <th>4687</th>\n",
       "      <td>Amazon Customer</td>\n",
       "      <td>Huawei Ascend P7 mini Smartphone (4,5 Zoll (11...</td>\n",
       "      <td>9.312220</td>\n",
       "    </tr>\n",
       "    <tr>\n",
       "      <th>1641</th>\n",
       "      <td>Amazon Customer</td>\n",
       "      <td>BlackBerry Torch 9810 Unlocked GSM Phone with ...</td>\n",
       "      <td>9.299655</td>\n",
       "    </tr>\n",
       "    <tr>\n",
       "      <th>6448</th>\n",
       "      <td>Amazon Customer</td>\n",
       "      <td>Samsung Galaxy S III (S3) Triband White (Boost...</td>\n",
       "      <td>9.256614</td>\n",
       "    </tr>\n",
       "  </tbody>\n",
       "</table>\n",
       "</div>"
      ],
      "text/plain": [
       "               author                                            product  \\\n",
       "4578  Amazon Customer  Sony Xperia L Smartphone (10,9 cm (4,3 Zoll) T...   \n",
       "2926  Amazon Customer  Samsung Galaxy S5 SIM-Free Smartphone, SM-G900...   \n",
       "4687  Amazon Customer  Huawei Ascend P7 mini Smartphone (4,5 Zoll (11...   \n",
       "1641  Amazon Customer  BlackBerry Torch 9810 Unlocked GSM Phone with ...   \n",
       "6448  Amazon Customer  Samsung Galaxy S III (S3) Triband White (Boost...   \n",
       "\n",
       "      est_score  \n",
       "4578   9.542306  \n",
       "2926   9.337854  \n",
       "4687   9.312220  \n",
       "1641   9.299655  \n",
       "6448   9.256614  "
      ]
     },
     "execution_count": 91,
     "metadata": {},
     "output_type": "execute_result"
    }
   ],
   "source": [
    "# Recommending top products for the user\n",
    "get_recomm_SVD('Amazon Customer',5)"
   ]
  },
  {
   "cell_type": "code",
   "execution_count": 92,
   "metadata": {},
   "outputs": [
    {
     "data": {
      "text/html": [
       "<div>\n",
       "<style scoped>\n",
       "    .dataframe tbody tr th:only-of-type {\n",
       "        vertical-align: middle;\n",
       "    }\n",
       "\n",
       "    .dataframe tbody tr th {\n",
       "        vertical-align: top;\n",
       "    }\n",
       "\n",
       "    .dataframe thead th {\n",
       "        text-align: right;\n",
       "    }\n",
       "</style>\n",
       "<table border=\"1\" class=\"dataframe\">\n",
       "  <thead>\n",
       "    <tr style=\"text-align: right;\">\n",
       "      <th></th>\n",
       "      <th>author</th>\n",
       "      <th>product</th>\n",
       "      <th>est_score</th>\n",
       "    </tr>\n",
       "  </thead>\n",
       "  <tbody>\n",
       "    <tr>\n",
       "      <th>2675</th>\n",
       "      <td>Peter</td>\n",
       "      <td>Samsung Galaxy S7 Edge zwart / 32 GB</td>\n",
       "      <td>9.669629</td>\n",
       "    </tr>\n",
       "    <tr>\n",
       "      <th>2571</th>\n",
       "      <td>Peter</td>\n",
       "      <td>Samsung Galaxy S5 Smartphone (5,1 Zoll (12,9 c...</td>\n",
       "      <td>9.582568</td>\n",
       "    </tr>\n",
       "    <tr>\n",
       "      <th>1479</th>\n",
       "      <td>Peter</td>\n",
       "      <td>Huawei P9 grijs, zwart / 32 GB</td>\n",
       "      <td>9.402874</td>\n",
       "    </tr>\n",
       "    <tr>\n",
       "      <th>6862</th>\n",
       "      <td>Peter</td>\n",
       "      <td>APPLE iPhone 7 - Silver, 128 GB</td>\n",
       "      <td>9.283333</td>\n",
       "    </tr>\n",
       "    <tr>\n",
       "      <th>3832</th>\n",
       "      <td>Peter</td>\n",
       "      <td>Samsung Galaxy Note II N7100 Smartphone 16GB (...</td>\n",
       "      <td>9.229690</td>\n",
       "    </tr>\n",
       "  </tbody>\n",
       "</table>\n",
       "</div>"
      ],
      "text/plain": [
       "     author                                            product  est_score\n",
       "2675  Peter               Samsung Galaxy S7 Edge zwart / 32 GB   9.669629\n",
       "2571  Peter  Samsung Galaxy S5 Smartphone (5,1 Zoll (12,9 c...   9.582568\n",
       "1479  Peter                     Huawei P9 grijs, zwart / 32 GB   9.402874\n",
       "6862  Peter                    APPLE iPhone 7 - Silver, 128 GB   9.283333\n",
       "3832  Peter  Samsung Galaxy Note II N7100 Smartphone 16GB (...   9.229690"
      ]
     },
     "execution_count": 92,
     "metadata": {},
     "output_type": "execute_result"
    }
   ],
   "source": [
    "get_recomm_SVD('Peter',5)"
   ]
  },
  {
   "cell_type": "markdown",
   "metadata": {},
   "source": [
    "<b>User Based Collaborative Filter:</b>"
   ]
  },
  {
   "cell_type": "code",
   "execution_count": 94,
   "metadata": {},
   "outputs": [
    {
     "data": {
      "text/html": [
       "<div>\n",
       "<style scoped>\n",
       "    .dataframe tbody tr th:only-of-type {\n",
       "        vertical-align: middle;\n",
       "    }\n",
       "\n",
       "    .dataframe tbody tr th {\n",
       "        vertical-align: top;\n",
       "    }\n",
       "\n",
       "    .dataframe thead th {\n",
       "        text-align: right;\n",
       "    }\n",
       "</style>\n",
       "<table border=\"1\" class=\"dataframe\">\n",
       "  <thead>\n",
       "    <tr style=\"text-align: right;\">\n",
       "      <th></th>\n",
       "      <th>uid</th>\n",
       "      <th>iid</th>\n",
       "      <th>est</th>\n",
       "    </tr>\n",
       "  </thead>\n",
       "  <tbody>\n",
       "    <tr>\n",
       "      <th>5984</th>\n",
       "      <td>Amazon Customer</td>\n",
       "      <td>Sony Ericsson W508</td>\n",
       "      <td>10.0</td>\n",
       "    </tr>\n",
       "    <tr>\n",
       "      <th>4730</th>\n",
       "      <td>Amazon Customer</td>\n",
       "      <td>Apple iPhone 6, Silver, 128 GB (Verizon)</td>\n",
       "      <td>10.0</td>\n",
       "    </tr>\n",
       "    <tr>\n",
       "      <th>5339</th>\n",
       "      <td>Amazon Customer</td>\n",
       "      <td>Motorola W220</td>\n",
       "      <td>10.0</td>\n",
       "    </tr>\n",
       "    <tr>\n",
       "      <th>7275</th>\n",
       "      <td>Amazon Customer</td>\n",
       "      <td>Apple iPhone 6, Silver, 128 GB (Verizon)</td>\n",
       "      <td>10.0</td>\n",
       "    </tr>\n",
       "    <tr>\n",
       "      <th>6898</th>\n",
       "      <td>Amazon Customer</td>\n",
       "      <td>Samsung Verizon Samsung Alias 2 U750 No Contra...</td>\n",
       "      <td>10.0</td>\n",
       "    </tr>\n",
       "  </tbody>\n",
       "</table>\n",
       "</div>"
      ],
      "text/plain": [
       "                  uid                                                iid   est\n",
       "5984  Amazon Customer                                 Sony Ericsson W508  10.0\n",
       "4730  Amazon Customer           Apple iPhone 6, Silver, 128 GB (Verizon)  10.0\n",
       "5339  Amazon Customer                                      Motorola W220  10.0\n",
       "7275  Amazon Customer           Apple iPhone 6, Silver, 128 GB (Verizon)  10.0\n",
       "6898  Amazon Customer  Samsung Verizon Samsung Alias 2 U750 No Contra...  10.0"
      ]
     },
     "execution_count": 94,
     "metadata": {},
     "output_type": "execute_result"
    }
   ],
   "source": [
    "# Find the top 5 recommendations\n",
    "get_recomm_userbased('Amazon Customer', 5)"
   ]
  },
  {
   "cell_type": "code",
   "execution_count": 95,
   "metadata": {},
   "outputs": [
    {
     "data": {
      "text/html": [
       "<div>\n",
       "<style scoped>\n",
       "    .dataframe tbody tr th:only-of-type {\n",
       "        vertical-align: middle;\n",
       "    }\n",
       "\n",
       "    .dataframe tbody tr th {\n",
       "        vertical-align: top;\n",
       "    }\n",
       "\n",
       "    .dataframe thead th {\n",
       "        text-align: right;\n",
       "    }\n",
       "</style>\n",
       "<table border=\"1\" class=\"dataframe\">\n",
       "  <thead>\n",
       "    <tr style=\"text-align: right;\">\n",
       "      <th></th>\n",
       "      <th>uid</th>\n",
       "      <th>iid</th>\n",
       "      <th>est</th>\n",
       "    </tr>\n",
       "  </thead>\n",
       "  <tbody>\n",
       "    <tr>\n",
       "      <th>525</th>\n",
       "      <td>Peter</td>\n",
       "      <td>Sim Free Samsung Galaxy S7 Edge Mobile Phone -...</td>\n",
       "      <td>10.000000</td>\n",
       "    </tr>\n",
       "    <tr>\n",
       "      <th>1515</th>\n",
       "      <td>Peter</td>\n",
       "      <td>Samsung Galaxy S III i9300 Smartphone (4,8 Zol...</td>\n",
       "      <td>9.801837</td>\n",
       "    </tr>\n",
       "    <tr>\n",
       "      <th>6693</th>\n",
       "      <td>Peter</td>\n",
       "      <td>LG Electronics E430 Optimus L3 II Smartphone (...</td>\n",
       "      <td>9.759627</td>\n",
       "    </tr>\n",
       "    <tr>\n",
       "      <th>6114</th>\n",
       "      <td>Peter</td>\n",
       "      <td>Sony Ericsson Cedar Handy (UMTS, HSDPA, 2MP, 3...</td>\n",
       "      <td>9.450087</td>\n",
       "    </tr>\n",
       "    <tr>\n",
       "      <th>2603</th>\n",
       "      <td>Peter</td>\n",
       "      <td>Nokia 6021</td>\n",
       "      <td>9.125562</td>\n",
       "    </tr>\n",
       "  </tbody>\n",
       "</table>\n",
       "</div>"
      ],
      "text/plain": [
       "        uid                                                iid        est\n",
       "525   Peter  Sim Free Samsung Galaxy S7 Edge Mobile Phone -...  10.000000\n",
       "1515  Peter  Samsung Galaxy S III i9300 Smartphone (4,8 Zol...   9.801837\n",
       "6693  Peter  LG Electronics E430 Optimus L3 II Smartphone (...   9.759627\n",
       "6114  Peter  Sony Ericsson Cedar Handy (UMTS, HSDPA, 2MP, 3...   9.450087\n",
       "2603  Peter                                         Nokia 6021   9.125562"
      ]
     },
     "execution_count": 95,
     "metadata": {},
     "output_type": "execute_result"
    }
   ],
   "source": [
    "# Find the top 5 recommendations for another user\n",
    "get_recomm_userbased('Peter', 5)"
   ]
  },
  {
   "cell_type": "markdown",
   "metadata": {},
   "source": [
    "<b>Item Based Collaborative Filter:</b>"
   ]
  },
  {
   "cell_type": "code",
   "execution_count": 96,
   "metadata": {},
   "outputs": [
    {
     "data": {
      "text/html": [
       "<div>\n",
       "<style scoped>\n",
       "    .dataframe tbody tr th:only-of-type {\n",
       "        vertical-align: middle;\n",
       "    }\n",
       "\n",
       "    .dataframe tbody tr th {\n",
       "        vertical-align: top;\n",
       "    }\n",
       "\n",
       "    .dataframe thead th {\n",
       "        text-align: right;\n",
       "    }\n",
       "</style>\n",
       "<table border=\"1\" class=\"dataframe\">\n",
       "  <thead>\n",
       "    <tr style=\"text-align: right;\">\n",
       "      <th></th>\n",
       "      <th>uid</th>\n",
       "      <th>iid</th>\n",
       "      <th>est</th>\n",
       "    </tr>\n",
       "  </thead>\n",
       "  <tbody>\n",
       "    <tr>\n",
       "      <th>5718</th>\n",
       "      <td>Amazon Customer</td>\n",
       "      <td>Samsung Focus I917 Unlocked Phone with Windows...</td>\n",
       "      <td>10.0</td>\n",
       "    </tr>\n",
       "    <tr>\n",
       "      <th>2926</th>\n",
       "      <td>Amazon Customer</td>\n",
       "      <td>Samsung Galaxy S5 SIM-Free Smartphone, SM-G900...</td>\n",
       "      <td>10.0</td>\n",
       "    </tr>\n",
       "    <tr>\n",
       "      <th>7293</th>\n",
       "      <td>Amazon Customer</td>\n",
       "      <td>LG Optimus G</td>\n",
       "      <td>10.0</td>\n",
       "    </tr>\n",
       "    <tr>\n",
       "      <th>1692</th>\n",
       "      <td>Amazon Customer</td>\n",
       "      <td>Samsung Galaxy S3 i9300 Unlocked Cellphone, In...</td>\n",
       "      <td>10.0</td>\n",
       "    </tr>\n",
       "    <tr>\n",
       "      <th>5516</th>\n",
       "      <td>Amazon Customer</td>\n",
       "      <td>LG G3 s D722</td>\n",
       "      <td>10.0</td>\n",
       "    </tr>\n",
       "  </tbody>\n",
       "</table>\n",
       "</div>"
      ],
      "text/plain": [
       "                  uid                                                iid   est\n",
       "5718  Amazon Customer  Samsung Focus I917 Unlocked Phone with Windows...  10.0\n",
       "2926  Amazon Customer  Samsung Galaxy S5 SIM-Free Smartphone, SM-G900...  10.0\n",
       "7293  Amazon Customer                                       LG Optimus G  10.0\n",
       "1692  Amazon Customer  Samsung Galaxy S3 i9300 Unlocked Cellphone, In...  10.0\n",
       "5516  Amazon Customer                                       LG G3 s D722  10.0"
      ]
     },
     "execution_count": 96,
     "metadata": {},
     "output_type": "execute_result"
    }
   ],
   "source": [
    "# Find the top 5 recommendations\n",
    "get_recommitem('Amazon Customer', 5)"
   ]
  },
  {
   "cell_type": "code",
   "execution_count": 97,
   "metadata": {},
   "outputs": [
    {
     "data": {
      "text/html": [
       "<div>\n",
       "<style scoped>\n",
       "    .dataframe tbody tr th:only-of-type {\n",
       "        vertical-align: middle;\n",
       "    }\n",
       "\n",
       "    .dataframe tbody tr th {\n",
       "        vertical-align: top;\n",
       "    }\n",
       "\n",
       "    .dataframe thead th {\n",
       "        text-align: right;\n",
       "    }\n",
       "</style>\n",
       "<table border=\"1\" class=\"dataframe\">\n",
       "  <thead>\n",
       "    <tr style=\"text-align: right;\">\n",
       "      <th></th>\n",
       "      <th>uid</th>\n",
       "      <th>iid</th>\n",
       "      <th>est</th>\n",
       "    </tr>\n",
       "  </thead>\n",
       "  <tbody>\n",
       "    <tr>\n",
       "      <th>1515</th>\n",
       "      <td>Peter</td>\n",
       "      <td>Samsung Galaxy S III i9300 Smartphone (4,8 Zol...</td>\n",
       "      <td>9.864268</td>\n",
       "    </tr>\n",
       "    <tr>\n",
       "      <th>6693</th>\n",
       "      <td>Peter</td>\n",
       "      <td>LG Electronics E430 Optimus L3 II Smartphone (...</td>\n",
       "      <td>9.704355</td>\n",
       "    </tr>\n",
       "    <tr>\n",
       "      <th>1479</th>\n",
       "      <td>Peter</td>\n",
       "      <td>Huawei P9 grijs, zwart / 32 GB</td>\n",
       "      <td>9.428356</td>\n",
       "    </tr>\n",
       "    <tr>\n",
       "      <th>2675</th>\n",
       "      <td>Peter</td>\n",
       "      <td>Samsung Galaxy S7 Edge zwart / 32 GB</td>\n",
       "      <td>9.417323</td>\n",
       "    </tr>\n",
       "    <tr>\n",
       "      <th>6114</th>\n",
       "      <td>Peter</td>\n",
       "      <td>Sony Ericsson Cedar Handy (UMTS, HSDPA, 2MP, 3...</td>\n",
       "      <td>9.382651</td>\n",
       "    </tr>\n",
       "  </tbody>\n",
       "</table>\n",
       "</div>"
      ],
      "text/plain": [
       "        uid                                                iid       est\n",
       "1515  Peter  Samsung Galaxy S III i9300 Smartphone (4,8 Zol...  9.864268\n",
       "6693  Peter  LG Electronics E430 Optimus L3 II Smartphone (...  9.704355\n",
       "1479  Peter                     Huawei P9 grijs, zwart / 32 GB  9.428356\n",
       "2675  Peter               Samsung Galaxy S7 Edge zwart / 32 GB  9.417323\n",
       "6114  Peter  Sony Ericsson Cedar Handy (UMTS, HSDPA, 2MP, 3...  9.382651"
      ]
     },
     "execution_count": 97,
     "metadata": {},
     "output_type": "execute_result"
    }
   ],
   "source": [
    "get_recommitem('Peter', 5)"
   ]
  },
  {
   "cell_type": "markdown",
   "metadata": {},
   "source": [
    "<b>Observation:</b>\n",
    "- We are getting different top productions from differnt models for same users. "
   ]
  },
  {
   "cell_type": "markdown",
   "metadata": {},
   "source": [
    "## 11. Try cross validation techniques to get better results"
   ]
  },
  {
   "cell_type": "code",
   "execution_count": 98,
   "metadata": {},
   "outputs": [],
   "source": [
    "# Set the rating scale\n",
    "reader = Reader(rating_scale=(df_top_all['score'].min(), df_top_all['score'].max()))\n",
    "\n",
    "# Convert the data into surprise format\n",
    "data = Dataset.load_from_df(df_top_all[['author', 'product', 'score']], reader)"
   ]
  },
  {
   "cell_type": "code",
   "execution_count": 99,
   "metadata": {},
   "outputs": [
    {
     "name": "stdout",
     "output_type": "stream",
     "text": [
      "Evaluating RMSE, MAE of algorithm SVD on 5 split(s).\n",
      "\n",
      "                  Fold 1  Fold 2  Fold 3  Fold 4  Fold 5  Mean    Std     \n",
      "RMSE (testset)    2.9870  2.9252  2.9530  2.9679  2.9600  2.9586  0.0202  \n",
      "MAE (testset)     2.3837  2.3290  2.3520  2.3693  2.3591  2.3586  0.0183  \n",
      "Fit time          2.09    2.18    2.35    2.13    2.21    2.19    0.09    \n",
      "Test time         0.13    0.06    0.09    0.06    0.06    0.08    0.03    \n"
     ]
    }
   ],
   "source": [
    "# Creating Model using best parameters\n",
    "svd_model = SVD()\n",
    "\n",
    "# Training the algorithm on the trainset\n",
    "#svd_model.fit(trainset)\n",
    "\n",
    "# Evaluating RMSE, MAE of algorithm SVD on 5 split(s) by cross validation\n",
    "svd_cv = cross_validate(svd_model, data, measures=['RMSE', 'MAE'], cv=5, verbose=True)"
   ]
  },
  {
   "cell_type": "markdown",
   "metadata": {},
   "source": [
    "<b>Observation:</b>\n",
    "- Mean RMSE of 5 folds is 2.9586 which is slight less than RMSE (2.967084) which we got using train and test split. "
   ]
  },
  {
   "cell_type": "code",
   "execution_count": 100,
   "metadata": {},
   "outputs": [
    {
     "name": "stdout",
     "output_type": "stream",
     "text": [
      "Computing the cosine similarity matrix...\n",
      "Done computing similarity matrix.\n",
      "Computing the cosine similarity matrix...\n",
      "Done computing similarity matrix.\n",
      "Computing the cosine similarity matrix...\n",
      "Done computing similarity matrix.\n",
      "Computing the cosine similarity matrix...\n",
      "Done computing similarity matrix.\n",
      "Computing the cosine similarity matrix...\n",
      "Done computing similarity matrix.\n",
      "Evaluating RMSE, MAE of algorithm KNNWithMeans on 5 split(s).\n",
      "\n",
      "                  Fold 1  Fold 2  Fold 3  Fold 4  Fold 5  Mean    Std     \n",
      "RMSE (testset)    2.8850  2.8427  2.8292  2.8332  2.9004  2.8581  0.0290  \n",
      "MAE (testset)     2.2549  2.2171  2.2047  2.2070  2.2588  2.2285  0.0235  \n",
      "Fit time          0.12    0.10    0.10    0.11    0.09    0.10    0.01    \n",
      "Test time         0.37    0.36    0.38    0.40    0.36    0.37    0.02    \n"
     ]
    }
   ],
   "source": [
    "# Use user_based true/false to switch between user-based or item-based collaborative filtering\n",
    "knn_user = KNNWithMeans(k=50, sim_options={'name': 'cosine', 'user_based': True})\n",
    "\n",
    "# Evaluating RMSE, MAE of algorithm SVD on 5 split(s) by cross validation\n",
    "knn_user_cv = cross_validate(knn_user, data, measures=['RMSE', 'MAE'], cv=5, verbose=True)"
   ]
  },
  {
   "cell_type": "markdown",
   "metadata": {},
   "source": [
    "<b>Observation:</b>\n",
    "- Mean RMSE of 5 folds is 2.8581 which is less than RMSE (2.920421) which we got using train and test split."
   ]
  },
  {
   "cell_type": "code",
   "execution_count": 101,
   "metadata": {},
   "outputs": [
    {
     "name": "stdout",
     "output_type": "stream",
     "text": [
      "Computing the cosine similarity matrix...\n",
      "Done computing similarity matrix.\n",
      "Computing the cosine similarity matrix...\n",
      "Done computing similarity matrix.\n",
      "Computing the cosine similarity matrix...\n",
      "Done computing similarity matrix.\n",
      "Computing the cosine similarity matrix...\n",
      "Done computing similarity matrix.\n",
      "Computing the cosine similarity matrix...\n",
      "Done computing similarity matrix.\n",
      "Evaluating RMSE, MAE of algorithm KNNWithMeans on 5 split(s).\n",
      "\n",
      "                  Fold 1  Fold 2  Fold 3  Fold 4  Fold 5  Mean    Std     \n",
      "RMSE (testset)    2.9205  2.9248  2.8879  2.8827  2.8993  2.9030  0.0169  \n",
      "MAE (testset)     2.2712  2.2917  2.2666  2.2497  2.2681  2.2695  0.0134  \n",
      "Fit time          20.01   14.39   17.03   15.03   16.23   16.54   1.96    \n",
      "Test time         13.48   15.30   13.77   13.73   13.87   14.03   0.65    \n"
     ]
    }
   ],
   "source": [
    "# Use user_based true/false to switch between item-based or item-based collaborative filtering\n",
    "knn_user = KNNWithMeans(k=50, sim_options={'name': 'cosine', 'user_based': False})\n",
    "\n",
    "# Evaluating RMSE, MAE of algorithm SVD on 5 split(s) by cross validation\n",
    "knn_user_cv = cross_validate(knn_user, data, measures=['RMSE', 'MAE'], cv=5, verbose=True)"
   ]
  },
  {
   "cell_type": "markdown",
   "metadata": {},
   "source": [
    "<b>Observation:</b>\n",
    "- Mean RMSE of 5 folds is 2.9030 which is less than RMSE (2.955725) which we got using train and test split"
   ]
  },
  {
   "cell_type": "markdown",
   "metadata": {},
   "source": [
    "<b>Take Away:</b>\n",
    "- We have got less RMSE for User based model using Cross-validtion and train test split. Also, average prediction rating is 7.6. Hence, we can conlude that User based model is best model for recommendation. "
   ]
  },
  {
   "cell_type": "markdown",
   "metadata": {},
   "source": [
    "## 12. In what business scenario you should use popularity based Recommendation Systems?"
   ]
  },
  {
   "cell_type": "markdown",
   "metadata": {},
   "source": [
    "As the name suggests Popularity based recommendation system works with the trend. It basically uses the items which are in trend right now. For example, if a product is often purchased by most people then the system will get to know that that product is most popular so for every new user who just signed it, the system will recommend that product to that user also and chances becomes high that the new user will also purchase that. \n",
    "\n",
    "- It does not suffer from cold start problems which means on day 1 of the business also it can recommend products on various different filters.\n",
    "- There is no need for the user's historical data.\n",
    "- Not personalized.\n",
    "- The system would recommend the same sort of products/movies which are solely based upon popularity to every other user.\n",
    "- Real time example: Youtube tranding videos. "
   ]
  },
  {
   "cell_type": "markdown",
   "metadata": {},
   "source": [
    "## 13. In what business scenario you should use CF based Recommendation Systems?"
   ]
  },
  {
   "cell_type": "markdown",
   "metadata": {},
   "source": [
    "Collaborative filtering is a type of personalized recommendation strategy that identifies the similarities between users (based on site interactions) to serve relevant product recommendations across digital properties. Recommender systems collect user information, mining this data to inform which items to display.\n",
    "\n",
    "One of the many processes for collaborative filtering, the neighborhood approach produces product recommendations, making predictions based both on products users have previously engaged with and shared affinities between users. The system identifies users with similar behaviors, tracking their interactions, purchases, add-to-carts, and more to recommend products a user is likely interested in.\n",
    "\n",
    "Amazon is known for its use of collaborative filtering, matching products to users based on past purchases. For example, the system can identify all of the products a customer and users with similar behaviors have purchased and/or positively rated. It then can identify other products in any product category the target user may like, computing similarities between products, suggesting them to them through recommendation.\n",
    "\n",
    "The key benefit of onboarding a product recommendation engine is to enhance the discovery experience. With merchants often selling hundreds of thousands of products on their sites, it’s up to marketers to find creative ways to surface the right products to each visitor. Using collaborative filtering algorithms, brands can effectively recommend items to users at scale, potentially presenting items a consumer might not have necessarily realized they were, in fact, interested in purchasing.\n",
    "\n",
    "<b>Limitations:</b>\n",
    "- Enough users required to find a match. To overcome such cold start problems, often hybrid approaches are made use of between CF and Content-based matching.\n",
    "- Even if there are many users and many items that are to be recommended often, problems can arise of user and rating matrix to be sparse and will become challenging to find out about the users who have rated the same item.\n",
    "- The problem in recommending items to the user due to sparsity problems."
   ]
  },
  {
   "cell_type": "markdown",
   "metadata": {},
   "source": [
    "## 14. What other possible methods can you think of which can further improve the recommendation for different users?"
   ]
  },
  {
   "cell_type": "markdown",
   "metadata": {},
   "source": [
    "There are some other methods available in Recommendation systems which can help us to improve further for recommendation for different users. \n",
    "\n",
    "<b>Content-Based Recommendation System:</b>\n",
    "- A content based recommender works with data that the user provides, either explicitly (rating) or implicitly (clicking on a link). Based on that data, a user profile is generated, which is then used to make suggestions to the user. As the user provides more inputs or takes actions on the recommendations, the engine becomes more and more accurate.\n",
    "\n",
    "<b>Demographic-Based Recommendation System:</b>\n",
    "- Demographic Recommender system generate recommendations based on the user\n",
    "demographic attributes. It categorize the users based on their attributes and\n",
    "recommends the movies by utilizing their demographic data. In contrast to\n",
    "collaborative filtering and content based recommender system, it is easy to implement\n",
    "and does not require user ratings.\n",
    "\n",
    "<b>Hybrid Recommender System:</b>\n",
    "- Hybridization of demographic and collaborative filtering approaches had been\n",
    "employed to solve cold start problem. Hybrid model based approach has been\n",
    "applied on Movie data set to enhance recommendation quality. Additionally\n",
    "Collaborative filtering and Demographic based approach had been used to modify\n",
    "similarity calculation."
   ]
  },
  {
   "cell_type": "code",
   "execution_count": null,
   "metadata": {},
   "outputs": [],
   "source": []
  }
 ],
 "metadata": {
  "kernelspec": {
   "display_name": "Python 3",
   "language": "python",
   "name": "python3"
  },
  "language_info": {
   "codemirror_mode": {
    "name": "ipython",
    "version": 3
   },
   "file_extension": ".py",
   "mimetype": "text/x-python",
   "name": "python",
   "nbconvert_exporter": "python",
   "pygments_lexer": "ipython3",
   "version": "3.8.3"
  }
 },
 "nbformat": 4,
 "nbformat_minor": 4
}
