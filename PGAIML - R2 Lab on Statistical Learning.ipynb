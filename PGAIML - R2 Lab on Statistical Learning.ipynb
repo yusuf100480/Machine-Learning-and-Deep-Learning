{
 "cells": [
  {
   "cell_type": "markdown",
   "metadata": {},
   "source": [
    "#### > Import below libraries and proceed <"
   ]
  },
  {
   "cell_type": "code",
   "execution_count": 1,
   "metadata": {
    "colab": {
     "base_uri": "https://localhost:8080/",
     "height": 71
    },
    "colab_type": "code",
    "id": "ea0ttzRzZwcp",
    "outputId": "7336f693-1fb2-478d-f377-916d245295c8"
   },
   "outputs": [],
   "source": [
    "import numpy       as np\n",
    "import pandas      as pd\n",
    "import scipy.stats as stats\n",
    "from scipy.stats             import ttest_1samp,ttest_ind, wilcoxon\n",
    "from statsmodels.stats.power import ttest_power\n",
    "import matplotlib.pyplot     as     plt"
   ]
  },
  {
   "cell_type": "markdown",
   "metadata": {},
   "source": [
    "| Question No. | Marks | Total |\n",
    "|  -------- | ----- | ---- |\n",
    "| Q1- Q5 | 1 Mark each | 5 Marks |\n",
    "| Q6- Q10 | 2 Mark each | 10 Marks |\n",
    "| Total | --------------> | 15 Marks|\n"
   ]
  },
  {
   "cell_type": "markdown",
   "metadata": {
    "colab_type": "text",
    "id": "QYZr9yOCs4A-"
   },
   "source": [
    "## <font color ='Dark '>Q1- Q3 Description-  The data collected by an Advertisement agency has revealed that out of 2800 visitors, 56 visitors clicked on 1 Advertisement, 30 clicked on 2 advertisements and 14 clicked on 3 advertisements and the remaining did not click on any advertisement.</font>\n",
    "\n",
    "\n"
   ]
  },
  {
   "cell_type": "markdown",
   "metadata": {},
   "source": [
    "## Calculate\n",
    "\n",
    "### Q1 The probability that a visitor to the website will not click on any advertisement. \n",
    "(1 Mark)"
   ]
  },
  {
   "cell_type": "code",
   "execution_count": 22,
   "metadata": {
    "colab": {},
    "colab_type": "code",
    "id": "V7fgNooGyDst"
   },
   "outputs": [
    {
     "name": "stdout",
     "output_type": "stream",
     "text": [
      "probability that a visitor will not click on any advertisement: 0.9643\n"
     ]
    }
   ],
   "source": [
    "# Total number of visitors = 2800\n",
    "# Number of visitors clicked on 1 advertisement = 56\n",
    "# Number of visitors clicked on 2 advertisements = 30\n",
    "# Number of visitors clicked on 3 advertisements = 14\n",
    "\n",
    "# Find the number of visitors did not click on any advertisement\n",
    "Notclicked = 2800 - (56+30+14)\n",
    "\n",
    "#Find the probability that a visitor will not click on any advertisement\n",
    "prb = Notclicked/2800\n",
    "print(\"probability that a visitor will not click on any advertisement:\",round(prb,4))\n",
    "\n"
   ]
  },
  {
   "cell_type": "markdown",
   "metadata": {
    "colab_type": "text",
    "id": "dDaMBGPnwLJA"
   },
   "source": [
    "### Q2 The probability that a visitor to the website will click on an advertisement. \n",
    "(1 Mark)"
   ]
  },
  {
   "cell_type": "code",
   "execution_count": 21,
   "metadata": {
    "colab": {},
    "colab_type": "code",
    "id": "jN83WUlYyFFF"
   },
   "outputs": [
    {
     "name": "stdout",
     "output_type": "stream",
     "text": [
      "probalibity that a visitor will click on an advertisement: 0.0357\n"
     ]
    }
   ],
   "source": [
    "# Total number of visitors = 2800\n",
    "# Number of visitors clicked on 1 advertisement = 56\n",
    "# Number of visitors clicked on 2 advertisements = 30\n",
    "# Number of visitors clicked on 3 advertisements = 14\n",
    "\n",
    "#Find the probalibity that a visitor will click on an advertisement\n",
    "prb = (56/2800)+(30/2800)+(14/2800)\n",
    "print(\"probalibity that a visitor will click on an advertisement:\", round(prb,4))"
   ]
  },
  {
   "cell_type": "markdown",
   "metadata": {
    "colab_type": "text",
    "id": "x1A8GTBbwP-D"
   },
   "source": [
    "### Q3 The probability that a visitor to the website will click on more than one advertisement. \n",
    "(1 Mark)"
   ]
  },
  {
   "cell_type": "code",
   "execution_count": 19,
   "metadata": {
    "colab": {},
    "colab_type": "code",
    "id": "W7uYaOR2yGRx"
   },
   "outputs": [
    {
     "name": "stdout",
     "output_type": "stream",
     "text": [
      "probalibity that a visitor will click on more than one advertisement: 0.0157\n"
     ]
    }
   ],
   "source": [
    "# Total number of visitors = 2800\n",
    "# Number of visitors clicked on 2 advertisements = 30\n",
    "# Number of visitors clicked on 3 advertisements = 14\n",
    "\n",
    "#Find the probalibity that a visitor will click on more than one advertisement\n",
    "prb = (30/2800)+(14/2800)\n",
    "print(\"probalibity that a visitor will click on more than one advertisement:\",round(prb,4))"
   ]
  },
  {
   "cell_type": "markdown",
   "metadata": {
    "colab_type": "text",
    "id": "Bn_1RzXcu-Q5"
   },
   "source": [
    "## <font color ='Dark '> Q4 -5 Description - At a popular company service center, a total of 100 complaints were received. 80 customers complained about late delivery of the items and 60 complained about poor product quality.\n",
    "</font>\n",
    "\n"
   ]
  },
  {
   "cell_type": "markdown",
   "metadata": {},
   "source": [
    "### Q4 Calculate the probability that a customer complaint will be about both product quality and late delivery. \n",
    "(1 Mark)"
   ]
  },
  {
   "cell_type": "code",
   "execution_count": 32,
   "metadata": {
    "colab": {},
    "colab_type": "code",
    "id": "FkIzX0E9yJcO"
   },
   "outputs": [
    {
     "name": "stdout",
     "output_type": "stream",
     "text": [
      "Probability of both product quality and late delivery: 0.4\n"
     ]
    }
   ],
   "source": [
    "#Total complaints = 100\n",
    "#Late delivery complaints = 80\n",
    "#Poor product quality = 60\n",
    "\n",
    "#Both Late delivery complaints and Poor product quality\n",
    "p= (80+60)-100\n",
    "\n",
    "#Probability that a customer complaint will be about both product quality and late delivery\n",
    "prb =  (p/100) \n",
    "print(\"Probability of both product quality and late delivery:\",prb)"
   ]
  },
  {
   "cell_type": "markdown",
   "metadata": {
    "colab_type": "text",
    "id": "O_XYI2Atwbuw"
   },
   "source": [
    "### Q5 - What is the probability that a complaint will be only about late delivery? \n",
    "(1 Mark)"
   ]
  },
  {
   "cell_type": "code",
   "execution_count": 97,
   "metadata": {
    "colab": {},
    "colab_type": "code",
    "id": "qufjDipWyKIJ"
   },
   "outputs": [
    {
     "name": "stdout",
     "output_type": "stream",
     "text": [
      "40\n",
      "Probability of late delivery: 0.4\n"
     ]
    }
   ],
   "source": [
    "#Total complaints = 100\n",
    "#Late delivery complaints = 80\n",
    "#Poor product quality = 60\n",
    "#Late delivery + poor product quality = 80+60 = 140\n",
    "\n",
    "\n",
    "p =  100 - (140-80)\n",
    "print(p)\n",
    "prb = p/100\n",
    "print(\"Probability of late delivery:\",prb)"
   ]
  },
  {
   "cell_type": "markdown",
   "metadata": {
    "colab_type": "text",
    "id": "Ufagdi4UpLGN"
   },
   "source": [
    "### Q6 You are given the daily sugar intake of 11 diabetic patients in the following Python code. Is there any evidence to the claim that the average daily sugar intake of the diabetic patients is 7600 mg. \n",
    "(2 Marks)\n",
    "\n",
    "* Hint: Use t test"
   ]
  },
  {
   "cell_type": "code",
   "execution_count": 37,
   "metadata": {},
   "outputs": [],
   "source": [
    "# daily intake of Sugar in milligrams for 11 diabetic patients\n",
    "import numpy as np\n",
    "\n",
    "daily_intake = np.array([5560, 5770, 7640, 5180, 5690, 6435, 6803, 7689, 6876, 8213, 8765])"
   ]
  },
  {
   "cell_type": "code",
   "execution_count": 62,
   "metadata": {
    "colab": {},
    "colab_type": "code",
    "id": "lVazFh46yLVz"
   },
   "outputs": [
    {
     "name": "stdout",
     "output_type": "stream",
     "text": [
      "0.04481624562570511\n"
     ]
    }
   ],
   "source": [
    "import scipy.stats as stats\n",
    "\n",
    "\n",
    "ttest, p_value =  stats.ttest_1samp(daily_intake, 7600)\n",
    "print(p_value)"
   ]
  },
  {
   "cell_type": "markdown",
   "metadata": {
    "colab_type": "text",
    "id": "PzNPNv1lZwc7"
   },
   "source": [
    "## <font color ='Dark '>Q7-Q8 Description Write the null and alternative hypothesis from the following hypopthesis description:</font>\n"
   ]
  },
  {
   "cell_type": "markdown",
   "metadata": {},
   "source": [
    "### Q7Average annual salary of Data Scientists is different for those having Ph.D in Statistics and those who do not.\n",
    "(2 Marks)\n",
    "* Let $\\mu_{PhD}$ be the average annual salary of a Data scientist with Ph.D in Statistics.\n",
    "* Let $\\mu_{NoPhD}$ be the average annual salary of a Data scientist without Ph.D in Statistics."
   ]
  },
  {
   "cell_type": "code",
   "execution_count": null,
   "metadata": {
    "colab_type": "text",
    "id": "qc3FIR-4yQKn"
   },
   "outputs": [],
   "source": [
    "Null Hypothosis: 𝜇𝑃ℎ𝐷 = 𝜇𝑁𝑜𝑃ℎ𝐷\n",
    "                    or\n",
    "                 𝜇𝑃ℎ𝐷 - 𝜇𝑁𝑜𝑃ℎ𝐷 = 0\n",
    "\n",
    "Alternate Hyphosis: 𝜇𝑃ℎ𝐷 != 𝜇𝑁𝑜𝑃ℎ𝐷\n",
    "                    or\n",
    "                 𝜇𝑃ℎ𝐷 - 𝜇𝑁𝑜𝑃ℎ𝐷 != 0"
   ]
  },
  {
   "cell_type": "markdown",
   "metadata": {
    "colab_type": "text",
    "id": "OIUIIEBEZwc9"
   },
   "source": [
    "### Q8 Average annual salary of Data Scientists is more for those having Ph.D in Statistics and those who do not. \n",
    "(2 Marks)"
   ]
  },
  {
   "cell_type": "code",
   "execution_count": null,
   "metadata": {
    "colab_type": "text",
    "id": "016BhZvgyQ8l"
   },
   "outputs": [],
   "source": [
    "Null Hypothosis: 𝜇𝑃ℎ𝐷 <= 𝜇𝑁𝑜𝑃ℎ𝐷\n",
    "               \n",
    "\n",
    "Alternate Hyphosis: 𝜇𝑃ℎ𝐷 > 𝜇𝑁𝑜𝑃ℎ𝐷\n",
    "                "
   ]
  },
  {
   "cell_type": "markdown",
   "metadata": {
    "colab_type": "text",
    "id": "buanCghHvjfy"
   },
   "source": [
    "### Q9 - Compare the following two unrelated samples. Data was collected on the weight of women and men enrolled in a weight reduction program. At 𝛼 α = 0.05, test whether the weight of these two samples is different.\n",
    "(2 Marks)"
   ]
  },
  {
   "cell_type": "code",
   "execution_count": 64,
   "metadata": {
    "colab": {},
    "colab_type": "code",
    "id": "aR0aTl3Vvc1B"
   },
   "outputs": [],
   "source": [
    "Weight_Female       =  [ 53.8, 54.4, 51.2, 52.5, 61.0, 50.6, 51.6, 70.0]\n",
    "Weight_Male         =  [ 72.5, 80.3, 71.3, 67.7, 66.2, 73.4, 61.3, 76.8]"
   ]
  },
  {
   "cell_type": "markdown",
   "metadata": {
    "colab_type": "text",
    "id": "ELXhCM2Lvs0F"
   },
   "source": [
    "NULL HYPOTHSIS MALE AND FEMALE WEIGHT IS EQUAL.\n",
    "\n",
    "ALTERNATE HYPOTHESIS MALE AND FEMALE WEIGHT IS DIFFERENT.\n",
    "\n",
    "OUR CONDITION IS TO PROVE THAT WEIGHT OF THE MALE AND FEMALE ARE NOT EQUAL SO,WE REQUIRE ALTERNATE HYPOTHESIS."
   ]
  },
  {
   "cell_type": "code",
   "execution_count": 66,
   "metadata": {
    "colab": {},
    "colab_type": "code",
    "id": "MnhdZepcyTak"
   },
   "outputs": [
    {
     "name": "stdout",
     "output_type": "stream",
     "text": [
      "0.00024034957515992796\n",
      "Rejecting NULL as p_value < alph-0.05\n"
     ]
    }
   ],
   "source": [
    "import scipy.stats as stats\n",
    "ttest, p_value = stats.ttest_ind(Weight_Male,Weight_Female)\n",
    "print(p_value)\n",
    "\n",
    "print(\"Rejecting NULL as p_value < alph-0.05\")"
   ]
  },
  {
   "cell_type": "markdown",
   "metadata": {
    "colab_type": "text",
    "id": "CR60_1hJwxKl"
   },
   "source": [
    "### Q10 - A Cable service provider company is interested in checking whether or not the customer churn depends on customer segment. Use 5% as level of significance.\n",
    "(2 Marks)\n",
    "\n"
   ]
  },
  {
   "cell_type": "markdown",
   "metadata": {
    "colab_type": "text",
    "id": "5jTapB-2rFZV"
   },
   "source": [
    "| Customer Segment | Churned | Retained |\n",
    "|  -------- | ----- | ---- |\n",
    "| S1 | 15 | 142 |\n",
    "| S2 | 24 | 400 |\n",
    "| S3 | 30 | 389 |\n"
   ]
  },
  {
   "cell_type": "code",
   "execution_count": 72,
   "metadata": {
    "colab": {},
    "colab_type": "code",
    "id": "Knttaq6zyYoz"
   },
   "outputs": [
    {
     "name": "stdout",
     "output_type": "stream",
     "text": [
      "0.24907816314986156\n",
      "Accepting NULL Hypothesis since p_value greater than alpha-5%\n"
     ]
    }
   ],
   "source": [
    "import scipy.stats as stats\n",
    "churn_array = np.array([[15,142],[24, 400],[30, 389]])\n",
    "\n",
    "chi_sq, p_value, deg_freedom, exp_freq = stats.chi2_contingency(churn_array)\n",
    "\n",
    "print(p_value)\n",
    "print(\"Accepting NULL Hypothesis since p_value greater than alpha-5%\")\n",
    "\n"
   ]
  },
  {
   "cell_type": "markdown",
   "metadata": {
    "colab_type": "text",
    "id": "7IsDxBgOZwfX"
   },
   "source": [
    "## -------------------------------------- End of Test --------------------------------------"
   ]
  }
 ],
 "metadata": {
  "colab": {
   "collapsed_sections": [
    "7IsDxBgOZwfX"
   ],
   "name": "R2- Lab-Statistical Learning- Questions.ipynb",
   "provenance": []
  },
  "kernelspec": {
   "display_name": "Python 3",
   "language": "python",
   "name": "python3"
  },
  "language_info": {
   "codemirror_mode": {
    "name": "ipython",
    "version": 3
   },
   "file_extension": ".py",
   "mimetype": "text/x-python",
   "name": "python",
   "nbconvert_exporter": "python",
   "pygments_lexer": "ipython3",
   "version": "3.7.3"
  }
 },
 "nbformat": 4,
 "nbformat_minor": 1
}
