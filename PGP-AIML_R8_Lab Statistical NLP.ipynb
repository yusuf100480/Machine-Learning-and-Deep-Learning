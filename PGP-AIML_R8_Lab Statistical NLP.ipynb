{
 "cells": [
  {
   "cell_type": "markdown",
   "metadata": {
    "id": "PHYs6Z84xV8E"
   },
   "source": [
    "<img src=\"http://drive.google.com/uc?export=view&id=1tpOCamr9aWz817atPnyXus8w5gJ3mIts\" width=500px>\n",
    "\n",
    "Proprietary content. © Great Learning. All Rights Reserved. Unauthorized use or distribution prohibited."
   ]
  },
  {
   "cell_type": "markdown",
   "metadata": {
    "id": "5QQxgAmWzSye"
   },
   "source": [
    "# Mobile Phone Review Analysis"
   ]
  },
  {
   "cell_type": "markdown",
   "metadata": {
    "id": "FbwHYUXhxaqD"
   },
   "source": [
    "## Context\n",
    "\n",
    "The product companies can utilize the detailed review comments to gather insights from the end user. Most of the products are sold via e-commerce sites like Flipkart or Amazon where customers can buy a product and give their review about the product on the web site. \n",
    "Product managers can identify the relevant reviews from the website and run a sentiment analysis tool to understand what the sentiments of the customer are. Based on their sentiments, they can identify what users think of the current product. Are they happy? Discontent? \n",
    "They can also come up with a document that lists the features, the team needs to focus on for making the product better. \n",
    "\n",
    "## Objective\n",
    "\n",
    "Given the review data rating label, we will try to get insights about various brands and their ratings using text analytics and build a model to predict the rating and overall sentiment. \n"
   ]
  },
  {
   "cell_type": "markdown",
   "metadata": {
    "id": "CI7usguRzeox"
   },
   "source": [
    "### Package version\n",
    "\n",
    "- tensorflow==2.3.0\n",
    "- scikit-learn==0.22.2.post1\n",
    "- pandas==1.0.5\n",
    "- numpy==1.18.5\n",
    "- matplotlib==3.2.2\n",
    "- google==2.0.3"
   ]
  },
  {
   "cell_type": "markdown",
   "metadata": {
    "id": "aiMdVjHRH7NR"
   },
   "source": [
    "### Data Dictionary \n",
    "\n",
    "product_data.csv - contains product details\n",
    "- 'asin',  - Product ASIN\n",
    "- 'brand', - Product Brand\n",
    "- 'title', - Product Title\n",
    "- 'url',  - Product URL\n",
    "- 'image', - Product Image URL\n",
    "- 'rating',- Product Avg. Rating\n",
    "- 'reviewUrl' - Product Review Page URL\n",
    "- 'totalReviews' - Product Total Reviews\n",
    "- ‘price’ - Product Price ($)\n",
    "- ‘originalPrice’ - Product Original Price ($)\n",
    " \n",
    "reviews.csv  - contains user review details\n",
    " \n",
    "- 'asin' - Product ASIN\n",
    "- 'name' - Reviewer Name\n",
    "- 'rating' - Reviewer Rating (scale 1 to 5)\n",
    "- 'date'  - Review Date\n",
    "- 'verified' - Valid Customer\n",
    "- 'title'  - Review Title\n",
    "- 'body'  - Review Content\n",
    "- 'helpfulVotes  - Helpful Feedbacks\n"
   ]
  },
  {
   "cell_type": "markdown",
   "metadata": {
    "id": "cEn52o8jznJK"
   },
   "source": [
    "## Table of Content\n",
    "\n",
    "1. Import Libraries\n",
    "\n",
    "2. Setting options\n",
    "\n",
    "3. Read Data\n",
    "\n",
    "4. Data Analysis and EDA\n",
    "\n",
    "5. Text preprocessing and Vectorization\n",
    "\n",
    "6. Model building\n",
    "\n",
    "7. Conclusion and Interpretation"
   ]
  },
  {
   "cell_type": "markdown",
   "metadata": {
    "id": "x_Lom6cXzqn7"
   },
   "source": [
    "## 1. Import Libraries"
   ]
  },
  {
   "cell_type": "markdown",
   "metadata": {
    "id": "FZtVstH8zre2"
   },
   "source": [
    "Let us start by mounting the drive"
   ]
  },
  {
   "cell_type": "code",
   "execution_count": null,
   "metadata": {
    "colab": {
     "base_uri": "https://localhost:8080/"
    },
    "id": "xv9jxv3-R5Xl",
    "outputId": "4223a587-748e-4432-d4db-b6ef2650e0d8"
   },
   "outputs": [
    {
     "name": "stdout",
     "output_type": "stream",
     "text": [
      "Mounted at /content/drive\n"
     ]
    }
   ],
   "source": [
    "from google.colab import drive\n",
    "drive.mount('/content/drive')"
   ]
  },
  {
   "cell_type": "markdown",
   "metadata": {
    "id": "Gv-tZoFjz2WD"
   },
   "source": [
    "Let us check for the version of installed tensorflow."
   ]
  },
  {
   "cell_type": "code",
   "execution_count": null,
   "metadata": {
    "colab": {
     "base_uri": "https://localhost:8080/"
    },
    "id": "eiuUVBuDzzn9",
    "outputId": "8e25d32b-d242-4fcc-b507-0e39cee7eae6"
   },
   "outputs": [
    {
     "name": "stdout",
     "output_type": "stream",
     "text": [
      "2.5.0\n"
     ]
    }
   ],
   "source": [
    "# used to supress display of warnings\n",
    "import warnings\n",
    "\n",
    "# os is used to provide a way of using operating system dependent functionality\n",
    "# We use it for setting working folder\n",
    "import os\n",
    "\n",
    "# Pandas is used for data manipulation and analysis\n",
    "import pandas as pd \n",
    "\n",
    "# Numpy is used for large, multi-dimensional arrays and matrices, along with mathematical operators on these arrays\n",
    "import numpy as np\n",
    "\n",
    "# Matplotlib is a data visualization library for 2D plots of arrays, built on NumPy arrays \n",
    "# and designed to work with the broader SciPy stack\n",
    "import matplotlib.pyplot as plt\n",
    "%matplotlib inline\n",
    "from matplotlib import pyplot\n",
    "\n",
    "# Seaborn is based on matplotlib, which aids in drawing attractive and informative statistical graphics.\n",
    "import seaborn as sns\n",
    "import tensorflow \n",
    "print(tensorflow.__version__)"
   ]
  },
  {
   "cell_type": "markdown",
   "metadata": {
    "id": "fze-aokU0ukH"
   },
   "source": [
    "## 2. Setting Options"
   ]
  },
  {
   "cell_type": "code",
   "execution_count": null,
   "metadata": {
    "id": "T3FALggG0xXa"
   },
   "outputs": [],
   "source": [
    "# suppress display of warnings\n",
    "warnings.filterwarnings('ignore')\n",
    "\n",
    "# display all dataframe columns\n",
    "pd.options.display.max_columns = None\n",
    "\n",
    "# to set the limit to 3 decimals\n",
    "pd.options.display.float_format = '{:.7f}'.format\n",
    "\n",
    "# display all dataframe rows\n",
    "pd.options.display.max_rows = None"
   ]
  },
  {
   "cell_type": "markdown",
   "metadata": {
    "id": "ZT1P1WdK1vfZ"
   },
   "source": [
    "## 3. Read Data"
   ]
  },
  {
   "cell_type": "markdown",
   "metadata": {
    "id": "-UOW6zwww7L1"
   },
   "source": [
    "### 3.1 Read the provided CSVs and check 5 random samples and shape to understand the datasets"
   ]
  },
  {
   "cell_type": "code",
   "execution_count": null,
   "metadata": {
    "id": "nxT2g284xF1W"
   },
   "outputs": [],
   "source": [
    "dfproduct = pd.read_csv(\"/content/drive/MyDrive/Colab Notebooks/NLP/product_data.csv\") \n",
    "dfreview = pd.read_csv(\"/content/drive/MyDrive/Colab Notebooks/NLP/reviews.csv\") \n"
   ]
  },
  {
   "cell_type": "code",
   "execution_count": null,
   "metadata": {
    "colab": {
     "base_uri": "https://localhost:8080/",
     "height": 710
    },
    "id": "GRjG44fRxGIq",
    "outputId": "973cb1a5-6f80-40d6-eb39-179ca25e662a"
   },
   "outputs": [
    {
     "data": {
      "text/html": [
       "<div>\n",
       "<style scoped>\n",
       "    .dataframe tbody tr th:only-of-type {\n",
       "        vertical-align: middle;\n",
       "    }\n",
       "\n",
       "    .dataframe tbody tr th {\n",
       "        vertical-align: top;\n",
       "    }\n",
       "\n",
       "    .dataframe thead th {\n",
       "        text-align: right;\n",
       "    }\n",
       "</style>\n",
       "<table border=\"1\" class=\"dataframe\">\n",
       "  <thead>\n",
       "    <tr style=\"text-align: right;\">\n",
       "      <th></th>\n",
       "      <th>asin</th>\n",
       "      <th>brand</th>\n",
       "      <th>title</th>\n",
       "      <th>url</th>\n",
       "      <th>image</th>\n",
       "      <th>rating</th>\n",
       "      <th>reviewUrl</th>\n",
       "      <th>totalReviews</th>\n",
       "      <th>price</th>\n",
       "      <th>originalPrice</th>\n",
       "    </tr>\n",
       "  </thead>\n",
       "  <tbody>\n",
       "    <tr>\n",
       "      <th>185</th>\n",
       "      <td>B01N2HPFWK</td>\n",
       "      <td>Google</td>\n",
       "      <td>Google Pixel XL (128GB, 4GB RAM) 5.5\" AMOLED H...</td>\n",
       "      <td>https://www.amazon.com/Google-Display-Factory-...</td>\n",
       "      <td>https://m.media-amazon.com/images/I/61Yz5m69Ik...</td>\n",
       "      <td>3.9000000</td>\n",
       "      <td>https://www.amazon.com/product-reviews/B01N2HPFWK</td>\n",
       "      <td>87</td>\n",
       "      <td>329.9900000</td>\n",
       "      <td>399.9900000</td>\n",
       "    </tr>\n",
       "    <tr>\n",
       "      <th>509</th>\n",
       "      <td>B07MNZWW37</td>\n",
       "      <td>HUAWEI</td>\n",
       "      <td>Huawei Mate 20 Pro LYA-L29 128GB + 6GB - Facto...</td>\n",
       "      <td>https://www.amazon.com/Huawei-Mate-LYA-L29-128...</td>\n",
       "      <td>https://m.media-amazon.com/images/I/5103NfGcH2...</td>\n",
       "      <td>4.5000000</td>\n",
       "      <td>https://www.amazon.com/product-reviews/B07MNZWW37</td>\n",
       "      <td>2</td>\n",
       "      <td>489.9900000</td>\n",
       "      <td>0.0000000</td>\n",
       "    </tr>\n",
       "    <tr>\n",
       "      <th>82</th>\n",
       "      <td>B00OEK6TWU</td>\n",
       "      <td>Samsung</td>\n",
       "      <td>Samsung Galaxy Note 3 N900A 32GB Unlocked GSM ...</td>\n",
       "      <td>https://www.amazon.com/Samsung-Galaxy-Note-Unl...</td>\n",
       "      <td>https://m.media-amazon.com/images/I/91Q7P86ef5...</td>\n",
       "      <td>3.6000000</td>\n",
       "      <td>https://www.amazon.com/product-reviews/B00OEK6TWU</td>\n",
       "      <td>431</td>\n",
       "      <td>194.0000000</td>\n",
       "      <td>0.0000000</td>\n",
       "    </tr>\n",
       "    <tr>\n",
       "      <th>409</th>\n",
       "      <td>B07F3YGL26</td>\n",
       "      <td>Xiaomi</td>\n",
       "      <td>Xiaomi Redmi S2 (32GB 3GB RAM) with AI Smart S...</td>\n",
       "      <td>https://www.amazon.com/Cameras-Display-Unlocke...</td>\n",
       "      <td>https://m.media-amazon.com/images/I/41NTLwPYT6...</td>\n",
       "      <td>5.0000000</td>\n",
       "      <td>https://www.amazon.com/product-reviews/B07F3YGL26</td>\n",
       "      <td>1</td>\n",
       "      <td>139.9900000</td>\n",
       "      <td>155.0000000</td>\n",
       "    </tr>\n",
       "    <tr>\n",
       "      <th>645</th>\n",
       "      <td>B07V5NSD8N</td>\n",
       "      <td>Samsung</td>\n",
       "      <td>Samsung Galaxy A80 SM-A805F/DS Dual Sim (Facto...</td>\n",
       "      <td>https://www.amazon.com/Samsung-SM-A805F-DS-Fac...</td>\n",
       "      <td>https://m.media-amazon.com/images/I/61xlXfp3Op...</td>\n",
       "      <td>4.7000000</td>\n",
       "      <td>https://www.amazon.com/product-reviews/B07V5NSD8N</td>\n",
       "      <td>17</td>\n",
       "      <td>499.9900000</td>\n",
       "      <td>0.0000000</td>\n",
       "    </tr>\n",
       "  </tbody>\n",
       "</table>\n",
       "</div>"
      ],
      "text/plain": [
       "           asin    brand                                              title  \\\n",
       "185  B01N2HPFWK   Google  Google Pixel XL (128GB, 4GB RAM) 5.5\" AMOLED H...   \n",
       "509  B07MNZWW37   HUAWEI  Huawei Mate 20 Pro LYA-L29 128GB + 6GB - Facto...   \n",
       "82   B00OEK6TWU  Samsung  Samsung Galaxy Note 3 N900A 32GB Unlocked GSM ...   \n",
       "409  B07F3YGL26   Xiaomi  Xiaomi Redmi S2 (32GB 3GB RAM) with AI Smart S...   \n",
       "645  B07V5NSD8N  Samsung  Samsung Galaxy A80 SM-A805F/DS Dual Sim (Facto...   \n",
       "\n",
       "                                                   url  \\\n",
       "185  https://www.amazon.com/Google-Display-Factory-...   \n",
       "509  https://www.amazon.com/Huawei-Mate-LYA-L29-128...   \n",
       "82   https://www.amazon.com/Samsung-Galaxy-Note-Unl...   \n",
       "409  https://www.amazon.com/Cameras-Display-Unlocke...   \n",
       "645  https://www.amazon.com/Samsung-SM-A805F-DS-Fac...   \n",
       "\n",
       "                                                 image    rating  \\\n",
       "185  https://m.media-amazon.com/images/I/61Yz5m69Ik... 3.9000000   \n",
       "509  https://m.media-amazon.com/images/I/5103NfGcH2... 4.5000000   \n",
       "82   https://m.media-amazon.com/images/I/91Q7P86ef5... 3.6000000   \n",
       "409  https://m.media-amazon.com/images/I/41NTLwPYT6... 5.0000000   \n",
       "645  https://m.media-amazon.com/images/I/61xlXfp3Op... 4.7000000   \n",
       "\n",
       "                                             reviewUrl  totalReviews  \\\n",
       "185  https://www.amazon.com/product-reviews/B01N2HPFWK            87   \n",
       "509  https://www.amazon.com/product-reviews/B07MNZWW37             2   \n",
       "82   https://www.amazon.com/product-reviews/B00OEK6TWU           431   \n",
       "409  https://www.amazon.com/product-reviews/B07F3YGL26             1   \n",
       "645  https://www.amazon.com/product-reviews/B07V5NSD8N            17   \n",
       "\n",
       "          price  originalPrice  \n",
       "185 329.9900000    399.9900000  \n",
       "509 489.9900000      0.0000000  \n",
       "82  194.0000000      0.0000000  \n",
       "409 139.9900000    155.0000000  \n",
       "645 499.9900000      0.0000000  "
      ]
     },
     "execution_count": 71,
     "metadata": {
      "tags": []
     },
     "output_type": "execute_result"
    }
   ],
   "source": [
    "dfproduct.sample(5)"
   ]
  },
  {
   "cell_type": "code",
   "execution_count": null,
   "metadata": {
    "colab": {
     "base_uri": "https://localhost:8080/",
     "height": 287
    },
    "id": "HwhoCdN9yFrz",
    "outputId": "7f006952-08ca-4663-a7c4-608beb416f23"
   },
   "outputs": [
    {
     "data": {
      "text/html": [
       "<div>\n",
       "<style scoped>\n",
       "    .dataframe tbody tr th:only-of-type {\n",
       "        vertical-align: middle;\n",
       "    }\n",
       "\n",
       "    .dataframe tbody tr th {\n",
       "        vertical-align: top;\n",
       "    }\n",
       "\n",
       "    .dataframe thead th {\n",
       "        text-align: right;\n",
       "    }\n",
       "</style>\n",
       "<table border=\"1\" class=\"dataframe\">\n",
       "  <thead>\n",
       "    <tr style=\"text-align: right;\">\n",
       "      <th></th>\n",
       "      <th>asin</th>\n",
       "      <th>name</th>\n",
       "      <th>rating</th>\n",
       "      <th>date</th>\n",
       "      <th>verified</th>\n",
       "      <th>title</th>\n",
       "      <th>body</th>\n",
       "      <th>helpfulVotes</th>\n",
       "    </tr>\n",
       "  </thead>\n",
       "  <tbody>\n",
       "    <tr>\n",
       "      <th>26327</th>\n",
       "      <td>B01LY3OB8D</td>\n",
       "      <td>B.m</td>\n",
       "      <td>5</td>\n",
       "      <td>May 19, 2018</td>\n",
       "      <td>True</td>\n",
       "      <td>An amazing phone</td>\n",
       "      <td>I love the Google pixel it's a great phone I h...</td>\n",
       "      <td>2.0000000</td>\n",
       "    </tr>\n",
       "    <tr>\n",
       "      <th>59463</th>\n",
       "      <td>B07PY52GVP</td>\n",
       "      <td>Murtaza Rizvi</td>\n",
       "      <td>5</td>\n",
       "      <td>August 10, 2019</td>\n",
       "      <td>True</td>\n",
       "      <td>It can easily be for $800, but it's not! Wow</td>\n",
       "      <td>Current owner of S8(broke) iPhone 10XS (don't ...</td>\n",
       "      <td>2.0000000</td>\n",
       "    </tr>\n",
       "    <tr>\n",
       "      <th>11430</th>\n",
       "      <td>B00KM10ITK</td>\n",
       "      <td>photozrus</td>\n",
       "      <td>4</td>\n",
       "      <td>May 3, 2015</td>\n",
       "      <td>True</td>\n",
       "      <td>Four Stars</td>\n",
       "      <td>I'm used to an android still learning this it'...</td>\n",
       "      <td>3.0000000</td>\n",
       "    </tr>\n",
       "    <tr>\n",
       "      <th>56314</th>\n",
       "      <td>B07MN8QTK1</td>\n",
       "      <td>anna oddo</td>\n",
       "      <td>5</td>\n",
       "      <td>November 21, 2019</td>\n",
       "      <td>True</td>\n",
       "      <td>Good phone awesome price</td>\n",
       "      <td>Works on Google fi in the US. No problems, and...</td>\n",
       "      <td>nan</td>\n",
       "    </tr>\n",
       "    <tr>\n",
       "      <th>63648</th>\n",
       "      <td>B07RWFC6NY</td>\n",
       "      <td>Matthew C.</td>\n",
       "      <td>5</td>\n",
       "      <td>November 14, 2019</td>\n",
       "      <td>True</td>\n",
       "      <td>Amazing</td>\n",
       "      <td>Great phone</td>\n",
       "      <td>nan</td>\n",
       "    </tr>\n",
       "  </tbody>\n",
       "</table>\n",
       "</div>"
      ],
      "text/plain": [
       "             asin           name  rating               date  verified  \\\n",
       "26327  B01LY3OB8D            B.m       5       May 19, 2018      True   \n",
       "59463  B07PY52GVP  Murtaza Rizvi       5    August 10, 2019      True   \n",
       "11430  B00KM10ITK      photozrus       4        May 3, 2015      True   \n",
       "56314  B07MN8QTK1      anna oddo       5  November 21, 2019      True   \n",
       "63648  B07RWFC6NY     Matthew C.       5  November 14, 2019      True   \n",
       "\n",
       "                                              title  \\\n",
       "26327                              An amazing phone   \n",
       "59463  It can easily be for $800, but it's not! Wow   \n",
       "11430                                    Four Stars   \n",
       "56314                      Good phone awesome price   \n",
       "63648                                       Amazing   \n",
       "\n",
       "                                                    body  helpfulVotes  \n",
       "26327  I love the Google pixel it's a great phone I h...     2.0000000  \n",
       "59463  Current owner of S8(broke) iPhone 10XS (don't ...     2.0000000  \n",
       "11430  I'm used to an android still learning this it'...     3.0000000  \n",
       "56314  Works on Google fi in the US. No problems, and...           nan  \n",
       "63648                                        Great phone           nan  "
      ]
     },
     "execution_count": 72,
     "metadata": {
      "tags": []
     },
     "output_type": "execute_result"
    }
   ],
   "source": [
    "dfreview.sample(5)"
   ]
  },
  {
   "cell_type": "code",
   "execution_count": null,
   "metadata": {
    "colab": {
     "base_uri": "https://localhost:8080/"
    },
    "id": "nDR5SwBYyL8x",
    "outputId": "e4edcf35-a60d-4239-cc20-8c2a634b6e52"
   },
   "outputs": [
    {
     "data": {
      "text/plain": [
       "(720, 10)"
      ]
     },
     "execution_count": 73,
     "metadata": {
      "tags": []
     },
     "output_type": "execute_result"
    }
   ],
   "source": [
    "dfproduct.shape"
   ]
  },
  {
   "cell_type": "markdown",
   "metadata": {
    "id": "Y8rPzhe5M7yK"
   },
   "source": [
    "- There are 720 records with 10 attributes in product dataset"
   ]
  },
  {
   "cell_type": "code",
   "execution_count": null,
   "metadata": {
    "colab": {
     "base_uri": "https://localhost:8080/"
    },
    "id": "0LGycQjUyP6m",
    "outputId": "7f98164f-3bea-4af0-dc00-40fb80c2896e"
   },
   "outputs": [
    {
     "data": {
      "text/plain": [
       "(67986, 8)"
      ]
     },
     "execution_count": 74,
     "metadata": {
      "tags": []
     },
     "output_type": "execute_result"
    }
   ],
   "source": [
    "dfreview.shape"
   ]
  },
  {
   "cell_type": "markdown",
   "metadata": {
    "id": "RS5auIFeNGl6"
   },
   "source": [
    "- There are 67986 reviews with 8 attributes in review dataset. "
   ]
  },
  {
   "cell_type": "markdown",
   "metadata": {
    "id": "rED6DbDBKTjM"
   },
   "source": [
    "## 4.  Data Analysis and EDA"
   ]
  },
  {
   "cell_type": "code",
   "execution_count": null,
   "metadata": {
    "colab": {
     "base_uri": "https://localhost:8080/"
    },
    "id": "QVr2O9pe2Rir",
    "outputId": "b2515b81-5c29-48ad-f344-69e583acb5b3"
   },
   "outputs": [
    {
     "data": {
      "text/plain": [
       "Index(['asin', 'brand', 'title', 'url', 'image', 'rating', 'reviewUrl',\n",
       "       'totalReviews', 'price', 'originalPrice'],\n",
       "      dtype='object')"
      ]
     },
     "execution_count": 75,
     "metadata": {
      "tags": []
     },
     "output_type": "execute_result"
    }
   ],
   "source": [
    "dfproduct.columns"
   ]
  },
  {
   "cell_type": "code",
   "execution_count": null,
   "metadata": {
    "colab": {
     "base_uri": "https://localhost:8080/"
    },
    "id": "XpHAFZp42b_y",
    "outputId": "6b1e46b1-5bdf-4318-f62e-31552df386c0"
   },
   "outputs": [
    {
     "data": {
      "text/plain": [
       "Index(['asin', 'name', 'rating', 'date', 'verified', 'title', 'body',\n",
       "       'helpfulVotes'],\n",
       "      dtype='object')"
      ]
     },
     "execution_count": 76,
     "metadata": {
      "tags": []
     },
     "output_type": "execute_result"
    }
   ],
   "source": [
    "dfreview.columns"
   ]
  },
  {
   "cell_type": "markdown",
   "metadata": {
    "id": "awlqmp40xMfc"
   },
   "source": [
    "### 4.1 Drop unnecessary columns like 'url', 'image' from the product_data"
   ]
  },
  {
   "cell_type": "code",
   "execution_count": null,
   "metadata": {
    "id": "VT4d-6TCxZCm"
   },
   "outputs": [],
   "source": [
    "col=[\"url\",\"image\",\"reviewUrl\"]\n",
    "dfproduct.drop(col,axis=1,inplace=True)"
   ]
  },
  {
   "cell_type": "markdown",
   "metadata": {
    "id": "Zk0WW5D5xZK9"
   },
   "source": [
    "### 4.2 Check statistical summary of both datasets. Note:- Include both numerical and object type columns."
   ]
  },
  {
   "cell_type": "code",
   "execution_count": null,
   "metadata": {
    "colab": {
     "base_uri": "https://localhost:8080/",
     "height": 388
    },
    "id": "UtCiNOSp1xGY",
    "outputId": "95b70824-89f7-4d16-b685-a8b03582a124"
   },
   "outputs": [
    {
     "data": {
      "text/html": [
       "<div>\n",
       "<style scoped>\n",
       "    .dataframe tbody tr th:only-of-type {\n",
       "        vertical-align: middle;\n",
       "    }\n",
       "\n",
       "    .dataframe tbody tr th {\n",
       "        vertical-align: top;\n",
       "    }\n",
       "\n",
       "    .dataframe thead th {\n",
       "        text-align: right;\n",
       "    }\n",
       "</style>\n",
       "<table border=\"1\" class=\"dataframe\">\n",
       "  <thead>\n",
       "    <tr style=\"text-align: right;\">\n",
       "      <th></th>\n",
       "      <th>asin</th>\n",
       "      <th>brand</th>\n",
       "      <th>title</th>\n",
       "      <th>rating</th>\n",
       "      <th>totalReviews</th>\n",
       "      <th>price</th>\n",
       "      <th>originalPrice</th>\n",
       "    </tr>\n",
       "  </thead>\n",
       "  <tbody>\n",
       "    <tr>\n",
       "      <th>count</th>\n",
       "      <td>720</td>\n",
       "      <td>716</td>\n",
       "      <td>720</td>\n",
       "      <td>720.0000000</td>\n",
       "      <td>720.0000000</td>\n",
       "      <td>720.0000000</td>\n",
       "      <td>720.0000000</td>\n",
       "    </tr>\n",
       "    <tr>\n",
       "      <th>unique</th>\n",
       "      <td>720</td>\n",
       "      <td>10</td>\n",
       "      <td>718</td>\n",
       "      <td>nan</td>\n",
       "      <td>nan</td>\n",
       "      <td>nan</td>\n",
       "      <td>nan</td>\n",
       "    </tr>\n",
       "    <tr>\n",
       "      <th>top</th>\n",
       "      <td>B0096QYH80</td>\n",
       "      <td>Samsung</td>\n",
       "      <td>Apple iPhone 6S, 64GB, Rose Gold - For AT&amp;T / ...</td>\n",
       "      <td>nan</td>\n",
       "      <td>nan</td>\n",
       "      <td>nan</td>\n",
       "      <td>nan</td>\n",
       "    </tr>\n",
       "    <tr>\n",
       "      <th>freq</th>\n",
       "      <td>1</td>\n",
       "      <td>346</td>\n",
       "      <td>2</td>\n",
       "      <td>nan</td>\n",
       "      <td>nan</td>\n",
       "      <td>nan</td>\n",
       "      <td>nan</td>\n",
       "    </tr>\n",
       "    <tr>\n",
       "      <th>mean</th>\n",
       "      <td>NaN</td>\n",
       "      <td>NaN</td>\n",
       "      <td>NaN</td>\n",
       "      <td>3.7137500</td>\n",
       "      <td>105.6791667</td>\n",
       "      <td>234.9489306</td>\n",
       "      <td>63.6907778</td>\n",
       "    </tr>\n",
       "    <tr>\n",
       "      <th>std</th>\n",
       "      <td>NaN</td>\n",
       "      <td>NaN</td>\n",
       "      <td>NaN</td>\n",
       "      <td>0.7160138</td>\n",
       "      <td>167.6011014</td>\n",
       "      <td>200.0084407</td>\n",
       "      <td>172.4053696</td>\n",
       "    </tr>\n",
       "    <tr>\n",
       "      <th>min</th>\n",
       "      <td>NaN</td>\n",
       "      <td>NaN</td>\n",
       "      <td>NaN</td>\n",
       "      <td>1.0000000</td>\n",
       "      <td>1.0000000</td>\n",
       "      <td>0.0000000</td>\n",
       "      <td>0.0000000</td>\n",
       "    </tr>\n",
       "    <tr>\n",
       "      <th>25%</th>\n",
       "      <td>NaN</td>\n",
       "      <td>NaN</td>\n",
       "      <td>NaN</td>\n",
       "      <td>3.3000000</td>\n",
       "      <td>7.0000000</td>\n",
       "      <td>97.5125000</td>\n",
       "      <td>0.0000000</td>\n",
       "    </tr>\n",
       "    <tr>\n",
       "      <th>50%</th>\n",
       "      <td>NaN</td>\n",
       "      <td>NaN</td>\n",
       "      <td>NaN</td>\n",
       "      <td>3.8000000</td>\n",
       "      <td>32.0000000</td>\n",
       "      <td>188.9750000</td>\n",
       "      <td>0.0000000</td>\n",
       "    </tr>\n",
       "    <tr>\n",
       "      <th>75%</th>\n",
       "      <td>NaN</td>\n",
       "      <td>NaN</td>\n",
       "      <td>NaN</td>\n",
       "      <td>4.1000000</td>\n",
       "      <td>122.2500000</td>\n",
       "      <td>336.7250000</td>\n",
       "      <td>0.0000000</td>\n",
       "    </tr>\n",
       "    <tr>\n",
       "      <th>max</th>\n",
       "      <td>NaN</td>\n",
       "      <td>NaN</td>\n",
       "      <td>NaN</td>\n",
       "      <td>5.0000000</td>\n",
       "      <td>983.0000000</td>\n",
       "      <td>999.9900000</td>\n",
       "      <td>999.9900000</td>\n",
       "    </tr>\n",
       "  </tbody>\n",
       "</table>\n",
       "</div>"
      ],
      "text/plain": [
       "              asin    brand  \\\n",
       "count          720      716   \n",
       "unique         720       10   \n",
       "top     B0096QYH80  Samsung   \n",
       "freq             1      346   \n",
       "mean           NaN      NaN   \n",
       "std            NaN      NaN   \n",
       "min            NaN      NaN   \n",
       "25%            NaN      NaN   \n",
       "50%            NaN      NaN   \n",
       "75%            NaN      NaN   \n",
       "max            NaN      NaN   \n",
       "\n",
       "                                                    title      rating  \\\n",
       "count                                                 720 720.0000000   \n",
       "unique                                                718         nan   \n",
       "top     Apple iPhone 6S, 64GB, Rose Gold - For AT&T / ...         nan   \n",
       "freq                                                    2         nan   \n",
       "mean                                                  NaN   3.7137500   \n",
       "std                                                   NaN   0.7160138   \n",
       "min                                                   NaN   1.0000000   \n",
       "25%                                                   NaN   3.3000000   \n",
       "50%                                                   NaN   3.8000000   \n",
       "75%                                                   NaN   4.1000000   \n",
       "max                                                   NaN   5.0000000   \n",
       "\n",
       "        totalReviews       price  originalPrice  \n",
       "count    720.0000000 720.0000000    720.0000000  \n",
       "unique           nan         nan            nan  \n",
       "top              nan         nan            nan  \n",
       "freq             nan         nan            nan  \n",
       "mean     105.6791667 234.9489306     63.6907778  \n",
       "std      167.6011014 200.0084407    172.4053696  \n",
       "min        1.0000000   0.0000000      0.0000000  \n",
       "25%        7.0000000  97.5125000      0.0000000  \n",
       "50%       32.0000000 188.9750000      0.0000000  \n",
       "75%      122.2500000 336.7250000      0.0000000  \n",
       "max      983.0000000 999.9900000    999.9900000  "
      ]
     },
     "execution_count": 78,
     "metadata": {
      "tags": []
     },
     "output_type": "execute_result"
    }
   ],
   "source": [
    "dfproduct.describe(include=\"all\")"
   ]
  },
  {
   "cell_type": "code",
   "execution_count": null,
   "metadata": {
    "colab": {
     "base_uri": "https://localhost:8080/",
     "height": 388
    },
    "id": "2sj0KKEM19Wp",
    "outputId": "7565134c-e83d-4c7b-d632-7724666868e3"
   },
   "outputs": [
    {
     "data": {
      "text/html": [
       "<div>\n",
       "<style scoped>\n",
       "    .dataframe tbody tr th:only-of-type {\n",
       "        vertical-align: middle;\n",
       "    }\n",
       "\n",
       "    .dataframe tbody tr th {\n",
       "        vertical-align: top;\n",
       "    }\n",
       "\n",
       "    .dataframe thead th {\n",
       "        text-align: right;\n",
       "    }\n",
       "</style>\n",
       "<table border=\"1\" class=\"dataframe\">\n",
       "  <thead>\n",
       "    <tr style=\"text-align: right;\">\n",
       "      <th></th>\n",
       "      <th>asin</th>\n",
       "      <th>name</th>\n",
       "      <th>rating</th>\n",
       "      <th>date</th>\n",
       "      <th>verified</th>\n",
       "      <th>title</th>\n",
       "      <th>body</th>\n",
       "      <th>helpfulVotes</th>\n",
       "    </tr>\n",
       "  </thead>\n",
       "  <tbody>\n",
       "    <tr>\n",
       "      <th>count</th>\n",
       "      <td>67986</td>\n",
       "      <td>67984</td>\n",
       "      <td>67986.0000000</td>\n",
       "      <td>67986</td>\n",
       "      <td>67986</td>\n",
       "      <td>67972</td>\n",
       "      <td>67965</td>\n",
       "      <td>27215.0000000</td>\n",
       "    </tr>\n",
       "    <tr>\n",
       "      <th>unique</th>\n",
       "      <td>720</td>\n",
       "      <td>47323</td>\n",
       "      <td>nan</td>\n",
       "      <td>2983</td>\n",
       "      <td>2</td>\n",
       "      <td>41489</td>\n",
       "      <td>59811</td>\n",
       "      <td>nan</td>\n",
       "    </tr>\n",
       "    <tr>\n",
       "      <th>top</th>\n",
       "      <td>B00F2SKPIM</td>\n",
       "      <td>Amazon Customer</td>\n",
       "      <td>nan</td>\n",
       "      <td>December 11, 2019</td>\n",
       "      <td>True</td>\n",
       "      <td>Five Stars</td>\n",
       "      <td>Good</td>\n",
       "      <td>nan</td>\n",
       "    </tr>\n",
       "    <tr>\n",
       "      <th>freq</th>\n",
       "      <td>981</td>\n",
       "      <td>6507</td>\n",
       "      <td>nan</td>\n",
       "      <td>234</td>\n",
       "      <td>61225</td>\n",
       "      <td>6043</td>\n",
       "      <td>303</td>\n",
       "      <td>nan</td>\n",
       "    </tr>\n",
       "    <tr>\n",
       "      <th>mean</th>\n",
       "      <td>NaN</td>\n",
       "      <td>NaN</td>\n",
       "      <td>3.8079163</td>\n",
       "      <td>NaN</td>\n",
       "      <td>NaN</td>\n",
       "      <td>NaN</td>\n",
       "      <td>NaN</td>\n",
       "      <td>8.2296895</td>\n",
       "    </tr>\n",
       "    <tr>\n",
       "      <th>std</th>\n",
       "      <td>NaN</td>\n",
       "      <td>NaN</td>\n",
       "      <td>1.5829058</td>\n",
       "      <td>NaN</td>\n",
       "      <td>NaN</td>\n",
       "      <td>NaN</td>\n",
       "      <td>NaN</td>\n",
       "      <td>31.9548772</td>\n",
       "    </tr>\n",
       "    <tr>\n",
       "      <th>min</th>\n",
       "      <td>NaN</td>\n",
       "      <td>NaN</td>\n",
       "      <td>1.0000000</td>\n",
       "      <td>NaN</td>\n",
       "      <td>NaN</td>\n",
       "      <td>NaN</td>\n",
       "      <td>NaN</td>\n",
       "      <td>1.0000000</td>\n",
       "    </tr>\n",
       "    <tr>\n",
       "      <th>25%</th>\n",
       "      <td>NaN</td>\n",
       "      <td>NaN</td>\n",
       "      <td>3.0000000</td>\n",
       "      <td>NaN</td>\n",
       "      <td>NaN</td>\n",
       "      <td>NaN</td>\n",
       "      <td>NaN</td>\n",
       "      <td>1.0000000</td>\n",
       "    </tr>\n",
       "    <tr>\n",
       "      <th>50%</th>\n",
       "      <td>NaN</td>\n",
       "      <td>NaN</td>\n",
       "      <td>5.0000000</td>\n",
       "      <td>NaN</td>\n",
       "      <td>NaN</td>\n",
       "      <td>NaN</td>\n",
       "      <td>NaN</td>\n",
       "      <td>2.0000000</td>\n",
       "    </tr>\n",
       "    <tr>\n",
       "      <th>75%</th>\n",
       "      <td>NaN</td>\n",
       "      <td>NaN</td>\n",
       "      <td>5.0000000</td>\n",
       "      <td>NaN</td>\n",
       "      <td>NaN</td>\n",
       "      <td>NaN</td>\n",
       "      <td>NaN</td>\n",
       "      <td>5.0000000</td>\n",
       "    </tr>\n",
       "    <tr>\n",
       "      <th>max</th>\n",
       "      <td>NaN</td>\n",
       "      <td>NaN</td>\n",
       "      <td>5.0000000</td>\n",
       "      <td>NaN</td>\n",
       "      <td>NaN</td>\n",
       "      <td>NaN</td>\n",
       "      <td>NaN</td>\n",
       "      <td>990.0000000</td>\n",
       "    </tr>\n",
       "  </tbody>\n",
       "</table>\n",
       "</div>"
      ],
      "text/plain": [
       "              asin             name        rating               date verified  \\\n",
       "count        67986            67984 67986.0000000              67986    67986   \n",
       "unique         720            47323           nan               2983        2   \n",
       "top     B00F2SKPIM  Amazon Customer           nan  December 11, 2019     True   \n",
       "freq           981             6507           nan                234    61225   \n",
       "mean           NaN              NaN     3.8079163                NaN      NaN   \n",
       "std            NaN              NaN     1.5829058                NaN      NaN   \n",
       "min            NaN              NaN     1.0000000                NaN      NaN   \n",
       "25%            NaN              NaN     3.0000000                NaN      NaN   \n",
       "50%            NaN              NaN     5.0000000                NaN      NaN   \n",
       "75%            NaN              NaN     5.0000000                NaN      NaN   \n",
       "max            NaN              NaN     5.0000000                NaN      NaN   \n",
       "\n",
       "             title   body  helpfulVotes  \n",
       "count        67972  67965 27215.0000000  \n",
       "unique       41489  59811           nan  \n",
       "top     Five Stars   Good           nan  \n",
       "freq          6043    303           nan  \n",
       "mean           NaN    NaN     8.2296895  \n",
       "std            NaN    NaN    31.9548772  \n",
       "min            NaN    NaN     1.0000000  \n",
       "25%            NaN    NaN     1.0000000  \n",
       "50%            NaN    NaN     2.0000000  \n",
       "75%            NaN    NaN     5.0000000  \n",
       "max            NaN    NaN   990.0000000  "
      ]
     },
     "execution_count": 79,
     "metadata": {
      "tags": []
     },
     "output_type": "execute_result"
    }
   ],
   "source": [
    "dfreview.describe(include=\"all\")"
   ]
  },
  {
   "cell_type": "code",
   "execution_count": null,
   "metadata": {
    "colab": {
     "base_uri": "https://localhost:8080/"
    },
    "id": "EO5bcVzE6AZ7",
    "outputId": "e7d1dca3-a428-42aa-dd2e-75fc9ccdfb77"
   },
   "outputs": [
    {
     "data": {
      "text/plain": [
       "asin             0\n",
       "brand            4\n",
       "title            0\n",
       "rating           0\n",
       "totalReviews     0\n",
       "price            0\n",
       "originalPrice    0\n",
       "dtype: int64"
      ]
     },
     "execution_count": 80,
     "metadata": {
      "tags": []
     },
     "output_type": "execute_result"
    }
   ],
   "source": [
    "dfproduct.isnull().sum()"
   ]
  },
  {
   "cell_type": "markdown",
   "metadata": {
    "id": "cSdGfadUyEdU"
   },
   "source": [
    "### 4.3 From the above statistical summary, write inferences like count of unique products, top brand, top title, range of rating, price range, etc"
   ]
  },
  {
   "cell_type": "markdown",
   "metadata": {
    "id": "VqLtm3Wg5Lv4"
   },
   "source": [
    "- There are 720 unique products listed\n",
    "- 10 unique brands are listed.\n",
    "- 4 missing values in brand attribute in dataset. \n",
    "- Ratings are the range between 1 to 5. Mean rating for the product is 3.71\n",
    "- Price range between 0 to 999.99\n",
    "- Top brand is Samsung.\n",
    "- Top title is Apple iPhone 6S, 64GB, Rose Gold - For AT&T / ...\n"
   ]
  },
  {
   "cell_type": "markdown",
   "metadata": {
    "id": "XMv_hXyxJKZK"
   },
   "source": [
    "### 4.4 Analyze the distribution of ratings and other categorical features like brand, etc"
   ]
  },
  {
   "cell_type": "code",
   "execution_count": null,
   "metadata": {
    "colab": {
     "base_uri": "https://localhost:8080/",
     "height": 386
    },
    "id": "oEhjSsMcyirD",
    "outputId": "c05946f6-7352-4fa0-bbba-a69019db70e8"
   },
   "outputs": [
    {
     "data": {
      "text/plain": [
       "<seaborn.axisgrid.FacetGrid at 0x7f4ce28a8a90>"
      ]
     },
     "execution_count": 81,
     "metadata": {
      "tags": []
     },
     "output_type": "execute_result"
    },
    {
     "data": {
      "image/png": "[encoded data removed]",
      "text/plain": [
       "<Figure size 360x360 with 1 Axes>"
      ]
     },
     "metadata": {
      "needs_background": "light",
      "tags": []
     },
     "output_type": "display_data"
    }
   ],
   "source": [
    "sns.displot(dfproduct[\"rating\"])"
   ]
  },
  {
   "cell_type": "markdown",
   "metadata": {
    "id": "CJSwl_K_yQCh"
   },
   "source": [
    "- There are more reviews having 4.0 rating. "
   ]
  },
  {
   "cell_type": "code",
   "execution_count": null,
   "metadata": {
    "colab": {
     "base_uri": "https://localhost:8080/",
     "height": 296
    },
    "id": "cpqIQdme73yx",
    "outputId": "9fb9aa3a-4dc7-4a09-f664-1e0e05a81d16"
   },
   "outputs": [
    {
     "data": {
      "text/plain": [
       "<matplotlib.axes._subplots.AxesSubplot at 0x7f4cca4250d0>"
      ]
     },
     "execution_count": 82,
     "metadata": {
      "tags": []
     },
     "output_type": "execute_result"
    },
    {
     "data": {
      "image/png": "[encoded data removed]",
      "text/plain": [
       "<Figure size 432x288 with 1 Axes>"
      ]
     },
     "metadata": {
      "needs_background": "light",
      "tags": []
     },
     "output_type": "display_data"
    }
   ],
   "source": [
    "sns.countplot(dfproduct[\"brand\"])"
   ]
  },
  {
   "cell_type": "code",
   "execution_count": null,
   "metadata": {
    "colab": {
     "base_uri": "https://localhost:8080/"
    },
    "id": "KszO-sn988J0",
    "outputId": "e6a6cce2-4245-4efd-f928-18a23b31e4a9"
   },
   "outputs": [
    {
     "data": {
      "text/plain": [
       "Samsung    48.0555556\n",
       "Motorola   14.5833333\n",
       "Apple       8.7500000\n",
       "Xiaomi      6.3888889\n",
       "Nokia       6.1111111\n",
       "Google      5.2777778\n",
       "HUAWEI      4.4444444\n",
       "Sony        3.7500000\n",
       "OnePlus     1.3888889\n",
       "ASUS        0.6944444\n",
       "Name: brand, dtype: float64"
      ]
     },
     "execution_count": 83,
     "metadata": {
      "tags": []
     },
     "output_type": "execute_result"
    }
   ],
   "source": [
    "dfproduct[\"brand\"].value_counts() / len(dfproduct)*100"
   ]
  },
  {
   "cell_type": "code",
   "execution_count": null,
   "metadata": {
    "colab": {
     "base_uri": "https://localhost:8080/",
     "height": 319
    },
    "id": "n7CIkRlN8LuA",
    "outputId": "674449a7-7267-4ff1-e8fd-d01fedfe0d4f"
   },
   "outputs": [
    {
     "data": {
      "text/plain": [
       "<matplotlib.axes._subplots.AxesSubplot at 0x7f4cd24889d0>"
      ]
     },
     "execution_count": 84,
     "metadata": {
      "tags": []
     },
     "output_type": "execute_result"
    },
    {
     "data": {
      "image/png": "[encoded data removed]",
      "text/plain": [
       "<Figure size 432x288 with 1 Axes>"
      ]
     },
     "metadata": {
      "needs_background": "light",
      "tags": []
     },
     "output_type": "display_data"
    }
   ],
   "source": [
    "dfproduct[\"brand\"].value_counts().plot(kind='bar')"
   ]
  },
  {
   "cell_type": "markdown",
   "metadata": {
    "id": "Y77cyglOyg4X"
   },
   "source": [
    "- There are more products in Samsung brand"
   ]
  },
  {
   "cell_type": "markdown",
   "metadata": {
    "id": "jwZBGODgyi1a"
   },
   "source": [
    "### 4.5 Display average rating per brand"
   ]
  },
  {
   "cell_type": "code",
   "execution_count": null,
   "metadata": {
    "colab": {
     "base_uri": "https://localhost:8080/"
    },
    "id": "PMI5MwN_-NNv",
    "outputId": "6767f033-e37d-4a9e-d4b6-18fc8a59a624"
   },
   "outputs": [
    {
     "data": {
      "text/plain": [
       "brand\n",
       "Xiaomi     4.4152174\n",
       "HUAWEI     4.0218750\n",
       "ASUS       3.8600000\n",
       "Sony       3.7888889\n",
       "Apple      3.7825397\n",
       "Google     3.7710526\n",
       "Motorola   3.6438095\n",
       "Samsung    3.6326590\n",
       "OnePlus    3.5800000\n",
       "Nokia      3.3863636\n",
       "Name: rating, dtype: float64"
      ]
     },
     "execution_count": 85,
     "metadata": {
      "tags": []
     },
     "output_type": "execute_result"
    }
   ],
   "source": [
    "dfproduct.groupby('brand').mean()['rating'].sort_values(ascending=False)"
   ]
  },
  {
   "cell_type": "code",
   "execution_count": null,
   "metadata": {
    "colab": {
     "base_uri": "https://localhost:8080/",
     "height": 349
    },
    "id": "OSBBiAv8yscd",
    "outputId": "54148c4b-92ff-40b6-c3cd-d9a6589c7331"
   },
   "outputs": [
    {
     "data": {
      "text/plain": [
       "<matplotlib.axes._subplots.AxesSubplot at 0x7f4cd24140d0>"
      ]
     },
     "execution_count": 86,
     "metadata": {
      "tags": []
     },
     "output_type": "execute_result"
    },
    {
     "data": {
      "image/png": "[encoded data removed]",
      "text/plain": [
       "<Figure size 432x288 with 1 Axes>"
      ]
     },
     "metadata": {
      "needs_background": "light",
      "tags": []
     },
     "output_type": "display_data"
    }
   ],
   "source": [
    "dfproduct.groupby('brand').mean()['rating'].sort_values(ascending=False).plot(kind='bar', title='Avg Rating per Brand')"
   ]
  },
  {
   "cell_type": "markdown",
   "metadata": {
    "id": "9n30fn-iy3AH"
   },
   "source": [
    "- Xiaomi brand has highest average rating."
   ]
  },
  {
   "cell_type": "markdown",
   "metadata": {
    "id": "vUXuEwlgyvB0"
   },
   "source": [
    "### 4.6 Display average price per brand"
   ]
  },
  {
   "cell_type": "code",
   "execution_count": null,
   "metadata": {
    "colab": {
     "base_uri": "https://localhost:8080/"
    },
    "id": "ACgIwVlyy3Pu",
    "outputId": "83382ce5-3a49-4524-b35c-6f54d23b663f"
   },
   "outputs": [
    {
     "data": {
      "text/plain": [
       "brand\n",
       "OnePlus    426.1960000\n",
       "Sony       332.7248148\n",
       "ASUS       309.6860000\n",
       "Apple      303.5811111\n",
       "Samsung    256.5272543\n",
       "Google     241.8676316\n",
       "HUAWEI     218.8290625\n",
       "Xiaomi     214.9676087\n",
       "Motorola   139.1210476\n",
       "Nokia      111.4438636\n",
       "Name: price, dtype: float64"
      ]
     },
     "execution_count": 87,
     "metadata": {
      "tags": []
     },
     "output_type": "execute_result"
    }
   ],
   "source": [
    "dfproduct.groupby('brand').mean()['price'].sort_values(ascending=False)"
   ]
  },
  {
   "cell_type": "code",
   "execution_count": null,
   "metadata": {
    "colab": {
     "base_uri": "https://localhost:8080/",
     "height": 349
    },
    "id": "o3baY2MB-jOA",
    "outputId": "21b111d8-af9b-4c17-a69e-6f69e691450e"
   },
   "outputs": [
    {
     "data": {
      "text/plain": [
       "<matplotlib.axes._subplots.AxesSubplot at 0x7f4cd2402250>"
      ]
     },
     "execution_count": 88,
     "metadata": {
      "tags": []
     },
     "output_type": "execute_result"
    },
    {
     "data": {
      "image/png": "[encoded data removed]",
      "text/plain": [
       "<Figure size 432x288 with 1 Axes>"
      ]
     },
     "metadata": {
      "needs_background": "light",
      "tags": []
     },
     "output_type": "display_data"
    }
   ],
   "source": [
    "dfproduct.groupby('brand').mean()['price'].sort_values(ascending=False).plot(kind='bar', title='Avg Price per Brand')"
   ]
  },
  {
   "cell_type": "markdown",
   "metadata": {
    "id": "jQAa549gzCX-"
   },
   "source": [
    "- OnePlus brand has highest avaerage price."
   ]
  },
  {
   "cell_type": "markdown",
   "metadata": {
    "id": "U0JfwL74y3a-"
   },
   "source": [
    "### 4.7 Display average 'totalReviews' per brand"
   ]
  },
  {
   "cell_type": "code",
   "execution_count": null,
   "metadata": {
    "colab": {
     "base_uri": "https://localhost:8080/"
    },
    "id": "wfzciNxqzBYu",
    "outputId": "93b7073e-2362-40c5-9b57-177e2d003303"
   },
   "outputs": [
    {
     "data": {
      "text/plain": [
       "brand\n",
       "Nokia      140.5000000\n",
       "Sony       122.6666667\n",
       "Xiaomi     121.1739130\n",
       "Google     111.5263158\n",
       "Samsung    108.9624277\n",
       "Apple      100.2380952\n",
       "Motorola    89.7047619\n",
       "HUAWEI      77.0937500\n",
       "ASUS        52.6000000\n",
       "OnePlus     40.6000000\n",
       "Name: totalReviews, dtype: float64"
      ]
     },
     "execution_count": 89,
     "metadata": {
      "tags": []
     },
     "output_type": "execute_result"
    }
   ],
   "source": [
    "dfproduct.groupby('brand').mean()['totalReviews'].sort_values(ascending=False)"
   ]
  },
  {
   "cell_type": "code",
   "execution_count": null,
   "metadata": {
    "colab": {
     "base_uri": "https://localhost:8080/",
     "height": 349
    },
    "id": "PKIECj0j_91W",
    "outputId": "434fe591-c785-4d2e-dd15-db2c0fd63874"
   },
   "outputs": [
    {
     "data": {
      "text/plain": [
       "<matplotlib.axes._subplots.AxesSubplot at 0x7f4cd22cf650>"
      ]
     },
     "execution_count": 90,
     "metadata": {
      "tags": []
     },
     "output_type": "execute_result"
    },
    {
     "data": {
      "image/png": "[encoded data removed]",
      "text/plain": [
       "<Figure size 432x288 with 1 Axes>"
      ]
     },
     "metadata": {
      "needs_background": "light",
      "tags": []
     },
     "output_type": "display_data"
    }
   ],
   "source": [
    "dfproduct.groupby('brand').mean()['totalReviews'].sort_values(ascending=False).plot(kind='bar', title='Avg Total Review per Brand')"
   ]
  },
  {
   "cell_type": "markdown",
   "metadata": {
    "id": "KM5cXJrazQWw"
   },
   "source": [
    "- Nokia brand has highest average reviews."
   ]
  },
  {
   "cell_type": "markdown",
   "metadata": {
    "id": "x_fxI7OAeDUM"
   },
   "source": [
    "### 4.8 Merge two datasets using 'asin' and check the shape of the final dataset"
   ]
  },
  {
   "cell_type": "code",
   "execution_count": null,
   "metadata": {
    "colab": {
     "base_uri": "https://localhost:8080/",
     "height": 895
    },
    "id": "svpHfWI9zNAP",
    "outputId": "5d8ab6a0-a19d-4f99-9a36-2e6c54106d40"
   },
   "outputs": [
    {
     "data": {
      "text/html": [
       "<div>\n",
       "<style scoped>\n",
       "    .dataframe tbody tr th:only-of-type {\n",
       "        vertical-align: middle;\n",
       "    }\n",
       "\n",
       "    .dataframe tbody tr th {\n",
       "        vertical-align: top;\n",
       "    }\n",
       "\n",
       "    .dataframe thead th {\n",
       "        text-align: right;\n",
       "    }\n",
       "</style>\n",
       "<table border=\"1\" class=\"dataframe\">\n",
       "  <thead>\n",
       "    <tr style=\"text-align: right;\">\n",
       "      <th></th>\n",
       "      <th>asin</th>\n",
       "      <th>name</th>\n",
       "      <th>rating_x</th>\n",
       "      <th>date</th>\n",
       "      <th>verified</th>\n",
       "      <th>title_x</th>\n",
       "      <th>body</th>\n",
       "      <th>helpfulVotes</th>\n",
       "      <th>brand</th>\n",
       "      <th>title_y</th>\n",
       "      <th>rating_y</th>\n",
       "      <th>totalReviews</th>\n",
       "      <th>price</th>\n",
       "      <th>originalPrice</th>\n",
       "    </tr>\n",
       "  </thead>\n",
       "  <tbody>\n",
       "    <tr>\n",
       "      <th>0</th>\n",
       "      <td>B0000SX2UC</td>\n",
       "      <td>Janet</td>\n",
       "      <td>3</td>\n",
       "      <td>October 11, 2005</td>\n",
       "      <td>False</td>\n",
       "      <td>Def not best, but not worst</td>\n",
       "      <td>I had the Samsung A600 for awhile which is abs...</td>\n",
       "      <td>1.0000000</td>\n",
       "      <td>NaN</td>\n",
       "      <td>Dual-Band / Tri-Mode Sprint PCS Phone w/ Voice...</td>\n",
       "      <td>3.0000000</td>\n",
       "      <td>14</td>\n",
       "      <td>0.0000000</td>\n",
       "      <td>0.0000000</td>\n",
       "    </tr>\n",
       "    <tr>\n",
       "      <th>1</th>\n",
       "      <td>B0000SX2UC</td>\n",
       "      <td>Luke Wyatt</td>\n",
       "      <td>1</td>\n",
       "      <td>January 7, 2004</td>\n",
       "      <td>False</td>\n",
       "      <td>Text Messaging Doesn't Work</td>\n",
       "      <td>Due to a software issue between Nokia and Spri...</td>\n",
       "      <td>17.0000000</td>\n",
       "      <td>NaN</td>\n",
       "      <td>Dual-Band / Tri-Mode Sprint PCS Phone w/ Voice...</td>\n",
       "      <td>3.0000000</td>\n",
       "      <td>14</td>\n",
       "      <td>0.0000000</td>\n",
       "      <td>0.0000000</td>\n",
       "    </tr>\n",
       "    <tr>\n",
       "      <th>2</th>\n",
       "      <td>B0000SX2UC</td>\n",
       "      <td>Brooke</td>\n",
       "      <td>5</td>\n",
       "      <td>December 30, 2003</td>\n",
       "      <td>False</td>\n",
       "      <td>Love This Phone</td>\n",
       "      <td>This is a great, reliable phone. I also purcha...</td>\n",
       "      <td>5.0000000</td>\n",
       "      <td>NaN</td>\n",
       "      <td>Dual-Band / Tri-Mode Sprint PCS Phone w/ Voice...</td>\n",
       "      <td>3.0000000</td>\n",
       "      <td>14</td>\n",
       "      <td>0.0000000</td>\n",
       "      <td>0.0000000</td>\n",
       "    </tr>\n",
       "    <tr>\n",
       "      <th>3</th>\n",
       "      <td>B0000SX2UC</td>\n",
       "      <td>amy m. teague</td>\n",
       "      <td>3</td>\n",
       "      <td>March 18, 2004</td>\n",
       "      <td>False</td>\n",
       "      <td>Love the Phone, BUT...!</td>\n",
       "      <td>I love the phone and all, because I really did...</td>\n",
       "      <td>1.0000000</td>\n",
       "      <td>NaN</td>\n",
       "      <td>Dual-Band / Tri-Mode Sprint PCS Phone w/ Voice...</td>\n",
       "      <td>3.0000000</td>\n",
       "      <td>14</td>\n",
       "      <td>0.0000000</td>\n",
       "      <td>0.0000000</td>\n",
       "    </tr>\n",
       "    <tr>\n",
       "      <th>4</th>\n",
       "      <td>B0000SX2UC</td>\n",
       "      <td>tristazbimmer</td>\n",
       "      <td>4</td>\n",
       "      <td>August 28, 2005</td>\n",
       "      <td>False</td>\n",
       "      <td>Great phone service and options, lousy case!</td>\n",
       "      <td>The phone has been great for every purpose it ...</td>\n",
       "      <td>1.0000000</td>\n",
       "      <td>NaN</td>\n",
       "      <td>Dual-Band / Tri-Mode Sprint PCS Phone w/ Voice...</td>\n",
       "      <td>3.0000000</td>\n",
       "      <td>14</td>\n",
       "      <td>0.0000000</td>\n",
       "      <td>0.0000000</td>\n",
       "    </tr>\n",
       "  </tbody>\n",
       "</table>\n",
       "</div>"
      ],
      "text/plain": [
       "         asin           name  rating_x               date  verified  \\\n",
       "0  B0000SX2UC          Janet         3   October 11, 2005     False   \n",
       "1  B0000SX2UC     Luke Wyatt         1    January 7, 2004     False   \n",
       "2  B0000SX2UC         Brooke         5  December 30, 2003     False   \n",
       "3  B0000SX2UC  amy m. teague         3     March 18, 2004     False   \n",
       "4  B0000SX2UC  tristazbimmer         4    August 28, 2005     False   \n",
       "\n",
       "                                        title_x  \\\n",
       "0                   Def not best, but not worst   \n",
       "1                   Text Messaging Doesn't Work   \n",
       "2                               Love This Phone   \n",
       "3                       Love the Phone, BUT...!   \n",
       "4  Great phone service and options, lousy case!   \n",
       "\n",
       "                                                body  helpfulVotes brand  \\\n",
       "0  I had the Samsung A600 for awhile which is abs...     1.0000000   NaN   \n",
       "1  Due to a software issue between Nokia and Spri...    17.0000000   NaN   \n",
       "2  This is a great, reliable phone. I also purcha...     5.0000000   NaN   \n",
       "3  I love the phone and all, because I really did...     1.0000000   NaN   \n",
       "4  The phone has been great for every purpose it ...     1.0000000   NaN   \n",
       "\n",
       "                                             title_y  rating_y  totalReviews  \\\n",
       "0  Dual-Band / Tri-Mode Sprint PCS Phone w/ Voice... 3.0000000            14   \n",
       "1  Dual-Band / Tri-Mode Sprint PCS Phone w/ Voice... 3.0000000            14   \n",
       "2  Dual-Band / Tri-Mode Sprint PCS Phone w/ Voice... 3.0000000            14   \n",
       "3  Dual-Band / Tri-Mode Sprint PCS Phone w/ Voice... 3.0000000            14   \n",
       "4  Dual-Band / Tri-Mode Sprint PCS Phone w/ Voice... 3.0000000            14   \n",
       "\n",
       "      price  originalPrice  \n",
       "0 0.0000000      0.0000000  \n",
       "1 0.0000000      0.0000000  \n",
       "2 0.0000000      0.0000000  \n",
       "3 0.0000000      0.0000000  \n",
       "4 0.0000000      0.0000000  "
      ]
     },
     "execution_count": 91,
     "metadata": {
      "tags": []
     },
     "output_type": "execute_result"
    }
   ],
   "source": [
    "df = pd.merge(dfreview, dfproduct,how=\"left\", left_on='asin', right_on='asin')\n",
    "df.head( )"
   ]
  },
  {
   "cell_type": "code",
   "execution_count": null,
   "metadata": {
    "colab": {
     "base_uri": "https://localhost:8080/"
    },
    "id": "5RdVJMTABlib",
    "outputId": "6b71fb6f-c787-41b5-e142-7371a35100f2"
   },
   "outputs": [
    {
     "data": {
      "text/plain": [
       "(67986, 14)"
      ]
     },
     "execution_count": 92,
     "metadata": {
      "tags": []
     },
     "output_type": "execute_result"
    }
   ],
   "source": [
    "df.shape"
   ]
  },
  {
   "cell_type": "markdown",
   "metadata": {
    "id": "gZ21I6H3zaJR"
   },
   "source": [
    "- There are 67986 records and 14 attributes after merging the product and review datasets. "
   ]
  },
  {
   "cell_type": "markdown",
   "metadata": {
    "id": "zdTfwlL7fYpq"
   },
   "source": [
    "### 4.9 Rename important features with appropriate names.\n",
    "Imortant features - \"rating_x\": \"user_rating\", \"title_x\": \"review_title\", \"title_y\": \"item_title\", \"rating_y\": \"overall_rating\""
   ]
  },
  {
   "cell_type": "code",
   "execution_count": null,
   "metadata": {
    "id": "KI-6FCkZztXM"
   },
   "outputs": [],
   "source": [
    "df.rename(columns={\"rating_x\": \"user_rating\", \"title_x\": \"review_title\", \"title_y\": \"item_title\", \"rating_y\": \"overall_rating\"}, inplace=True)"
   ]
  },
  {
   "cell_type": "markdown",
   "metadata": {
    "id": "hNHEElHszthc"
   },
   "source": [
    "### 4.10 Select rows having verified reviews and check the shape of the final dataset"
   ]
  },
  {
   "cell_type": "code",
   "execution_count": null,
   "metadata": {
    "colab": {
     "base_uri": "https://localhost:8080/"
    },
    "id": "Jyav9_Zoz-rT",
    "outputId": "465b032b-8c8a-43e8-b090-0492c3403541"
   },
   "outputs": [
    {
     "data": {
      "text/plain": [
       "True     61225\n",
       "False     6761\n",
       "Name: verified, dtype: int64"
      ]
     },
     "execution_count": 94,
     "metadata": {
      "tags": []
     },
     "output_type": "execute_result"
    }
   ],
   "source": [
    "df['verified'].value_counts()"
   ]
  },
  {
   "cell_type": "code",
   "execution_count": null,
   "metadata": {
    "colab": {
     "base_uri": "https://localhost:8080/"
    },
    "id": "yavdkbaHElPx",
    "outputId": "d8135326-18b6-4226-b552-93837d3d9d76"
   },
   "outputs": [
    {
     "data": {
      "text/plain": [
       "(61225, 14)"
      ]
     },
     "execution_count": 95,
     "metadata": {
      "tags": []
     },
     "output_type": "execute_result"
    }
   ],
   "source": [
    "dfv = df[df['verified'] == True]\n",
    "dfv.shape"
   ]
  },
  {
   "cell_type": "markdown",
   "metadata": {
    "id": "HoMSy3t_ztbS"
   },
   "source": [
    "- There are 61225 verified reviews."
   ]
  },
  {
   "cell_type": "markdown",
   "metadata": {
    "id": "EpKusPjdz-2q"
   },
   "source": [
    "### 4.11 Check the number of reviews for various brands and report the brand that have highest number of reviews"
   ]
  },
  {
   "cell_type": "code",
   "execution_count": null,
   "metadata": {
    "colab": {
     "base_uri": "https://localhost:8080/",
     "height": 319
    },
    "id": "5tux6vwr0JDb",
    "outputId": "51878735-0702-43cb-dbc1-1deebaebbcc2"
   },
   "outputs": [
    {
     "data": {
      "text/plain": [
       "<matplotlib.axes._subplots.AxesSubplot at 0x7f4cd21f4790>"
      ]
     },
     "execution_count": 96,
     "metadata": {
      "tags": []
     },
     "output_type": "execute_result"
    },
    {
     "data": {
      "image/png": "[encoded data removed]",
      "text/plain": [
       "<Figure size 432x288 with 1 Axes>"
      ]
     },
     "metadata": {
      "needs_background": "light",
      "tags": []
     },
     "output_type": "display_data"
    }
   ],
   "source": [
    "dfv['brand'].value_counts().plot(kind='bar')"
   ]
  },
  {
   "cell_type": "markdown",
   "metadata": {
    "id": "Gw6x5sjw3l2U"
   },
   "source": [
    "- Samsumg brand has highest number of reviews."
   ]
  },
  {
   "cell_type": "markdown",
   "metadata": {
    "id": "gPGjMFE-0Q5k"
   },
   "source": [
    "### 4.12 Drop irrelevant columns and keep important features like 'brand','body','price','user_rating','review_title' for further analysis"
   ]
  },
  {
   "cell_type": "code",
   "execution_count": null,
   "metadata": {
    "colab": {
     "base_uri": "https://localhost:8080/",
     "height": 203
    },
    "id": "J_IvLN6e0e6z",
    "outputId": "5c9709cd-252f-435e-c9ca-2677757694a2"
   },
   "outputs": [
    {
     "data": {
      "text/html": [
       "<div>\n",
       "<style scoped>\n",
       "    .dataframe tbody tr th:only-of-type {\n",
       "        vertical-align: middle;\n",
       "    }\n",
       "\n",
       "    .dataframe tbody tr th {\n",
       "        vertical-align: top;\n",
       "    }\n",
       "\n",
       "    .dataframe thead th {\n",
       "        text-align: right;\n",
       "    }\n",
       "</style>\n",
       "<table border=\"1\" class=\"dataframe\">\n",
       "  <thead>\n",
       "    <tr style=\"text-align: right;\">\n",
       "      <th></th>\n",
       "      <th>brand</th>\n",
       "      <th>body</th>\n",
       "      <th>price</th>\n",
       "      <th>user_rating</th>\n",
       "      <th>review_title</th>\n",
       "    </tr>\n",
       "  </thead>\n",
       "  <tbody>\n",
       "    <tr>\n",
       "      <th>14</th>\n",
       "      <td>Motorola</td>\n",
       "      <td>DON'T BUY OUT OF SERVICE</td>\n",
       "      <td>49.9500000</td>\n",
       "      <td>1</td>\n",
       "      <td>Stupid phone</td>\n",
       "    </tr>\n",
       "    <tr>\n",
       "      <th>17</th>\n",
       "      <td>Motorola</td>\n",
       "      <td>1 star because the phones locked so I have to ...</td>\n",
       "      <td>49.9500000</td>\n",
       "      <td>1</td>\n",
       "      <td>Phones locked</td>\n",
       "    </tr>\n",
       "    <tr>\n",
       "      <th>18</th>\n",
       "      <td>Motorola</td>\n",
       "      <td>The product has been very good. I had used thi...</td>\n",
       "      <td>49.9500000</td>\n",
       "      <td>5</td>\n",
       "      <td>Excellent product</td>\n",
       "    </tr>\n",
       "    <tr>\n",
       "      <th>21</th>\n",
       "      <td>Motorola</td>\n",
       "      <td>I bought this phone to replace an LG phone tha...</td>\n",
       "      <td>99.9900000</td>\n",
       "      <td>4</td>\n",
       "      <td>Nice, but</td>\n",
       "    </tr>\n",
       "    <tr>\n",
       "      <th>22</th>\n",
       "      <td>Motorola</td>\n",
       "      <td>I purchased this phone for my AT&amp;T phone repla...</td>\n",
       "      <td>99.9900000</td>\n",
       "      <td>1</td>\n",
       "      <td>It seems it doesn't work with the existing AT&amp;...</td>\n",
       "    </tr>\n",
       "  </tbody>\n",
       "</table>\n",
       "</div>"
      ],
      "text/plain": [
       "       brand                                               body      price  \\\n",
       "14  Motorola                           DON'T BUY OUT OF SERVICE 49.9500000   \n",
       "17  Motorola  1 star because the phones locked so I have to ... 49.9500000   \n",
       "18  Motorola  The product has been very good. I had used thi... 49.9500000   \n",
       "21  Motorola  I bought this phone to replace an LG phone tha... 99.9900000   \n",
       "22  Motorola  I purchased this phone for my AT&T phone repla... 99.9900000   \n",
       "\n",
       "    user_rating                                       review_title  \n",
       "14            1                                       Stupid phone  \n",
       "17            1                                      Phones locked  \n",
       "18            5                                  Excellent product  \n",
       "21            4                                          Nice, but  \n",
       "22            1  It seems it doesn't work with the existing AT&...  "
      ]
     },
     "execution_count": 97,
     "metadata": {
      "tags": []
     },
     "output_type": "execute_result"
    }
   ],
   "source": [
    "col_lst = ['brand','body','price','user_rating','review_title']\n",
    "df_review = dfv[col_lst]\n",
    "df_review.head()"
   ]
  },
  {
   "cell_type": "markdown",
   "metadata": {
    "id": "Gzo_rVT60fDf"
   },
   "source": [
    "### 4.13 Perform univariate analysis. Check distribution of price, user_rating"
   ]
  },
  {
   "cell_type": "code",
   "execution_count": null,
   "metadata": {
    "colab": {
     "base_uri": "https://localhost:8080/",
     "height": 296
    },
    "id": "F3vzILxZ0t0L",
    "outputId": "26504f92-cda7-49b0-a16f-4d617c85f338"
   },
   "outputs": [
    {
     "data": {
      "text/plain": [
       "<matplotlib.axes._subplots.AxesSubplot at 0x7f4cd21875d0>"
      ]
     },
     "execution_count": 98,
     "metadata": {
      "tags": []
     },
     "output_type": "execute_result"
    },
    {
     "data": {
      "image/png": "[encoded data removed]",
      "text/plain": [
       "<Figure size 432x288 with 1 Axes>"
      ]
     },
     "metadata": {
      "needs_background": "light",
      "tags": []
     },
     "output_type": "display_data"
    }
   ],
   "source": [
    "sns.distplot(df_review['price'])"
   ]
  },
  {
   "cell_type": "markdown",
   "metadata": {
    "id": "aiSBmxqw4RGs"
   },
   "source": [
    "- Price is 0 for some mobiles. \n",
    "- Price between 100 to 300 for most of the mobiles."
   ]
  },
  {
   "cell_type": "code",
   "execution_count": null,
   "metadata": {
    "colab": {
     "base_uri": "https://localhost:8080/",
     "height": 279
    },
    "id": "ZlysvBwLG70m",
    "outputId": "3a6b7023-b822-4287-e169-80fd908fe0fb"
   },
   "outputs": [
    {
     "data": {
      "text/plain": [
       "<matplotlib.axes._subplots.AxesSubplot at 0x7f4cd2203890>"
      ]
     },
     "execution_count": 99,
     "metadata": {
      "tags": []
     },
     "output_type": "execute_result"
    },
    {
     "data": {
      "image/png": "[encoded data removed]",
      "text/plain": [
       "<Figure size 432x288 with 1 Axes>"
      ]
     },
     "metadata": {
      "needs_background": "light",
      "tags": []
     },
     "output_type": "display_data"
    }
   ],
   "source": [
    "df_review['user_rating'].value_counts().plot(kind='bar')"
   ]
  },
  {
   "cell_type": "markdown",
   "metadata": {
    "id": "nRIR_W1Y37s3"
   },
   "source": [
    "- There are more 5 user rating. "
   ]
  },
  {
   "cell_type": "markdown",
   "metadata": {
    "id": "x0Y_kE9T0uAf"
   },
   "source": [
    "### 4.14 Create a new column called \"sentiment\". It should have value as 1 (positive) if the user_Rating is greater than 3, value as 0 (neutral) if the user_Rating == 3, and -1 (negative) is the user_Rating is less than 3."
   ]
  },
  {
   "cell_type": "code",
   "execution_count": null,
   "metadata": {
    "id": "jGon-2xU1Ujb"
   },
   "outputs": [],
   "source": [
    "df_review['sentiment'] = df_review['user_rating'].apply(lambda x : 1 if x > 3 else (0 if x ==3 else -1))"
   ]
  },
  {
   "cell_type": "code",
   "execution_count": null,
   "metadata": {
    "colab": {
     "base_uri": "https://localhost:8080/",
     "height": 203
    },
    "id": "PUAbS9B1KT5_",
    "outputId": "b607f2fa-5e3e-4c98-98f9-cbac452e6f3c"
   },
   "outputs": [
    {
     "data": {
      "text/html": [
       "<div>\n",
       "<style scoped>\n",
       "    .dataframe tbody tr th:only-of-type {\n",
       "        vertical-align: middle;\n",
       "    }\n",
       "\n",
       "    .dataframe tbody tr th {\n",
       "        vertical-align: top;\n",
       "    }\n",
       "\n",
       "    .dataframe thead th {\n",
       "        text-align: right;\n",
       "    }\n",
       "</style>\n",
       "<table border=\"1\" class=\"dataframe\">\n",
       "  <thead>\n",
       "    <tr style=\"text-align: right;\">\n",
       "      <th></th>\n",
       "      <th>brand</th>\n",
       "      <th>body</th>\n",
       "      <th>price</th>\n",
       "      <th>user_rating</th>\n",
       "      <th>review_title</th>\n",
       "      <th>sentiment</th>\n",
       "    </tr>\n",
       "  </thead>\n",
       "  <tbody>\n",
       "    <tr>\n",
       "      <th>27622</th>\n",
       "      <td>Samsung</td>\n",
       "      <td>The phone works great, you would think its bra...</td>\n",
       "      <td>169.9500000</td>\n",
       "      <td>4</td>\n",
       "      <td>Great Phone Looks New!</td>\n",
       "      <td>1</td>\n",
       "    </tr>\n",
       "    <tr>\n",
       "      <th>66322</th>\n",
       "      <td>Motorola</td>\n",
       "      <td>Updated purchase.</td>\n",
       "      <td>119.9900000</td>\n",
       "      <td>5</td>\n",
       "      <td>Fantastic phone. Stable, easy set up, great pr...</td>\n",
       "      <td>1</td>\n",
       "    </tr>\n",
       "    <tr>\n",
       "      <th>66459</th>\n",
       "      <td>Motorola</td>\n",
       "      <td>Nothing</td>\n",
       "      <td>119.9900000</td>\n",
       "      <td>5</td>\n",
       "      <td>Nothing</td>\n",
       "      <td>1</td>\n",
       "    </tr>\n",
       "    <tr>\n",
       "      <th>265</th>\n",
       "      <td>Motorola</td>\n",
       "      <td>I haven't had the phone turned on yet but it a...</td>\n",
       "      <td>0.0000000</td>\n",
       "      <td>5</td>\n",
       "      <td>Christmas gift for my mother in law haven't pu...</td>\n",
       "      <td>1</td>\n",
       "    </tr>\n",
       "    <tr>\n",
       "      <th>39365</th>\n",
       "      <td>Nokia</td>\n",
       "      <td>I'm not sure if it's because of the carrier or...</td>\n",
       "      <td>54.9900000</td>\n",
       "      <td>3</td>\n",
       "      <td>Didn't work well on our T-Mobile plan</td>\n",
       "      <td>0</td>\n",
       "    </tr>\n",
       "  </tbody>\n",
       "</table>\n",
       "</div>"
      ],
      "text/plain": [
       "          brand                                               body  \\\n",
       "27622   Samsung  The phone works great, you would think its bra...   \n",
       "66322  Motorola                                  Updated purchase.   \n",
       "66459  Motorola                                            Nothing   \n",
       "265    Motorola  I haven't had the phone turned on yet but it a...   \n",
       "39365     Nokia  I'm not sure if it's because of the carrier or...   \n",
       "\n",
       "            price  user_rating  \\\n",
       "27622 169.9500000            4   \n",
       "66322 119.9900000            5   \n",
       "66459 119.9900000            5   \n",
       "265     0.0000000            5   \n",
       "39365  54.9900000            3   \n",
       "\n",
       "                                            review_title  sentiment  \n",
       "27622                             Great Phone Looks New!          1  \n",
       "66322  Fantastic phone. Stable, easy set up, great pr...          1  \n",
       "66459                                            Nothing          1  \n",
       "265    Christmas gift for my mother in law haven't pu...          1  \n",
       "39365              Didn't work well on our T-Mobile plan          0  "
      ]
     },
     "execution_count": 101,
     "metadata": {
      "tags": []
     },
     "output_type": "execute_result"
    }
   ],
   "source": [
    "df_review.sample(5)"
   ]
  },
  {
   "cell_type": "markdown",
   "metadata": {
    "id": "K4rxSZWp1VAb"
   },
   "source": [
    "### 4.15 Check frequency distribution of the 'sentiment'"
   ]
  },
  {
   "cell_type": "code",
   "execution_count": null,
   "metadata": {
    "colab": {
     "base_uri": "https://localhost:8080/",
     "height": 282
    },
    "id": "yt3gH7Iz1dVP",
    "outputId": "e0626e9e-64ce-4281-efdc-3c2122b04ff0"
   },
   "outputs": [
    {
     "data": {
      "text/plain": [
       "<matplotlib.axes._subplots.AxesSubplot at 0x7f4cd20803d0>"
      ]
     },
     "execution_count": 102,
     "metadata": {
      "tags": []
     },
     "output_type": "execute_result"
    },
    {
     "data": {
      "image/png": "[encoded data removed]",
      "text/plain": [
       "<Figure size 432x288 with 1 Axes>"
      ]
     },
     "metadata": {
      "needs_background": "light",
      "tags": []
     },
     "output_type": "display_data"
    }
   ],
   "source": [
    "df_review['sentiment'].value_counts().plot(kind='bar')"
   ]
  },
  {
   "cell_type": "markdown",
   "metadata": {
    "id": "xfr12CLn6Lp0"
   },
   "source": [
    "- There are more positive reviews"
   ]
  },
  {
   "cell_type": "markdown",
   "metadata": {
    "id": "rK0KMghP1ddb"
   },
   "source": [
    "### 4.16 Perform bivariate analysis. Check correlation/crosstab between features and write your inferences."
   ]
  },
  {
   "cell_type": "code",
   "execution_count": null,
   "metadata": {
    "colab": {
     "base_uri": "https://localhost:8080/",
     "height": 333
    },
    "id": "scAV4fRg1nX0",
    "outputId": "8a6e233a-941a-4b52-92f3-2c9d0ea35a0e"
   },
   "outputs": [
    {
     "data": {
      "text/plain": [
       "<matplotlib.axes._subplots.AxesSubplot at 0x7f4cd1f9f390>"
      ]
     },
     "execution_count": 103,
     "metadata": {
      "tags": []
     },
     "output_type": "execute_result"
    },
    {
     "data": {
      "image/png": "[encoded data removed]",
      "text/plain": [
       "<Figure size 432x288 with 1 Axes>"
      ]
     },
     "metadata": {
      "needs_background": "light",
      "tags": []
     },
     "output_type": "display_data"
    }
   ],
   "source": [
    "pd.crosstab(df_review['brand'] , df_review['sentiment']).plot(kind = 'bar')"
   ]
  },
  {
   "cell_type": "markdown",
   "metadata": {
    "id": "dVVZVEbl6TCp"
   },
   "source": [
    "- Samsung has more positive reviews when compared to other brands. "
   ]
  },
  {
   "cell_type": "markdown",
   "metadata": {
    "id": "2Nzj7ZXVLakx"
   },
   "source": [
    "## 5. Text Preprocessing and Vectorization"
   ]
  },
  {
   "cell_type": "markdown",
   "metadata": {
    "id": "ZbC_RPndnlf3"
   },
   "source": [
    "We will analyze the 'body' and 'review_title' to gain more understanding.\n",
    "\n",
    "We will ppeform the below tasks\n",
    "\n",
    "- Convert the text into lowercase\n",
    "- Remove punctuation\n",
    "- Remove stopwords (English, from nltk corpus)\n",
    "- Remove other keywords like \"phone\" and brand name"
   ]
  },
  {
   "cell_type": "markdown",
   "metadata": {
    "id": "XnhMQsxz2DJH"
   },
   "source": [
    "### 5.1 Change the datatype of the 'body' column to 'str' and convert it into lowercase. Print any two samples and check the output."
   ]
  },
  {
   "cell_type": "code",
   "execution_count": null,
   "metadata": {
    "id": "1DbTf2yc2VOQ"
   },
   "outputs": [],
   "source": [
    "df_review['body'] = df_review['body'].astype('str')"
   ]
  },
  {
   "cell_type": "code",
   "execution_count": null,
   "metadata": {
    "colab": {
     "base_uri": "https://localhost:8080/"
    },
    "id": "khQp4hgXRMIs",
    "outputId": "7b774481-4a7d-407c-ccba-9ca3cb74b3b3"
   },
   "outputs": [
    {
     "data": {
      "text/plain": [
       "14                             don't buy out of service\n",
       "17    1 star because the phones locked so i have to ...\n",
       "18    the product has been very good. i had used thi...\n",
       "21    i bought this phone to replace an lg phone tha...\n",
       "22    i purchased this phone for my at&t phone repla...\n",
       "Name: body, dtype: object"
      ]
     },
     "execution_count": 108,
     "metadata": {
      "tags": []
     },
     "output_type": "execute_result"
    }
   ],
   "source": [
    "df_review['body'] = df_review['body'].apply(lambda x: x.lower())\n",
    "df_review['body'].head()"
   ]
  },
  {
   "cell_type": "markdown",
   "metadata": {
    "id": "lsppV0X52VXf"
   },
   "source": [
    "### 5.2 Remove punctuations from the lowercased 'body' column and display at least two samples."
   ]
  },
  {
   "cell_type": "code",
   "execution_count": null,
   "metadata": {
    "colab": {
     "base_uri": "https://localhost:8080/"
    },
    "id": "lQXKc8et2onG",
    "outputId": "b354a7ac-66a4-4f4d-804c-37e9017ddd55"
   },
   "outputs": [
    {
     "data": {
      "text/plain": [
       "14                              dont buy out of service\n",
       "17    1 star because the phones locked so i have to ...\n",
       "18    the product has been very good i had used this...\n",
       "21    i bought this phone to replace an lg phone tha...\n",
       "22    i purchased this phone for my att phone replac...\n",
       "Name: body, dtype: object"
      ]
     },
     "execution_count": 111,
     "metadata": {
      "tags": []
     },
     "output_type": "execute_result"
    }
   ],
   "source": [
    "df_review['body'] = df_review['body'].str.replace('[^\\w\\s]','')\n",
    "df_review['body'].head()"
   ]
  },
  {
   "cell_type": "markdown",
   "metadata": {
    "id": "8Zk7ja6A2owN"
   },
   "source": [
    "### 5.3 Remove stop words from the above pre-processed 'body' column and display at least two samples."
   ]
  },
  {
   "cell_type": "code",
   "execution_count": null,
   "metadata": {
    "colab": {
     "base_uri": "https://localhost:8080/"
    },
    "id": "1d-DhX_e2yQ-",
    "outputId": "6f70bde1-3312-42b4-f8f9-63c23c6d6046"
   },
   "outputs": [
    {
     "name": "stdout",
     "output_type": "stream",
     "text": [
      "[nltk_data] Downloading package stopwords to /root/nltk_data...\n",
      "[nltk_data]   Unzipping corpora/stopwords.zip.\n",
      "{'does', 'wasn', 'its', \"wasn't\", 'any', 'but', 'some', 'm', 'ain', 'for', 'ourselves', 'with', 'yourself', 'theirs', 'having', 'once', 'themselves', 'your', \"mustn't\", 'when', 'those', \"won't\", 'my', 'again', 'yourselves', 'me', 'into', 'after', \"aren't\", 'isn', 'shouldn', 'not', 'until', \"that'll\", 'each', 've', 'were', 'needn', 'i', \"you're\", 'out', 'below', 'o', 'an', 'on', 'herself', 'is', 'all', 'which', 'myself', 'under', 'can', 'this', 'itself', 'ma', 'how', 'at', 'off', 'then', 'hadn', \"hasn't\", 'because', 'hasn', 'weren', 'have', 'be', 'or', 'now', 'our', \"haven't\", \"couldn't\", 'above', 'are', 'between', 'such', 'will', \"you'll\", 'aren', 'by', \"shan't\", 'mightn', 'that', 'what', 't', 'won', 'nor', 'himself', 'other', 're', 'too', 'doing', 'here', 'haven', 'couldn', 'ours', 'hers', \"hadn't\", 'do', \"she's\", 'same', 'his', 'don', \"should've\", 'up', 'has', \"you'd\", 'very', 'you', 'over', 'doesn', 'from', 'no', 'before', 'own', 'had', 'did', \"doesn't\", 'she', 'd', 'only', 'as', 'to', \"weren't\", 'more', 'there', \"didn't\", 'a', \"mightn't\", 'so', 'll', 'was', 'and', 'against', 'just', 'am', 'we', 'these', 'mustn', 'of', \"it's\", 'he', 'it', 'both', 'while', 's', 'if', 'been', 'yours', 'further', \"don't\", \"needn't\", 'should', \"you've\", 'being', \"isn't\", 'didn', 'about', 'their', 'him', \"shouldn't\", \"wouldn't\", 'than', 'the', 'who', 'shan', 'they', 'them', 'few', 'in', 'her', 'through', 'most', 'whom', 'down', 'during', 'wouldn', 'y', 'why', 'where'}\n"
     ]
    }
   ],
   "source": [
    "import nltk\n",
    "\n",
    "nltk.download('stopwords')\n",
    "stop_words = set(nltk.corpus.stopwords.words('english'))\n",
    "print(stop_words)\n"
   ]
  },
  {
   "cell_type": "code",
   "execution_count": null,
   "metadata": {
    "colab": {
     "base_uri": "https://localhost:8080/",
     "height": 270
    },
    "id": "5aveL1cBVsCw",
    "outputId": "87a9103d-a48c-4fac-ca2d-e77d7e919d68"
   },
   "outputs": [
    {
     "data": {
      "text/html": [
       "<div>\n",
       "<style scoped>\n",
       "    .dataframe tbody tr th:only-of-type {\n",
       "        vertical-align: middle;\n",
       "    }\n",
       "\n",
       "    .dataframe tbody tr th {\n",
       "        vertical-align: top;\n",
       "    }\n",
       "\n",
       "    .dataframe thead th {\n",
       "        text-align: right;\n",
       "    }\n",
       "</style>\n",
       "<table border=\"1\" class=\"dataframe\">\n",
       "  <thead>\n",
       "    <tr style=\"text-align: right;\">\n",
       "      <th></th>\n",
       "      <th>brand</th>\n",
       "      <th>body</th>\n",
       "      <th>price</th>\n",
       "      <th>user_rating</th>\n",
       "      <th>review_title</th>\n",
       "      <th>sentiment</th>\n",
       "      <th>keyword</th>\n",
       "    </tr>\n",
       "  </thead>\n",
       "  <tbody>\n",
       "    <tr>\n",
       "      <th>14</th>\n",
       "      <td>Motorola</td>\n",
       "      <td>dont buy out of service</td>\n",
       "      <td>49.9500000</td>\n",
       "      <td>1</td>\n",
       "      <td>Stupid phone</td>\n",
       "      <td>-1</td>\n",
       "      <td>dont buy service</td>\n",
       "    </tr>\n",
       "    <tr>\n",
       "      <th>17</th>\n",
       "      <td>Motorola</td>\n",
       "      <td>1 star because the phones locked so i have to ...</td>\n",
       "      <td>49.9500000</td>\n",
       "      <td>1</td>\n",
       "      <td>Phones locked</td>\n",
       "      <td>-1</td>\n",
       "      <td>1 star phones locked pay additional fees unlock</td>\n",
       "    </tr>\n",
       "    <tr>\n",
       "      <th>18</th>\n",
       "      <td>Motorola</td>\n",
       "      <td>the product has been very good i had used this...</td>\n",
       "      <td>49.9500000</td>\n",
       "      <td>5</td>\n",
       "      <td>Excellent product</td>\n",
       "      <td>1</td>\n",
       "      <td>product good used cell phone one projects work...</td>\n",
       "    </tr>\n",
       "    <tr>\n",
       "      <th>21</th>\n",
       "      <td>Motorola</td>\n",
       "      <td>i bought this phone to replace an lg phone tha...</td>\n",
       "      <td>99.9900000</td>\n",
       "      <td>4</td>\n",
       "      <td>Nice, but</td>\n",
       "      <td>1</td>\n",
       "      <td>bought phone replace lg phone didnt like expec...</td>\n",
       "    </tr>\n",
       "    <tr>\n",
       "      <th>22</th>\n",
       "      <td>Motorola</td>\n",
       "      <td>i purchased this phone for my att phone replac...</td>\n",
       "      <td>99.9900000</td>\n",
       "      <td>1</td>\n",
       "      <td>It seems it doesn't work with the existing AT&amp;...</td>\n",
       "      <td>-1</td>\n",
       "      <td>purchased phone att phone replacement even tho...</td>\n",
       "    </tr>\n",
       "  </tbody>\n",
       "</table>\n",
       "</div>"
      ],
      "text/plain": [
       "       brand                                               body      price  \\\n",
       "14  Motorola                            dont buy out of service 49.9500000   \n",
       "17  Motorola  1 star because the phones locked so i have to ... 49.9500000   \n",
       "18  Motorola  the product has been very good i had used this... 49.9500000   \n",
       "21  Motorola  i bought this phone to replace an lg phone tha... 99.9900000   \n",
       "22  Motorola  i purchased this phone for my att phone replac... 99.9900000   \n",
       "\n",
       "    user_rating                                       review_title  sentiment  \\\n",
       "14            1                                       Stupid phone         -1   \n",
       "17            1                                      Phones locked         -1   \n",
       "18            5                                  Excellent product          1   \n",
       "21            4                                          Nice, but          1   \n",
       "22            1  It seems it doesn't work with the existing AT&...         -1   \n",
       "\n",
       "                                              keyword  \n",
       "14                                   dont buy service  \n",
       "17    1 star phones locked pay additional fees unlock  \n",
       "18  product good used cell phone one projects work...  \n",
       "21  bought phone replace lg phone didnt like expec...  \n",
       "22  purchased phone att phone replacement even tho...  "
      ]
     },
     "execution_count": 113,
     "metadata": {
      "tags": []
     },
     "output_type": "execute_result"
    }
   ],
   "source": [
    "df_review['keyword'] = df_review['body'].apply(lambda x : \" \".join(word for word in x.split() if word not in stop_words))\n",
    "df_review.head()"
   ]
  },
  {
   "cell_type": "markdown",
   "metadata": {
    "id": "TQNvXay42yaQ"
   },
   "source": [
    "### 5.4 Apply lemmatisation on the above preprocessed text and display a few samples"
   ]
  },
  {
   "cell_type": "code",
   "execution_count": null,
   "metadata": {
    "colab": {
     "base_uri": "https://localhost:8080/"
    },
    "id": "oQ1VfFaa3DET",
    "outputId": "4a1c7917-38d0-4a05-a562-0afc9ca9dfc5"
   },
   "outputs": [
    {
     "name": "stdout",
     "output_type": "stream",
     "text": [
      "[nltk_data] Downloading package wordnet to /root/nltk_data...\n",
      "[nltk_data]   Package wordnet is already up-to-date!\n"
     ]
    }
   ],
   "source": [
    "nltk.download('wordnet')\n",
    "w_tokenizer = nltk.tokenize.WhitespaceTokenizer()\n",
    "lemmatizer = nltk.stem.WordNetLemmatizer()\n",
    "\n",
    "def lemmatize_text(text):\n",
    "  return \" \".join( lemmatizer.lemmatize(w) for w in text.split())\n",
    "\n"
   ]
  },
  {
   "cell_type": "code",
   "execution_count": null,
   "metadata": {
    "id": "dKCAJSDPZm7y"
   },
   "outputs": [],
   "source": [
    "df_review['lemm'] = df_review['keyword'].apply(lambda x: lemmatize_text(x))"
   ]
  },
  {
   "cell_type": "code",
   "execution_count": null,
   "metadata": {
    "colab": {
     "base_uri": "https://localhost:8080/",
     "height": 287
    },
    "id": "4Sgy4gWlZwdN",
    "outputId": "2758b722-5694-42ef-80c7-db0cf1920e31"
   },
   "outputs": [
    {
     "data": {
      "text/html": [
       "<div>\n",
       "<style scoped>\n",
       "    .dataframe tbody tr th:only-of-type {\n",
       "        vertical-align: middle;\n",
       "    }\n",
       "\n",
       "    .dataframe tbody tr th {\n",
       "        vertical-align: top;\n",
       "    }\n",
       "\n",
       "    .dataframe thead th {\n",
       "        text-align: right;\n",
       "    }\n",
       "</style>\n",
       "<table border=\"1\" class=\"dataframe\">\n",
       "  <thead>\n",
       "    <tr style=\"text-align: right;\">\n",
       "      <th></th>\n",
       "      <th>brand</th>\n",
       "      <th>body</th>\n",
       "      <th>price</th>\n",
       "      <th>user_rating</th>\n",
       "      <th>review_title</th>\n",
       "      <th>sentiment</th>\n",
       "      <th>keyword</th>\n",
       "      <th>lemm</th>\n",
       "    </tr>\n",
       "  </thead>\n",
       "  <tbody>\n",
       "    <tr>\n",
       "      <th>14</th>\n",
       "      <td>Motorola</td>\n",
       "      <td>dont buy out of service</td>\n",
       "      <td>49.9500000</td>\n",
       "      <td>1</td>\n",
       "      <td>Stupid phone</td>\n",
       "      <td>-1</td>\n",
       "      <td>dont buy service</td>\n",
       "      <td>dont buy service</td>\n",
       "    </tr>\n",
       "    <tr>\n",
       "      <th>17</th>\n",
       "      <td>Motorola</td>\n",
       "      <td>1 star because the phones locked so i have to ...</td>\n",
       "      <td>49.9500000</td>\n",
       "      <td>1</td>\n",
       "      <td>Phones locked</td>\n",
       "      <td>-1</td>\n",
       "      <td>1 star phones locked pay additional fees unlock</td>\n",
       "      <td>1 star phone locked pay additional fee unlock</td>\n",
       "    </tr>\n",
       "    <tr>\n",
       "      <th>18</th>\n",
       "      <td>Motorola</td>\n",
       "      <td>the product has been very good i had used this...</td>\n",
       "      <td>49.9500000</td>\n",
       "      <td>5</td>\n",
       "      <td>Excellent product</td>\n",
       "      <td>1</td>\n",
       "      <td>product good used cell phone one projects work...</td>\n",
       "      <td>product good used cell phone one project worke...</td>\n",
       "    </tr>\n",
       "    <tr>\n",
       "      <th>21</th>\n",
       "      <td>Motorola</td>\n",
       "      <td>i bought this phone to replace an lg phone tha...</td>\n",
       "      <td>99.9900000</td>\n",
       "      <td>4</td>\n",
       "      <td>Nice, but</td>\n",
       "      <td>1</td>\n",
       "      <td>bought phone replace lg phone didnt like expec...</td>\n",
       "      <td>bought phone replace lg phone didnt like expec...</td>\n",
       "    </tr>\n",
       "    <tr>\n",
       "      <th>22</th>\n",
       "      <td>Motorola</td>\n",
       "      <td>i purchased this phone for my att phone replac...</td>\n",
       "      <td>99.9900000</td>\n",
       "      <td>1</td>\n",
       "      <td>It seems it doesn't work with the existing AT&amp;...</td>\n",
       "      <td>-1</td>\n",
       "      <td>purchased phone att phone replacement even tho...</td>\n",
       "      <td>purchased phone att phone replacement even tho...</td>\n",
       "    </tr>\n",
       "  </tbody>\n",
       "</table>\n",
       "</div>"
      ],
      "text/plain": [
       "       brand                                               body      price  \\\n",
       "14  Motorola                            dont buy out of service 49.9500000   \n",
       "17  Motorola  1 star because the phones locked so i have to ... 49.9500000   \n",
       "18  Motorola  the product has been very good i had used this... 49.9500000   \n",
       "21  Motorola  i bought this phone to replace an lg phone tha... 99.9900000   \n",
       "22  Motorola  i purchased this phone for my att phone replac... 99.9900000   \n",
       "\n",
       "    user_rating                                       review_title  sentiment  \\\n",
       "14            1                                       Stupid phone         -1   \n",
       "17            1                                      Phones locked         -1   \n",
       "18            5                                  Excellent product          1   \n",
       "21            4                                          Nice, but          1   \n",
       "22            1  It seems it doesn't work with the existing AT&...         -1   \n",
       "\n",
       "                                              keyword  \\\n",
       "14                                   dont buy service   \n",
       "17    1 star phones locked pay additional fees unlock   \n",
       "18  product good used cell phone one projects work...   \n",
       "21  bought phone replace lg phone didnt like expec...   \n",
       "22  purchased phone att phone replacement even tho...   \n",
       "\n",
       "                                                 lemm  \n",
       "14                                   dont buy service  \n",
       "17      1 star phone locked pay additional fee unlock  \n",
       "18  product good used cell phone one project worke...  \n",
       "21  bought phone replace lg phone didnt like expec...  \n",
       "22  purchased phone att phone replacement even tho...  "
      ]
     },
     "execution_count": 124,
     "metadata": {
      "tags": []
     },
     "output_type": "execute_result"
    }
   ],
   "source": [
    "df_review.head()"
   ]
  },
  {
   "cell_type": "markdown",
   "metadata": {
    "id": "OzweL_fA3DiN"
   },
   "source": [
    "### 5.5 Write a function to check word frequency of the text"
   ]
  },
  {
   "cell_type": "code",
   "execution_count": null,
   "metadata": {
    "id": "MzIAyX3N6lz5"
   },
   "outputs": [],
   "source": [
    "def word_freq_count(text):\n",
    "  words = text.split()\n",
    "  freqdict = {word: words.count(word) for word in words}\n",
    "  return freqdict"
   ]
  },
  {
   "cell_type": "markdown",
   "metadata": {
    "id": "s0UgcEo_6l8O"
   },
   "source": [
    "### 5.6 Check word frequency of review having top ratings (sentiment = 1) and display output of few samples"
   ]
  },
  {
   "cell_type": "code",
   "execution_count": null,
   "metadata": {
    "id": "BLEEFEmv60mU"
   },
   "outputs": [],
   "source": [
    "word_freq = df_review[df_review['sentiment'] == 1]['lemm'].apply(lambda x: word_freq_count(x))"
   ]
  },
  {
   "cell_type": "code",
   "execution_count": null,
   "metadata": {
    "colab": {
     "base_uri": "https://localhost:8080/"
    },
    "id": "pAmm_sWufkWe",
    "outputId": "695540b4-3424-4a6b-9fde-09d9ba71ce92"
   },
   "outputs": [
    {
     "data": {
      "text/plain": [
       "26282    {'work': 1, 'well': 1, 'alot': 1, 'fancy': 1, ...\n",
       "46959    {'nice': 1, 'phone': 1, 'couple': 1, 'bug': 1,...\n",
       "43358                 {'good': 2, 'pone': 1, 'service': 1}\n",
       "46454    {'phone': 1, 'unlocked': 1, 'accepted': 1, 'ne...\n",
       "11117    {'2': 1, 'yet': 1, 'see': 1, '500600': 1, 'iph...\n",
       "Name: lemm, dtype: object"
      ]
     },
     "execution_count": 127,
     "metadata": {
      "tags": []
     },
     "output_type": "execute_result"
    }
   ],
   "source": [
    "word_freq.sample(5)"
   ]
  },
  {
   "cell_type": "markdown",
   "metadata": {
    "id": "9UbdTGsv60t1"
   },
   "source": [
    "### 5.7 Initialize tf-idf vectorizer and transform the preprocessed body text"
   ]
  },
  {
   "cell_type": "code",
   "execution_count": null,
   "metadata": {
    "id": "_Jfo6go_69yh"
   },
   "outputs": [],
   "source": [
    "from sklearn.feature_extraction.text import TfidfVectorizer\n",
    "tfidvectorizer = TfidfVectorizer()\n",
    "review_vectorizer = tfidvectorizer.fit_transform(df_review['lemm'])"
   ]
  },
  {
   "cell_type": "markdown",
   "metadata": {
    "id": "5dqPXETLKN0h"
   },
   "source": [
    "### 5.8 Segregate the data into dependent (sentiment) and independent (transformed body using tf-idf) features for building a classifier. "
   ]
  },
  {
   "cell_type": "code",
   "execution_count": null,
   "metadata": {
    "id": "mpOLAYn07W6F"
   },
   "outputs": [],
   "source": [
    "X = review_vectorizer\n",
    "y = df_review['sentiment']"
   ]
  },
  {
   "cell_type": "markdown",
   "metadata": {
    "id": "4K03FO0q7XBP"
   },
   "source": [
    "### 5.9 Split the data into Train & Test Sets"
   ]
  },
  {
   "cell_type": "code",
   "execution_count": null,
   "metadata": {
    "id": "D548-7cE7dZa"
   },
   "outputs": [],
   "source": [
    "from sklearn.model_selection import train_test_split\n",
    "X_train, X_test, y_train, y_test = train_test_split(X, y, test_size=0.3, random_state=1)"
   ]
  },
  {
   "cell_type": "code",
   "execution_count": null,
   "metadata": {
    "colab": {
     "base_uri": "https://localhost:8080/"
    },
    "id": "qKgKK--Riirz",
    "outputId": "c0c8c0ec-a602-4e07-f42e-3925dd084275"
   },
   "outputs": [
    {
     "name": "stdout",
     "output_type": "stream",
     "text": [
      "(42857, 36034) (42857,)\n"
     ]
    }
   ],
   "source": [
    "print(X_train.shape, y_train.shape)"
   ]
  },
  {
   "cell_type": "code",
   "execution_count": null,
   "metadata": {
    "colab": {
     "base_uri": "https://localhost:8080/"
    },
    "id": "CWaG6dMYirj9",
    "outputId": "68922986-29e6-4e8f-a67b-ada1d50d99dc"
   },
   "outputs": [
    {
     "name": "stdout",
     "output_type": "stream",
     "text": [
      "(18368, 36034) (18368,)\n"
     ]
    }
   ],
   "source": [
    "print(X_test.shape, y_test.shape)"
   ]
  },
  {
   "cell_type": "markdown",
   "metadata": {
    "id": "rhD1a-beKvE7"
   },
   "source": [
    "## 6. Model building"
   ]
  },
  {
   "cell_type": "markdown",
   "metadata": {
    "id": "UPFovmN03exD"
   },
   "source": [
    "### 6.1 Build a random forest classifier to predict the 'sentiment'\n",
    "### 6.2 Predict on test set\n",
    "### 6.3 Check accuracy and confusion matrix"
   ]
  },
  {
   "cell_type": "code",
   "execution_count": null,
   "metadata": {
    "colab": {
     "base_uri": "https://localhost:8080/"
    },
    "id": "y0ytdD-_30P9",
    "outputId": "2607ae8a-e658-487e-8f1f-d96eebc092fa"
   },
   "outputs": [
    {
     "name": "stdout",
     "output_type": "stream",
     "text": [
      "Training Accuracy 0.9955666518888396\n",
      "Testing Accuracy 0.8574150696864111\n"
     ]
    }
   ],
   "source": [
    "from sklearn.ensemble import RandomForestClassifier\n",
    "rfc = RandomForestClassifier()\n",
    "rfc.fit(X_train, y_train)\n",
    "\n",
    "print(\"Training Accuracy\" , rfc.score(X_train, y_train))\n",
    "print(\"Testing Accuracy\" , rfc.score(X_test, y_test))\n"
   ]
  },
  {
   "cell_type": "code",
   "execution_count": null,
   "metadata": {
    "colab": {
     "base_uri": "https://localhost:8080/"
    },
    "id": "NJ6Ke4hl30Zk",
    "outputId": "5a831dd1-a6a6-47c2-fc8a-ad18969b61f7"
   },
   "outputs": [
    {
     "data": {
      "text/plain": [
       "array([[ 3017,   346,   405],\n",
       "       [    9,    83,     6],\n",
       "       [ 1073,   780, 12649]])"
      ]
     },
     "execution_count": 139,
     "metadata": {
      "tags": []
     },
     "output_type": "execute_result"
    }
   ],
   "source": [
    "from sklearn.metrics import confusion_matrix, classification_report\n",
    "y_pred = rfc.predict(X_test)\n",
    "\n",
    "confusion_matrix(y_pred, y_test)"
   ]
  },
  {
   "cell_type": "code",
   "execution_count": null,
   "metadata": {
    "colab": {
     "base_uri": "https://localhost:8080/"
    },
    "id": "dZv8r_hRmKEK",
    "outputId": "2e53c32f-f093-4f8d-8aad-a3afb4134f4b"
   },
   "outputs": [
    {
     "data": {
      "text/plain": [
       " 1   0.7110192\n",
       "-1   0.2231598\n",
       " 0   0.0658210\n",
       "Name: sentiment, dtype: float64"
      ]
     },
     "execution_count": 141,
     "metadata": {
      "tags": []
     },
     "output_type": "execute_result"
    }
   ],
   "source": [
    "y_test.value_counts()/len(y_test)"
   ]
  },
  {
   "cell_type": "code",
   "execution_count": null,
   "metadata": {
    "colab": {
     "base_uri": "https://localhost:8080/"
    },
    "id": "Bo3oOMVAlFMn",
    "outputId": "9a94bd5f-0e4d-48d9-d6a9-295cf8c637c9"
   },
   "outputs": [
    {
     "name": "stdout",
     "output_type": "stream",
     "text": [
      "              precision    recall  f1-score   support\n",
      "\n",
      "          -1       0.74      0.80      0.77      3768\n",
      "           0       0.07      0.85      0.13        98\n",
      "           1       0.97      0.87      0.92     14502\n",
      "\n",
      "    accuracy                           0.86     18368\n",
      "   macro avg       0.59      0.84      0.60     18368\n",
      "weighted avg       0.92      0.86      0.88     18368\n",
      "\n"
     ]
    }
   ],
   "source": [
    "print(classification_report(y_pred, y_test))"
   ]
  },
  {
   "cell_type": "markdown",
   "metadata": {
    "id": "Ey7an7ukLxWB"
   },
   "source": [
    "## 7. Write your conclusion"
   ]
  },
  {
   "cell_type": "markdown",
   "metadata": {
    "id": "Q8SPIlF7o3sc"
   },
   "source": [
    "- For class -1, 3017 reviews predicted correctly. 346 reviews predicted as 0 and 405 reviews predicted as 1 incorrectly. \n",
    "- For class 0, 83 reviews predicted correctly. 9 reviews predicted as -1 and 6 reviews predicted as 1 incorrectly. \n",
    "- For class 1, 12649 reviews predicted correctly. 1073 reviews predicted as -1 and 780 reviews predicted as 0 incorrectly. \n",
    "-  Recall is score is good for all the classes. \n",
    "- Precision score for class 0 is very less. It looks like imbalanced dataset as there are 6% of data available for class 0. \n",
    "- Accuracy is good. However it is overfit model since training accuracy (0.99) is higher than test accuracy(0.85)"
   ]
  },
  {
   "cell_type": "code",
   "execution_count": null,
   "metadata": {
    "id": "0csFkbEJmSIe"
   },
   "outputs": [],
   "source": []
  }
 ],
 "metadata": {
  "accelerator": "GPU",
  "colab": {
   "collapsed_sections": [
    "x_Lom6cXzqn7",
    "fze-aokU0ukH"
   ],
   "name": "R8 Statistical NLP Question.ipynb",
   "provenance": []
  },
  "kernelspec": {
   "display_name": "Python 3",
   "language": "python",
   "name": "python3"
  },
  "language_info": {
   "codemirror_mode": {
    "name": "ipython",
    "version": 3
   },
   "file_extension": ".py",
   "mimetype": "text/x-python",
   "name": "python",
   "nbconvert_exporter": "python",
   "pygments_lexer": "ipython3",
   "version": "3.8.3"
  }
 },
 "nbformat": 4,
 "nbformat_minor": 1
}
