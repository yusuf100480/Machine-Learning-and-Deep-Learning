{
 "cells": [
  {
   "cell_type": "markdown",
   "metadata": {
    "id": "zUZjPnVXGz0Z"
   },
   "source": [
    "# The Iris Dataset\n",
    "The data set consists of 50 samples from each of three species of Iris (Iris setosa, Iris virginica and Iris versicolor). Four features were measured from each sample: the length and the width of the sepals and petals, in centimeters.\n",
    "\n",
    "The dataset contains a set of 150 records under five attributes - petal length, petal width, sepal length, sepal width and species."
   ]
  },
  {
   "cell_type": "markdown",
   "metadata": {
    "id": "RMbmpriavLE9"
   },
   "source": [
    "### Specifying the TensorFlow version\n",
    "Running `import tensorflow` will import the default version (currently 1.x). You can use 2.x by running a cell with the `tensorflow_version` magic **before** you run `import tensorflow`."
   ]
  },
  {
   "cell_type": "code",
   "execution_count": 13,
   "metadata": {
    "id": "fu8bUU__oa7h"
   },
   "outputs": [],
   "source": [
    "%tensorflow_version 2.x"
   ]
  },
  {
   "cell_type": "code",
   "execution_count": 12,
   "metadata": {
    "colab": {
     "base_uri": "https://localhost:8080/"
    },
    "id": "QCTVV14y18gS",
    "outputId": "ba8df9be-80e2-43bb-e8d3-38b3382038f4"
   },
   "outputs": [
    {
     "name": "stdout",
     "output_type": "stream",
     "text": [
      "Mounted at /drive\n"
     ]
    }
   ],
   "source": [
    "from google.colab import drive\n",
    "drive.mount('/drive')"
   ]
  },
  {
   "cell_type": "markdown",
   "metadata": {
    "id": "bLz1Ckvfvn6D"
   },
   "source": [
    "### Import TensorFlow\n",
    "Once you have specified a version via this magic, you can run `import tensorflow` as normal and verify which version was imported as follows:"
   ]
  },
  {
   "cell_type": "code",
   "execution_count": 14,
   "metadata": {
    "colab": {
     "base_uri": "https://localhost:8080/"
    },
    "id": "CWrzVTLOvn6M",
    "outputId": "3b5c1b3f-16fa-47e8-c476-f85737be6119"
   },
   "outputs": [
    {
     "name": "stdout",
     "output_type": "stream",
     "text": [
      "2.4.1\n"
     ]
    }
   ],
   "source": [
    "import tensorflow as tf\n",
    "print(tf.__version__)"
   ]
  },
  {
   "cell_type": "markdown",
   "metadata": {
    "id": "_uYeJgkNuXNC"
   },
   "source": [
    "### Set random seed"
   ]
  },
  {
   "cell_type": "code",
   "execution_count": 15,
   "metadata": {
    "id": "lcASNsewsfQX"
   },
   "outputs": [],
   "source": [
    "tf.random.set_seed(42)"
   ]
  },
  {
   "cell_type": "markdown",
   "metadata": {
    "id": "5-vVQBBqg7DI"
   },
   "source": [
    "## Question 1"
   ]
  },
  {
   "cell_type": "markdown",
   "metadata": {
    "id": "kE0EDKvQhEIe"
   },
   "source": [
    "### Import dataset\n",
    "- Import iris dataset\n",
    "- Import the dataset using sklearn library"
   ]
  },
  {
   "cell_type": "code",
   "execution_count": 4,
   "metadata": {
    "id": "IOOWpD26Haq3"
   },
   "outputs": [],
   "source": [
    "from sklearn import datasets"
   ]
  },
  {
   "cell_type": "code",
   "execution_count": 17,
   "metadata": {
    "id": "NxEs4Tb0v0Ur"
   },
   "outputs": [],
   "source": [
    "iris = datasets.load_iris()\n"
   ]
  },
  {
   "cell_type": "markdown",
   "metadata": {
    "id": "ta8YqInTh5v5"
   },
   "source": [
    "## Question 2"
   ]
  },
  {
   "cell_type": "markdown",
   "metadata": {
    "id": "HERt3drbhX0i"
   },
   "source": [
    "### Get features and label from the dataset in separate variable\n",
    "- you can get the features using .data method\n",
    "- you can get the features using .target method"
   ]
  },
  {
   "cell_type": "code",
   "execution_count": 18,
   "metadata": {
    "id": "615Ap2hhpHlb"
   },
   "outputs": [],
   "source": [
    "X = iris.data\n",
    "y = iris.target"
   ]
  },
  {
   "cell_type": "code",
   "execution_count": 19,
   "metadata": {
    "colab": {
     "base_uri": "https://localhost:8080/"
    },
    "id": "mJZLItbbAAIu",
    "outputId": "d5a3b51b-aaba-491d-dcd7-13b456d80dd8"
   },
   "outputs": [
    {
     "name": "stdout",
     "output_type": "stream",
     "text": [
      "[5.1 3.5 1.4 0.2]\n"
     ]
    }
   ],
   "source": [
    "print(X[0,:])"
   ]
  },
  {
   "cell_type": "markdown",
   "metadata": {
    "id": "Qg1A2lkUjFak"
   },
   "source": [
    "## Question 3"
   ]
  },
  {
   "cell_type": "markdown",
   "metadata": {
    "id": "3YErwYLCH0N_"
   },
   "source": [
    "### Create train and test data\n",
    "- use train_test_split to get train and test set\n",
    "- set a random_state\n",
    "- test_size: 0.25"
   ]
  },
  {
   "cell_type": "code",
   "execution_count": 51,
   "metadata": {
    "id": "TYKNJL85h7pQ"
   },
   "outputs": [],
   "source": [
    "from sklearn.model_selection import train_test_split\n",
    "\n",
    "X_train, X_test, y_train, y_test = train_test_split(X, y, test_size = 0.25, random_state=42)"
   ]
  },
  {
   "cell_type": "markdown",
   "metadata": {
    "id": "g0KVP17Ozaix"
   },
   "source": [
    "## Question 4"
   ]
  },
  {
   "cell_type": "markdown",
   "metadata": {
    "id": "SIjqxbhWv1zv"
   },
   "source": [
    "### One-hot encode the labels\n",
    "- convert class vectors (integers) to binary class matrix\n",
    "- convert labels\n",
    "- number of classes: 3\n",
    "- we are doing this to use categorical_crossentropy as loss"
   ]
  },
  {
   "cell_type": "code",
   "execution_count": 52,
   "metadata": {
    "id": "R9vv-_gpyLY9"
   },
   "outputs": [],
   "source": [
    "from keras.utils import to_categorical\n",
    "\n",
    "y_train = to_categorical(y_train, num_classes=3)\n",
    "y_test  = to_categorical(y_test, num_classes=3)\n",
    "\n"
   ]
  },
  {
   "cell_type": "code",
   "execution_count": 53,
   "metadata": {
    "colab": {
     "base_uri": "https://localhost:8080/"
    },
    "id": "6a_vrYohJA0Q",
    "outputId": "7ad272c4-eda7-4051-cee6-a0487d3dbef3"
   },
   "outputs": [
    {
     "name": "stdout",
     "output_type": "stream",
     "text": [
      "[[0. 1. 0.]\n",
      " [1. 0. 0.]\n",
      " [0. 0. 1.]\n",
      " [0. 1. 0.]\n",
      " [0. 1. 0.]\n",
      " [1. 0. 0.]\n",
      " [0. 1. 0.]\n",
      " [0. 0. 1.]\n",
      " [0. 1. 0.]\n",
      " [0. 1. 0.]\n",
      " [0. 0. 1.]\n",
      " [1. 0. 0.]\n",
      " [1. 0. 0.]\n",
      " [1. 0. 0.]\n",
      " [1. 0. 0.]\n",
      " [0. 1. 0.]\n",
      " [0. 0. 1.]\n",
      " [0. 1. 0.]\n",
      " [0. 1. 0.]\n",
      " [0. 0. 1.]\n",
      " [1. 0. 0.]\n",
      " [0. 0. 1.]\n",
      " [1. 0. 0.]\n",
      " [0. 0. 1.]\n",
      " [0. 0. 1.]\n",
      " [0. 0. 1.]\n",
      " [0. 0. 1.]\n",
      " [0. 0. 1.]\n",
      " [1. 0. 0.]\n",
      " [1. 0. 0.]\n",
      " [1. 0. 0.]\n",
      " [1. 0. 0.]\n",
      " [0. 1. 0.]\n",
      " [1. 0. 0.]\n",
      " [1. 0. 0.]\n",
      " [0. 0. 1.]\n",
      " [0. 1. 0.]\n",
      " [1. 0. 0.]]\n"
     ]
    }
   ],
   "source": [
    "print(y_test)"
   ]
  },
  {
   "cell_type": "markdown",
   "metadata": {
    "id": "ovjLyYzWkO9s"
   },
   "source": [
    "## Question 5"
   ]
  },
  {
   "cell_type": "markdown",
   "metadata": {
    "id": "hbIFzoPNSyYo"
   },
   "source": [
    "### Initialize a sequential model\n",
    "- Define a sequential model"
   ]
  },
  {
   "cell_type": "code",
   "execution_count": 54,
   "metadata": {
    "id": "4FvSbf1UjHtl"
   },
   "outputs": [],
   "source": [
    "model = tf.keras.Sequential()"
   ]
  },
  {
   "cell_type": "markdown",
   "metadata": {
    "id": "dGMy999vlacX"
   },
   "source": [
    "## Question 6"
   ]
  },
  {
   "cell_type": "markdown",
   "metadata": {
    "id": "72ibK5Jxm8iL"
   },
   "source": [
    "### Add a layer\n",
    "- Use Dense Layer  with input shape of 4 (according to the feature set) and number of outputs set to 3\n",
    "- Apply Softmax on Dense Layer outputs"
   ]
  },
  {
   "cell_type": "code",
   "execution_count": 55,
   "metadata": {
    "id": "uZKrBNSRm_o9"
   },
   "outputs": [],
   "source": [
    "#Add Dense layer for prediction - Keras declares weights and bias automatically\n",
    "model.add(tf.keras.layers.Dense(3, input_shape=(4,), activation='softmax'))"
   ]
  },
  {
   "cell_type": "code",
   "execution_count": 56,
   "metadata": {
    "colab": {
     "base_uri": "https://localhost:8080/"
    },
    "id": "ErkATWZ-GLG8",
    "outputId": "ed08f3a0-25aa-4802-a564-6dab6fae5f76"
   },
   "outputs": [
    {
     "name": "stdout",
     "output_type": "stream",
     "text": [
      "Model: \"sequential_3\"\n",
      "_________________________________________________________________\n",
      "Layer (type)                 Output Shape              Param #   \n",
      "=================================================================\n",
      "dense_4 (Dense)              (None, 3)                 15        \n",
      "=================================================================\n",
      "Total params: 15\n",
      "Trainable params: 15\n",
      "Non-trainable params: 0\n",
      "_________________________________________________________________\n"
     ]
    }
   ],
   "source": [
    "model.summary()"
   ]
  },
  {
   "cell_type": "markdown",
   "metadata": {
    "id": "i4uiTH8plmNX"
   },
   "source": [
    "## Question 7"
   ]
  },
  {
   "cell_type": "markdown",
   "metadata": {
    "id": "yJL8n8vcSyYz"
   },
   "source": [
    "### Compile the model\n",
    "- Use SGD as Optimizer\n",
    "- Use categorical_crossentropy as loss function\n",
    "- Use accuracy as metrics"
   ]
  },
  {
   "cell_type": "code",
   "execution_count": 57,
   "metadata": {
    "id": "Tc_-fjIEk1ve"
   },
   "outputs": [],
   "source": [
    "#Comile the model\n",
    "model.compile(optimizer='sgd', loss='categorical_crossentropy', metrics=['accuracy'])"
   ]
  },
  {
   "cell_type": "markdown",
   "metadata": {
    "id": "sihIGbRll_jT"
   },
   "source": [
    "## Question 8"
   ]
  },
  {
   "cell_type": "markdown",
   "metadata": {
    "id": "54ZZCfNGlu0i"
   },
   "source": [
    "### Summarize the model\n",
    "- Check model layers\n",
    "- Understand number of trainable parameters"
   ]
  },
  {
   "cell_type": "code",
   "execution_count": 58,
   "metadata": {
    "colab": {
     "base_uri": "https://localhost:8080/"
    },
    "id": "elER3F_4ln8n",
    "outputId": "fc4e1808-1698-4918-fb4e-109f62275cd6"
   },
   "outputs": [
    {
     "name": "stdout",
     "output_type": "stream",
     "text": [
      "Model: \"sequential_3\"\n",
      "_________________________________________________________________\n",
      "Layer (type)                 Output Shape              Param #   \n",
      "=================================================================\n",
      "dense_4 (Dense)              (None, 3)                 15        \n",
      "=================================================================\n",
      "Total params: 15\n",
      "Trainable params: 15\n",
      "Non-trainable params: 0\n",
      "_________________________________________________________________\n"
     ]
    }
   ],
   "source": [
    "model.summary()"
   ]
  },
  {
   "cell_type": "markdown",
   "metadata": {
    "id": "cAo4MsnLJWyc"
   },
   "source": [
    "- There is 1 layer, 3 outputs.\n",
    "- Number of input is 4 \n",
    "- Parammeters (3 output neuron * 4 inputs) + 3 bias for each neuron = 15"
   ]
  },
  {
   "cell_type": "markdown",
   "metadata": {
    "id": "2PiP7j3Vmj4p"
   },
   "source": [
    "## Question 9"
   ]
  },
  {
   "cell_type": "markdown",
   "metadata": {
    "id": "rWdbfFCXmCHt"
   },
   "source": [
    "### Fit the model\n",
    "- Give train data as training features and labels\n",
    "- Epochs: 100\n",
    "- Give validation data as testing features and labels"
   ]
  },
  {
   "cell_type": "code",
   "execution_count": 60,
   "metadata": {
    "colab": {
     "base_uri": "https://localhost:8080/"
    },
    "id": "cO1c-5tjmBVZ",
    "outputId": "e00941bc-ab69-43f0-fb7c-cb5974115903"
   },
   "outputs": [
    {
     "name": "stdout",
     "output_type": "stream",
     "text": [
      "Epoch 1/100\n",
      "23/23 [==============================] - 0s 5ms/step - loss: 0.5557 - accuracy: 0.7321 - val_loss: 0.5166 - val_accuracy: 0.7368\n",
      "Epoch 2/100\n",
      "23/23 [==============================] - 0s 3ms/step - loss: 0.5584 - accuracy: 0.7589 - val_loss: 0.4820 - val_accuracy: 0.7895\n",
      "Epoch 3/100\n",
      "23/23 [==============================] - 0s 3ms/step - loss: 0.5443 - accuracy: 0.7321 - val_loss: 0.4712 - val_accuracy: 0.8158\n",
      "Epoch 4/100\n",
      "23/23 [==============================] - 0s 3ms/step - loss: 0.5255 - accuracy: 0.7500 - val_loss: 0.4648 - val_accuracy: 0.7368\n",
      "Epoch 5/100\n",
      "23/23 [==============================] - 0s 3ms/step - loss: 0.5150 - accuracy: 0.7589 - val_loss: 0.4585 - val_accuracy: 0.8158\n",
      "Epoch 6/100\n",
      "23/23 [==============================] - 0s 3ms/step - loss: 0.5176 - accuracy: 0.7857 - val_loss: 0.4574 - val_accuracy: 0.8158\n",
      "Epoch 7/100\n",
      "23/23 [==============================] - 0s 3ms/step - loss: 0.5063 - accuracy: 0.8214 - val_loss: 0.4594 - val_accuracy: 0.7368\n",
      "Epoch 8/100\n",
      "23/23 [==============================] - 0s 4ms/step - loss: 0.5022 - accuracy: 0.7768 - val_loss: 0.4417 - val_accuracy: 0.7368\n",
      "Epoch 9/100\n",
      "23/23 [==============================] - 0s 4ms/step - loss: 0.4965 - accuracy: 0.8125 - val_loss: 0.4335 - val_accuracy: 0.8158\n",
      "Epoch 10/100\n",
      "23/23 [==============================] - 0s 3ms/step - loss: 0.4879 - accuracy: 0.7857 - val_loss: 0.4343 - val_accuracy: 0.8421\n",
      "Epoch 11/100\n",
      "23/23 [==============================] - 0s 4ms/step - loss: 0.4761 - accuracy: 0.8482 - val_loss: 0.4837 - val_accuracy: 0.7368\n",
      "Epoch 12/100\n",
      "23/23 [==============================] - 0s 4ms/step - loss: 0.4763 - accuracy: 0.8482 - val_loss: 0.4762 - val_accuracy: 0.7368\n",
      "Epoch 13/100\n",
      "23/23 [==============================] - 0s 4ms/step - loss: 0.4541 - accuracy: 0.8393 - val_loss: 0.4119 - val_accuracy: 0.8421\n",
      "Epoch 14/100\n",
      "23/23 [==============================] - 0s 4ms/step - loss: 0.4633 - accuracy: 0.8304 - val_loss: 0.4057 - val_accuracy: 0.8684\n",
      "Epoch 15/100\n",
      "23/23 [==============================] - 0s 3ms/step - loss: 0.4589 - accuracy: 0.8482 - val_loss: 0.4407 - val_accuracy: 0.8158\n",
      "Epoch 16/100\n",
      "23/23 [==============================] - 0s 4ms/step - loss: 0.4534 - accuracy: 0.8393 - val_loss: 0.4361 - val_accuracy: 0.8158\n",
      "Epoch 17/100\n",
      "23/23 [==============================] - 0s 3ms/step - loss: 0.4428 - accuracy: 0.8482 - val_loss: 0.4049 - val_accuracy: 0.8684\n",
      "Epoch 18/100\n",
      "23/23 [==============================] - 0s 4ms/step - loss: 0.4356 - accuracy: 0.8661 - val_loss: 0.3887 - val_accuracy: 0.8684\n",
      "Epoch 19/100\n",
      "23/23 [==============================] - 0s 4ms/step - loss: 0.4347 - accuracy: 0.8750 - val_loss: 0.3915 - val_accuracy: 0.8684\n",
      "Epoch 20/100\n",
      "23/23 [==============================] - 0s 3ms/step - loss: 0.4173 - accuracy: 0.8839 - val_loss: 0.4096 - val_accuracy: 0.7368\n",
      "Epoch 21/100\n",
      "23/23 [==============================] - 0s 3ms/step - loss: 0.4330 - accuracy: 0.8661 - val_loss: 0.3835 - val_accuracy: 0.8158\n",
      "Epoch 22/100\n",
      "23/23 [==============================] - 0s 3ms/step - loss: 0.4243 - accuracy: 0.8661 - val_loss: 0.3828 - val_accuracy: 0.8947\n",
      "Epoch 23/100\n",
      "23/23 [==============================] - 0s 4ms/step - loss: 0.4165 - accuracy: 0.9018 - val_loss: 0.3851 - val_accuracy: 0.8684\n",
      "Epoch 24/100\n",
      "23/23 [==============================] - 0s 4ms/step - loss: 0.4127 - accuracy: 0.9196 - val_loss: 0.3712 - val_accuracy: 0.8421\n",
      "Epoch 25/100\n",
      "23/23 [==============================] - 0s 4ms/step - loss: 0.4247 - accuracy: 0.8571 - val_loss: 0.3717 - val_accuracy: 0.8158\n",
      "Epoch 26/100\n",
      "23/23 [==============================] - 0s 4ms/step - loss: 0.4084 - accuracy: 0.8929 - val_loss: 0.3590 - val_accuracy: 0.8684\n",
      "Epoch 27/100\n",
      "23/23 [==============================] - 0s 3ms/step - loss: 0.4071 - accuracy: 0.8929 - val_loss: 0.3548 - val_accuracy: 0.9211\n",
      "Epoch 28/100\n",
      "23/23 [==============================] - 0s 3ms/step - loss: 0.4006 - accuracy: 0.9018 - val_loss: 0.3781 - val_accuracy: 0.8684\n",
      "Epoch 29/100\n",
      "23/23 [==============================] - 0s 4ms/step - loss: 0.3954 - accuracy: 0.9286 - val_loss: 0.3481 - val_accuracy: 0.9211\n",
      "Epoch 30/100\n",
      "23/23 [==============================] - 0s 4ms/step - loss: 0.3888 - accuracy: 0.9196 - val_loss: 0.3518 - val_accuracy: 0.8421\n",
      "Epoch 31/100\n",
      "23/23 [==============================] - 0s 3ms/step - loss: 0.3854 - accuracy: 0.8929 - val_loss: 0.3482 - val_accuracy: 0.8421\n",
      "Epoch 32/100\n",
      "23/23 [==============================] - 0s 3ms/step - loss: 0.3750 - accuracy: 0.9286 - val_loss: 0.3959 - val_accuracy: 0.7368\n",
      "Epoch 33/100\n",
      "23/23 [==============================] - 0s 3ms/step - loss: 0.3938 - accuracy: 0.9196 - val_loss: 0.3383 - val_accuracy: 0.8684\n",
      "Epoch 34/100\n",
      "23/23 [==============================] - 0s 3ms/step - loss: 0.3730 - accuracy: 0.9018 - val_loss: 0.3827 - val_accuracy: 0.8421\n",
      "Epoch 35/100\n",
      "23/23 [==============================] - 0s 4ms/step - loss: 0.3768 - accuracy: 0.9196 - val_loss: 0.3329 - val_accuracy: 0.8947\n",
      "Epoch 36/100\n",
      "23/23 [==============================] - 0s 3ms/step - loss: 0.3740 - accuracy: 0.9196 - val_loss: 0.3389 - val_accuracy: 0.9211\n",
      "Epoch 37/100\n",
      "23/23 [==============================] - 0s 3ms/step - loss: 0.3716 - accuracy: 0.9286 - val_loss: 0.3455 - val_accuracy: 0.8684\n",
      "Epoch 38/100\n",
      "23/23 [==============================] - 0s 4ms/step - loss: 0.3691 - accuracy: 0.9464 - val_loss: 0.3282 - val_accuracy: 0.8684\n",
      "Epoch 39/100\n",
      "23/23 [==============================] - 0s 4ms/step - loss: 0.3616 - accuracy: 0.9375 - val_loss: 0.3201 - val_accuracy: 0.9211\n",
      "Epoch 40/100\n",
      "23/23 [==============================] - 0s 4ms/step - loss: 0.3504 - accuracy: 0.9286 - val_loss: 0.3328 - val_accuracy: 0.8421\n",
      "Epoch 41/100\n",
      "23/23 [==============================] - 0s 4ms/step - loss: 0.3626 - accuracy: 0.8929 - val_loss: 0.3219 - val_accuracy: 0.9211\n",
      "Epoch 42/100\n",
      "23/23 [==============================] - 0s 3ms/step - loss: 0.3614 - accuracy: 0.9464 - val_loss: 0.3129 - val_accuracy: 0.9211\n",
      "Epoch 43/100\n",
      "23/23 [==============================] - 0s 4ms/step - loss: 0.3587 - accuracy: 0.9375 - val_loss: 0.3108 - val_accuracy: 0.9211\n",
      "Epoch 44/100\n",
      "23/23 [==============================] - 0s 3ms/step - loss: 0.3490 - accuracy: 0.9196 - val_loss: 0.3329 - val_accuracy: 0.8684\n",
      "Epoch 45/100\n",
      "23/23 [==============================] - 0s 3ms/step - loss: 0.3490 - accuracy: 0.9554 - val_loss: 0.3055 - val_accuracy: 0.9211\n",
      "Epoch 46/100\n",
      "23/23 [==============================] - 0s 3ms/step - loss: 0.3408 - accuracy: 0.9464 - val_loss: 0.3188 - val_accuracy: 0.8947\n",
      "Epoch 47/100\n",
      "23/23 [==============================] - 0s 4ms/step - loss: 0.3363 - accuracy: 0.9464 - val_loss: 0.3059 - val_accuracy: 0.9474\n",
      "Epoch 48/100\n",
      "23/23 [==============================] - 0s 4ms/step - loss: 0.3353 - accuracy: 0.9196 - val_loss: 0.3160 - val_accuracy: 0.8421\n",
      "Epoch 49/100\n",
      "23/23 [==============================] - 0s 3ms/step - loss: 0.3431 - accuracy: 0.9464 - val_loss: 0.2984 - val_accuracy: 0.9474\n",
      "Epoch 50/100\n",
      "23/23 [==============================] - 0s 3ms/step - loss: 0.3277 - accuracy: 0.9375 - val_loss: 0.3114 - val_accuracy: 0.8947\n",
      "Epoch 51/100\n",
      "23/23 [==============================] - 0s 3ms/step - loss: 0.3339 - accuracy: 0.9554 - val_loss: 0.2926 - val_accuracy: 0.9737\n",
      "Epoch 52/100\n",
      "23/23 [==============================] - 0s 3ms/step - loss: 0.3332 - accuracy: 0.9643 - val_loss: 0.2904 - val_accuracy: 0.9474\n",
      "Epoch 53/100\n",
      "23/23 [==============================] - 0s 4ms/step - loss: 0.3262 - accuracy: 0.9643 - val_loss: 0.2897 - val_accuracy: 0.9737\n",
      "Epoch 54/100\n",
      "23/23 [==============================] - 0s 3ms/step - loss: 0.3189 - accuracy: 0.9286 - val_loss: 0.3203 - val_accuracy: 0.8684\n",
      "Epoch 55/100\n",
      "23/23 [==============================] - 0s 3ms/step - loss: 0.3148 - accuracy: 0.9286 - val_loss: 0.3451 - val_accuracy: 0.8421\n",
      "Epoch 56/100\n",
      "23/23 [==============================] - 0s 3ms/step - loss: 0.3233 - accuracy: 0.9196 - val_loss: 0.3105 - val_accuracy: 0.8684\n",
      "Epoch 57/100\n",
      "23/23 [==============================] - 0s 3ms/step - loss: 0.3174 - accuracy: 0.9286 - val_loss: 0.2852 - val_accuracy: 0.9211\n",
      "Epoch 58/100\n",
      "23/23 [==============================] - 0s 4ms/step - loss: 0.3203 - accuracy: 0.9375 - val_loss: 0.2900 - val_accuracy: 0.8947\n",
      "Epoch 59/100\n",
      "23/23 [==============================] - 0s 4ms/step - loss: 0.3115 - accuracy: 0.9464 - val_loss: 0.2777 - val_accuracy: 0.9737\n",
      "Epoch 60/100\n",
      "23/23 [==============================] - 0s 3ms/step - loss: 0.3124 - accuracy: 0.9554 - val_loss: 0.2774 - val_accuracy: 0.9474\n",
      "Epoch 61/100\n",
      "23/23 [==============================] - 0s 3ms/step - loss: 0.3146 - accuracy: 0.9554 - val_loss: 0.2762 - val_accuracy: 0.9211\n",
      "Epoch 62/100\n",
      "23/23 [==============================] - 0s 4ms/step - loss: 0.3131 - accuracy: 0.9554 - val_loss: 0.3280 - val_accuracy: 0.8421\n",
      "Epoch 63/100\n",
      "23/23 [==============================] - 0s 3ms/step - loss: 0.3083 - accuracy: 0.9554 - val_loss: 0.2742 - val_accuracy: 0.9737\n",
      "Epoch 64/100\n",
      "23/23 [==============================] - 0s 3ms/step - loss: 0.2973 - accuracy: 0.9732 - val_loss: 0.2826 - val_accuracy: 0.8947\n",
      "Epoch 65/100\n",
      "23/23 [==============================] - 0s 3ms/step - loss: 0.3058 - accuracy: 0.9286 - val_loss: 0.2966 - val_accuracy: 0.8684\n",
      "Epoch 66/100\n",
      "23/23 [==============================] - 0s 4ms/step - loss: 0.3019 - accuracy: 0.9464 - val_loss: 0.2797 - val_accuracy: 0.8947\n",
      "Epoch 67/100\n",
      "23/23 [==============================] - 0s 4ms/step - loss: 0.2928 - accuracy: 0.9375 - val_loss: 0.2815 - val_accuracy: 0.8947\n",
      "Epoch 68/100\n",
      "23/23 [==============================] - 0s 4ms/step - loss: 0.2960 - accuracy: 0.9375 - val_loss: 0.2637 - val_accuracy: 0.9474\n",
      "Epoch 69/100\n",
      "23/23 [==============================] - 0s 4ms/step - loss: 0.2918 - accuracy: 0.9643 - val_loss: 0.2626 - val_accuracy: 0.9474\n",
      "Epoch 70/100\n",
      "23/23 [==============================] - 0s 4ms/step - loss: 0.2977 - accuracy: 0.9554 - val_loss: 0.2599 - val_accuracy: 0.9737\n",
      "Epoch 71/100\n",
      "23/23 [==============================] - 0s 4ms/step - loss: 0.2924 - accuracy: 0.9375 - val_loss: 0.2586 - val_accuracy: 0.9737\n",
      "Epoch 72/100\n",
      "23/23 [==============================] - 0s 4ms/step - loss: 0.2874 - accuracy: 0.9375 - val_loss: 0.2625 - val_accuracy: 0.9211\n",
      "Epoch 73/100\n",
      "23/23 [==============================] - 0s 4ms/step - loss: 0.2991 - accuracy: 0.9286 - val_loss: 0.2553 - val_accuracy: 0.9737\n",
      "Epoch 74/100\n",
      "23/23 [==============================] - 0s 3ms/step - loss: 0.2893 - accuracy: 0.9554 - val_loss: 0.2537 - val_accuracy: 0.9737\n",
      "Epoch 75/100\n",
      "23/23 [==============================] - 0s 3ms/step - loss: 0.2885 - accuracy: 0.9554 - val_loss: 0.2527 - val_accuracy: 1.0000\n",
      "Epoch 76/100\n",
      "23/23 [==============================] - 0s 3ms/step - loss: 0.2827 - accuracy: 0.9464 - val_loss: 0.2636 - val_accuracy: 0.9211\n",
      "Epoch 77/100\n",
      "23/23 [==============================] - 0s 3ms/step - loss: 0.2873 - accuracy: 0.9554 - val_loss: 0.2494 - val_accuracy: 0.9737\n",
      "Epoch 78/100\n",
      "23/23 [==============================] - 0s 4ms/step - loss: 0.2828 - accuracy: 0.9554 - val_loss: 0.2488 - val_accuracy: 0.9737\n",
      "Epoch 79/100\n",
      "23/23 [==============================] - 0s 3ms/step - loss: 0.2813 - accuracy: 0.9375 - val_loss: 0.2534 - val_accuracy: 0.9737\n",
      "Epoch 80/100\n",
      "23/23 [==============================] - 0s 3ms/step - loss: 0.2796 - accuracy: 0.9643 - val_loss: 0.2581 - val_accuracy: 0.9211\n",
      "Epoch 81/100\n",
      "23/23 [==============================] - 0s 3ms/step - loss: 0.2824 - accuracy: 0.9554 - val_loss: 0.2500 - val_accuracy: 0.9737\n",
      "Epoch 82/100\n",
      "23/23 [==============================] - 0s 3ms/step - loss: 0.2781 - accuracy: 0.9554 - val_loss: 0.2451 - val_accuracy: 1.0000\n",
      "Epoch 83/100\n",
      "23/23 [==============================] - 0s 4ms/step - loss: 0.2740 - accuracy: 0.9643 - val_loss: 0.2470 - val_accuracy: 0.9474\n",
      "Epoch 84/100\n",
      "23/23 [==============================] - 0s 4ms/step - loss: 0.2720 - accuracy: 0.9464 - val_loss: 0.2410 - val_accuracy: 1.0000\n",
      "Epoch 85/100\n",
      "23/23 [==============================] - 0s 3ms/step - loss: 0.2735 - accuracy: 0.9643 - val_loss: 0.2403 - val_accuracy: 0.9737\n",
      "Epoch 86/100\n",
      "23/23 [==============================] - 0s 3ms/step - loss: 0.2707 - accuracy: 0.9554 - val_loss: 0.2558 - val_accuracy: 0.8947\n",
      "Epoch 87/100\n",
      "23/23 [==============================] - 0s 4ms/step - loss: 0.2680 - accuracy: 0.9643 - val_loss: 0.2391 - val_accuracy: 1.0000\n",
      "Epoch 88/100\n",
      "23/23 [==============================] - 0s 4ms/step - loss: 0.2676 - accuracy: 0.9554 - val_loss: 0.2368 - val_accuracy: 1.0000\n",
      "Epoch 89/100\n",
      "23/23 [==============================] - 0s 3ms/step - loss: 0.2677 - accuracy: 0.9643 - val_loss: 0.2348 - val_accuracy: 0.9737\n",
      "Epoch 90/100\n",
      "23/23 [==============================] - 0s 3ms/step - loss: 0.2600 - accuracy: 0.9554 - val_loss: 0.2340 - val_accuracy: 1.0000\n",
      "Epoch 91/100\n",
      "23/23 [==============================] - 0s 4ms/step - loss: 0.2617 - accuracy: 0.9643 - val_loss: 0.2341 - val_accuracy: 0.9737\n",
      "Epoch 92/100\n",
      "23/23 [==============================] - 0s 4ms/step - loss: 0.2637 - accuracy: 0.9554 - val_loss: 0.2344 - val_accuracy: 1.0000\n",
      "Epoch 93/100\n",
      "23/23 [==============================] - 0s 3ms/step - loss: 0.2633 - accuracy: 0.9554 - val_loss: 0.2332 - val_accuracy: 0.9474\n",
      "Epoch 94/100\n",
      "23/23 [==============================] - 0s 4ms/step - loss: 0.2628 - accuracy: 0.9464 - val_loss: 0.2369 - val_accuracy: 0.9474\n",
      "Epoch 95/100\n",
      "23/23 [==============================] - 0s 4ms/step - loss: 0.2607 - accuracy: 0.9554 - val_loss: 0.2310 - val_accuracy: 0.9474\n",
      "Epoch 96/100\n",
      "23/23 [==============================] - 0s 3ms/step - loss: 0.2541 - accuracy: 0.9732 - val_loss: 0.2275 - val_accuracy: 0.9737\n",
      "Epoch 97/100\n",
      "23/23 [==============================] - 0s 3ms/step - loss: 0.2552 - accuracy: 0.9554 - val_loss: 0.2260 - val_accuracy: 1.0000\n",
      "Epoch 98/100\n",
      "23/23 [==============================] - 0s 3ms/step - loss: 0.2538 - accuracy: 0.9643 - val_loss: 0.2275 - val_accuracy: 1.0000\n",
      "Epoch 99/100\n",
      "23/23 [==============================] - 0s 3ms/step - loss: 0.2537 - accuracy: 0.9732 - val_loss: 0.2258 - val_accuracy: 0.9737\n",
      "Epoch 100/100\n",
      "23/23 [==============================] - 0s 3ms/step - loss: 0.2517 - accuracy: 0.9643 - val_loss: 0.2226 - val_accuracy: 1.0000\n"
     ]
    },
    {
     "data": {
      "text/plain": [
       "<tensorflow.python.keras.callbacks.History at 0x7f7540032b50>"
      ]
     },
     "execution_count": 60,
     "metadata": {
      "tags": []
     },
     "output_type": "execute_result"
    }
   ],
   "source": [
    "model.fit(X_train, y_train,\n",
    "          validation_data=(X_test, y_test), \n",
    "          epochs=100,\n",
    "          batch_size = 5\n",
    "         )"
   ]
  },
  {
   "cell_type": "markdown",
   "metadata": {
    "id": "re9ItAR3yS3J"
   },
   "source": [
    "## Question 10"
   ]
  },
  {
   "cell_type": "markdown",
   "metadata": {
    "id": "liw0IFf9yVqH"
   },
   "source": [
    "### Make predictions\n",
    "- Predict labels on one row"
   ]
  },
  {
   "cell_type": "code",
   "execution_count": 64,
   "metadata": {
    "colab": {
     "base_uri": "https://localhost:8080/"
    },
    "id": "H5sBybi6mlLl",
    "outputId": "f6cc4f0e-3655-4d6b-f03e-f9d9dc703e35"
   },
   "outputs": [
    {
     "data": {
      "text/plain": [
       "array([[0.01346575, 0.6065935 , 0.37994084]], dtype=float32)"
      ]
     },
     "execution_count": 64,
     "metadata": {
      "tags": []
     },
     "output_type": "execute_result"
    }
   ],
   "source": [
    "model.predict(X_test[:1])"
   ]
  },
  {
   "cell_type": "markdown",
   "metadata": {
    "id": "hSUgMq3m0bG7"
   },
   "source": [
    "### Compare the prediction with actual label\n",
    "- Print the same row as done in the previous step but of actual labels"
   ]
  },
  {
   "cell_type": "code",
   "execution_count": 65,
   "metadata": {
    "colab": {
     "base_uri": "https://localhost:8080/"
    },
    "id": "URIOAattPx0R",
    "outputId": "578a06ac-30d1-4244-a01f-030a3061ad0f"
   },
   "outputs": [
    {
     "data": {
      "text/plain": [
       "array([[0., 1., 0.]], dtype=float32)"
      ]
     },
     "execution_count": 65,
     "metadata": {
      "tags": []
     },
     "output_type": "execute_result"
    }
   ],
   "source": [
    "y_test[0:1]"
   ]
  },
  {
   "cell_type": "markdown",
   "metadata": {
    "id": "qmg_mzDTQZro"
   },
   "source": [
    "Predicted label and actual label is same.\n"
   ]
  },
  {
   "cell_type": "markdown",
   "metadata": {
    "id": "FrTKwbgE7NFT"
   },
   "source": [
    "\n",
    "\n",
    "---\n",
    "\n"
   ]
  },
  {
   "cell_type": "markdown",
   "metadata": {
    "id": "a1UBYPNp5Tn1"
   },
   "source": [
    "# Stock prices dataset\n",
    "The data is of tock exchange's stock listings for each trading day of 2010 to 2016.\n",
    "\n",
    "## Description\n",
    "A brief description of columns.\n",
    "- open: The opening market price of the equity symbol on the date\n",
    "- high: The highest market price of the equity symbol on the date\n",
    "- low: The lowest recorded market price of the equity symbol on the date\n",
    "- close: The closing recorded price of the equity symbol on the date\n",
    "- symbol: Symbol of the listed company\n",
    "- volume: Total traded volume of the equity symbol on the date\n",
    "- date: Date of record"
   ]
  },
  {
   "cell_type": "markdown",
   "metadata": {
    "id": "ctH_ZW5g-M3g"
   },
   "source": [
    "### Specifying the TensorFlow version\n",
    "Running `import tensorflow` will import the default version (currently 1.x). You can use 2.x by running a cell with the `tensorflow_version` magic **before** you run `import tensorflow`."
   ]
  },
  {
   "cell_type": "code",
   "execution_count": 66,
   "metadata": {
    "id": "vQbdODpH-M3r"
   },
   "outputs": [],
   "source": [
    "%tensorflow_version 2.x"
   ]
  },
  {
   "cell_type": "markdown",
   "metadata": {
    "id": "nFQWH1tj-M38"
   },
   "source": [
    "### Import TensorFlow\n",
    "Once you have specified a version via this magic, you can run `import tensorflow` as normal and verify which version was imported as follows:"
   ]
  },
  {
   "cell_type": "code",
   "execution_count": 67,
   "metadata": {
    "colab": {
     "base_uri": "https://localhost:8080/"
    },
    "id": "Ho5n-xhd-M3_",
    "outputId": "52f766eb-f394-4423-d3bf-8045a876f24a"
   },
   "outputs": [
    {
     "name": "stdout",
     "output_type": "stream",
     "text": [
      "2.4.1\n"
     ]
    }
   ],
   "source": [
    "import tensorflow as tf\n",
    "print(tf.__version__)"
   ]
  },
  {
   "cell_type": "markdown",
   "metadata": {
    "id": "tgkl0qu6-M4F"
   },
   "source": [
    "### Set random seed"
   ]
  },
  {
   "cell_type": "code",
   "execution_count": 68,
   "metadata": {
    "id": "TKgTyuA3-M4G"
   },
   "outputs": [],
   "source": [
    "tf.random.set_seed(42)"
   ]
  },
  {
   "cell_type": "markdown",
   "metadata": {
    "id": "_88voqAH-O6J"
   },
   "source": [
    "## Question 1"
   ]
  },
  {
   "cell_type": "markdown",
   "metadata": {
    "id": "dRHCeJqP-evf"
   },
   "source": [
    "### Load the data\n",
    "- load the csv file and read it using pandas\n",
    "- file name is prices.csv"
   ]
  },
  {
   "cell_type": "code",
   "execution_count": null,
   "metadata": {
    "id": "pH93gHtJWIyE"
   },
   "outputs": [],
   "source": [
    "# run this cell to upload file if you are using google colab\n",
    "from google.colab import files\n",
    "files.upload()"
   ]
  },
  {
   "cell_type": "code",
   "execution_count": 107,
   "metadata": {
    "id": "-gDC6cSW_FSK"
   },
   "outputs": [],
   "source": [
    "import pandas as pd\n",
    "dfprice = pd.read_csv(\"/content/prices.csv\")"
   ]
  },
  {
   "cell_type": "code",
   "execution_count": 108,
   "metadata": {
    "colab": {
     "base_uri": "https://localhost:8080/",
     "height": 195
    },
    "id": "u9V6XxJBWDLU",
    "outputId": "ec905135-a9cb-4940-f566-ae6b790eb7e0"
   },
   "outputs": [
    {
     "data": {
      "text/html": [
       "<div>\n",
       "<style scoped>\n",
       "    .dataframe tbody tr th:only-of-type {\n",
       "        vertical-align: middle;\n",
       "    }\n",
       "\n",
       "    .dataframe tbody tr th {\n",
       "        vertical-align: top;\n",
       "    }\n",
       "\n",
       "    .dataframe thead th {\n",
       "        text-align: right;\n",
       "    }\n",
       "</style>\n",
       "<table border=\"1\" class=\"dataframe\">\n",
       "  <thead>\n",
       "    <tr style=\"text-align: right;\">\n",
       "      <th></th>\n",
       "      <th>date</th>\n",
       "      <th>symbol</th>\n",
       "      <th>open</th>\n",
       "      <th>close</th>\n",
       "      <th>low</th>\n",
       "      <th>high</th>\n",
       "      <th>volume</th>\n",
       "    </tr>\n",
       "  </thead>\n",
       "  <tbody>\n",
       "    <tr>\n",
       "      <th>0</th>\n",
       "      <td>2016-01-05 00:00:00</td>\n",
       "      <td>WLTW</td>\n",
       "      <td>123.430000</td>\n",
       "      <td>125.839996</td>\n",
       "      <td>122.309998</td>\n",
       "      <td>126.250000</td>\n",
       "      <td>2163600.0</td>\n",
       "    </tr>\n",
       "    <tr>\n",
       "      <th>1</th>\n",
       "      <td>2016-01-06 00:00:00</td>\n",
       "      <td>WLTW</td>\n",
       "      <td>125.239998</td>\n",
       "      <td>119.980003</td>\n",
       "      <td>119.940002</td>\n",
       "      <td>125.540001</td>\n",
       "      <td>2386400.0</td>\n",
       "    </tr>\n",
       "    <tr>\n",
       "      <th>2</th>\n",
       "      <td>2016-01-07 00:00:00</td>\n",
       "      <td>WLTW</td>\n",
       "      <td>116.379997</td>\n",
       "      <td>114.949997</td>\n",
       "      <td>114.930000</td>\n",
       "      <td>119.739998</td>\n",
       "      <td>2489500.0</td>\n",
       "    </tr>\n",
       "    <tr>\n",
       "      <th>3</th>\n",
       "      <td>2016-01-08 00:00:00</td>\n",
       "      <td>WLTW</td>\n",
       "      <td>115.480003</td>\n",
       "      <td>116.620003</td>\n",
       "      <td>113.500000</td>\n",
       "      <td>117.440002</td>\n",
       "      <td>2006300.0</td>\n",
       "    </tr>\n",
       "    <tr>\n",
       "      <th>4</th>\n",
       "      <td>2016-01-11 00:00:00</td>\n",
       "      <td>WLTW</td>\n",
       "      <td>117.010002</td>\n",
       "      <td>114.970001</td>\n",
       "      <td>114.089996</td>\n",
       "      <td>117.330002</td>\n",
       "      <td>1408600.0</td>\n",
       "    </tr>\n",
       "  </tbody>\n",
       "</table>\n",
       "</div>"
      ],
      "text/plain": [
       "                  date symbol        open  ...         low        high     volume\n",
       "0  2016-01-05 00:00:00   WLTW  123.430000  ...  122.309998  126.250000  2163600.0\n",
       "1  2016-01-06 00:00:00   WLTW  125.239998  ...  119.940002  125.540001  2386400.0\n",
       "2  2016-01-07 00:00:00   WLTW  116.379997  ...  114.930000  119.739998  2489500.0\n",
       "3  2016-01-08 00:00:00   WLTW  115.480003  ...  113.500000  117.440002  2006300.0\n",
       "4  2016-01-11 00:00:00   WLTW  117.010002  ...  114.089996  117.330002  1408600.0\n",
       "\n",
       "[5 rows x 7 columns]"
      ]
     },
     "execution_count": 108,
     "metadata": {
      "tags": []
     },
     "output_type": "execute_result"
    }
   ],
   "source": [
    "dfprice.head()"
   ]
  },
  {
   "cell_type": "markdown",
   "metadata": {
    "id": "HlLKVPVH_BCT"
   },
   "source": [
    "## Question 2"
   ]
  },
  {
   "cell_type": "markdown",
   "metadata": {
    "id": "9J4BlzVA_gZd"
   },
   "source": [
    "### Drop columnns\n",
    "- drop \"date\" and \"symbol\" column from the data"
   ]
  },
  {
   "cell_type": "code",
   "execution_count": 109,
   "metadata": {
    "id": "IKEK8aEE_Csx"
   },
   "outputs": [],
   "source": [
    "dfprice.drop([\"date\", \"symbol\"],axis=1, inplace=True)"
   ]
  },
  {
   "cell_type": "code",
   "execution_count": 110,
   "metadata": {
    "colab": {
     "base_uri": "https://localhost:8080/",
     "height": 195
    },
    "id": "rPr-JUgSWZyT",
    "outputId": "8529a2a9-0161-4e4b-8b74-5ede04e5ea2a"
   },
   "outputs": [
    {
     "data": {
      "text/html": [
       "<div>\n",
       "<style scoped>\n",
       "    .dataframe tbody tr th:only-of-type {\n",
       "        vertical-align: middle;\n",
       "    }\n",
       "\n",
       "    .dataframe tbody tr th {\n",
       "        vertical-align: top;\n",
       "    }\n",
       "\n",
       "    .dataframe thead th {\n",
       "        text-align: right;\n",
       "    }\n",
       "</style>\n",
       "<table border=\"1\" class=\"dataframe\">\n",
       "  <thead>\n",
       "    <tr style=\"text-align: right;\">\n",
       "      <th></th>\n",
       "      <th>open</th>\n",
       "      <th>close</th>\n",
       "      <th>low</th>\n",
       "      <th>high</th>\n",
       "      <th>volume</th>\n",
       "    </tr>\n",
       "  </thead>\n",
       "  <tbody>\n",
       "    <tr>\n",
       "      <th>0</th>\n",
       "      <td>123.430000</td>\n",
       "      <td>125.839996</td>\n",
       "      <td>122.309998</td>\n",
       "      <td>126.250000</td>\n",
       "      <td>2163600.0</td>\n",
       "    </tr>\n",
       "    <tr>\n",
       "      <th>1</th>\n",
       "      <td>125.239998</td>\n",
       "      <td>119.980003</td>\n",
       "      <td>119.940002</td>\n",
       "      <td>125.540001</td>\n",
       "      <td>2386400.0</td>\n",
       "    </tr>\n",
       "    <tr>\n",
       "      <th>2</th>\n",
       "      <td>116.379997</td>\n",
       "      <td>114.949997</td>\n",
       "      <td>114.930000</td>\n",
       "      <td>119.739998</td>\n",
       "      <td>2489500.0</td>\n",
       "    </tr>\n",
       "    <tr>\n",
       "      <th>3</th>\n",
       "      <td>115.480003</td>\n",
       "      <td>116.620003</td>\n",
       "      <td>113.500000</td>\n",
       "      <td>117.440002</td>\n",
       "      <td>2006300.0</td>\n",
       "    </tr>\n",
       "    <tr>\n",
       "      <th>4</th>\n",
       "      <td>117.010002</td>\n",
       "      <td>114.970001</td>\n",
       "      <td>114.089996</td>\n",
       "      <td>117.330002</td>\n",
       "      <td>1408600.0</td>\n",
       "    </tr>\n",
       "  </tbody>\n",
       "</table>\n",
       "</div>"
      ],
      "text/plain": [
       "         open       close         low        high     volume\n",
       "0  123.430000  125.839996  122.309998  126.250000  2163600.0\n",
       "1  125.239998  119.980003  119.940002  125.540001  2386400.0\n",
       "2  116.379997  114.949997  114.930000  119.739998  2489500.0\n",
       "3  115.480003  116.620003  113.500000  117.440002  2006300.0\n",
       "4  117.010002  114.970001  114.089996  117.330002  1408600.0"
      ]
     },
     "execution_count": 110,
     "metadata": {
      "tags": []
     },
     "output_type": "execute_result"
    }
   ],
   "source": [
    "dfprice.head()"
   ]
  },
  {
   "cell_type": "markdown",
   "metadata": {
    "id": "cTPhO6v-AiZt"
   },
   "source": [
    "## Question 3"
   ]
  },
  {
   "cell_type": "markdown",
   "metadata": {
    "id": "SsZXmF3NAkna"
   },
   "source": [
    "### Take initial rows\n",
    "- Take first 1000 rows from the data\n",
    "- This step is done to make the execution faster"
   ]
  },
  {
   "cell_type": "code",
   "execution_count": 111,
   "metadata": {
    "id": "aKs04iIHAjxN"
   },
   "outputs": [],
   "source": [
    "dfprice = dfprice.head(1000)"
   ]
  },
  {
   "cell_type": "code",
   "execution_count": 112,
   "metadata": {
    "colab": {
     "base_uri": "https://localhost:8080/"
    },
    "id": "qd2Hc6SOX5kT",
    "outputId": "33fa8ac0-1bf5-4cc7-e214-4b908dd71513"
   },
   "outputs": [
    {
     "data": {
      "text/plain": [
       "(1000, 5)"
      ]
     },
     "execution_count": 112,
     "metadata": {
      "tags": []
     },
     "output_type": "execute_result"
    }
   ],
   "source": [
    "dfprice.shape\n"
   ]
  },
  {
   "cell_type": "markdown",
   "metadata": {
    "id": "6vGtnapgBIJm"
   },
   "source": [
    "## Question 4"
   ]
  },
  {
   "cell_type": "markdown",
   "metadata": {
    "id": "C8u_jlbABTip"
   },
   "source": [
    "### Get features and label from the dataset in separate variable\n",
    "- Take \"open\", \"close\", \"low\", \"high\" columns as features\n",
    "- Take \"volume\" column as label\n",
    "- Normalize label column by dividing it with 1000000"
   ]
  },
  {
   "cell_type": "code",
   "execution_count": 113,
   "metadata": {
    "id": "xQjCMzUXBJbg"
   },
   "outputs": [],
   "source": [
    "X = dfprice[[\"open\",\"close\",\"low\",\"high\"]]\n",
    "y = dfprice[[\"volume\"]]/1000000"
   ]
  },
  {
   "cell_type": "markdown",
   "metadata": {
    "id": "aTAKzlxZBz0z"
   },
   "source": [
    "## Question 5"
   ]
  },
  {
   "cell_type": "markdown",
   "metadata": {
    "id": "IfY8Km1Zzyt2"
   },
   "source": [
    "### Convert data\n",
    "- Convert features and labels to numpy array\n",
    "- Convert their data type to \"float32\""
   ]
  },
  {
   "cell_type": "code",
   "execution_count": 114,
   "metadata": {
    "id": "Ko7nnQVbYENh"
   },
   "outputs": [],
   "source": [
    "import numpy as np\n",
    "\n",
    "X = np.asarray(X, dtype=\"float32\")\n",
    "y = np.asarray(y, dtype=\"float32\")"
   ]
  },
  {
   "cell_type": "code",
   "execution_count": null,
   "metadata": {
    "id": "V0Tfe00X78wB"
   },
   "outputs": [],
   "source": []
  },
  {
   "cell_type": "markdown",
   "metadata": {
    "id": "8R0oYF8LZUzd"
   },
   "source": [
    "## Question **6**"
   ]
  },
  {
   "cell_type": "markdown",
   "metadata": {
    "id": "BvD6zH27ZoqJ"
   },
   "source": [
    "### Normalize data\n",
    "- Normalize features\n",
    "- Use tf.math.l2_normalize to normalize features\n",
    "- You can read more about it here https://www.tensorflow.org/api_docs/python/tf/math/l2_normalize\n"
   ]
  },
  {
   "cell_type": "code",
   "execution_count": 115,
   "metadata": {
    "id": "TngPsWKfZu1u"
   },
   "outputs": [],
   "source": [
    "X = tf.math.l2_normalize(X)"
   ]
  },
  {
   "cell_type": "markdown",
   "metadata": {
    "id": "wmXUGc2oTspa"
   },
   "source": [
    "## Question 7"
   ]
  },
  {
   "cell_type": "markdown",
   "metadata": {
    "id": "VJelDMpzxs0L"
   },
   "source": [
    "### Define weight and bias\n",
    "- Initialize weight and bias with tf.zeros\n",
    "- tf.zeros is an initializer that generates tensors initialized to 0\n",
    "- Specify the value for shape"
   ]
  },
  {
   "cell_type": "code",
   "execution_count": 124,
   "metadata": {
    "id": "8o9RPWVTxs0O"
   },
   "outputs": [],
   "source": [
    "w = tf.zeros(shape=(4,1))\n",
    "b = tf.zeros(shape=(1))"
   ]
  },
  {
   "cell_type": "markdown",
   "metadata": {
    "id": "8a0wr94aTyjg"
   },
   "source": [
    "## Question 8"
   ]
  },
  {
   "cell_type": "markdown",
   "metadata": {
    "id": "zMXXYdOSxs0Q"
   },
   "source": [
    "### Get prediction\n",
    "- Define a function to get prediction\n",
    "- Approach: prediction = (X * W) + b; here is X is features"
   ]
  },
  {
   "cell_type": "code",
   "execution_count": 125,
   "metadata": {
    "id": "U8Cty1y0xs0S"
   },
   "outputs": [],
   "source": [
    "def prediction(X, W, b):\n",
    "    xw_matmul = tf.matmul(X, W)\n",
    "    y = tf.add(xw_matmul, b)\n",
    "    \n",
    "    return y\n"
   ]
  },
  {
   "cell_type": "markdown",
   "metadata": {
    "id": "lQmS3Tauxs0V"
   },
   "source": [
    "### Calculate loss\n",
    "- Calculate loss using predictions\n",
    "- Define a function to calculate loss\n",
    "- We are calculating mean squared error"
   ]
  },
  {
   "cell_type": "code",
   "execution_count": 126,
   "metadata": {
    "id": "-FRXmDd5xs0X"
   },
   "outputs": [],
   "source": [
    "def loss(y_actual, y_predicted):\n",
    "    \n",
    "    diff = y_actual - y_predicted\n",
    "    sqr = tf.square(diff)\n",
    "    actloss = tf.reduce_mean(sqr)\n",
    "    \n",
    "    return actloss\n"
   ]
  },
  {
   "cell_type": "markdown",
   "metadata": {
    "id": "ZbBpnOtfT0wd"
   },
   "source": [
    "## Question 9"
   ]
  },
  {
   "cell_type": "markdown",
   "metadata": {
    "id": "bkOzAUUsTmF_"
   },
   "source": [
    "### Define a function to train the model\n",
    "1.   Record all the mathematical steps to calculate Loss\n",
    "2.   Calculate Gradients of Loss w.r.t weights and bias\n",
    "3.   Update Weights and Bias based on gradients and learning rate to minimize loss"
   ]
  },
  {
   "cell_type": "code",
   "execution_count": 127,
   "metadata": {
    "id": "2R4uieGYLYtM"
   },
   "outputs": [],
   "source": [
    "def train(x, y_actual, w, b, learning_rate=0.01):\n",
    "    \n",
    "    #Record mathematical operations on 'tape' to calculate loss\n",
    "    with tf.GradientTape() as t:\n",
    "        \n",
    "        t.watch([w,b])\n",
    "        \n",
    "        current_prediction = prediction(x, w, b)\n",
    "        current_loss = loss(y_actual, current_prediction)\n",
    "    \n",
    "    #Calculate Gradients for Loss with respect to Weights and Bias\n",
    "    dw, db = t.gradient(current_loss,[w, b])\n",
    "    \n",
    "    #Update Weights and Bias\n",
    "    w = w - (learning_rate*dw)\n",
    "    b = b - (learning_rate*db)\n",
    "    \n",
    "    return w, b"
   ]
  },
  {
   "cell_type": "markdown",
   "metadata": {
    "id": "AW4SEP8kT2ls"
   },
   "source": [
    "## Question 10"
   ]
  },
  {
   "cell_type": "markdown",
   "metadata": {
    "id": "yeN0deOvT81N"
   },
   "source": [
    "### Train the model for 100 epochs \n",
    "- Observe the training loss at every iteration"
   ]
  },
  {
   "cell_type": "code",
   "execution_count": 128,
   "metadata": {
    "colab": {
     "base_uri": "https://localhost:8080/"
    },
    "id": "Jjkn4gUgLevE",
    "outputId": "9e92a41f-5eca-4ca1-fea3-189295afe8fc"
   },
   "outputs": [
    {
     "name": "stdout",
     "output_type": "stream",
     "text": [
      "Current Loss on iteration 0 236.16806\n",
      "Current Loss on iteration 1 235.09369\n",
      "Current Loss on iteration 2 234.06195\n",
      "Current Loss on iteration 3 233.07103\n",
      "Current Loss on iteration 4 232.11938\n",
      "Current Loss on iteration 5 231.20544\n",
      "Current Loss on iteration 6 230.32771\n",
      "Current Loss on iteration 7 229.48482\n",
      "Current Loss on iteration 8 228.67525\n",
      "Current Loss on iteration 9 227.89775\n",
      "Current Loss on iteration 10 227.15108\n",
      "Current Loss on iteration 11 226.434\n",
      "Current Loss on iteration 12 225.74532\n",
      "Current Loss on iteration 13 225.08392\n",
      "Current Loss on iteration 14 224.4487\n",
      "Current Loss on iteration 15 223.8387\n",
      "Current Loss on iteration 16 223.25285\n",
      "Current Loss on iteration 17 222.6902\n",
      "Current Loss on iteration 18 222.14984\n",
      "Current Loss on iteration 19 221.63089\n",
      "Current Loss on iteration 20 221.13252\n",
      "Current Loss on iteration 21 220.65384\n",
      "Current Loss on iteration 22 220.19418\n",
      "Current Loss on iteration 23 219.75272\n",
      "Current Loss on iteration 24 219.32875\n",
      "Current Loss on iteration 25 218.92157\n",
      "Current Loss on iteration 26 218.53052\n",
      "Current Loss on iteration 27 218.15495\n",
      "Current Loss on iteration 28 217.79428\n",
      "Current Loss on iteration 29 217.44789\n",
      "Current Loss on iteration 30 217.11522\n",
      "Current Loss on iteration 31 216.79572\n",
      "Current Loss on iteration 32 216.48892\n",
      "Current Loss on iteration 33 216.19423\n",
      "Current Loss on iteration 34 215.91125\n",
      "Current Loss on iteration 35 215.63943\n",
      "Current Loss on iteration 36 215.3784\n",
      "Current Loss on iteration 37 215.12773\n",
      "Current Loss on iteration 38 214.88696\n",
      "Current Loss on iteration 39 214.65575\n",
      "Current Loss on iteration 40 214.4337\n",
      "Current Loss on iteration 41 214.22047\n",
      "Current Loss on iteration 42 214.01564\n",
      "Current Loss on iteration 43 213.81894\n",
      "Current Loss on iteration 44 213.63004\n",
      "Current Loss on iteration 45 213.4486\n",
      "Current Loss on iteration 46 213.27435\n",
      "Current Loss on iteration 47 213.10703\n",
      "Current Loss on iteration 48 212.94633\n",
      "Current Loss on iteration 49 212.792\n",
      "Current Loss on iteration 50 212.64375\n",
      "Current Loss on iteration 51 212.5014\n",
      "Current Loss on iteration 52 212.36469\n",
      "Current Loss on iteration 53 212.23338\n",
      "Current Loss on iteration 54 212.10725\n",
      "Current Loss on iteration 55 211.98616\n",
      "Current Loss on iteration 56 211.86983\n",
      "Current Loss on iteration 57 211.75815\n",
      "Current Loss on iteration 58 211.65088\n",
      "Current Loss on iteration 59 211.54782\n",
      "Current Loss on iteration 60 211.44887\n",
      "Current Loss on iteration 61 211.35385\n",
      "Current Loss on iteration 62 211.26257\n",
      "Current Loss on iteration 63 211.17493\n",
      "Current Loss on iteration 64 211.09071\n",
      "Current Loss on iteration 65 211.00987\n",
      "Current Loss on iteration 66 210.93225\n",
      "Current Loss on iteration 67 210.85764\n",
      "Current Loss on iteration 68 210.78601\n",
      "Current Loss on iteration 69 210.71725\n",
      "Current Loss on iteration 70 210.65118\n",
      "Current Loss on iteration 71 210.58774\n",
      "Current Loss on iteration 72 210.52681\n",
      "Current Loss on iteration 73 210.4683\n",
      "Current Loss on iteration 74 210.41208\n",
      "Current Loss on iteration 75 210.35811\n",
      "Current Loss on iteration 76 210.30624\n",
      "Current Loss on iteration 77 210.25647\n",
      "Current Loss on iteration 78 210.20863\n",
      "Current Loss on iteration 79 210.16272\n",
      "Current Loss on iteration 80 210.11859\n",
      "Current Loss on iteration 81 210.07623\n",
      "Current Loss on iteration 82 210.03554\n",
      "Current Loss on iteration 83 209.99648\n",
      "Current Loss on iteration 84 209.95892\n",
      "Current Loss on iteration 85 209.92288\n",
      "Current Loss on iteration 86 209.88829\n",
      "Current Loss on iteration 87 209.85501\n",
      "Current Loss on iteration 88 209.82309\n",
      "Current Loss on iteration 89 209.79243\n",
      "Current Loss on iteration 90 209.76297\n",
      "Current Loss on iteration 91 209.73465\n",
      "Current Loss on iteration 92 209.7075\n",
      "Current Loss on iteration 93 209.68138\n",
      "Current Loss on iteration 94 209.65636\n",
      "Current Loss on iteration 95 209.63225\n",
      "Current Loss on iteration 96 209.60913\n",
      "Current Loss on iteration 97 209.5869\n",
      "Current Loss on iteration 98 209.56558\n",
      "Current Loss on iteration 99 209.54509\n"
     ]
    }
   ],
   "source": [
    "for i in range(100):\n",
    "    \n",
    "    w, b = train(X, y, w, b)\n",
    "    print('Current Loss on iteration', i, loss(y, prediction(X, w, b)).numpy())"
   ]
  },
  {
   "cell_type": "markdown",
   "metadata": {
    "id": "vanvD93FV0_k"
   },
   "source": [
    "### Observe values of Weight\n",
    "- Print the updated values"
   ]
  },
  {
   "cell_type": "code",
   "execution_count": 129,
   "metadata": {
    "colab": {
     "base_uri": "https://localhost:8080/"
    },
    "id": "QSqpy4gtWaOD",
    "outputId": "3dbdd1b7-c779-4b59-bbf0-8f4033e3784f"
   },
   "outputs": [
    {
     "name": "stdout",
     "output_type": "stream",
     "text": [
      "Weights:\n",
      " [[0.0194333 ]\n",
      " [0.01969695]\n",
      " [0.01937149]\n",
      " [0.01976266]]\n"
     ]
    }
   ],
   "source": [
    "#Check Weights and Bias\n",
    "print('Weights:\\n', w.numpy())"
   ]
  },
  {
   "cell_type": "markdown",
   "metadata": {
    "id": "y9KpRupYUEwy"
   },
   "source": [
    "### Observe values of Bias\n",
    "- Print the updated values"
   ]
  },
  {
   "cell_type": "code",
   "execution_count": 130,
   "metadata": {
    "colab": {
     "base_uri": "https://localhost:8080/"
    },
    "id": "bhEWkGqHWohg",
    "outputId": "9cd69481-f1d8-4e77-95c1-d8d6eeb5bf03"
   },
   "outputs": [
    {
     "name": "stdout",
     "output_type": "stream",
     "text": [
      "Bias:\n",
      " [4.608607]\n"
     ]
    }
   ],
   "source": [
    "print('Bias:\\n',b.numpy())"
   ]
  }
 ],
 "metadata": {
  "accelerator": "GPU",
  "colab": {
   "collapsed_sections": [],
   "name": "Questions - R6 - INNDL Labs.ipynb",
   "provenance": [],
   "toc_visible": true
  },
  "kernelspec": {
   "display_name": "Python 3",
   "language": "python",
   "name": "python3"
  },
  "language_info": {
   "codemirror_mode": {
    "name": "ipython",
    "version": 3
   },
   "file_extension": ".py",
   "mimetype": "text/x-python",
   "name": "python",
   "nbconvert_exporter": "python",
   "pygments_lexer": "ipython3",
   "version": "3.8.3"
  }
 },
 "nbformat": 4,
 "nbformat_minor": 1
}
