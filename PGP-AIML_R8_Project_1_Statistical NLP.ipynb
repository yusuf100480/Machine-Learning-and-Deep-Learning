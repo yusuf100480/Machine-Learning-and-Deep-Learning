{
 "cells": [
  {
   "cell_type": "markdown",
   "metadata": {
    "id": "dNu2tJqLj-oi"
   },
   "source": [
    "# Statistical NLP - Project"
   ]
  },
  {
   "cell_type": "markdown",
   "metadata": {
    "id": "UueoxxECj-om"
   },
   "source": [
    "## Context\n",
    "Classification is probably the most popular task that you would deal with in real life. Text in the form of\n",
    "blogs, posts, articles, etc. is written every second. It is a challenge to predict the information about the writer\n",
    "without knowing about him/her. We are going to create a classifier that predicts multiple features of the author\n",
    "of a given text. We have designed it as a Multi label classification problem."
   ]
  },
  {
   "cell_type": "markdown",
   "metadata": {
    "id": "BO1FDyM1j-oo"
   },
   "source": [
    "## Data Description:\n",
    "Over 600,000 posts from more than 19 thousand bloggers The Blog Authorship Corpus\n",
    "consists of the collected posts of 19,320 bloggers gathered from blogger.com in August 2004. The corpus\n",
    "incorporates a total of 681,288 posts and over 140 million words - or approximately 35 posts and 7250 words\n",
    "per person. Each blog is presented as a separate file, the name of which indicates a blogger id# and the\n",
    "blogger’s self-provided gender, age, industry, and astrological sign. (All are labelled for gender and age but for\n",
    "many, industry and/or sign is marked as unknown.) All bloggers included in the corpus fall into one of three age\n",
    "groups:<br>\n",
    "- 8240 \"10s\" blogs (ages 13-17),\n",
    "- 8086 \"20s\" blogs(ages 23-27) and\n",
    "- 2994 \"30s\" blogs (ages 33-47)<br>\n",
    "\n",
    "For each age group, there is an equal number of male and female bloggers.\n",
    "Each blog in the corpus includes at least 200 occurrences of common English words. All formatting has been\n",
    "stripped with two exceptions. Individual posts within a single blogger are separated by the date of the following\n",
    "post and links within a post are denoted by the label url link. \n",
    "\n",
    "Link to dataset: https://www.kaggle.com/rtatman/blog-authorship-corpus"
   ]
  },
  {
   "cell_type": "markdown",
   "metadata": {
    "id": "TlHezK8rj-oq"
   },
   "source": [
    "## Project Objective:\n",
    "The need is to build a NLP classifier which can use input text parameters to determine the label/s of of the blog."
   ]
  },
  {
   "cell_type": "code",
   "execution_count": 1,
   "metadata": {
    "colab": {
     "base_uri": "https://localhost:8080/"
    },
    "id": "Vn_8-tGdwjlh",
    "outputId": "fba533c0-2d0d-42da-af6a-e5b0d6689cd3"
   },
   "outputs": [
    {
     "name": "stdout",
     "output_type": "stream",
     "text": [
      "Mounted at /content/drive\n"
     ]
    }
   ],
   "source": [
    "from google.colab import drive\n",
    "drive.mount('/content/drive')"
   ]
  },
  {
   "cell_type": "markdown",
   "metadata": {
    "id": "7-N-T_7Ij-or"
   },
   "source": [
    "## Import Libraries"
   ]
  },
  {
   "cell_type": "code",
   "execution_count": 2,
   "metadata": {
    "id": "g2MdInhJj-os"
   },
   "outputs": [],
   "source": [
    "import pandas as pd\n",
    "import matplotlib.pyplot as plt\n",
    "import seaborn as sns\n",
    "import string\n",
    "import nltk\n",
    "from nltk.corpus import stopwords, words\n",
    "import spacy\n",
    "from sklearn.model_selection import train_test_split\n",
    "from sklearn.feature_extraction.text import CountVectorizer, TfidfVectorizer\n",
    "from sklearn.naive_bayes import MultinomialNB\n",
    "from sklearn.preprocessing import MultiLabelBinarizer\n",
    "from sklearn.linear_model import LogisticRegression\n",
    "from sklearn.multiclass import OneVsRestClassifier\n",
    "from sklearn.ensemble import RandomForestClassifier\n",
    "from sklearn.tree import DecisionTreeClassifier\n",
    "from sklearn.svm import LinearSVC\n",
    "from nltk.stem.snowball import SnowballStemmer\n",
    "from sklearn.metrics import confusion_matrix, classification_report\n",
    "import numpy as np\n",
    "from sklearn.metrics import accuracy_score\n",
    "from sklearn.metrics import f1_score\n",
    "from sklearn.metrics import average_precision_score\n",
    "from sklearn.metrics import recall_score, precision_score\n",
    "from textblob import TextBlob, Word\n",
    "import tensorflow as tf\n",
    "from tensorflow.python.keras.preprocessing.text import Tokenizer\n",
    "from tensorflow.python.keras.preprocessing import sequence\n",
    "from tensorflow.python.keras.models import Sequential\n",
    "from tensorflow.python.keras.layers import Dropout, Dense, Embedding, Flatten\n",
    "import random \n",
    "import gensim\n",
    "from gensim.test.utils import get_tmpfile\n",
    "from gensim.models.keyedvectors import KeyedVectors\n",
    "from gensim.scripts.glove2word2vec import glove2word2vec\n",
    "import re\n",
    "import warnings\n",
    "warnings.filterwarnings('ignore')"
   ]
  },
  {
   "cell_type": "markdown",
   "metadata": {
    "id": "En2tmRAQj-ot"
   },
   "source": [
    "## Load the dataset"
   ]
  },
  {
   "cell_type": "code",
   "execution_count": 80,
   "metadata": {
    "id": "kPivrHyxj-ou"
   },
   "outputs": [],
   "source": [
    "dfblogs = pd.read_csv('/content/drive/MyDrive/Colab Notebooks/NLP/archive.zip')"
   ]
  },
  {
   "cell_type": "code",
   "execution_count": 81,
   "metadata": {
    "id": "6h20DX7Og4Xi"
   },
   "outputs": [],
   "source": [
    "# Taking 100k data due to machine configuration limitation\n",
    "dfblogs = dfblogs.sample(100000, random_state=100)"
   ]
  },
  {
   "cell_type": "code",
   "execution_count": 82,
   "metadata": {
    "colab": {
     "base_uri": "https://localhost:8080/",
     "height": 203
    },
    "id": "WsNWoY-yj-ov",
    "outputId": "f669737b-b37e-494d-f037-252f5dfd0259"
   },
   "outputs": [
    {
     "data": {
      "text/html": [
       "<div>\n",
       "<style scoped>\n",
       "    .dataframe tbody tr th:only-of-type {\n",
       "        vertical-align: middle;\n",
       "    }\n",
       "\n",
       "    .dataframe tbody tr th {\n",
       "        vertical-align: top;\n",
       "    }\n",
       "\n",
       "    .dataframe thead th {\n",
       "        text-align: right;\n",
       "    }\n",
       "</style>\n",
       "<table border=\"1\" class=\"dataframe\">\n",
       "  <thead>\n",
       "    <tr style=\"text-align: right;\">\n",
       "      <th></th>\n",
       "      <th>id</th>\n",
       "      <th>gender</th>\n",
       "      <th>age</th>\n",
       "      <th>topic</th>\n",
       "      <th>sign</th>\n",
       "      <th>date</th>\n",
       "      <th>text</th>\n",
       "    </tr>\n",
       "  </thead>\n",
       "  <tbody>\n",
       "    <tr>\n",
       "      <th>534033</th>\n",
       "      <td>3637628</td>\n",
       "      <td>female</td>\n",
       "      <td>16</td>\n",
       "      <td>Student</td>\n",
       "      <td>Capricorn</td>\n",
       "      <td>15,June,2004</td>\n",
       "      <td>Mood: Triumphant return Movie o' ...</td>\n",
       "    </tr>\n",
       "    <tr>\n",
       "      <th>182201</th>\n",
       "      <td>3343564</td>\n",
       "      <td>female</td>\n",
       "      <td>26</td>\n",
       "      <td>Education</td>\n",
       "      <td>Virgo</td>\n",
       "      <td>19,July,2004</td>\n",
       "      <td>Up a half pound to 223. Got t...</td>\n",
       "    </tr>\n",
       "    <tr>\n",
       "      <th>510474</th>\n",
       "      <td>1404145</td>\n",
       "      <td>male</td>\n",
       "      <td>17</td>\n",
       "      <td>Religion</td>\n",
       "      <td>Cancer</td>\n",
       "      <td>22,May,2004</td>\n",
       "      <td>Good Morning Bloggers...I agree w...</td>\n",
       "    </tr>\n",
       "    <tr>\n",
       "      <th>623995</th>\n",
       "      <td>3510068</td>\n",
       "      <td>female</td>\n",
       "      <td>25</td>\n",
       "      <td>indUnk</td>\n",
       "      <td>Scorpio</td>\n",
       "      <td>31,May,2004</td>\n",
       "      <td>Last Sunday I completed my fi...</td>\n",
       "    </tr>\n",
       "    <tr>\n",
       "      <th>55818</th>\n",
       "      <td>3004257</td>\n",
       "      <td>male</td>\n",
       "      <td>17</td>\n",
       "      <td>Non-Profit</td>\n",
       "      <td>Aquarius</td>\n",
       "      <td>25,April,2004</td>\n",
       "      <td>This song makes me happy. I haven't pos...</td>\n",
       "    </tr>\n",
       "  </tbody>\n",
       "</table>\n",
       "</div>"
      ],
      "text/plain": [
       "             id  ...                                               text\n",
       "534033  3637628  ...               Mood: Triumphant return Movie o' ...\n",
       "182201  3343564  ...                   Up a half pound to 223. Got t...\n",
       "510474  1404145  ...               Good Morning Bloggers...I agree w...\n",
       "623995  3510068  ...                   Last Sunday I completed my fi...\n",
       "55818   3004257  ...         This song makes me happy. I haven't pos...\n",
       "\n",
       "[5 rows x 7 columns]"
      ]
     },
     "execution_count": 82,
     "metadata": {
      "tags": []
     },
     "output_type": "execute_result"
    }
   ],
   "source": [
    "dfblogs.head()"
   ]
  },
  {
   "cell_type": "code",
   "execution_count": 83,
   "metadata": {
    "colab": {
     "base_uri": "https://localhost:8080/"
    },
    "id": "JDp6aBWVj-ox",
    "outputId": "f029348a-ff7c-4b32-e99d-4314c0320af5"
   },
   "outputs": [
    {
     "data": {
      "text/plain": [
       "(100000, 7)"
      ]
     },
     "execution_count": 83,
     "metadata": {
      "tags": []
     },
     "output_type": "execute_result"
    }
   ],
   "source": [
    "dfblogs.shape"
   ]
  },
  {
   "cell_type": "markdown",
   "metadata": {
    "id": "CTLKKAsLj-oy"
   },
   "source": [
    "<b>Observation:</b>\n",
    "- There are 100000 rows with 7 attributes."
   ]
  },
  {
   "cell_type": "markdown",
   "metadata": {
    "id": "2NO_snPaWS8o"
   },
   "source": [
    "## Uni and Bi Variate Analysis"
   ]
  },
  {
   "cell_type": "code",
   "execution_count": 84,
   "metadata": {
    "colab": {
     "base_uri": "https://localhost:8080/"
    },
    "id": "zzkNB6d6j-oz",
    "outputId": "bb14069f-f782-471e-8469-b46719c9b2a6"
   },
   "outputs": [
    {
     "name": "stdout",
     "output_type": "stream",
     "text": [
      "<class 'pandas.core.frame.DataFrame'>\n",
      "Int64Index: 100000 entries, 534033 to 24722\n",
      "Data columns (total 7 columns):\n",
      " #   Column  Non-Null Count   Dtype \n",
      "---  ------  --------------   ----- \n",
      " 0   id      100000 non-null  int64 \n",
      " 1   gender  100000 non-null  object\n",
      " 2   age     100000 non-null  int64 \n",
      " 3   topic   100000 non-null  object\n",
      " 4   sign    100000 non-null  object\n",
      " 5   date    100000 non-null  object\n",
      " 6   text    100000 non-null  object\n",
      "dtypes: int64(2), object(5)\n",
      "memory usage: 6.1+ MB\n"
     ]
    }
   ],
   "source": [
    "dfblogs.info()"
   ]
  },
  {
   "cell_type": "markdown",
   "metadata": {
    "id": "oEqxn7QIj-o0"
   },
   "source": [
    "<b>Observation:</b>\n",
    "- Data type is int64 for id and age attributes.\n",
    "- Date type is object for rest of the attributes. \n",
    "- There is no missing values in dataset.\n"
   ]
  },
  {
   "cell_type": "code",
   "execution_count": 85,
   "metadata": {
    "colab": {
     "base_uri": "https://localhost:8080/",
     "height": 388
    },
    "id": "IElQJgKxj-o0",
    "outputId": "cd12e345-54ba-4cd1-fa0e-71764c18e1fd"
   },
   "outputs": [
    {
     "data": {
      "text/html": [
       "<div>\n",
       "<style scoped>\n",
       "    .dataframe tbody tr th:only-of-type {\n",
       "        vertical-align: middle;\n",
       "    }\n",
       "\n",
       "    .dataframe tbody tr th {\n",
       "        vertical-align: top;\n",
       "    }\n",
       "\n",
       "    .dataframe thead th {\n",
       "        text-align: right;\n",
       "    }\n",
       "</style>\n",
       "<table border=\"1\" class=\"dataframe\">\n",
       "  <thead>\n",
       "    <tr style=\"text-align: right;\">\n",
       "      <th></th>\n",
       "      <th>id</th>\n",
       "      <th>gender</th>\n",
       "      <th>age</th>\n",
       "      <th>topic</th>\n",
       "      <th>sign</th>\n",
       "      <th>date</th>\n",
       "      <th>text</th>\n",
       "    </tr>\n",
       "  </thead>\n",
       "  <tbody>\n",
       "    <tr>\n",
       "      <th>count</th>\n",
       "      <td>1.000000e+05</td>\n",
       "      <td>100000</td>\n",
       "      <td>100000.000000</td>\n",
       "      <td>100000</td>\n",
       "      <td>100000</td>\n",
       "      <td>100000</td>\n",
       "      <td>100000</td>\n",
       "    </tr>\n",
       "    <tr>\n",
       "      <th>unique</th>\n",
       "      <td>NaN</td>\n",
       "      <td>2</td>\n",
       "      <td>NaN</td>\n",
       "      <td>40</td>\n",
       "      <td>12</td>\n",
       "      <td>1780</td>\n",
       "      <td>97006</td>\n",
       "    </tr>\n",
       "    <tr>\n",
       "      <th>top</th>\n",
       "      <td>NaN</td>\n",
       "      <td>male</td>\n",
       "      <td>NaN</td>\n",
       "      <td>indUnk</td>\n",
       "      <td>Cancer</td>\n",
       "      <td>02,August,2004</td>\n",
       "      <td>urlLink</td>\n",
       "    </tr>\n",
       "    <tr>\n",
       "      <th>freq</th>\n",
       "      <td>NaN</td>\n",
       "      <td>50703</td>\n",
       "      <td>NaN</td>\n",
       "      <td>36873</td>\n",
       "      <td>9602</td>\n",
       "      <td>2394</td>\n",
       "      <td>71</td>\n",
       "    </tr>\n",
       "    <tr>\n",
       "      <th>mean</th>\n",
       "      <td>2.401783e+06</td>\n",
       "      <td>NaN</td>\n",
       "      <td>23.921590</td>\n",
       "      <td>NaN</td>\n",
       "      <td>NaN</td>\n",
       "      <td>NaN</td>\n",
       "      <td>NaN</td>\n",
       "    </tr>\n",
       "    <tr>\n",
       "      <th>std</th>\n",
       "      <td>1.246019e+06</td>\n",
       "      <td>NaN</td>\n",
       "      <td>7.786012</td>\n",
       "      <td>NaN</td>\n",
       "      <td>NaN</td>\n",
       "      <td>NaN</td>\n",
       "      <td>NaN</td>\n",
       "    </tr>\n",
       "    <tr>\n",
       "      <th>min</th>\n",
       "      <td>5.114000e+03</td>\n",
       "      <td>NaN</td>\n",
       "      <td>13.000000</td>\n",
       "      <td>NaN</td>\n",
       "      <td>NaN</td>\n",
       "      <td>NaN</td>\n",
       "      <td>NaN</td>\n",
       "    </tr>\n",
       "    <tr>\n",
       "      <th>25%</th>\n",
       "      <td>1.242619e+06</td>\n",
       "      <td>NaN</td>\n",
       "      <td>17.000000</td>\n",
       "      <td>NaN</td>\n",
       "      <td>NaN</td>\n",
       "      <td>NaN</td>\n",
       "      <td>NaN</td>\n",
       "    </tr>\n",
       "    <tr>\n",
       "      <th>50%</th>\n",
       "      <td>2.608756e+06</td>\n",
       "      <td>NaN</td>\n",
       "      <td>24.000000</td>\n",
       "      <td>NaN</td>\n",
       "      <td>NaN</td>\n",
       "      <td>NaN</td>\n",
       "      <td>NaN</td>\n",
       "    </tr>\n",
       "    <tr>\n",
       "      <th>75%</th>\n",
       "      <td>3.529406e+06</td>\n",
       "      <td>NaN</td>\n",
       "      <td>26.000000</td>\n",
       "      <td>NaN</td>\n",
       "      <td>NaN</td>\n",
       "      <td>NaN</td>\n",
       "      <td>NaN</td>\n",
       "    </tr>\n",
       "    <tr>\n",
       "      <th>max</th>\n",
       "      <td>4.336871e+06</td>\n",
       "      <td>NaN</td>\n",
       "      <td>48.000000</td>\n",
       "      <td>NaN</td>\n",
       "      <td>NaN</td>\n",
       "      <td>NaN</td>\n",
       "      <td>NaN</td>\n",
       "    </tr>\n",
       "  </tbody>\n",
       "</table>\n",
       "</div>"
      ],
      "text/plain": [
       "                  id  gender  ...            date                 text\n",
       "count   1.000000e+05  100000  ...          100000               100000\n",
       "unique           NaN       2  ...            1780                97006\n",
       "top              NaN    male  ...  02,August,2004           urlLink   \n",
       "freq             NaN   50703  ...            2394                   71\n",
       "mean    2.401783e+06     NaN  ...             NaN                  NaN\n",
       "std     1.246019e+06     NaN  ...             NaN                  NaN\n",
       "min     5.114000e+03     NaN  ...             NaN                  NaN\n",
       "25%     1.242619e+06     NaN  ...             NaN                  NaN\n",
       "50%     2.608756e+06     NaN  ...             NaN                  NaN\n",
       "75%     3.529406e+06     NaN  ...             NaN                  NaN\n",
       "max     4.336871e+06     NaN  ...             NaN                  NaN\n",
       "\n",
       "[11 rows x 7 columns]"
      ]
     },
     "execution_count": 85,
     "metadata": {
      "tags": []
     },
     "output_type": "execute_result"
    }
   ],
   "source": [
    "dfblogs.describe(include='all')"
   ]
  },
  {
   "cell_type": "markdown",
   "metadata": {
    "id": "Gih6-QEcj-o1"
   },
   "source": [
    "<b>Observation:</b>\n",
    "- Most of the bloggers are male\n",
    "- Blogger''s age range between 13 and 48. Average age is 24. \n",
    "- Most of blogs are releated to indUnk\n",
    "- Sign for many bloggers is Cancer"
   ]
  },
  {
   "cell_type": "code",
   "execution_count": 86,
   "metadata": {
    "colab": {
     "base_uri": "https://localhost:8080/",
     "height": 279
    },
    "id": "hSgY_q8Tj-o2",
    "outputId": "fb942d4f-90fb-4c3b-aca1-d73157ade8af"
   },
   "outputs": [
    {
     "data": {
      "image/png": "[encoded data removed]",
      "text/plain": [
       "<Figure size 432x288 with 1 Axes>"
      ]
     },
     "metadata": {
      "needs_background": "light",
      "tags": []
     },
     "output_type": "display_data"
    }
   ],
   "source": [
    "sns.countplot(dfblogs['gender'])\n",
    "ax = sns.countplot(dfblogs['gender'], \n",
    "                   order = dfblogs['gender'].value_counts().index)\n",
    "\n",
    "for p, label in zip(ax.patches, dfblogs['gender'].value_counts()):\n",
    "    ax.annotate(label, (p.get_x()+0.25, p.get_height()+0.25))"
   ]
  },
  {
   "cell_type": "markdown",
   "metadata": {
    "id": "sFoJ4SCyU7jQ"
   },
   "source": [
    "**Observation:**\n",
    "- Almost equal number of male and female bloggers in the dataset."
   ]
  },
  {
   "cell_type": "code",
   "execution_count": 87,
   "metadata": {
    "colab": {
     "base_uri": "https://localhost:8080/",
     "height": 606
    },
    "id": "uINe9YIhj-o3",
    "outputId": "11a7b7f6-1281-4304-b4da-6500c7f8a8b0"
   },
   "outputs": [
    {
     "data": {
      "image/png": "[encoded data removed]",
      "text/plain": [
       "<Figure size 720x720 with 1 Axes>"
      ]
     },
     "metadata": {
      "needs_background": "light",
      "tags": []
     },
     "output_type": "display_data"
    }
   ],
   "source": [
    "plt.figure(figsize=(10,10))\n",
    "ax = sns.countplot(y=\"topic\",  data=dfblogs)"
   ]
  },
  {
   "cell_type": "markdown",
   "metadata": {
    "id": "UXHSg2vNYkXq"
   },
   "source": [
    "**Observation:**\n",
    "- Many number of bloggers discussed about the topic indUnk then student. "
   ]
  },
  {
   "cell_type": "code",
   "execution_count": 88,
   "metadata": {
    "colab": {
     "base_uri": "https://localhost:8080/",
     "height": 352
    },
    "id": "I65VqPpuj-o4",
    "outputId": "41b009da-ec4b-4787-b323-95a73278482a"
   },
   "outputs": [
    {
     "data": {
      "text/plain": [
       "<matplotlib.axes._subplots.AxesSubplot at 0x7f72eb115410>"
      ]
     },
     "execution_count": 88,
     "metadata": {
      "tags": []
     },
     "output_type": "execute_result"
    },
    {
     "data": {
      "image/png": "[encoded data removed]",
      "text/plain": [
       "<Figure size 1080x360 with 1 Axes>"
      ]
     },
     "metadata": {
      "needs_background": "light",
      "tags": []
     },
     "output_type": "display_data"
    }
   ],
   "source": [
    "plt.figure(figsize=(15,5))\n",
    "sns.countplot(dfblogs['sign'])"
   ]
  },
  {
   "cell_type": "markdown",
   "metadata": {
    "id": "g--gtuHtcx_p"
   },
   "source": [
    "**Observation:**\n",
    "- There are high number of Cancer and Aries signs in dataset."
   ]
  },
  {
   "cell_type": "code",
   "execution_count": 89,
   "metadata": {
    "colab": {
     "base_uri": "https://localhost:8080/",
     "height": 296
    },
    "id": "t7OP0wmKj-o4",
    "outputId": "92d5f07c-1bb4-4206-ba33-8a99f7ac315a"
   },
   "outputs": [
    {
     "data": {
      "text/plain": [
       "<matplotlib.axes._subplots.AxesSubplot at 0x7f72e9e26dd0>"
      ]
     },
     "execution_count": 89,
     "metadata": {
      "tags": []
     },
     "output_type": "execute_result"
    },
    {
     "data": {
      "image/png": "[encoded data removed]",
      "text/plain": [
       "<Figure size 432x288 with 1 Axes>"
      ]
     },
     "metadata": {
      "needs_background": "light",
      "tags": []
     },
     "output_type": "display_data"
    }
   ],
   "source": [
    "sns.distplot(dfblogs['age'])"
   ]
  },
  {
   "cell_type": "code",
   "execution_count": 90,
   "metadata": {
    "colab": {
     "base_uri": "https://localhost:8080/"
    },
    "id": "k08DVlXOxZ2x",
    "outputId": "69c1f66f-7a28-4f81-a859-795a76091f6d"
   },
   "outputs": [
    {
     "data": {
      "text/plain": [
       "array([13, 14, 15, 16, 17, 23, 24, 25, 26, 27, 33, 34, 35, 36, 37, 38, 39,\n",
       "       40, 41, 42, 43, 44, 45, 46, 47, 48])"
      ]
     },
     "execution_count": 90,
     "metadata": {
      "tags": []
     },
     "output_type": "execute_result"
    }
   ],
   "source": [
    "np.sort(dfblogs['age'].unique())"
   ]
  },
  {
   "cell_type": "markdown",
   "metadata": {},
   "source": [
    "<b>Observation:</b>\n",
    "- The bloggers age between 13 and 48"
   ]
  },
  {
   "cell_type": "code",
   "execution_count": 91,
   "metadata": {
    "id": "DZkHQ_bj47_H"
   },
   "outputs": [],
   "source": [
    "# Bucketizing age\n",
    "col = 'age'\n",
    "conditions  = [(dfblogs[col] >=13) & (dfblogs[col] <= 17), (dfblogs[col] >=23) & (dfblogs[col] <= 27),(dfblogs[col] >=33) & (dfblogs[col] <= 49)]\n",
    "choices     = [ \"13-17\", \"23-27\", '33-48']\n",
    "    \n",
    "dfblogs[\"agegroup\"] = np.select(conditions, choices, default=np.nan)\n"
   ]
  },
  {
   "cell_type": "code",
   "execution_count": 92,
   "metadata": {
    "colab": {
     "base_uri": "https://localhost:8080/"
    },
    "id": "EmkgU7Ue_otx",
    "outputId": "8e92a457-f5f2-4bb5-ad76-50c98dcf9862"
   },
   "outputs": [
    {
     "data": {
      "text/plain": [
       "23-27    47192\n",
       "13-17    34666\n",
       "33-48    18142\n",
       "Name: agegroup, dtype: int64"
      ]
     },
     "execution_count": 92,
     "metadata": {
      "tags": []
     },
     "output_type": "execute_result"
    }
   ],
   "source": [
    "dfblogs[\"agegroup\"].value_counts()"
   ]
  },
  {
   "cell_type": "code",
   "execution_count": 93,
   "metadata": {
    "colab": {
     "base_uri": "https://localhost:8080/",
     "height": 351
    },
    "id": "v1wgvG0_-mc3",
    "outputId": "0e9f30f2-bdfe-4039-e520-f2738b203f12"
   },
   "outputs": [
    {
     "data": {
      "text/plain": [
       "<matplotlib.axes._subplots.AxesSubplot at 0x7f72e9e22e50>"
      ]
     },
     "execution_count": 93,
     "metadata": {
      "tags": []
     },
     "output_type": "execute_result"
    },
    {
     "data": {
      "image/png": "[encoded data removed]",
      "text/plain": [
       "<Figure size 1080x360 with 1 Axes>"
      ]
     },
     "metadata": {
      "needs_background": "light",
      "tags": []
     },
     "output_type": "display_data"
    }
   ],
   "source": [
    "plt.figure(figsize=(15,5))\n",
    "sns.countplot(dfblogs['agegroup'])"
   ]
  },
  {
   "cell_type": "markdown",
   "metadata": {},
   "source": [
    "<b>Observation:</b>\n",
    "- Many bloggers are fall between 23-27 age group. "
   ]
  },
  {
   "cell_type": "code",
   "execution_count": 94,
   "metadata": {
    "colab": {
     "base_uri": "https://localhost:8080/",
     "height": 497
    },
    "id": "Hsj8vmeOj-o5",
    "outputId": "b8cd0e8b-9eeb-4a2e-a2aa-2e9bdf80af18"
   },
   "outputs": [
    {
     "data": {
      "image/png": "[encoded data removed]",
      "text/plain": [
       "<Figure size 1440x576 with 1 Axes>"
      ]
     },
     "metadata": {
      "needs_background": "light",
      "tags": []
     },
     "output_type": "display_data"
    }
   ],
   "source": [
    "plt.figure(figsize=(20,8))\n",
    "ax = sns.countplot(x=\"agegroup\", hue=\"gender\", data=dfblogs)"
   ]
  },
  {
   "cell_type": "markdown",
   "metadata": {},
   "source": [
    "<b>Observation:</b>\n",
    "- There are almost equal numbers of male and female in all age group."
   ]
  },
  {
   "cell_type": "code",
   "execution_count": 95,
   "metadata": {
    "colab": {
     "base_uri": "https://localhost:8080/",
     "height": 1000
    },
    "id": "pMwyY_ERj-o6",
    "outputId": "d6d67926-13d6-4688-8fdf-0200a50b5980"
   },
   "outputs": [
    {
     "data": {
      "text/plain": [
       "<matplotlib.axes._subplots.AxesSubplot at 0x7f72e770e850>"
      ]
     },
     "execution_count": 95,
     "metadata": {
      "tags": []
     },
     "output_type": "execute_result"
    },
    {
     "data": {
      "image/png": "[encoded data removed]",
      "text/plain": [
       "<Figure size 720x1440 with 1 Axes>"
      ]
     },
     "metadata": {
      "needs_background": "light",
      "tags": []
     },
     "output_type": "display_data"
    }
   ],
   "source": [
    "plt.figure(figsize=(10,20))\n",
    "sns.countplot(y=\"topic\", hue=\"gender\", data=dfblogs)"
   ]
  },
  {
   "cell_type": "markdown",
   "metadata": {},
   "source": [
    "<b>Observation:</b>\n",
    "- Many bloggers discussed about topic indUnk"
   ]
  },
  {
   "cell_type": "markdown",
   "metadata": {
    "id": "OthcdwG0j-o9"
   },
   "source": [
    "## Preprocessing"
   ]
  },
  {
   "cell_type": "markdown",
   "metadata": {
    "id": "Gc8AihO-j-o9"
   },
   "source": [
    "### Remove Punctuations"
   ]
  },
  {
   "cell_type": "code",
   "execution_count": 96,
   "metadata": {
    "id": "hTqQchYYj-o-"
   },
   "outputs": [],
   "source": [
    "punctuations = string.punctuation\n",
    "\n",
    "def remove_punctuations(text):\n",
    "    return text.translate(str.maketrans('','',punctuations))"
   ]
  },
  {
   "cell_type": "code",
   "execution_count": 97,
   "metadata": {
    "id": "Pdw1xhl9j-o-"
   },
   "outputs": [],
   "source": [
    "dfblogs[\"cleaned_text\"] = dfblogs['text'].apply(lambda x: remove_punctuations(x))"
   ]
  },
  {
   "cell_type": "code",
   "execution_count": 98,
   "metadata": {
    "colab": {
     "base_uri": "https://localhost:8080/",
     "height": 417
    },
    "id": "tNmrPHa9j-o_",
    "outputId": "19d34bd0-831b-4f7d-d74a-29f15909bc82"
   },
   "outputs": [
    {
     "data": {
      "text/html": [
       "<div>\n",
       "<style scoped>\n",
       "    .dataframe tbody tr th:only-of-type {\n",
       "        vertical-align: middle;\n",
       "    }\n",
       "\n",
       "    .dataframe tbody tr th {\n",
       "        vertical-align: top;\n",
       "    }\n",
       "\n",
       "    .dataframe thead th {\n",
       "        text-align: right;\n",
       "    }\n",
       "</style>\n",
       "<table border=\"1\" class=\"dataframe\">\n",
       "  <thead>\n",
       "    <tr style=\"text-align: right;\">\n",
       "      <th></th>\n",
       "      <th>text</th>\n",
       "      <th>cleaned_text</th>\n",
       "    </tr>\n",
       "  </thead>\n",
       "  <tbody>\n",
       "    <tr>\n",
       "      <th>534033</th>\n",
       "      <td>Mood: Triumphant return Movie o' ...</td>\n",
       "      <td>Mood Triumphant return Movie o th...</td>\n",
       "    </tr>\n",
       "    <tr>\n",
       "      <th>182201</th>\n",
       "      <td>Up a half pound to 223. Got t...</td>\n",
       "      <td>Up a half pound to 223 Got to...</td>\n",
       "    </tr>\n",
       "    <tr>\n",
       "      <th>510474</th>\n",
       "      <td>Good Morning Bloggers...I agree w...</td>\n",
       "      <td>Good Morning BloggersI agree with...</td>\n",
       "    </tr>\n",
       "    <tr>\n",
       "      <th>623995</th>\n",
       "      <td>Last Sunday I completed my fi...</td>\n",
       "      <td>Last Sunday I completed my fi...</td>\n",
       "    </tr>\n",
       "    <tr>\n",
       "      <th>55818</th>\n",
       "      <td>This song makes me happy. I haven't pos...</td>\n",
       "      <td>This song makes me happy I havent poste...</td>\n",
       "    </tr>\n",
       "    <tr>\n",
       "      <th>...</th>\n",
       "      <td>...</td>\n",
       "      <td>...</td>\n",
       "    </tr>\n",
       "    <tr>\n",
       "      <th>232272</th>\n",
       "      <td>I'm already greeting all the Dads out t...</td>\n",
       "      <td>Im already greeting all the Dads out th...</td>\n",
       "    </tr>\n",
       "    <tr>\n",
       "      <th>67707</th>\n",
       "      <td>On another note, I have over 40 digital...</td>\n",
       "      <td>On another note I have over 40 digital ...</td>\n",
       "    </tr>\n",
       "    <tr>\n",
       "      <th>573811</th>\n",
       "      <td>Why do they think that people will fall...</td>\n",
       "      <td>Why do they think that people will fall...</td>\n",
       "    </tr>\n",
       "    <tr>\n",
       "      <th>462175</th>\n",
       "      <td>The Quaker franchise has accomplished m...</td>\n",
       "      <td>The Quaker franchise has accomplished m...</td>\n",
       "    </tr>\n",
       "    <tr>\n",
       "      <th>24722</th>\n",
       "      <td>IT CAME!  After I got back from Dee's b...</td>\n",
       "      <td>IT CAME  After I got back from Dees bir...</td>\n",
       "    </tr>\n",
       "  </tbody>\n",
       "</table>\n",
       "<p>100000 rows × 2 columns</p>\n",
       "</div>"
      ],
      "text/plain": [
       "                                                     text                                       cleaned_text\n",
       "534033               Mood: Triumphant return Movie o' ...               Mood Triumphant return Movie o th...\n",
       "182201                   Up a half pound to 223. Got t...                   Up a half pound to 223 Got to...\n",
       "510474               Good Morning Bloggers...I agree w...               Good Morning BloggersI agree with...\n",
       "623995                   Last Sunday I completed my fi...                   Last Sunday I completed my fi...\n",
       "55818          This song makes me happy. I haven't pos...         This song makes me happy I havent poste...\n",
       "...                                                   ...                                                ...\n",
       "232272         I'm already greeting all the Dads out t...         Im already greeting all the Dads out th...\n",
       "67707          On another note, I have over 40 digital...         On another note I have over 40 digital ...\n",
       "573811         Why do they think that people will fall...         Why do they think that people will fall...\n",
       "462175         The Quaker franchise has accomplished m...         The Quaker franchise has accomplished m...\n",
       "24722          IT CAME!  After I got back from Dee's b...         IT CAME  After I got back from Dees bir...\n",
       "\n",
       "[100000 rows x 2 columns]"
      ]
     },
     "execution_count": 98,
     "metadata": {
      "tags": []
     },
     "output_type": "execute_result"
    }
   ],
   "source": [
    "dfblogs[[\"text\",\"cleaned_text\"]]"
   ]
  },
  {
   "cell_type": "markdown",
   "metadata": {
    "id": "tpEO6whDj-pA"
   },
   "source": [
    "### Remove Unwanted Spaces"
   ]
  },
  {
   "cell_type": "code",
   "execution_count": 99,
   "metadata": {
    "id": "dDi1fGggj-pA"
   },
   "outputs": [],
   "source": [
    "# Replace more than 1 space with 1 space\n",
    "dfblogs['cleaned_text']= dfblogs['text'].str.replace(r\"\\s\\s+\",' ')\n",
    "\n",
    "# Delete beginning and trailing spaces\n",
    "dfblogs[\"cleaned_text\"] = dfblogs[\"cleaned_text\"].apply(lambda x: x.strip()) "
   ]
  },
  {
   "cell_type": "code",
   "execution_count": 100,
   "metadata": {
    "colab": {
     "base_uri": "https://localhost:8080/",
     "height": 417
    },
    "id": "6qYrKhC_j-pA",
    "outputId": "5e3d986f-0f42-43bd-86a0-c2a7d7e89c3f"
   },
   "outputs": [
    {
     "data": {
      "text/html": [
       "<div>\n",
       "<style scoped>\n",
       "    .dataframe tbody tr th:only-of-type {\n",
       "        vertical-align: middle;\n",
       "    }\n",
       "\n",
       "    .dataframe tbody tr th {\n",
       "        vertical-align: top;\n",
       "    }\n",
       "\n",
       "    .dataframe thead th {\n",
       "        text-align: right;\n",
       "    }\n",
       "</style>\n",
       "<table border=\"1\" class=\"dataframe\">\n",
       "  <thead>\n",
       "    <tr style=\"text-align: right;\">\n",
       "      <th></th>\n",
       "      <th>text</th>\n",
       "      <th>cleaned_text</th>\n",
       "    </tr>\n",
       "  </thead>\n",
       "  <tbody>\n",
       "    <tr>\n",
       "      <th>534033</th>\n",
       "      <td>Mood: Triumphant return Movie o' ...</td>\n",
       "      <td>Mood: Triumphant return Movie o' the week: The...</td>\n",
       "    </tr>\n",
       "    <tr>\n",
       "      <th>182201</th>\n",
       "      <td>Up a half pound to 223. Got t...</td>\n",
       "      <td>Up a half pound to 223. Got to stop eating so ...</td>\n",
       "    </tr>\n",
       "    <tr>\n",
       "      <th>510474</th>\n",
       "      <td>Good Morning Bloggers...I agree w...</td>\n",
       "      <td>Good Morning Bloggers...I agree with Rob...the...</td>\n",
       "    </tr>\n",
       "    <tr>\n",
       "      <th>623995</th>\n",
       "      <td>Last Sunday I completed my fi...</td>\n",
       "      <td>Last Sunday I completed my first long run, 5 m...</td>\n",
       "    </tr>\n",
       "    <tr>\n",
       "      <th>55818</th>\n",
       "      <td>This song makes me happy. I haven't pos...</td>\n",
       "      <td>This song makes me happy. I haven't posted in ...</td>\n",
       "    </tr>\n",
       "    <tr>\n",
       "      <th>...</th>\n",
       "      <td>...</td>\n",
       "      <td>...</td>\n",
       "    </tr>\n",
       "    <tr>\n",
       "      <th>232272</th>\n",
       "      <td>I'm already greeting all the Dads out t...</td>\n",
       "      <td>I'm already greeting all the Dads out there......</td>\n",
       "    </tr>\n",
       "    <tr>\n",
       "      <th>67707</th>\n",
       "      <td>On another note, I have over 40 digital...</td>\n",
       "      <td>On another note, I have over 40 digital artwor...</td>\n",
       "    </tr>\n",
       "    <tr>\n",
       "      <th>573811</th>\n",
       "      <td>Why do they think that people will fall...</td>\n",
       "      <td>Why do they think that people will fall for th...</td>\n",
       "    </tr>\n",
       "    <tr>\n",
       "      <th>462175</th>\n",
       "      <td>The Quaker franchise has accomplished m...</td>\n",
       "      <td>The Quaker franchise has accomplished many fea...</td>\n",
       "    </tr>\n",
       "    <tr>\n",
       "      <th>24722</th>\n",
       "      <td>IT CAME!  After I got back from Dee's b...</td>\n",
       "      <td>IT CAME! After I got back from Dee's birthday ...</td>\n",
       "    </tr>\n",
       "  </tbody>\n",
       "</table>\n",
       "<p>100000 rows × 2 columns</p>\n",
       "</div>"
      ],
      "text/plain": [
       "                                                     text                                       cleaned_text\n",
       "534033               Mood: Triumphant return Movie o' ...  Mood: Triumphant return Movie o' the week: The...\n",
       "182201                   Up a half pound to 223. Got t...  Up a half pound to 223. Got to stop eating so ...\n",
       "510474               Good Morning Bloggers...I agree w...  Good Morning Bloggers...I agree with Rob...the...\n",
       "623995                   Last Sunday I completed my fi...  Last Sunday I completed my first long run, 5 m...\n",
       "55818          This song makes me happy. I haven't pos...  This song makes me happy. I haven't posted in ...\n",
       "...                                                   ...                                                ...\n",
       "232272         I'm already greeting all the Dads out t...  I'm already greeting all the Dads out there......\n",
       "67707          On another note, I have over 40 digital...  On another note, I have over 40 digital artwor...\n",
       "573811         Why do they think that people will fall...  Why do they think that people will fall for th...\n",
       "462175         The Quaker franchise has accomplished m...  The Quaker franchise has accomplished many fea...\n",
       "24722          IT CAME!  After I got back from Dee's b...  IT CAME! After I got back from Dee's birthday ...\n",
       "\n",
       "[100000 rows x 2 columns]"
      ]
     },
     "execution_count": 100,
     "metadata": {
      "tags": []
     },
     "output_type": "execute_result"
    }
   ],
   "source": [
    "dfblogs[[\"text\",\"cleaned_text\"]]"
   ]
  },
  {
   "cell_type": "markdown",
   "metadata": {
    "id": "C5Oilp5rj-pB"
   },
   "source": [
    "### Convert to Lower Case"
   ]
  },
  {
   "cell_type": "code",
   "execution_count": 101,
   "metadata": {
    "colab": {
     "base_uri": "https://localhost:8080/",
     "height": 417
    },
    "id": "DBnJnSsfj-pC",
    "outputId": "39f540c9-b158-46ea-a04c-13c5a7d5ebc4"
   },
   "outputs": [
    {
     "data": {
      "text/html": [
       "<div>\n",
       "<style scoped>\n",
       "    .dataframe tbody tr th:only-of-type {\n",
       "        vertical-align: middle;\n",
       "    }\n",
       "\n",
       "    .dataframe tbody tr th {\n",
       "        vertical-align: top;\n",
       "    }\n",
       "\n",
       "    .dataframe thead th {\n",
       "        text-align: right;\n",
       "    }\n",
       "</style>\n",
       "<table border=\"1\" class=\"dataframe\">\n",
       "  <thead>\n",
       "    <tr style=\"text-align: right;\">\n",
       "      <th></th>\n",
       "      <th>text</th>\n",
       "      <th>cleaned_text</th>\n",
       "    </tr>\n",
       "  </thead>\n",
       "  <tbody>\n",
       "    <tr>\n",
       "      <th>534033</th>\n",
       "      <td>Mood: Triumphant return Movie o' ...</td>\n",
       "      <td>mood: triumphant return movie o' the week: the...</td>\n",
       "    </tr>\n",
       "    <tr>\n",
       "      <th>182201</th>\n",
       "      <td>Up a half pound to 223. Got t...</td>\n",
       "      <td>up a half pound to 223. got to stop eating so ...</td>\n",
       "    </tr>\n",
       "    <tr>\n",
       "      <th>510474</th>\n",
       "      <td>Good Morning Bloggers...I agree w...</td>\n",
       "      <td>good morning bloggers...i agree with rob...the...</td>\n",
       "    </tr>\n",
       "    <tr>\n",
       "      <th>623995</th>\n",
       "      <td>Last Sunday I completed my fi...</td>\n",
       "      <td>last sunday i completed my first long run, 5 m...</td>\n",
       "    </tr>\n",
       "    <tr>\n",
       "      <th>55818</th>\n",
       "      <td>This song makes me happy. I haven't pos...</td>\n",
       "      <td>this song makes me happy. i haven't posted in ...</td>\n",
       "    </tr>\n",
       "    <tr>\n",
       "      <th>...</th>\n",
       "      <td>...</td>\n",
       "      <td>...</td>\n",
       "    </tr>\n",
       "    <tr>\n",
       "      <th>232272</th>\n",
       "      <td>I'm already greeting all the Dads out t...</td>\n",
       "      <td>i'm already greeting all the dads out there......</td>\n",
       "    </tr>\n",
       "    <tr>\n",
       "      <th>67707</th>\n",
       "      <td>On another note, I have over 40 digital...</td>\n",
       "      <td>on another note, i have over 40 digital artwor...</td>\n",
       "    </tr>\n",
       "    <tr>\n",
       "      <th>573811</th>\n",
       "      <td>Why do they think that people will fall...</td>\n",
       "      <td>why do they think that people will fall for th...</td>\n",
       "    </tr>\n",
       "    <tr>\n",
       "      <th>462175</th>\n",
       "      <td>The Quaker franchise has accomplished m...</td>\n",
       "      <td>the quaker franchise has accomplished many fea...</td>\n",
       "    </tr>\n",
       "    <tr>\n",
       "      <th>24722</th>\n",
       "      <td>IT CAME!  After I got back from Dee's b...</td>\n",
       "      <td>it came! after i got back from dee's birthday ...</td>\n",
       "    </tr>\n",
       "  </tbody>\n",
       "</table>\n",
       "<p>100000 rows × 2 columns</p>\n",
       "</div>"
      ],
      "text/plain": [
       "                                                     text                                       cleaned_text\n",
       "534033               Mood: Triumphant return Movie o' ...  mood: triumphant return movie o' the week: the...\n",
       "182201                   Up a half pound to 223. Got t...  up a half pound to 223. got to stop eating so ...\n",
       "510474               Good Morning Bloggers...I agree w...  good morning bloggers...i agree with rob...the...\n",
       "623995                   Last Sunday I completed my fi...  last sunday i completed my first long run, 5 m...\n",
       "55818          This song makes me happy. I haven't pos...  this song makes me happy. i haven't posted in ...\n",
       "...                                                   ...                                                ...\n",
       "232272         I'm already greeting all the Dads out t...  i'm already greeting all the dads out there......\n",
       "67707          On another note, I have over 40 digital...  on another note, i have over 40 digital artwor...\n",
       "573811         Why do they think that people will fall...  why do they think that people will fall for th...\n",
       "462175         The Quaker franchise has accomplished m...  the quaker franchise has accomplished many fea...\n",
       "24722          IT CAME!  After I got back from Dee's b...  it came! after i got back from dee's birthday ...\n",
       "\n",
       "[100000 rows x 2 columns]"
      ]
     },
     "execution_count": 101,
     "metadata": {
      "tags": []
     },
     "output_type": "execute_result"
    }
   ],
   "source": [
    "dfblogs[\"cleaned_text\"] = dfblogs[\"cleaned_text\"].str.lower()\n",
    "dfblogs[\"topic\"] = dfblogs[\"topic\"].str.lower()\n",
    "dfblogs[\"sign\"] = dfblogs[\"sign\"].str.lower()\n",
    "dfblogs[[\"text\",\"cleaned_text\"]]"
   ]
  },
  {
   "cell_type": "markdown",
   "metadata": {
    "id": "p9nFlINZj-pC"
   },
   "source": [
    "### Remove Stopwords"
   ]
  },
  {
   "cell_type": "code",
   "execution_count": 102,
   "metadata": {
    "colab": {
     "base_uri": "https://localhost:8080/"
    },
    "id": "M8S6JWZej-pD",
    "outputId": "2a47b58c-fdb4-4997-e9d7-380ba4556718"
   },
   "outputs": [
    {
     "name": "stdout",
     "output_type": "stream",
     "text": [
      "[nltk_data] Downloading package stopwords to /root/nltk_data...\n",
      "[nltk_data]   Package stopwords is already up-to-date!\n"
     ]
    }
   ],
   "source": [
    "nltk.download('stopwords')\n",
    "\n",
    "stop_words = set(stopwords.words('english'))\n",
    "\n",
    "def remove_stopwords(text):\n",
    "    return \" \".join([word for word in str(text).split() if word not in stop_words])"
   ]
  },
  {
   "cell_type": "code",
   "execution_count": 103,
   "metadata": {
    "id": "gXQuV4Y-j-pE"
   },
   "outputs": [],
   "source": [
    "dfblogs[\"cleaned_text\"] = dfblogs[\"cleaned_text\"].apply(lambda x: remove_stopwords(x)) "
   ]
  },
  {
   "cell_type": "code",
   "execution_count": 104,
   "metadata": {
    "colab": {
     "base_uri": "https://localhost:8080/",
     "height": 417
    },
    "id": "UApbVcWEj-pE",
    "outputId": "26bac6bd-9af3-490a-925c-73c3fc3552ec"
   },
   "outputs": [
    {
     "data": {
      "text/html": [
       "<div>\n",
       "<style scoped>\n",
       "    .dataframe tbody tr th:only-of-type {\n",
       "        vertical-align: middle;\n",
       "    }\n",
       "\n",
       "    .dataframe tbody tr th {\n",
       "        vertical-align: top;\n",
       "    }\n",
       "\n",
       "    .dataframe thead th {\n",
       "        text-align: right;\n",
       "    }\n",
       "</style>\n",
       "<table border=\"1\" class=\"dataframe\">\n",
       "  <thead>\n",
       "    <tr style=\"text-align: right;\">\n",
       "      <th></th>\n",
       "      <th>text</th>\n",
       "      <th>cleaned_text</th>\n",
       "    </tr>\n",
       "  </thead>\n",
       "  <tbody>\n",
       "    <tr>\n",
       "      <th>534033</th>\n",
       "      <td>Mood: Triumphant return Movie o' ...</td>\n",
       "      <td>mood: triumphant return movie o' week: godfath...</td>\n",
       "    </tr>\n",
       "    <tr>\n",
       "      <th>182201</th>\n",
       "      <td>Up a half pound to 223. Got t...</td>\n",
       "      <td>half pound 223. got stop eating much crap. say...</td>\n",
       "    </tr>\n",
       "    <tr>\n",
       "      <th>510474</th>\n",
       "      <td>Good Morning Bloggers...I agree w...</td>\n",
       "      <td>good morning bloggers...i agree rob...the life...</td>\n",
       "    </tr>\n",
       "    <tr>\n",
       "      <th>623995</th>\n",
       "      <td>Last Sunday I completed my fi...</td>\n",
       "      <td>last sunday completed first long run, 5 miles....</td>\n",
       "    </tr>\n",
       "    <tr>\n",
       "      <th>55818</th>\n",
       "      <td>This song makes me happy. I haven't pos...</td>\n",
       "      <td>song makes happy. posted long long time. catch...</td>\n",
       "    </tr>\n",
       "    <tr>\n",
       "      <th>...</th>\n",
       "      <td>...</td>\n",
       "      <td>...</td>\n",
       "    </tr>\n",
       "    <tr>\n",
       "      <th>232272</th>\n",
       "      <td>I'm already greeting all the Dads out t...</td>\n",
       "      <td>i'm already greeting dads there... happy fathe...</td>\n",
       "    </tr>\n",
       "    <tr>\n",
       "      <th>67707</th>\n",
       "      <td>On another note, I have over 40 digital...</td>\n",
       "      <td>another note, 40 digital artworks 50 drawings ...</td>\n",
       "    </tr>\n",
       "    <tr>\n",
       "      <th>573811</th>\n",
       "      <td>Why do they think that people will fall...</td>\n",
       "      <td>think people fall this? people fallen this? --...</td>\n",
       "    </tr>\n",
       "    <tr>\n",
       "      <th>462175</th>\n",
       "      <td>The Quaker franchise has accomplished m...</td>\n",
       "      <td>quaker franchise accomplished many feats: cu r...</td>\n",
       "    </tr>\n",
       "    <tr>\n",
       "      <th>24722</th>\n",
       "      <td>IT CAME!  After I got back from Dee's b...</td>\n",
       "      <td>came! got back dee's birthday dinner, saw tiny...</td>\n",
       "    </tr>\n",
       "  </tbody>\n",
       "</table>\n",
       "<p>100000 rows × 2 columns</p>\n",
       "</div>"
      ],
      "text/plain": [
       "                                                     text                                       cleaned_text\n",
       "534033               Mood: Triumphant return Movie o' ...  mood: triumphant return movie o' week: godfath...\n",
       "182201                   Up a half pound to 223. Got t...  half pound 223. got stop eating much crap. say...\n",
       "510474               Good Morning Bloggers...I agree w...  good morning bloggers...i agree rob...the life...\n",
       "623995                   Last Sunday I completed my fi...  last sunday completed first long run, 5 miles....\n",
       "55818          This song makes me happy. I haven't pos...  song makes happy. posted long long time. catch...\n",
       "...                                                   ...                                                ...\n",
       "232272         I'm already greeting all the Dads out t...  i'm already greeting dads there... happy fathe...\n",
       "67707          On another note, I have over 40 digital...  another note, 40 digital artworks 50 drawings ...\n",
       "573811         Why do they think that people will fall...  think people fall this? people fallen this? --...\n",
       "462175         The Quaker franchise has accomplished m...  quaker franchise accomplished many feats: cu r...\n",
       "24722          IT CAME!  After I got back from Dee's b...  came! got back dee's birthday dinner, saw tiny...\n",
       "\n",
       "[100000 rows x 2 columns]"
      ]
     },
     "execution_count": 104,
     "metadata": {
      "tags": []
     },
     "output_type": "execute_result"
    }
   ],
   "source": [
    "dfblogs[[\"text\",\"cleaned_text\"]]"
   ]
  },
  {
   "cell_type": "markdown",
   "metadata": {
    "id": "P4QeIkixg4AX"
   },
   "source": [
    "### Remove Duplicate Characters"
   ]
  },
  {
   "cell_type": "code",
   "execution_count": 105,
   "metadata": {
    "id": "LWiXynFjhFY9"
   },
   "outputs": [],
   "source": [
    "def remove_dupcharacters(text):\n",
    "        return \"\".join(re.sub(\"(.)\\\\1{2,}\", \"\\\\1\", text))"
   ]
  },
  {
   "cell_type": "code",
   "execution_count": 106,
   "metadata": {
    "id": "pQ4zdWKqjajN"
   },
   "outputs": [],
   "source": [
    "dfblogs[\"cleaned_text\"] = dfblogs[\"cleaned_text\"].apply(lambda x: remove_dupcharacters(x)) "
   ]
  },
  {
   "cell_type": "code",
   "execution_count": 107,
   "metadata": {
    "colab": {
     "base_uri": "https://localhost:8080/",
     "height": 417
    },
    "id": "UNIm8WOYjtmR",
    "outputId": "7ae3f33d-de2c-4690-a11e-5fe3a4744f49"
   },
   "outputs": [
    {
     "data": {
      "text/html": [
       "<div>\n",
       "<style scoped>\n",
       "    .dataframe tbody tr th:only-of-type {\n",
       "        vertical-align: middle;\n",
       "    }\n",
       "\n",
       "    .dataframe tbody tr th {\n",
       "        vertical-align: top;\n",
       "    }\n",
       "\n",
       "    .dataframe thead th {\n",
       "        text-align: right;\n",
       "    }\n",
       "</style>\n",
       "<table border=\"1\" class=\"dataframe\">\n",
       "  <thead>\n",
       "    <tr style=\"text-align: right;\">\n",
       "      <th></th>\n",
       "      <th>text</th>\n",
       "      <th>cleaned_text</th>\n",
       "    </tr>\n",
       "  </thead>\n",
       "  <tbody>\n",
       "    <tr>\n",
       "      <th>534033</th>\n",
       "      <td>Mood: Triumphant return Movie o' ...</td>\n",
       "      <td>mood: triumphant return movie o' week: godfath...</td>\n",
       "    </tr>\n",
       "    <tr>\n",
       "      <th>182201</th>\n",
       "      <td>Up a half pound to 223. Got t...</td>\n",
       "      <td>half pound 223. got stop eating much crap. say...</td>\n",
       "    </tr>\n",
       "    <tr>\n",
       "      <th>510474</th>\n",
       "      <td>Good Morning Bloggers...I agree w...</td>\n",
       "      <td>good morning bloggers.i agree rob.the life ski...</td>\n",
       "    </tr>\n",
       "    <tr>\n",
       "      <th>623995</th>\n",
       "      <td>Last Sunday I completed my fi...</td>\n",
       "      <td>last sunday completed first long run, 5 miles....</td>\n",
       "    </tr>\n",
       "    <tr>\n",
       "      <th>55818</th>\n",
       "      <td>This song makes me happy. I haven't pos...</td>\n",
       "      <td>song makes happy. posted long long time. catch...</td>\n",
       "    </tr>\n",
       "    <tr>\n",
       "      <th>...</th>\n",
       "      <td>...</td>\n",
       "      <td>...</td>\n",
       "    </tr>\n",
       "    <tr>\n",
       "      <th>232272</th>\n",
       "      <td>I'm already greeting all the Dads out t...</td>\n",
       "      <td>i'm already greeting dads there. happy father'...</td>\n",
       "    </tr>\n",
       "    <tr>\n",
       "      <th>67707</th>\n",
       "      <td>On another note, I have over 40 digital...</td>\n",
       "      <td>another note, 40 digital artworks 50 drawings ...</td>\n",
       "    </tr>\n",
       "    <tr>\n",
       "      <th>573811</th>\n",
       "      <td>Why do they think that people will fall...</td>\n",
       "      <td>think people fall this? people fallen this? - ...</td>\n",
       "    </tr>\n",
       "    <tr>\n",
       "      <th>462175</th>\n",
       "      <td>The Quaker franchise has accomplished m...</td>\n",
       "      <td>quaker franchise accomplished many feats: cu r...</td>\n",
       "    </tr>\n",
       "    <tr>\n",
       "      <th>24722</th>\n",
       "      <td>IT CAME!  After I got back from Dee's b...</td>\n",
       "      <td>came! got back dee's birthday dinner, saw tiny...</td>\n",
       "    </tr>\n",
       "  </tbody>\n",
       "</table>\n",
       "<p>100000 rows × 2 columns</p>\n",
       "</div>"
      ],
      "text/plain": [
       "                                                     text                                       cleaned_text\n",
       "534033               Mood: Triumphant return Movie o' ...  mood: triumphant return movie o' week: godfath...\n",
       "182201                   Up a half pound to 223. Got t...  half pound 223. got stop eating much crap. say...\n",
       "510474               Good Morning Bloggers...I agree w...  good morning bloggers.i agree rob.the life ski...\n",
       "623995                   Last Sunday I completed my fi...  last sunday completed first long run, 5 miles....\n",
       "55818          This song makes me happy. I haven't pos...  song makes happy. posted long long time. catch...\n",
       "...                                                   ...                                                ...\n",
       "232272         I'm already greeting all the Dads out t...  i'm already greeting dads there. happy father'...\n",
       "67707          On another note, I have over 40 digital...  another note, 40 digital artworks 50 drawings ...\n",
       "573811         Why do they think that people will fall...  think people fall this? people fallen this? - ...\n",
       "462175         The Quaker franchise has accomplished m...  quaker franchise accomplished many feats: cu r...\n",
       "24722          IT CAME!  After I got back from Dee's b...  came! got back dee's birthday dinner, saw tiny...\n",
       "\n",
       "[100000 rows x 2 columns]"
      ]
     },
     "execution_count": 107,
     "metadata": {
      "tags": []
     },
     "output_type": "execute_result"
    }
   ],
   "source": [
    "dfblogs[[\"text\",\"cleaned_text\"]]"
   ]
  },
  {
   "cell_type": "markdown",
   "metadata": {
    "id": "4vsrYd53m_sf"
   },
   "source": [
    "### Remove Numbers"
   ]
  },
  {
   "cell_type": "code",
   "execution_count": 108,
   "metadata": {
    "id": "8qIeqODgm90d"
   },
   "outputs": [],
   "source": [
    "def remove_numbers(text):\n",
    "        return \"\".join([i for i in text if not i.isdigit()])"
   ]
  },
  {
   "cell_type": "code",
   "execution_count": 109,
   "metadata": {
    "id": "wMgQ4dpQpwlp"
   },
   "outputs": [],
   "source": [
    "dfblogs[\"cleaned_text\"] = dfblogs[\"cleaned_text\"].apply(lambda x: remove_numbers(x)) "
   ]
  },
  {
   "cell_type": "code",
   "execution_count": 110,
   "metadata": {
    "colab": {
     "base_uri": "https://localhost:8080/",
     "height": 417
    },
    "id": "3EY-hFWVqFWQ",
    "outputId": "0ff8a914-a569-451a-8a21-039a20727031"
   },
   "outputs": [
    {
     "data": {
      "text/html": [
       "<div>\n",
       "<style scoped>\n",
       "    .dataframe tbody tr th:only-of-type {\n",
       "        vertical-align: middle;\n",
       "    }\n",
       "\n",
       "    .dataframe tbody tr th {\n",
       "        vertical-align: top;\n",
       "    }\n",
       "\n",
       "    .dataframe thead th {\n",
       "        text-align: right;\n",
       "    }\n",
       "</style>\n",
       "<table border=\"1\" class=\"dataframe\">\n",
       "  <thead>\n",
       "    <tr style=\"text-align: right;\">\n",
       "      <th></th>\n",
       "      <th>text</th>\n",
       "      <th>cleaned_text</th>\n",
       "    </tr>\n",
       "  </thead>\n",
       "  <tbody>\n",
       "    <tr>\n",
       "      <th>534033</th>\n",
       "      <td>Mood: Triumphant return Movie o' ...</td>\n",
       "      <td>mood: triumphant return movie o' week: godfath...</td>\n",
       "    </tr>\n",
       "    <tr>\n",
       "      <th>182201</th>\n",
       "      <td>Up a half pound to 223. Got t...</td>\n",
       "      <td>half pound . got stop eating much crap. say ev...</td>\n",
       "    </tr>\n",
       "    <tr>\n",
       "      <th>510474</th>\n",
       "      <td>Good Morning Bloggers...I agree w...</td>\n",
       "      <td>good morning bloggers.i agree rob.the life ski...</td>\n",
       "    </tr>\n",
       "    <tr>\n",
       "      <th>623995</th>\n",
       "      <td>Last Sunday I completed my fi...</td>\n",
       "      <td>last sunday completed first long run,  miles. ...</td>\n",
       "    </tr>\n",
       "    <tr>\n",
       "      <th>55818</th>\n",
       "      <td>This song makes me happy. I haven't pos...</td>\n",
       "      <td>song makes happy. posted long long time. catch...</td>\n",
       "    </tr>\n",
       "    <tr>\n",
       "      <th>...</th>\n",
       "      <td>...</td>\n",
       "      <td>...</td>\n",
       "    </tr>\n",
       "    <tr>\n",
       "      <th>232272</th>\n",
       "      <td>I'm already greeting all the Dads out t...</td>\n",
       "      <td>i'm already greeting dads there. happy father'...</td>\n",
       "    </tr>\n",
       "    <tr>\n",
       "      <th>67707</th>\n",
       "      <td>On another note, I have over 40 digital...</td>\n",
       "      <td>another note,  digital artworks  drawings add ...</td>\n",
       "    </tr>\n",
       "    <tr>\n",
       "      <th>573811</th>\n",
       "      <td>Why do they think that people will fall...</td>\n",
       "      <td>think people fall this? people fallen this? - ...</td>\n",
       "    </tr>\n",
       "    <tr>\n",
       "      <th>462175</th>\n",
       "      <td>The Quaker franchise has accomplished m...</td>\n",
       "      <td>quaker franchise accomplished many feats: cu r...</td>\n",
       "    </tr>\n",
       "    <tr>\n",
       "      <th>24722</th>\n",
       "      <td>IT CAME!  After I got back from Dee's b...</td>\n",
       "      <td>came! got back dee's birthday dinner, saw tiny...</td>\n",
       "    </tr>\n",
       "  </tbody>\n",
       "</table>\n",
       "<p>100000 rows × 2 columns</p>\n",
       "</div>"
      ],
      "text/plain": [
       "                                                     text                                       cleaned_text\n",
       "534033               Mood: Triumphant return Movie o' ...  mood: triumphant return movie o' week: godfath...\n",
       "182201                   Up a half pound to 223. Got t...  half pound . got stop eating much crap. say ev...\n",
       "510474               Good Morning Bloggers...I agree w...  good morning bloggers.i agree rob.the life ski...\n",
       "623995                   Last Sunday I completed my fi...  last sunday completed first long run,  miles. ...\n",
       "55818          This song makes me happy. I haven't pos...  song makes happy. posted long long time. catch...\n",
       "...                                                   ...                                                ...\n",
       "232272         I'm already greeting all the Dads out t...  i'm already greeting dads there. happy father'...\n",
       "67707          On another note, I have over 40 digital...  another note,  digital artworks  drawings add ...\n",
       "573811         Why do they think that people will fall...  think people fall this? people fallen this? - ...\n",
       "462175         The Quaker franchise has accomplished m...  quaker franchise accomplished many feats: cu r...\n",
       "24722          IT CAME!  After I got back from Dee's b...  came! got back dee's birthday dinner, saw tiny...\n",
       "\n",
       "[100000 rows x 2 columns]"
      ]
     },
     "execution_count": 110,
     "metadata": {
      "tags": []
     },
     "output_type": "execute_result"
    }
   ],
   "source": [
    "dfblogs[[\"text\",\"cleaned_text\"]]"
   ]
  },
  {
   "cell_type": "markdown",
   "metadata": {
    "id": "O6V0wS7-rwI0"
   },
   "source": [
    "### Remove Non-English words"
   ]
  },
  {
   "cell_type": "code",
   "execution_count": 111,
   "metadata": {
    "colab": {
     "base_uri": "https://localhost:8080/"
    },
    "id": "ZLL_V3PDr0FS",
    "outputId": "71b9b296-008c-4bbc-c15a-bd5886cb808b"
   },
   "outputs": [
    {
     "name": "stdout",
     "output_type": "stream",
     "text": [
      "[nltk_data] Downloading package words to /root/nltk_data...\n",
      "[nltk_data]   Package words is already up-to-date!\n"
     ]
    }
   ],
   "source": [
    "nltk.download('words')\n",
    "words = set(nltk.corpus.words.words())\n",
    "\n",
    "def remove_nonenglish(text):\n",
    "    return \" \".join(w for w in nltk.wordpunct_tokenize(text) if w.lower() in words or not w.isalpha())\n"
   ]
  },
  {
   "cell_type": "code",
   "execution_count": 112,
   "metadata": {
    "id": "WsR24EchumA9"
   },
   "outputs": [],
   "source": [
    "dfblogs[\"cleaned_text\"] = dfblogs[\"cleaned_text\"].apply(lambda x: remove_nonenglish(x)) "
   ]
  },
  {
   "cell_type": "markdown",
   "metadata": {
    "id": "fsOrxM0Rr7xR"
   },
   "source": [
    "### Spell Correction"
   ]
  },
  {
   "cell_type": "code",
   "execution_count": 113,
   "metadata": {
    "id": "DIiKR4tEsHiX"
   },
   "outputs": [],
   "source": [
    "#dfblogs[\"cleaned_text\"] = dfblogs[\"cleaned_text\"].apply(lambda x: TextBlob(x).correct()) \n"
   ]
  },
  {
   "cell_type": "markdown",
   "metadata": {
    "id": "Oq3fEdUnj-pF"
   },
   "source": [
    "### Lemmatisation"
   ]
  },
  {
   "cell_type": "code",
   "execution_count": 114,
   "metadata": {
    "colab": {
     "base_uri": "https://localhost:8080/"
    },
    "id": "NfXwO_1kj-pF",
    "outputId": "c36ab366-b6f7-4927-f0f7-50a03d9ff6a0"
   },
   "outputs": [
    {
     "name": "stdout",
     "output_type": "stream",
     "text": [
      "[nltk_data] Downloading package wordnet to /root/nltk_data...\n",
      "[nltk_data]   Unzipping corpora/wordnet.zip.\n"
     ]
    }
   ],
   "source": [
    "nltk.download('wordnet')\n",
    "lemmatizer = nltk.stem.WordNetLemmatizer()\n",
    "\n",
    "def lemmatize_text(text):\n",
    "    return \" \".join( lemmatizer.lemmatize(w) for w in text.split())"
   ]
  },
  {
   "cell_type": "code",
   "execution_count": 115,
   "metadata": {
    "id": "29BiTKOlj-pH"
   },
   "outputs": [],
   "source": [
    "dfblogs[\"cleaned_text\"] = dfblogs[\"cleaned_text\"].apply(lambda x: lemmatize_text(x))"
   ]
  },
  {
   "cell_type": "code",
   "execution_count": 116,
   "metadata": {
    "colab": {
     "base_uri": "https://localhost:8080/",
     "height": 417
    },
    "id": "bb4tB-a8j-pH",
    "outputId": "aecdfb0d-8656-4478-f991-c198e93ef0e9"
   },
   "outputs": [
    {
     "data": {
      "text/html": [
       "<div>\n",
       "<style scoped>\n",
       "    .dataframe tbody tr th:only-of-type {\n",
       "        vertical-align: middle;\n",
       "    }\n",
       "\n",
       "    .dataframe tbody tr th {\n",
       "        vertical-align: top;\n",
       "    }\n",
       "\n",
       "    .dataframe thead th {\n",
       "        text-align: right;\n",
       "    }\n",
       "</style>\n",
       "<table border=\"1\" class=\"dataframe\">\n",
       "  <thead>\n",
       "    <tr style=\"text-align: right;\">\n",
       "      <th></th>\n",
       "      <th>text</th>\n",
       "      <th>cleaned_text</th>\n",
       "    </tr>\n",
       "  </thead>\n",
       "  <tbody>\n",
       "    <tr>\n",
       "      <th>534033</th>\n",
       "      <td>Mood: Triumphant return Movie o' ...</td>\n",
       "      <td>mood : triumphant return movie o ' week : godf...</td>\n",
       "    </tr>\n",
       "    <tr>\n",
       "      <th>182201</th>\n",
       "      <td>Up a half pound to 223. Got t...</td>\n",
       "      <td>half pound . got stop eating much crap . say ....</td>\n",
       "    </tr>\n",
       "    <tr>\n",
       "      <th>510474</th>\n",
       "      <td>Good Morning Bloggers...I agree w...</td>\n",
       "      <td>good morning . i agree rob . the life awesome ...</td>\n",
       "    </tr>\n",
       "    <tr>\n",
       "      <th>623995</th>\n",
       "      <td>Last Sunday I completed my fi...</td>\n",
       "      <td>last first long run , . bad . training regimen...</td>\n",
       "    </tr>\n",
       "    <tr>\n",
       "      <th>55818</th>\n",
       "      <td>This song makes me happy. I haven't pos...</td>\n",
       "      <td>song happy . posted long long time . catch see...</td>\n",
       "    </tr>\n",
       "    <tr>\n",
       "      <th>...</th>\n",
       "      <td>...</td>\n",
       "      <td>...</td>\n",
       "    </tr>\n",
       "    <tr>\n",
       "      <th>232272</th>\n",
       "      <td>I'm already greeting all the Dads out t...</td>\n",
       "      <td>i ' m already greeting there . happy father ' ...</td>\n",
       "    </tr>\n",
       "    <tr>\n",
       "      <th>67707</th>\n",
       "      <td>On another note, I have over 40 digital...</td>\n",
       "      <td>another note , digital add on , stuff starting...</td>\n",
       "    </tr>\n",
       "    <tr>\n",
       "      <th>573811</th>\n",
       "      <td>Why do they think that people will fall...</td>\n",
       "      <td>think people fall this ? people fallen this ? ...</td>\n",
       "    </tr>\n",
       "    <tr>\n",
       "      <th>462175</th>\n",
       "      <td>The Quaker franchise has accomplished m...</td>\n",
       "      <td>quaker franchise accomplished many : record - ...</td>\n",
       "    </tr>\n",
       "    <tr>\n",
       "      <th>24722</th>\n",
       "      <td>IT CAME!  After I got back from Dee's b...</td>\n",
       "      <td>came ! got back dee ' s birthday dinner , saw ...</td>\n",
       "    </tr>\n",
       "  </tbody>\n",
       "</table>\n",
       "<p>100000 rows × 2 columns</p>\n",
       "</div>"
      ],
      "text/plain": [
       "                                                     text                                       cleaned_text\n",
       "534033               Mood: Triumphant return Movie o' ...  mood : triumphant return movie o ' week : godf...\n",
       "182201                   Up a half pound to 223. Got t...  half pound . got stop eating much crap . say ....\n",
       "510474               Good Morning Bloggers...I agree w...  good morning . i agree rob . the life awesome ...\n",
       "623995                   Last Sunday I completed my fi...  last first long run , . bad . training regimen...\n",
       "55818          This song makes me happy. I haven't pos...  song happy . posted long long time . catch see...\n",
       "...                                                   ...                                                ...\n",
       "232272         I'm already greeting all the Dads out t...  i ' m already greeting there . happy father ' ...\n",
       "67707          On another note, I have over 40 digital...  another note , digital add on , stuff starting...\n",
       "573811         Why do they think that people will fall...  think people fall this ? people fallen this ? ...\n",
       "462175         The Quaker franchise has accomplished m...  quaker franchise accomplished many : record - ...\n",
       "24722          IT CAME!  After I got back from Dee's b...  came ! got back dee ' s birthday dinner , saw ...\n",
       "\n",
       "[100000 rows x 2 columns]"
      ]
     },
     "execution_count": 116,
     "metadata": {
      "tags": []
     },
     "output_type": "execute_result"
    }
   ],
   "source": [
    "dfblogs[[\"text\",\"cleaned_text\"]]"
   ]
  },
  {
   "cell_type": "markdown",
   "metadata": {},
   "source": [
    "### Stemming"
   ]
  },
  {
   "cell_type": "code",
   "execution_count": 117,
   "metadata": {
    "id": "J7AnwzrW5Bra"
   },
   "outputs": [],
   "source": [
    "stemmer = SnowballStemmer('english')\n",
    "\n",
    "def stem_text(text):\n",
    "    return \" \".join( stemmer.stem(w) for w in text.split())"
   ]
  },
  {
   "cell_type": "code",
   "execution_count": 118,
   "metadata": {
    "id": "6Hl7dqZj6Fjo"
   },
   "outputs": [],
   "source": [
    "dfblogs[\"cleaned_text\"] = dfblogs[\"cleaned_text\"].apply(lambda x: stem_text(x))"
   ]
  },
  {
   "cell_type": "code",
   "execution_count": 119,
   "metadata": {
    "colab": {
     "base_uri": "https://localhost:8080/",
     "height": 417
    },
    "id": "lbL0cHh4J1DX",
    "outputId": "3377d21f-94ca-4ea2-e89a-6cc7fc538f91"
   },
   "outputs": [
    {
     "data": {
      "text/html": [
       "<div>\n",
       "<style scoped>\n",
       "    .dataframe tbody tr th:only-of-type {\n",
       "        vertical-align: middle;\n",
       "    }\n",
       "\n",
       "    .dataframe tbody tr th {\n",
       "        vertical-align: top;\n",
       "    }\n",
       "\n",
       "    .dataframe thead th {\n",
       "        text-align: right;\n",
       "    }\n",
       "</style>\n",
       "<table border=\"1\" class=\"dataframe\">\n",
       "  <thead>\n",
       "    <tr style=\"text-align: right;\">\n",
       "      <th></th>\n",
       "      <th>text</th>\n",
       "      <th>cleaned_text</th>\n",
       "    </tr>\n",
       "  </thead>\n",
       "  <tbody>\n",
       "    <tr>\n",
       "      <th>534033</th>\n",
       "      <td>Mood: Triumphant return Movie o' ...</td>\n",
       "      <td>mood : triumphant return movi o ' week : godfa...</td>\n",
       "    </tr>\n",
       "    <tr>\n",
       "      <th>182201</th>\n",
       "      <td>Up a half pound to 223. Got t...</td>\n",
       "      <td>half pound . got stop eat much crap . say . ge...</td>\n",
       "    </tr>\n",
       "    <tr>\n",
       "      <th>510474</th>\n",
       "      <td>Good Morning Bloggers...I agree w...</td>\n",
       "      <td>good morn . i agre rob . the life awesom event...</td>\n",
       "    </tr>\n",
       "    <tr>\n",
       "      <th>623995</th>\n",
       "      <td>Last Sunday I completed my fi...</td>\n",
       "      <td>last first long run , . bad . train regimen we...</td>\n",
       "    </tr>\n",
       "    <tr>\n",
       "      <th>55818</th>\n",
       "      <td>This song makes me happy. I haven't pos...</td>\n",
       "      <td>song happi . post long long time . catch see ....</td>\n",
       "    </tr>\n",
       "    <tr>\n",
       "      <th>...</th>\n",
       "      <td>...</td>\n",
       "      <td>...</td>\n",
       "    </tr>\n",
       "    <tr>\n",
       "      <th>232272</th>\n",
       "      <td>I'm already greeting all the Dads out t...</td>\n",
       "      <td>i ' m alreadi greet there . happi father ' s d...</td>\n",
       "    </tr>\n",
       "    <tr>\n",
       "      <th>67707</th>\n",
       "      <td>On another note, I have over 40 digital...</td>\n",
       "      <td>anoth note , digit add on , stuff start get ol...</td>\n",
       "    </tr>\n",
       "    <tr>\n",
       "      <th>573811</th>\n",
       "      <td>Why do they think that people will fall...</td>\n",
       "      <td>think peopl fall this ? peopl fallen this ? - ...</td>\n",
       "    </tr>\n",
       "    <tr>\n",
       "      <th>462175</th>\n",
       "      <td>The Quaker franchise has accomplished m...</td>\n",
       "      <td>quaker franchis accomplish mani : record - - ....</td>\n",
       "    </tr>\n",
       "    <tr>\n",
       "      <th>24722</th>\n",
       "      <td>IT CAME!  After I got back from Dee's b...</td>\n",
       "      <td>came ! got back dee ' s birthday dinner , saw ...</td>\n",
       "    </tr>\n",
       "  </tbody>\n",
       "</table>\n",
       "<p>100000 rows × 2 columns</p>\n",
       "</div>"
      ],
      "text/plain": [
       "                                                     text                                       cleaned_text\n",
       "534033               Mood: Triumphant return Movie o' ...  mood : triumphant return movi o ' week : godfa...\n",
       "182201                   Up a half pound to 223. Got t...  half pound . got stop eat much crap . say . ge...\n",
       "510474               Good Morning Bloggers...I agree w...  good morn . i agre rob . the life awesom event...\n",
       "623995                   Last Sunday I completed my fi...  last first long run , . bad . train regimen we...\n",
       "55818          This song makes me happy. I haven't pos...  song happi . post long long time . catch see ....\n",
       "...                                                   ...                                                ...\n",
       "232272         I'm already greeting all the Dads out t...  i ' m alreadi greet there . happi father ' s d...\n",
       "67707          On another note, I have over 40 digital...  anoth note , digit add on , stuff start get ol...\n",
       "573811         Why do they think that people will fall...  think peopl fall this ? peopl fallen this ? - ...\n",
       "462175         The Quaker franchise has accomplished m...  quaker franchis accomplish mani : record - - ....\n",
       "24722          IT CAME!  After I got back from Dee's b...  came ! got back dee ' s birthday dinner , saw ...\n",
       "\n",
       "[100000 rows x 2 columns]"
      ]
     },
     "execution_count": 119,
     "metadata": {
      "tags": []
     },
     "output_type": "execute_result"
    }
   ],
   "source": [
    "dfblogs[[\"text\",\"cleaned_text\"]]"
   ]
  },
  {
   "cell_type": "markdown",
   "metadata": {
    "id": "V3QTjQzZj-pI"
   },
   "source": [
    "### Merge target labels"
   ]
  },
  {
   "cell_type": "code",
   "execution_count": 120,
   "metadata": {
    "id": "oMLu2JcPj-pI"
   },
   "outputs": [],
   "source": [
    "lbl = dfblogs['gender']+\"/\"+dfblogs['agegroup']+\"/\"+dfblogs['topic']+\"/\"+dfblogs['sign']\n",
    "\n",
    "dfblogs[\"labels\"] = dfblogs.apply(lambda col :\n",
    "                            [col[\"gender\"],col[\"agegroup\"],col[\"topic\"],col[\"sign\"]],axis =1)"
   ]
  },
  {
   "cell_type": "code",
   "execution_count": 121,
   "metadata": {
    "id": "zqx0fTwmj-pJ"
   },
   "outputs": [],
   "source": [
    "dfblogs.drop(columns=[\"id\",\"date\",\"gender\",\"age\",\"agegroup\",\"sign\",\"topic\",\"text\"],axis =1, inplace = True)"
   ]
  },
  {
   "cell_type": "code",
   "execution_count": 122,
   "metadata": {
    "colab": {
     "base_uri": "https://localhost:8080/",
     "height": 357
    },
    "id": "fugxTfQaj-pK",
    "outputId": "286461de-db91-4e85-9830-5049d6e526c8"
   },
   "outputs": [
    {
     "data": {
      "text/html": [
       "<div>\n",
       "<style scoped>\n",
       "    .dataframe tbody tr th:only-of-type {\n",
       "        vertical-align: middle;\n",
       "    }\n",
       "\n",
       "    .dataframe tbody tr th {\n",
       "        vertical-align: top;\n",
       "    }\n",
       "\n",
       "    .dataframe thead th {\n",
       "        text-align: right;\n",
       "    }\n",
       "</style>\n",
       "<table border=\"1\" class=\"dataframe\">\n",
       "  <thead>\n",
       "    <tr style=\"text-align: right;\">\n",
       "      <th></th>\n",
       "      <th>cleaned_text</th>\n",
       "      <th>labels</th>\n",
       "    </tr>\n",
       "  </thead>\n",
       "  <tbody>\n",
       "    <tr>\n",
       "      <th>534033</th>\n",
       "      <td>mood : triumphant return movi o ' week : godfa...</td>\n",
       "      <td>[female, 13-17, student, capricorn]</td>\n",
       "    </tr>\n",
       "    <tr>\n",
       "      <th>182201</th>\n",
       "      <td>half pound . got stop eat much crap . say . ge...</td>\n",
       "      <td>[female, 23-27, education, virgo]</td>\n",
       "    </tr>\n",
       "    <tr>\n",
       "      <th>510474</th>\n",
       "      <td>good morn . i agre rob . the life awesom event...</td>\n",
       "      <td>[male, 13-17, religion, cancer]</td>\n",
       "    </tr>\n",
       "    <tr>\n",
       "      <th>623995</th>\n",
       "      <td>last first long run , . bad . train regimen we...</td>\n",
       "      <td>[female, 23-27, indunk, scorpio]</td>\n",
       "    </tr>\n",
       "    <tr>\n",
       "      <th>55818</th>\n",
       "      <td>song happi . post long long time . catch see ....</td>\n",
       "      <td>[male, 13-17, non-profit, aquarius]</td>\n",
       "    </tr>\n",
       "    <tr>\n",
       "      <th>229884</th>\n",
       "      <td>! auction $! say wow ?!</td>\n",
       "      <td>[male, 23-27, indunk, cancer]</td>\n",
       "    </tr>\n",
       "    <tr>\n",
       "      <th>187870</th>\n",
       "      <td>yes quarter final tele . but f * ing penalti !...</td>\n",
       "      <td>[female, 23-27, indunk, aries]</td>\n",
       "    </tr>\n",
       "    <tr>\n",
       "      <th>383076</th>\n",
       "      <td>drive</td>\n",
       "      <td>[male, 33-48, communications-media, cancer]</td>\n",
       "    </tr>\n",
       "    <tr>\n",
       "      <th>210773</th>\n",
       "      <td>so , go st joe go see way go see , got stuck t...</td>\n",
       "      <td>[male, 23-27, arts, pisces]</td>\n",
       "    </tr>\n",
       "    <tr>\n",
       "      <th>602749</th>\n",
       "      <td>know , peopl ask time , ' so how ' s marri lif...</td>\n",
       "      <td>[female, 23-27, education, sagittarius]</td>\n",
       "    </tr>\n",
       "  </tbody>\n",
       "</table>\n",
       "</div>"
      ],
      "text/plain": [
       "                                             cleaned_text                                       labels\n",
       "534033  mood : triumphant return movi o ' week : godfa...          [female, 13-17, student, capricorn]\n",
       "182201  half pound . got stop eat much crap . say . ge...            [female, 23-27, education, virgo]\n",
       "510474  good morn . i agre rob . the life awesom event...              [male, 13-17, religion, cancer]\n",
       "623995  last first long run , . bad . train regimen we...             [female, 23-27, indunk, scorpio]\n",
       "55818   song happi . post long long time . catch see ....          [male, 13-17, non-profit, aquarius]\n",
       "229884                            ! auction $! say wow ?!                [male, 23-27, indunk, cancer]\n",
       "187870  yes quarter final tele . but f * ing penalti !...               [female, 23-27, indunk, aries]\n",
       "383076                                              drive  [male, 33-48, communications-media, cancer]\n",
       "210773  so , go st joe go see way go see , got stuck t...                  [male, 23-27, arts, pisces]\n",
       "602749  know , peopl ask time , ' so how ' s marri lif...      [female, 23-27, education, sagittarius]"
      ]
     },
     "execution_count": 122,
     "metadata": {
      "tags": []
     },
     "output_type": "execute_result"
    }
   ],
   "source": [
    "dfblogs.head(10)"
   ]
  },
  {
   "cell_type": "code",
   "execution_count": 123,
   "metadata": {
    "colab": {
     "base_uri": "https://localhost:8080/"
    },
    "id": "sukTKIVKrU53",
    "outputId": "1c99a62a-3d72-4046-8984-b9c10366215e"
   },
   "outputs": [
    {
     "data": {
      "text/plain": [
       "1722"
      ]
     },
     "execution_count": 123,
     "metadata": {
      "tags": []
     },
     "output_type": "execute_result"
    }
   ],
   "source": [
    "lbl.nunique()"
   ]
  },
  {
   "cell_type": "markdown",
   "metadata": {
    "id": "wLi1aYD8j-pK"
   },
   "source": [
    "### Split Train and Test Sets"
   ]
  },
  {
   "cell_type": "code",
   "execution_count": 124,
   "metadata": {
    "id": "AYKQ5Wczj-pL"
   },
   "outputs": [],
   "source": [
    "# Set X and y variables\n",
    "X = dfblogs[\"cleaned_text\"]\n",
    "y = dfblogs[\"labels\"]\n",
    "\n",
    "# Split the train and test set\n",
    "X_train, X_test, y_train, y_test =train_test_split(X,y,  test_size = 0.3, random_state=43)                                      "
   ]
  },
  {
   "cell_type": "code",
   "execution_count": 125,
   "metadata": {
    "id": "na6j4raCj-pM"
   },
   "outputs": [],
   "source": [
    "# Apply the count vectorizer\n",
    "cvect = CountVectorizer(ngram_range = (1,2), stop_words=stopwords.words('english'), \n",
    "                             min_df =2)\n",
    "X_train_ct = cvect.fit_transform(X_train)\n",
    "X_test_ct = cvect.transform(X_test)\n"
   ]
  },
  {
   "cell_type": "code",
   "execution_count": 126,
   "metadata": {
    "colab": {
     "base_uri": "https://localhost:8080/"
    },
    "id": "ese0k_clj-pN",
    "outputId": "750b1359-abc7-4b3f-87af-a66ab95c2162"
   },
   "outputs": [
    {
     "data": {
      "text/plain": [
       "(70000, 605287)"
      ]
     },
     "execution_count": 126,
     "metadata": {
      "tags": []
     },
     "output_type": "execute_result"
    }
   ],
   "source": [
    "X_train_ct.shape"
   ]
  },
  {
   "cell_type": "code",
   "execution_count": 127,
   "metadata": {
    "colab": {
     "base_uri": "https://localhost:8080/"
    },
    "id": "vaR_JV6Cj-pN",
    "outputId": "5c1f9b2c-6f4c-4396-ad62-a5b41f7522b1"
   },
   "outputs": [
    {
     "data": {
      "text/plain": [
       "(30000, 605287)"
      ]
     },
     "execution_count": 127,
     "metadata": {
      "tags": []
     },
     "output_type": "execute_result"
    }
   ],
   "source": [
    "X_test_ct.shape"
   ]
  },
  {
   "cell_type": "markdown",
   "metadata": {},
   "source": [
    "<b>Observation:</b>\n",
    "- There are 70000 records and 605287 features in training set\n",
    "- There are 30000 records and 605287 features in test set"
   ]
  },
  {
   "cell_type": "code",
   "execution_count": 128,
   "metadata": {
    "colab": {
     "base_uri": "https://localhost:8080/"
    },
    "id": "KVl7lwjh5y2e",
    "outputId": "7685e400-0d7d-4fc6-811a-3ec735aab5ad"
   },
   "outputs": [
    {
     "name": "stdout",
     "output_type": "stream",
     "text": [
      "['zeal', 'zealot', 'zealous', 'zealous go', 'zebra', 'zebra cross', 'zebra cute', 'zebra fantast', 'zebra woman', 'zed', 'zee', 'zel', 'zenith', 'zenith fire', 'zephyr', 'zephyr song', 'zeppelin', 'zeppelin fool', 'zeppelin funni', 'zeppelin immigr', 'zeppelin rock', 'zeppelin song', 'zeppelin stairway', 'zero', 'zero anyway', 'zero chanc', 'zero credibl', 'zero energi', 'zero experi', 'zero get', 'zero go', 'zero graviti', 'zero histori', 'zero hour', 'zero knowledg', 'zero last', 'zero like', 'zero littl', 'zero loss', 'zero mean', 'zero money', 'zero noth', 'zero number', 'zero one', 'zero peopl', 'zero percent', 'zero period', 'zero point', 'zero site', 'zero tenni', 'zero thank', 'zero thing', 'zero time', 'zero toler', 'zero tomorrow', 'zero two', 'zero way', 'zero well', 'zero world', 'zero zero', 'zest', 'zest life', 'zeta', 'zeta look', 'zig', 'zig zag', 'zigzag', 'zimbabw', 'zinc', 'zinfandel', 'zinfandel red', 'zing', 'zip', 'zip along', 'zip bag', 'zip big', 'zip code', 'zip disk', 'zip drive', 'zip file', 'zip first', 'zip fli', 'zip hoodi', 'zip jacket', 'zip mean', 'zip net', 'zip tie', 'zipper', 'zipper back', 'zipper pant', 'zipper whatev', 'zippi', 'zo', 'zo de', 'zo het', 'zo van', 'zodiac', 'zodiac brought', 'zodiac person', 'zodiac sign', 'zombi', 'zombi babi', 'zombi death', 'zombi eat', 'zombi flick', 'zombi like', 'zombi movi', 'zombi rest', 'zombi syrup', 'zone', 'zone alarm', 'zone anchor', 'zone anyth', 'zone anyway', 'zone area', 'zone around', 'zone carniv', 'zone certain', 'zone continu', 'zone could', 'zone day', 'zone feel', 'zone first', 'zone get', 'zone go', 'zone guy', 'zone keep', 'zone know', 'zone last', 'zone leav', 'zone like', 'zone long', 'zone lot', 'zone may', 'zone mayb', 'zone meet', 'zone music', 'zone never', 'zone new', 'zone notic', 'zone oh', 'zone one', 'zone particular', 'zone peopl', 'zone play', 'zone quit', 'zone rest', 'zone run', 'zone see', 'zone thank', 'zone think', 'zone time', 'zone torn', 'zone total', 'zone two', 'zone want', 'zone watch', 'zone well', 'zone went', 'zone work', 'zone would', 'zoo', 'zoo alreadi', 'zoo crew', 'zoo dog', 'zoo final', 'zoo fun', 'zoo get', 'zoo given', 'zoo go', 'zoo got', 'zoo interest', 'zoo keeper', 'zoo know', 'zoo last', 'zoo let', 'zoo museum', 'zoo new', 'zoo peopl', 'zoo start', 'zoo take', 'zoo today', 'zoo tri', 'zoo walk', 'zoo watch', 'zoo went', 'zoo zoo', 'zoolog', 'zoologist', 'zoom', 'zoom camera', 'zoom cultur', 'zoom len', 'zoom like', 'zoom see', 'zoom zoom', 'zorro', 'zound', 'zucchini', 'zygot']\n"
     ]
    }
   ],
   "source": [
    "# last 50 features\n",
    "print(cvect.get_feature_names()[-200:])"
   ]
  },
  {
   "cell_type": "markdown",
   "metadata": {},
   "source": [
    "Create a dictionary to get the count of every label i.e. the key will be label name and value will be the total count of the label."
   ]
  },
  {
   "cell_type": "code",
   "execution_count": 129,
   "metadata": {
    "colab": {
     "base_uri": "https://localhost:8080/"
    },
    "id": "NsW_kDUt-R0T",
    "outputId": "7d53f8e1-2b03-4417-effa-964d7b2af1da"
   },
   "outputs": [
    {
     "data": {
      "text/plain": [
       "{'13-17': 34666,\n",
       " '23-27': 47192,\n",
       " '33-48': 18142,\n",
       " 'accounting': 557,\n",
       " 'advertising': 704,\n",
       " 'agriculture': 181,\n",
       " 'aquarius': 7278,\n",
       " 'architecture': 249,\n",
       " 'aries': 9522,\n",
       " 'arts': 4726,\n",
       " 'automotive': 202,\n",
       " 'banking': 590,\n",
       " 'biotech': 324,\n",
       " 'businessservices': 682,\n",
       " 'cancer': 9602,\n",
       " 'capricorn': 7265,\n",
       " 'chemicals': 606,\n",
       " 'communications-media': 3007,\n",
       " 'construction': 144,\n",
       " 'consulting': 866,\n",
       " 'education': 4266,\n",
       " 'engineering': 1743,\n",
       " 'environment': 105,\n",
       " 'fashion': 732,\n",
       " 'female': 49297,\n",
       " 'gemini': 7551,\n",
       " 'government': 1008,\n",
       " 'humanresources': 452,\n",
       " 'indunk': 36873,\n",
       " 'internet': 2372,\n",
       " 'investmentbanking': 183,\n",
       " 'law': 1337,\n",
       " 'lawenforcement-security': 283,\n",
       " 'leo': 7893,\n",
       " 'libra': 9125,\n",
       " 'male': 50703,\n",
       " 'manufacturing': 324,\n",
       " 'maritime': 35,\n",
       " 'marketing': 684,\n",
       " 'military': 477,\n",
       " 'museums-libraries': 457,\n",
       " 'non-profit': 2207,\n",
       " 'pisces': 8041,\n",
       " 'publishing': 1205,\n",
       " 'realestate': 386,\n",
       " 'religion': 757,\n",
       " 'sagittarius': 7366,\n",
       " 'science': 1078,\n",
       " 'scorpio': 8383,\n",
       " 'sports-recreation': 432,\n",
       " 'student': 22478,\n",
       " 'taurus': 9025,\n",
       " 'technology': 6098,\n",
       " 'telecommunications': 551,\n",
       " 'tourism': 297,\n",
       " 'transportation': 342,\n",
       " 'virgo': 8949}"
      ]
     },
     "execution_count": 129,
     "metadata": {
      "tags": []
     },
     "output_type": "execute_result"
    }
   ],
   "source": [
    "label_counts=dict()\n",
    "\n",
    "for labels in dfblogs.labels.values:\n",
    "  for label in labels:\n",
    "      if label in label_counts:\n",
    "          label_counts[str(label)]+=1\n",
    "      else:\n",
    "          label_counts[str(label)]=1\n",
    "\n",
    "label_counts"
   ]
  },
  {
   "cell_type": "code",
   "execution_count": 130,
   "metadata": {
    "colab": {
     "base_uri": "https://localhost:8080/"
    },
    "id": "lKsW0CC9zI2A",
    "outputId": "7b447900-9645-4acc-a914-1e3242c09cb0"
   },
   "outputs": [
    {
     "data": {
      "text/plain": [
       "['male', '13-17', 'student', 'leo']"
      ]
     },
     "execution_count": 130,
     "metadata": {
      "tags": []
     },
     "output_type": "execute_result"
    }
   ],
   "source": [
    "y_train[0]"
   ]
  },
  {
   "cell_type": "markdown",
   "metadata": {},
   "source": [
    "There are multiple tags in label. To deal with such kind of prediction, we need to transform labels in a binary form and the prediction will be a mask of 0s and 1s. For this purpose, it is convenient to use MultiLabelBinarizer from sklearn."
   ]
  },
  {
   "cell_type": "code",
   "execution_count": 131,
   "metadata": {
    "id": "riWwbjNQAc0R"
   },
   "outputs": [],
   "source": [
    "binarizer=MultiLabelBinarizer(classes=sorted(label_counts.keys()))\n",
    "y_train = binarizer.fit_transform(y_train)\n",
    "y_test = binarizer.transform(y_test)"
   ]
  },
  {
   "cell_type": "code",
   "execution_count": 132,
   "metadata": {
    "colab": {
     "base_uri": "https://localhost:8080/"
    },
    "id": "dUfmHrhYoTk1",
    "outputId": "ae56e181-d705-4462-db5c-a7bd77ad5fef"
   },
   "outputs": [
    {
     "data": {
      "text/plain": [
       "array([1, 0, 0, 0, 0, 0, 0, 0, 0, 0, 0, 0, 0, 0, 0, 0, 0, 0, 0, 0, 0, 0,\n",
       "       0, 0, 1, 0, 0, 0, 1, 0, 0, 0, 0, 0, 0, 0, 0, 0, 0, 0, 0, 0, 1, 0,\n",
       "       0, 0, 0, 0, 0, 0, 0, 0, 0, 0, 0, 0, 0])"
      ]
     },
     "execution_count": 132,
     "metadata": {
      "tags": []
     },
     "output_type": "execute_result"
    }
   ],
   "source": [
    "y_train[0]"
   ]
  },
  {
   "cell_type": "code",
   "execution_count": 133,
   "metadata": {
    "colab": {
     "base_uri": "https://localhost:8080/"
    },
    "id": "a0Pq_GZdHYT8",
    "outputId": "49f85d9f-0c21-4250-af87-7674424d49ef"
   },
   "outputs": [
    {
     "data": {
      "text/plain": [
       "(70000, 605287)"
      ]
     },
     "execution_count": 133,
     "metadata": {
      "tags": []
     },
     "output_type": "execute_result"
    }
   ],
   "source": [
    "X_train_ct.shape"
   ]
  },
  {
   "cell_type": "markdown",
   "metadata": {
    "id": "r5z3tLA5xJsA"
   },
   "source": [
    "### Model Building"
   ]
  },
  {
   "cell_type": "markdown",
   "metadata": {
    "id": "3k78yq3nxUUF"
   },
   "source": [
    "#### MultinominalNB"
   ]
  },
  {
   "cell_type": "code",
   "execution_count": 134,
   "metadata": {
    "id": "JN6UtyKyuoPL"
   },
   "outputs": [],
   "source": [
    "# Build the model using MultinominalNB classifier\n",
    "nb = MultinomialNB(alpha=0.001)\n",
    "overnb = OneVsRestClassifier(nb)\n",
    "overnb.fit(X_train_ct, y_train)\n",
    "y_pred_ovnb = overnb.predict(X_test_ct)"
   ]
  },
  {
   "cell_type": "code",
   "execution_count": 135,
   "metadata": {
    "colab": {
     "base_uri": "https://localhost:8080/"
    },
    "id": "E2KJF8ZMv9hh",
    "outputId": "2430c4a2-7c9e-4846-e695-729348dc530f"
   },
   "outputs": [
    {
     "name": "stdout",
     "output_type": "stream",
     "text": [
      "Training Accuracy\n",
      "0.7416428571428572\n",
      "Testing Accuracy\n",
      "0.010966666666666666\n"
     ]
    }
   ],
   "source": [
    "print(\"Training Accuracy\")\n",
    "print(overnb.score(X_train_ct,y_train))\n",
    "print(\"Testing Accuracy\")\n",
    "print(overnb.score(X_test_ct,y_test))"
   ]
  },
  {
   "cell_type": "code",
   "execution_count": 136,
   "metadata": {
    "colab": {
     "base_uri": "https://localhost:8080/"
    },
    "id": "potdwfOGzhHf",
    "outputId": "cb7cf0a8-5f98-4e7e-bac0-7df3a6ad1228"
   },
   "outputs": [
    {
     "name": "stdout",
     "output_type": "stream",
     "text": [
      "Accuracy score:  0.010966666666666666\n",
      "F1 score: Micro 0.4036838066001535\n",
      "Average precision score: Micro 0.22475511062966144\n",
      "Average recall score: Micro 0.3156\n"
     ]
    }
   ],
   "source": [
    "print('Accuracy score: ', accuracy_score(y_test, y_pred_ovnb))\n",
    "print('F1 score: Micro', f1_score(y_test, y_pred_ovnb, average='micro'))\n",
    "print('Average precision score: Micro', average_precision_score(y_test, y_pred_ovnb, average='micro'))\n",
    "print('Average recall score: Micro', recall_score(y_test, y_pred_ovnb, average='micro'))"
   ]
  },
  {
   "cell_type": "code",
   "execution_count": 138,
   "metadata": {
    "colab": {
     "base_uri": "https://localhost:8080/"
    },
    "id": "JNvwXals6CNS",
    "outputId": "9eea6ecd-745c-475a-9911-948534cd101e"
   },
   "outputs": [
    {
     "name": "stdout",
     "output_type": "stream",
     "text": [
      "              precision    recall  f1-score   support\n",
      "\n",
      "           0       0.71      0.52      0.60     10461\n",
      "           1       0.60      0.57      0.58     14114\n",
      "           2       0.47      0.17      0.25      5425\n",
      "           3       0.06      0.01      0.01       166\n",
      "           4       0.31      0.02      0.04       209\n",
      "           5       0.00      0.00      0.00        56\n",
      "           6       0.18      0.03      0.04      2151\n",
      "           7       0.00      0.00      0.00        73\n",
      "           8       0.15      0.02      0.03      2776\n",
      "           9       0.19      0.03      0.05      1399\n",
      "          10       0.00      0.00      0.00        65\n",
      "          11       0.13      0.04      0.06       166\n",
      "          12       0.00      0.00      0.00        81\n",
      "          13       0.25      0.02      0.04       208\n",
      "          14       0.26      0.04      0.07      2943\n",
      "          15       0.09      0.01      0.02      2187\n",
      "          16       0.05      0.02      0.03       176\n",
      "          17       0.07      0.01      0.01       893\n",
      "          18       0.14      0.02      0.04        50\n",
      "          19       0.00      0.00      0.00       243\n",
      "          20       0.20      0.02      0.04      1314\n",
      "          21       0.22      0.02      0.04       562\n",
      "          22       0.00      0.00      0.00        24\n",
      "          23       0.12      0.01      0.02       223\n",
      "          24       0.61      0.67      0.64     14777\n",
      "          25       0.22      0.03      0.05      2246\n",
      "          26       0.05      0.01      0.01       294\n",
      "          27       0.00      0.00      0.00       136\n",
      "          28       0.42      0.21      0.28     11010\n",
      "          29       0.13      0.02      0.03       672\n",
      "          30       0.12      0.02      0.04        45\n",
      "          31       0.25      0.03      0.05       408\n",
      "          32       0.00      0.00      0.00        88\n",
      "          33       0.19      0.03      0.05      2366\n",
      "          34       0.11      0.02      0.03      2755\n",
      "          35       0.65      0.59      0.62     15223\n",
      "          36       0.00      0.00      0.00        99\n",
      "          37       0.00      0.00      0.00         8\n",
      "          38       0.06      0.00      0.01       209\n",
      "          39       0.00      0.00      0.00       145\n",
      "          40       0.00      0.00      0.00       133\n",
      "          41       0.09      0.01      0.02       666\n",
      "          42       0.22      0.03      0.06      2430\n",
      "          43       0.09      0.01      0.02       352\n",
      "          44       0.10      0.02      0.03       110\n",
      "          45       0.10      0.02      0.03       251\n",
      "          46       0.12      0.02      0.03      2231\n",
      "          47       0.03      0.00      0.01       349\n",
      "          48       0.12      0.02      0.03      2498\n",
      "          49       0.00      0.00      0.00       130\n",
      "          50       0.40      0.19      0.26      6753\n",
      "          51       0.21      0.03      0.06      2737\n",
      "          52       0.27      0.03      0.06      1876\n",
      "          53       0.07      0.01      0.01       154\n",
      "          54       0.22      0.02      0.04        98\n",
      "          55       0.77      0.16      0.27       106\n",
      "          56       0.21      0.03      0.05      2680\n",
      "\n",
      "   micro avg       0.56      0.32      0.40    120000\n",
      "   macro avg       0.18      0.07      0.08    120000\n",
      "weighted avg       0.43      0.32      0.34    120000\n",
      " samples avg       0.58      0.32      0.39    120000\n",
      "\n"
     ]
    }
   ],
   "source": [
    "print(classification_report(y_test,y_pred_ovnb))"
   ]
  },
  {
   "cell_type": "markdown",
   "metadata": {},
   "source": [
    "<b>Observation:</b>\n",
    "- There are 57 classess. Training accuracy is 0.74 but overall test accuracy is very poor (0.01)\n",
    "- <b>Precision:</b>Precision is the ability of a classiifer not to label an instance positive that is actually negative. For each class it is defined as as the ratio of true positives to the sum of true and false positives. Precision scores is 0.77 for class 55 and second highest score is o.71 for class 0. Average precision score is 0.22\n",
    "- <b>Recall:</b>Recall is the ability of a classifier to find all positive instances. For each class it is defined as the ratio of true positives to the sum of true positives and false negatives. Recall score is 0.67 for class 24. Average recall score is 0.31\n",
    "- <b>F1 Score:</b>:The F1 score is a weighted harmonic mean of precision and recall such that the best score is 1.0 and the worst is 0.0. Generally speaking, F1 scores are lower than accuracy measures as they embed precision and recall into their computation. As a rule of thumb, the weighted average of F1 should be used to compare classifier models, not global accuracy. Here F1 score is 0.64 for class 24.\n",
    "- <b>Support:</b>Support is the number of actual occurrences of the class in the specified dataset. Imbalanced support in the training data may indicate structural weaknesses in the reported scores of the classifier and could indicate the need for stratified sampling or rebalancing. Support doesn’t change between models but instead diagnoses the evaluation process.\n",
    "- <b>Micro Avg:</b> To calculate the micro-F1, we first compute micro-averaged precision and micro-averaged recall over all the samples , and then combine the two. We simply look at all the samples together. Remember that precision is the proportion of True Positives out of the Predicted Positives (TP/(TP+FP)). In the multi-class case, we consider all the correctly predicted samples to be True Positives. Here, F1-micro avg score is 0.40. "
   ]
  },
  {
   "cell_type": "code",
   "execution_count": 139,
   "metadata": {
    "id": "6k5FSFmxnIJ-"
   },
   "outputs": [],
   "source": [
    "# Define the function to test the prediction for 5 samples\n",
    "def predicted_value(y_predicted, y_test = y_test , n = 5):\n",
    "    j = []\n",
    "    for i in range(n):\n",
    "        j.append(random.randint(0, len(y_test)))\n",
    "    print(j)\n",
    "                 \n",
    "    for k in j:\n",
    "        print(binarizer.inverse_transform(y_predicted)[k])\n",
    "        print(binarizer.inverse_transform(y_test)[k])\n",
    "        print(\"=================x==================x================x==========\")"
   ]
  },
  {
   "cell_type": "code",
   "execution_count": 141,
   "metadata": {
    "colab": {
     "base_uri": "https://localhost:8080/"
    },
    "id": "rkxrdNOIn_mZ",
    "outputId": "d42d72ee-a945-4691-bbe4-3353bf93801b"
   },
   "outputs": [
    {
     "name": "stdout",
     "output_type": "stream",
     "text": [
      "[11873, 11513, 19393, 5864, 24389]\n",
      "('male',)\n",
      "('33-48', 'gemini', 'male', 'publishing')\n",
      "=================x==================x================x==========\n",
      "('23-27', 'indunk', 'male')\n",
      "('23-27', 'arts', 'female', 'taurus')\n",
      "=================x==================x================x==========\n",
      "('33-48', 'indunk', 'male')\n",
      "('33-48', 'education', 'female', 'leo')\n",
      "=================x==================x================x==========\n",
      "('female',)\n",
      "('23-27', 'capricorn', 'law', 'male')\n",
      "=================x==================x================x==========\n",
      "('13-17', 'female', 'student')\n",
      "('23-27', 'cancer', 'female', 'indunk')\n",
      "=================x==================x================x==========\n"
     ]
    }
   ],
   "source": [
    "predicted_value(y_predicted=y_pred_ovnb,y_test=y_test, n= 5)"
   ]
  },
  {
   "cell_type": "markdown",
   "metadata": {},
   "source": [
    "<b>Observation:</b>\n",
    "- First and Fifth Samples: Gender feature prediected correctly and incorrect prediction for rest of the features. \n",
    "- Second and Third Samples: Age Group feature predicted correctly and incorrect prediction for resto of the features. \n",
    "- Forth Sample: Incorrect prediction for all the features. \n",
    " "
   ]
  },
  {
   "cell_type": "markdown",
   "metadata": {
    "id": "bhehKgIaxbxd"
   },
   "source": [
    "#### Logistic Regression"
   ]
  },
  {
   "cell_type": "code",
   "execution_count": 142,
   "metadata": {
    "id": "Z5CFQQUD6JZo"
   },
   "outputs": [],
   "source": [
    "# Build the model using Logistic Regression classifier\n",
    "lr = LogisticRegression(solver = 'lbfgs',max_iter = 1000, random_state=43)\n",
    "ovr = OneVsRestClassifier(lr)\n",
    "ovr.fit(X_train_ct, y_train)\n",
    "y_pred_lr = ovr.predict(X_test_ct)"
   ]
  },
  {
   "cell_type": "code",
   "execution_count": 143,
   "metadata": {
    "colab": {
     "base_uri": "https://localhost:8080/"
    },
    "id": "SrjL9Kdky9C5",
    "outputId": "d3e7d63e-0d1d-439e-b0eb-1cf0fbaf2933"
   },
   "outputs": [
    {
     "name": "stdout",
     "output_type": "stream",
     "text": [
      "Training Accuracy\n",
      "0.7883142857142857\n",
      "Testing Accuracy\n",
      "0.0124\n"
     ]
    }
   ],
   "source": [
    "print(\"Training Accuracy\")\n",
    "print(ovr.score(X_train_ct,y_train))\n",
    "print(\"Testing Accuracy\")\n",
    "print(ovr.score(X_test_ct,y_test))"
   ]
  },
  {
   "cell_type": "code",
   "execution_count": 144,
   "metadata": {
    "colab": {
     "base_uri": "https://localhost:8080/"
    },
    "id": "nbH__ni4Qblj",
    "outputId": "57ec15bd-1301-4fab-8d60-95db59b71ee8"
   },
   "outputs": [
    {
     "name": "stdout",
     "output_type": "stream",
     "text": [
      "Accuracy score:  0.0124\n",
      "F1 score: Micro 0.4223569403324091\n",
      "Average precision score: Micro 0.23712883312394342\n",
      "Average recall score: Micro 0.337025\n"
     ]
    }
   ],
   "source": [
    "print('Accuracy score: ', accuracy_score(y_test, y_pred_lr))\n",
    "print('F1 score: Micro', f1_score(y_test, y_pred_lr, average='micro'))\n",
    "print('Average precision score: Micro', average_precision_score(y_test, y_pred_lr, average='micro'))\n",
    "print('Average recall score: Micro', recall_score(y_test, y_pred_lr, average='micro'))"
   ]
  },
  {
   "cell_type": "code",
   "execution_count": 145,
   "metadata": {
    "colab": {
     "base_uri": "https://localhost:8080/"
    },
    "id": "Mz6UxlJp6yKS",
    "outputId": "9b7f3b8d-5fd4-4c10-e8db-ec85d7cb7ee6"
   },
   "outputs": [
    {
     "name": "stdout",
     "output_type": "stream",
     "text": [
      "              precision    recall  f1-score   support\n",
      "\n",
      "           0       0.72      0.58      0.64     10461\n",
      "           1       0.62      0.58      0.60     14114\n",
      "           2       0.50      0.24      0.33      5425\n",
      "           3       0.23      0.03      0.05       166\n",
      "           4       0.07      0.00      0.01       209\n",
      "           5       0.00      0.00      0.00        56\n",
      "           6       0.23      0.04      0.06      2151\n",
      "           7       0.00      0.00      0.00        73\n",
      "           8       0.20      0.03      0.06      2776\n",
      "           9       0.25      0.04      0.07      1399\n",
      "          10       0.00      0.00      0.00        65\n",
      "          11       0.04      0.01      0.01       166\n",
      "          12       0.00      0.00      0.00        81\n",
      "          13       0.35      0.03      0.06       208\n",
      "          14       0.30      0.06      0.10      2943\n",
      "          15       0.15      0.02      0.04      2187\n",
      "          16       0.04      0.01      0.01       176\n",
      "          17       0.12      0.01      0.02       893\n",
      "          18       0.12      0.02      0.03        50\n",
      "          19       0.00      0.00      0.00       243\n",
      "          20       0.28      0.03      0.06      1314\n",
      "          21       0.10      0.01      0.01       562\n",
      "          22       0.00      0.00      0.00        24\n",
      "          23       0.31      0.04      0.07       223\n",
      "          24       0.63      0.58      0.61     14777\n",
      "          25       0.18      0.03      0.05      2246\n",
      "          26       0.11      0.01      0.02       294\n",
      "          27       0.00      0.00      0.00       136\n",
      "          28       0.42      0.29      0.35     11010\n",
      "          29       0.22      0.02      0.04       672\n",
      "          30       0.14      0.02      0.04        45\n",
      "          31       0.22      0.04      0.07       408\n",
      "          32       0.00      0.00      0.00        88\n",
      "          33       0.25      0.03      0.06      2366\n",
      "          34       0.14      0.02      0.04      2755\n",
      "          35       0.62      0.67      0.65     15223\n",
      "          36       0.00      0.00      0.00        99\n",
      "          37       0.00      0.00      0.00         8\n",
      "          38       0.08      0.00      0.01       209\n",
      "          39       0.00      0.00      0.00       145\n",
      "          40       0.00      0.00      0.00       133\n",
      "          41       0.16      0.02      0.03       666\n",
      "          42       0.28      0.04      0.07      2430\n",
      "          43       0.41      0.07      0.13       352\n",
      "          44       0.00      0.00      0.00       110\n",
      "          45       0.29      0.05      0.08       251\n",
      "          46       0.16      0.02      0.04      2231\n",
      "          47       0.04      0.00      0.01       349\n",
      "          48       0.15      0.02      0.04      2498\n",
      "          49       0.00      0.00      0.00       130\n",
      "          50       0.42      0.21      0.28      6753\n",
      "          51       0.21      0.03      0.06      2737\n",
      "          52       0.24      0.03      0.06      1876\n",
      "          53       0.00      0.00      0.00       154\n",
      "          54       0.08      0.01      0.02        98\n",
      "          55       0.71      0.16      0.26       106\n",
      "          56       0.26      0.04      0.07      2680\n",
      "\n",
      "   micro avg       0.57      0.34      0.42    120000\n",
      "   macro avg       0.19      0.07      0.09    120000\n",
      "weighted avg       0.45      0.34      0.37    120000\n",
      " samples avg       0.58      0.34      0.41    120000\n",
      "\n"
     ]
    }
   ],
   "source": [
    "print(classification_report(y_test,y_pred_lr))"
   ]
  },
  {
   "cell_type": "markdown",
   "metadata": {},
   "source": [
    "<b>Observation:</b>\n",
    "- There are 57 classess. Training accuracy is 0.78 but overall test accuracy is very poor (0.01)\n",
    "- <b>Precision:</b>Precision is the ability of a classiifer not to label an instance positive that is actually negative. For each class it is defined as as the ratio of true positives to the sum of true and false positives. Precision scores is 0.72 for class 0 and second highest score is o.71 for class 55. Average precision score is 0.23\n",
    "- <b>Recall:</b>Recall is the ability of a classifier to find all positive instances. For each class it is defined as the ratio of true positives to the sum of true positives and false negatives. Recall score is 0.67 for class 35. Average recall score is 0.33\n",
    "- <b>F1 Score:</b>:The F1 score is a weighted harmonic mean of precision and recall such that the best score is 1.0 and the worst is 0.0. Generally speaking, F1 scores are lower than accuracy measures as they embed precision and recall into their computation. As a rule of thumb, the weighted average of F1 should be used to compare classifier models, not global accuracy. Here F1 score is 0.65 for class 35.\n",
    "- <b>Support:</b>Support is the number of actual occurrences of the class in the specified dataset. Imbalanced support in the training data may indicate structural weaknesses in the reported scores of the classifier and could indicate the need for stratified sampling or rebalancing. Support doesn’t change between models but instead diagnoses the evaluation process.\n",
    "- <b>Micro Avg:</b> To calculate the micro-F1, we first compute micro-averaged precision and micro-averaged recall over all the samples , and then combine the two. We simply look at all the samples together. Remember that precision is the proportion of True Positives out of the Predicted Positives (TP/(TP+FP)). In the multi-class case, we consider all the correctly predicted samples to be True Positives. Here, F1-micro avg score is 0.42. It is bit higher than F1-micro avg score of MultinominalNB model."
   ]
  },
  {
   "cell_type": "code",
   "execution_count": 146,
   "metadata": {
    "colab": {
     "base_uri": "https://localhost:8080/"
    },
    "id": "q3f4fSpZx9D0",
    "outputId": "3395fe2e-ba07-4242-df40-d3a98137803e"
   },
   "outputs": [
    {
     "name": "stdout",
     "output_type": "stream",
     "text": [
      "[26359, 25330, 15328, 22159, 25916]\n",
      "('33-48', 'indunk', 'male')\n",
      "('33-48', 'indunk', 'male', 'virgo')\n",
      "=================x==================x================x==========\n",
      "('male',)\n",
      "('33-48', 'female', 'indunk', 'sagittarius')\n",
      "=================x==================x================x==========\n",
      "('23-27', 'male')\n",
      "('23-27', 'aries', 'indunk', 'male')\n",
      "=================x==================x================x==========\n",
      "('13-17', 'male', 'student')\n",
      "('13-17', 'cancer', 'male', 'student')\n",
      "=================x==================x================x==========\n",
      "('13-17', 'male')\n",
      "('13-17', 'capricorn', 'female', 'student')\n",
      "=================x==================x================x==========\n"
     ]
    }
   ],
   "source": [
    "predicted_value(y_predicted=y_pred_lr,y_test=y_test, n= 5)"
   ]
  },
  {
   "cell_type": "markdown",
   "metadata": {},
   "source": [
    "<b>Observation:</b>\n",
    "- First and Fourth Samples: Gender, Age Group and Topic features are prediected correctly and incorrect prediction for Sign feature. \n",
    "- Second Sample: Incorrect prediction for all the features. \n",
    "- Thrid and Fifth Samples: Gender and Age Group features are prediected correctly and incorrect prediction for  Topic and Sign features.\n",
    " \n",
    " "
   ]
  },
  {
   "cell_type": "markdown",
   "metadata": {
    "id": "P8viJD-1xoo8"
   },
   "source": [
    "#### Decision Tree"
   ]
  },
  {
   "cell_type": "code",
   "execution_count": 147,
   "metadata": {
    "id": "o7F0Aec3L8Nq"
   },
   "outputs": [],
   "source": [
    "# Build the model using Decision Treee Classifier\n",
    "dtc = DecisionTreeClassifier()\n",
    "dtc.fit(X_train_ct, y_train)\n",
    "y_pred_dt = dtc.predict(X_test_ct)"
   ]
  },
  {
   "cell_type": "code",
   "execution_count": 148,
   "metadata": {
    "colab": {
     "base_uri": "https://localhost:8080/"
    },
    "id": "8gaBUgn_Medy",
    "outputId": "14afd034-f91e-4434-e8d9-350432e972e7"
   },
   "outputs": [
    {
     "name": "stdout",
     "output_type": "stream",
     "text": [
      "Training Accuracy\n",
      "0.9393571428571429\n",
      "Testing Accuracy\n",
      "0.023566666666666666\n"
     ]
    }
   ],
   "source": [
    "print(\"Training Accuracy\")\n",
    "print(dtc.score(X_train_ct,y_train))\n",
    "print(\"Testing Accuracy\")\n",
    "print(dtc.score(X_test_ct,y_test))"
   ]
  },
  {
   "cell_type": "code",
   "execution_count": 149,
   "metadata": {
    "colab": {
     "base_uri": "https://localhost:8080/"
    },
    "id": "VAJ5WCfExvlm",
    "outputId": "32dc02f4-d71e-4843-8a84-dbbb7999fd68"
   },
   "outputs": [
    {
     "name": "stdout",
     "output_type": "stream",
     "text": [
      "Accuracy score:  0.023566666666666666\n",
      "F1 score: Micro 0.33919921462925245\n",
      "Average precision score: Micro 0.16232540392853334\n",
      "Average recall score: Micro 0.32824166666666665\n"
     ]
    }
   ],
   "source": [
    "print('Accuracy score: ', accuracy_score(y_test, y_pred_dt))\n",
    "print('F1 score: Micro', f1_score(y_test, y_pred_dt, average='micro'))\n",
    "print('Average precision score: Micro', average_precision_score(y_test, y_pred_dt, average='micro'))\n",
    "print('Average recall score: Micro', recall_score(y_test, y_pred_dt, average='micro'))"
   ]
  },
  {
   "cell_type": "code",
   "execution_count": 150,
   "metadata": {
    "colab": {
     "base_uri": "https://localhost:8080/"
    },
    "id": "2dcLfUPi653k",
    "outputId": "b2275b30-8459-43b5-d1cf-f47ba38a88f4"
   },
   "outputs": [
    {
     "name": "stdout",
     "output_type": "stream",
     "text": [
      "              precision    recall  f1-score   support\n",
      "\n",
      "           0       0.50      0.49      0.49     10461\n",
      "           1       0.53      0.52      0.52     14114\n",
      "           2       0.29      0.23      0.26      5425\n",
      "           3       0.05      0.04      0.04       166\n",
      "           4       0.01      0.00      0.01       209\n",
      "           5       0.00      0.00      0.00        56\n",
      "           6       0.09      0.08      0.09      2151\n",
      "           7       0.05      0.05      0.05        73\n",
      "           8       0.10      0.10      0.10      2776\n",
      "           9       0.06      0.05      0.05      1399\n",
      "          10       0.02      0.02      0.02        65\n",
      "          11       0.00      0.00      0.00       166\n",
      "          12       0.00      0.00      0.00        81\n",
      "          13       0.09      0.07      0.08       208\n",
      "          14       0.13      0.11      0.12      2943\n",
      "          15       0.09      0.08      0.08      2187\n",
      "          16       0.01      0.01      0.01       176\n",
      "          17       0.05      0.04      0.05       893\n",
      "          18       0.04      0.02      0.03        50\n",
      "          19       0.04      0.02      0.03       243\n",
      "          20       0.08      0.05      0.06      1314\n",
      "          21       0.05      0.03      0.04       562\n",
      "          22       0.00      0.00      0.00        24\n",
      "          23       0.05      0.04      0.04       223\n",
      "          24       0.55      0.53      0.54     14777\n",
      "          25       0.09      0.08      0.09      2246\n",
      "          26       0.02      0.02      0.02       294\n",
      "          27       0.00      0.00      0.00       136\n",
      "          28       0.38      0.40      0.39     11010\n",
      "          29       0.02      0.02      0.02       672\n",
      "          30       0.02      0.02      0.02        45\n",
      "          31       0.07      0.05      0.06       408\n",
      "          32       0.00      0.00      0.00        88\n",
      "          33       0.10      0.09      0.10      2366\n",
      "          34       0.10      0.09      0.10      2755\n",
      "          35       0.56      0.55      0.55     15223\n",
      "          36       0.00      0.00      0.00        99\n",
      "          37       0.00      0.00      0.00         8\n",
      "          38       0.00      0.00      0.00       209\n",
      "          39       0.01      0.01      0.01       145\n",
      "          40       0.02      0.02      0.02       133\n",
      "          41       0.04      0.03      0.03       666\n",
      "          42       0.12      0.10      0.11      2430\n",
      "          43       0.07      0.05      0.06       352\n",
      "          44       0.01      0.01      0.01       110\n",
      "          45       0.01      0.00      0.01       251\n",
      "          46       0.09      0.07      0.08      2231\n",
      "          47       0.02      0.01      0.01       349\n",
      "          48       0.10      0.09      0.09      2498\n",
      "          49       0.02      0.02      0.02       130\n",
      "          50       0.28      0.27      0.28      6753\n",
      "          51       0.11      0.10      0.10      2737\n",
      "          52       0.10      0.09      0.09      1876\n",
      "          53       0.04      0.03      0.04       154\n",
      "          54       0.01      0.01      0.01        98\n",
      "          55       0.21      0.15      0.17       106\n",
      "          56       0.11      0.09      0.10      2680\n",
      "\n",
      "   micro avg       0.35      0.33      0.34    120000\n",
      "   macro avg       0.10      0.09      0.09    120000\n",
      "weighted avg       0.34      0.33      0.33    120000\n",
      " samples avg       0.36      0.33      0.34    120000\n",
      "\n"
     ]
    }
   ],
   "source": [
    "print(classification_report(y_test,y_pred_dt))"
   ]
  },
  {
   "cell_type": "markdown",
   "metadata": {},
   "source": [
    "<b>Observation:</b>\n",
    "- There are 57 classess. Training accuracy is 0.93 but overall test accuracy is very poor (0.02). It is overfit model.\n",
    "- <b>Precision:</b>Precision is the ability of a classiifer not to label an instance positive that is actually negative. For each class it is defined as as the ratio of true positives to the sum of true and false positives. Precision scores is 0.56 for class 35 and second highest score is o.55 for class 24. Average precision score is 0.16\n",
    "- <b>Recall:</b>Recall is the ability of a classifier to find all positive instances. For each class it is defined as the ratio of true positives to the sum of true positives and false negatives. Recall score is 0.55 for class 35. Average recall score is 0.32\n",
    "- <b>F1 Score:</b>:The F1 score is a weighted harmonic mean of precision and recall such that the best score is 1.0 and the worst is 0.0. Generally speaking, F1 scores are lower than accuracy measures as they embed precision and recall into their computation. As a rule of thumb, the weighted average of F1 should be used to compare classifier models, not global accuracy. Here F1 score is 0.55 for class 35.\n",
    "- <b>Support:</b>Support is the number of actual occurrences of the class in the specified dataset. Imbalanced support in the training data may indicate structural weaknesses in the reported scores of the classifier and could indicate the need for stratified sampling or rebalancing. Support doesn’t change between models but instead diagnoses the evaluation process.\n",
    "- <b>Micro Avg:</b> To calculate the micro-F1, we first compute micro-averaged precision and micro-averaged recall over all the samples , and then combine the two. We simply look at all the samples together. Remember that precision is the proportion of True Positives out of the Predicted Positives (TP/(TP+FP)). In the multi-class case, we consider all the correctly predicted samples to be True Positives. Here, F1-micro avg score is 0.33. It is less than F1-micro avg score of MultinominalNB and Logistic Regression model."
   ]
  },
  {
   "cell_type": "code",
   "execution_count": 151,
   "metadata": {
    "colab": {
     "base_uri": "https://localhost:8080/"
    },
    "id": "G8UxodDwyBX7",
    "outputId": "0a5b01a2-cf73-4b83-c099-1896e0f4acbe"
   },
   "outputs": [
    {
     "name": "stdout",
     "output_type": "stream",
     "text": [
      "[13839, 11166, 9288, 14379, 13162]\n",
      "('13-17', 'cancer', 'female', 'student')\n",
      "('13-17', 'male', 'non-profit', 'scorpio')\n",
      "=================x==================x================x==========\n",
      "('23-27', 'male')\n",
      "('23-27', 'aries', 'female', 'indunk')\n",
      "=================x==================x================x==========\n",
      "('23-27', 'aries', 'female', 'student')\n",
      "('23-27', 'aquarius', 'education', 'female')\n",
      "=================x==================x================x==========\n",
      "('13-17', 'female', 'gemini', 'indunk')\n",
      "('23-27', 'indunk', 'male', 'pisces')\n",
      "=================x==================x================x==========\n",
      "('23-27', 'female', 'marketing', 'pisces')\n",
      "('23-27', 'businessservices', 'cancer', 'male')\n",
      "=================x==================x================x==========\n"
     ]
    }
   ],
   "source": [
    "predicted_value(y_predicted=y_pred_dt,y_test=y_test, n= 5)"
   ]
  },
  {
   "cell_type": "markdown",
   "metadata": {},
   "source": [
    "<b>Observation:</b>\n",
    "- First, Second and Fifth Samples: Age Group feature prediected correctly and incorrect prediction for rest of the features.  \n",
    "- Thrid and Fifth Samples: Gender and Age Group features are prediected correctly and incorrect prediction for  Topic and Sign features.\n",
    "- Fourth Sample: Topic feature prediected correctly and incorrect prediction for rest of the features. \n"
   ]
  },
  {
   "cell_type": "markdown",
   "metadata": {
    "id": "EU2pcwR_ydLf"
   },
   "source": [
    "#### Random Forest"
   ]
  },
  {
   "cell_type": "code",
   "execution_count": 152,
   "metadata": {
    "id": "KT1VZFOp5drx"
   },
   "outputs": [],
   "source": [
    "# Build the model using Random Forest Classifier\n",
    "rfc = RandomForestClassifier()\n",
    "rfc.fit(X_train_ct, y_train)\n",
    "y_pred_rf = rfc.predict(X_test_ct)"
   ]
  },
  {
   "cell_type": "code",
   "execution_count": 153,
   "metadata": {
    "colab": {
     "base_uri": "https://localhost:8080/"
    },
    "id": "idCDsRpK5zev",
    "outputId": "870d4d8c-a2ca-4394-9f05-63f85170c72a"
   },
   "outputs": [
    {
     "name": "stdout",
     "output_type": "stream",
     "text": [
      "Training Accuracy\n",
      "0.9402714285714285\n",
      "Testing Accuracy\n",
      "0.008133333333333333\n"
     ]
    }
   ],
   "source": [
    "print(\"Training Accuracy\")\n",
    "print(rfc.score(X_train_ct,y_train))\n",
    "print(\"Testing Accuracy\")\n",
    "print(rfc.score(X_test_ct,y_test))"
   ]
  },
  {
   "cell_type": "code",
   "execution_count": 154,
   "metadata": {
    "colab": {
     "base_uri": "https://localhost:8080/"
    },
    "id": "cqG0EVwc55yF",
    "outputId": "c4622b1f-5931-4092-fc07-c33adee7cf12"
   },
   "outputs": [
    {
     "name": "stdout",
     "output_type": "stream",
     "text": [
      "Accuracy score:  0.008133333333333333\n",
      "F1 score: Micro 0.35911547568488966\n",
      "Average precision score: Micro 0.20511097149684904\n",
      "Average recall score: Micro 0.2572\n"
     ]
    }
   ],
   "source": [
    "print('Accuracy score: ', accuracy_score(y_test, y_pred_rf))\n",
    "print('F1 score: Micro', f1_score(y_test, y_pred_rf, average='micro'))\n",
    "print('Average precision score: Micro', average_precision_score(y_test, y_pred_rf, average='micro'))\n",
    "print('Average recall score: Micro', recall_score(y_test, y_pred_rf, average='micro'))"
   ]
  },
  {
   "cell_type": "code",
   "execution_count": 155,
   "metadata": {
    "colab": {
     "base_uri": "https://localhost:8080/"
    },
    "id": "y84BEvgs6-6Z",
    "outputId": "56a590d3-2195-455f-885b-ad52079b4a28"
   },
   "outputs": [
    {
     "name": "stdout",
     "output_type": "stream",
     "text": [
      "              precision    recall  f1-score   support\n",
      "\n",
      "           0       0.75      0.36      0.49     10461\n",
      "           1       0.60      0.52      0.56     14114\n",
      "           2       0.65      0.04      0.08      5425\n",
      "           3       0.29      0.01      0.02       166\n",
      "           4       0.00      0.00      0.00       209\n",
      "           5       0.00      0.00      0.00        56\n",
      "           6       0.05      0.00      0.00      2151\n",
      "           7       0.00      0.00      0.00        73\n",
      "           8       0.24      0.01      0.02      2776\n",
      "           9       0.21      0.01      0.02      1399\n",
      "          10       0.00      0.00      0.00        65\n",
      "          11       0.00      0.00      0.00       166\n",
      "          12       0.00      0.00      0.00        81\n",
      "          13       0.67      0.01      0.02       208\n",
      "          14       0.39      0.02      0.05      2943\n",
      "          15       0.18      0.01      0.01      2187\n",
      "          16       0.00      0.00      0.00       176\n",
      "          17       0.17      0.00      0.01       893\n",
      "          18       0.50      0.02      0.04        50\n",
      "          19       0.14      0.00      0.01       243\n",
      "          20       0.28      0.01      0.02      1314\n",
      "          21       0.12      0.00      0.00       562\n",
      "          22       0.00      0.00      0.00        24\n",
      "          23       0.11      0.00      0.01       223\n",
      "          24       0.59      0.64      0.62     14777\n",
      "          25       0.32      0.01      0.03      2246\n",
      "          26       0.08      0.01      0.01       294\n",
      "          27       0.00      0.00      0.00       136\n",
      "          28       0.43      0.08      0.14     11010\n",
      "          29       0.06      0.00      0.01       672\n",
      "          30       0.25      0.02      0.04        45\n",
      "          31       0.43      0.01      0.01       408\n",
      "          32       0.00      0.00      0.00        88\n",
      "          33       0.38      0.01      0.03      2366\n",
      "          34       0.11      0.01      0.01      2755\n",
      "          35       0.62      0.55      0.58     15223\n",
      "          36       0.00      0.00      0.00        99\n",
      "          37       0.00      0.00      0.00         8\n",
      "          38       0.00      0.00      0.00       209\n",
      "          39       0.00      0.00      0.00       145\n",
      "          40       0.00      0.00      0.00       133\n",
      "          41       0.06      0.00      0.01       666\n",
      "          42       0.30      0.02      0.04      2430\n",
      "          43       0.00      0.00      0.00       352\n",
      "          44       0.00      0.00      0.00       110\n",
      "          45       0.00      0.00      0.00       251\n",
      "          46       0.20      0.01      0.02      2231\n",
      "          47       0.18      0.01      0.02       349\n",
      "          48       0.22      0.01      0.02      2498\n",
      "          49       0.00      0.00      0.00       130\n",
      "          50       0.39      0.03      0.05      6753\n",
      "          51       0.25      0.02      0.03      2737\n",
      "          52       0.27      0.01      0.03      1876\n",
      "          53       0.40      0.03      0.05       154\n",
      "          54       0.50      0.01      0.02        98\n",
      "          55       0.94      0.16      0.27       106\n",
      "          56       0.24      0.01      0.02      2680\n",
      "\n",
      "   micro avg       0.59      0.26      0.36    120000\n",
      "   macro avg       0.22      0.05      0.06    120000\n",
      "weighted avg       0.46      0.26      0.28    120000\n",
      " samples avg       0.60      0.26      0.35    120000\n",
      "\n"
     ]
    }
   ],
   "source": [
    "print(classification_report(y_test,y_pred_rf))"
   ]
  },
  {
   "cell_type": "markdown",
   "metadata": {},
   "source": [
    "<b>Observation:</b>\n",
    "- There are 57 classess. Training accuracy is 0.94 but overall test accuracy is very poor (0.008). It is overfit model.\n",
    "- <b>Precision:</b>Precision is the ability of a classiifer not to label an instance positive that is actually negative. For each class it is defined as as the ratio of true positives to the sum of true and false positives. Precision scores is 0.94 for class 55 and second highest score is 0.75 for class 0. Average precision score is 0.20\n",
    "- <b>Recall:</b>Recall is the ability of a classifier to find all positive instances. For each class it is defined as the ratio of true positives to the sum of true positives and false negatives. Recall score is 0.64 for class 24. Average recall score is 0.25\n",
    "- <b>F1 Score:</b>:The F1 score is a weighted harmonic mean of precision and recall such that the best score is 1.0 and the worst is 0.0. Generally speaking, F1 scores are lower than accuracy measures as they embed precision and recall into their computation. As a rule of thumb, the weighted average of F1 should be used to compare classifier models, not global accuracy. Here F1 score is 0.62 for class 24.\n",
    "- <b>Support:</b>Support is the number of actual occurrences of the class in the specified dataset. Imbalanced support in the training data may indicate structural weaknesses in the reported scores of the classifier and could indicate the need for stratified sampling or rebalancing. Support doesn’t change between models but instead diagnoses the evaluation process.\n",
    "- <b>Micro Avg:</b> To calculate the micro-F1, we first compute micro-averaged precision and micro-averaged recall over all the samples , and then combine the two. We simply look at all the samples together. Remember that precision is the proportion of True Positives out of the Predicted Positives (TP/(TP+FP)). In the multi-class case, we consider all the correctly predicted samples to be True Positives. Here, F1-micro avg score is 0.35. It is less than F1-micro avg score of MultinominalNB and Logistic Regression model."
   ]
  },
  {
   "cell_type": "code",
   "execution_count": 156,
   "metadata": {
    "colab": {
     "base_uri": "https://localhost:8080/"
    },
    "id": "tYHh4Vym6CYX",
    "outputId": "36f23d86-e1e6-4ab9-f363-4330f2b069ae"
   },
   "outputs": [
    {
     "name": "stdout",
     "output_type": "stream",
     "text": [
      "[6050, 29931, 22928, 11318, 9680]\n",
      "('23-27', 'female')\n",
      "('23-27', 'environment', 'libra', 'male')\n",
      "=================x==================x================x==========\n",
      "('23-27', 'female', 'virgo')\n",
      "('33-48', 'aries', 'communications-media', 'male')\n",
      "=================x==================x================x==========\n",
      "('female',)\n",
      "('23-27', 'cancer', 'education', 'female')\n",
      "=================x==================x================x==========\n",
      "('23-27', 'male')\n",
      "('23-27', 'communications-media', 'male', 'virgo')\n",
      "=================x==================x================x==========\n",
      "('23-27', 'male')\n",
      "('23-27', 'cancer', 'male', 'manufacturing')\n",
      "=================x==================x================x==========\n"
     ]
    }
   ],
   "source": [
    "predicted_value(y_predicted=y_pred_rf,y_test=y_test, n= 5)"
   ]
  },
  {
   "cell_type": "markdown",
   "metadata": {},
   "source": [
    "<b>Observation:</b>\n",
    "- First Sample: Age Group feature prediected correctly and incorrect prediction for rest of the features.  \n",
    "- Second Sample: Prediction is incorrect for all the features.\n",
    "- Third Sample: Gender feature prediected correctly and incorrect prediction for rest of the features. \n",
    "- Fourth and Fifth Samples: Age Group and Gender feature are prediected correctly and incorrect prediction for rest of the features. "
   ]
  },
  {
   "cell_type": "markdown",
   "metadata": {
    "id": "dfI3wMUEyjhK"
   },
   "source": [
    "#### Neural Network"
   ]
  },
  {
   "cell_type": "code",
   "execution_count": 157,
   "metadata": {
    "id": "wM0CQsTzdOND"
   },
   "outputs": [],
   "source": [
    "# Due to system requirements limitation picking 10k records only\n",
    "dfblogs_NN = dfblogs.sample(10000)"
   ]
  },
  {
   "cell_type": "code",
   "execution_count": 158,
   "metadata": {
    "colab": {
     "base_uri": "https://localhost:8080/",
     "height": 203
    },
    "id": "nJuP5O-9digq",
    "outputId": "1f8f4338-69e9-49ec-f0ac-dd78cd67dc71"
   },
   "outputs": [
    {
     "data": {
      "text/html": [
       "<div>\n",
       "<style scoped>\n",
       "    .dataframe tbody tr th:only-of-type {\n",
       "        vertical-align: middle;\n",
       "    }\n",
       "\n",
       "    .dataframe tbody tr th {\n",
       "        vertical-align: top;\n",
       "    }\n",
       "\n",
       "    .dataframe thead th {\n",
       "        text-align: right;\n",
       "    }\n",
       "</style>\n",
       "<table border=\"1\" class=\"dataframe\">\n",
       "  <thead>\n",
       "    <tr style=\"text-align: right;\">\n",
       "      <th></th>\n",
       "      <th>cleaned_text</th>\n",
       "      <th>labels</th>\n",
       "    </tr>\n",
       "  </thead>\n",
       "  <tbody>\n",
       "    <tr>\n",
       "      <th>109229</th>\n",
       "      <td>, speak correct speak tire hungri gone bye</td>\n",
       "      <td>[male, 13-17, technology, taurus]</td>\n",
       "    </tr>\n",
       "    <tr>\n",
       "      <th>266776</th>\n",
       "      <td>came back b - day shop ex ( she know yet ) mak...</td>\n",
       "      <td>[male, 23-27, indunk, aries]</td>\n",
       "    </tr>\n",
       "    <tr>\n",
       "      <th>86100</th>\n",
       "      <td>two understand : . rais religion . . alway par...</td>\n",
       "      <td>[male, 13-17, technology, aquarius]</td>\n",
       "    </tr>\n",
       "    <tr>\n",
       "      <th>202831</th>\n",
       "      <td>babi cold outsid landlord decid heat system fi...</td>\n",
       "      <td>[female, 33-48, indunk, aries]</td>\n",
       "    </tr>\n",
       "    <tr>\n",
       "      <th>278928</th>\n",
       "      <td>slight coincident day world sport soccer count...</td>\n",
       "      <td>[male, 13-17, indunk, virgo]</td>\n",
       "    </tr>\n",
       "  </tbody>\n",
       "</table>\n",
       "</div>"
      ],
      "text/plain": [
       "                                             cleaned_text                               labels\n",
       "109229         , speak correct speak tire hungri gone bye    [male, 13-17, technology, taurus]\n",
       "266776  came back b - day shop ex ( she know yet ) mak...         [male, 23-27, indunk, aries]\n",
       "86100   two understand : . rais religion . . alway par...  [male, 13-17, technology, aquarius]\n",
       "202831  babi cold outsid landlord decid heat system fi...       [female, 33-48, indunk, aries]\n",
       "278928  slight coincident day world sport soccer count...         [male, 13-17, indunk, virgo]"
      ]
     },
     "execution_count": 158,
     "metadata": {
      "tags": []
     },
     "output_type": "execute_result"
    }
   ],
   "source": [
    "dfblogs_NN.head()"
   ]
  },
  {
   "cell_type": "code",
   "execution_count": 159,
   "metadata": {
    "id": "JkcUbDOgNycY"
   },
   "outputs": [],
   "source": [
    "# Set the Independent and target variables\n",
    "X = dfblogs_NN[\"cleaned_text\"]\n",
    "y = dfblogs_NN[\"labels\"]\n",
    "\n",
    "# Split the train and test sets\n",
    "X_train, X_test, y_train, y_test =train_test_split(X,y,  test_size = 0.3, random_state=43)  \n"
   ]
  },
  {
   "cell_type": "code",
   "execution_count": 161,
   "metadata": {
    "id": "TXd_48pjNVPw"
   },
   "outputs": [],
   "source": [
    "#Vocab size\n",
    "top_words = 10000\n",
    "\n",
    "t = Tokenizer(num_words=top_words)\n",
    "t.fit_on_texts(X_train.tolist())\n",
    "\n",
    "#Get the word index for each of the word in the review\n",
    "X_train = t.texts_to_sequences(X_train.tolist())\n",
    "X_test = t.texts_to_sequences(X_test.tolist())"
   ]
  },
  {
   "cell_type": "code",
   "execution_count": 162,
   "metadata": {
    "id": "EqUuZneDPsU5"
   },
   "outputs": [],
   "source": [
    "#Each blog size\n",
    "max_review_length = 300\n",
    "\n",
    "# Add padding\n",
    "X_train = sequence.pad_sequences(X_train,maxlen=max_review_length,padding='post')\n",
    "X_test = sequence.pad_sequences(X_test, maxlen=max_review_length, padding='post')"
   ]
  },
  {
   "cell_type": "code",
   "execution_count": 163,
   "metadata": {
    "colab": {
     "base_uri": "https://localhost:8080/"
    },
    "id": "bX8I6_2RPyi1",
    "outputId": "8775c6c0-f2bc-4649-e5d6-9e88132303e3"
   },
   "outputs": [
    {
     "data": {
      "text/plain": [
       "300"
      ]
     },
     "execution_count": 163,
     "metadata": {
      "tags": []
     },
     "output_type": "execute_result"
    }
   ],
   "source": [
    "len(X_train[1])"
   ]
  },
  {
   "cell_type": "code",
   "execution_count": 164,
   "metadata": {
    "colab": {
     "base_uri": "https://localhost:8080/"
    },
    "id": "XYH9lX23d6vr",
    "outputId": "707ed8bb-cee4-43ff-aa56-b345a68ef796"
   },
   "outputs": [
    {
     "data": {
      "text/plain": [
       "(400000, 300)"
      ]
     },
     "execution_count": 164,
     "metadata": {
      "tags": []
     },
     "output_type": "execute_result"
    }
   ],
   "source": [
    "# Word Embedding using Glove\n",
    "target_file = get_tmpfile('/content/drive/MyDrive/Colab Notebooks/NLP/word2vec.6B.300d.txt')\n",
    "glove2word2vec('/content/drive/MyDrive/Colab Notebooks/NLP/glove.6B.300d.txt', target_file)"
   ]
  },
  {
   "cell_type": "code",
   "execution_count": 165,
   "metadata": {
    "id": "2_FsvT32QVdo"
   },
   "outputs": [],
   "source": [
    "word2vec = KeyedVectors.load_word2vec_format(\"/content/drive/MyDrive/Colab Notebooks/NLP/word2vec.6B.300d.txt\", binary=False)"
   ]
  },
  {
   "cell_type": "code",
   "execution_count": 166,
   "metadata": {
    "colab": {
     "base_uri": "https://localhost:8080/"
    },
    "id": "JmkiUnnPQ8gp",
    "outputId": "e1c80a25-7755-4951-c1fc-52462ac9e273"
   },
   "outputs": [
    {
     "name": "stdout",
     "output_type": "stream",
     "text": [
      "Loaded word2vec model..\n",
      "Model shape:  (400000, 300)\n"
     ]
    }
   ],
   "source": [
    "#Embedding Length\n",
    "embedding_vector_length = word2vec.wv.vectors.shape[1]\n",
    "\n",
    "print('Loaded word2vec model..')\n",
    "print('Model shape: ', word2vec.wv.vectors.shape)"
   ]
  },
  {
   "cell_type": "code",
   "execution_count": 167,
   "metadata": {
    "colab": {
     "base_uri": "https://localhost:8080/"
    },
    "id": "OuT-tkZ6RJC2",
    "outputId": "d2cd1c21-8d2b-4838-d537-65fc77965c67"
   },
   "outputs": [
    {
     "data": {
      "text/plain": [
       "(400000, 300)"
      ]
     },
     "execution_count": 167,
     "metadata": {
      "tags": []
     },
     "output_type": "execute_result"
    }
   ],
   "source": [
    "word2vec.wv.vectors.shape"
   ]
  },
  {
   "cell_type": "code",
   "execution_count": 168,
   "metadata": {
    "id": "kD1HaR0jRZR1"
   },
   "outputs": [],
   "source": [
    "#Initialize embedding matrix to all zeros\n",
    "embedding_matrix = np.zeros((top_words + 1, #Vocablury size + 1\n",
    "                             embedding_vector_length))\n",
    "\n",
    "#Steps for populating embedding matrix\n",
    "\n",
    "#1. Check each word in tokenizer vocablury to see if it exist in pre-trained\n",
    "# word2vec model.\n",
    "#2. If found, update embedding matrix with embeddings for the word \n",
    "# from word2vec model\n",
    "\n",
    "for word, i in sorted(t.word_index.items(),key=lambda x:x[1]):\n",
    "    if i > top_words:\n",
    "        break\n",
    "    if word in word2vec.wv.vocab:\n",
    "        embedding_vector = word2vec.wv[word]\n",
    "        embedding_matrix[i] = embedding_vector"
   ]
  },
  {
   "cell_type": "code",
   "execution_count": 169,
   "metadata": {
    "colab": {
     "base_uri": "https://localhost:8080/"
    },
    "id": "nP7O9LCVRjjh",
    "outputId": "617ac4db-a868-4b16-a2e4-552e3123a248"
   },
   "outputs": [
    {
     "data": {
      "text/plain": [
       "array([ 0.23188999, -0.19536   ,  0.033388  , -0.26135001,  0.51484001,\n",
       "        0.39276001,  0.10469   ,  0.057854  , -0.24567001, -1.56009996,\n",
       "        0.20387   , -0.26492   , -0.44075999,  0.46224999, -0.15718   ,\n",
       "        0.20169   , -0.26477   , -0.16019   , -0.38192001,  0.66452998,\n",
       "       -0.075429  ,  0.30939999,  0.011754  ,  0.0073894 ,  0.10262   ,\n",
       "       -0.01462   , -0.34276   ,  0.0054704 ,  0.29089999,  0.15917   ,\n",
       "       -0.025582  ,  0.36114001, -0.94572997,  0.034111  , -1.11389995,\n",
       "        0.093299  , -0.30590999,  0.38655001,  0.04631   , -0.0087563 ,\n",
       "        0.035591  , -0.51230001, -0.013579  , -0.14050999,  0.17067   ,\n",
       "        0.38446999,  0.78362   ,  0.66696   ,  0.066587  , -0.35587001,\n",
       "        0.38653001, -0.46603   , -0.1972    , -0.20084   , -0.31101   ,\n",
       "        0.56159002,  0.11281   ,  0.40764001,  0.38773999,  0.23275   ,\n",
       "        0.54009002, -0.14222001,  0.48638001, -0.098057  , -0.17888001,\n",
       "       -0.22547001, -0.31621999,  0.40327001, -0.35303   ,  0.030593  ,\n",
       "        0.33269   , -0.15977   , -0.29121   ,  0.02537   , -0.53517002,\n",
       "        0.044826  , -0.31805   , -0.019541  , -0.35216999, -0.060503  ,\n",
       "        0.093904  ,  0.35350001,  0.34469   , -0.047995  ,  0.23917   ,\n",
       "        0.53276998,  0.35234001,  0.36177   ,  0.38023999, -0.10991   ,\n",
       "       -0.084549  ,  0.064311  , -0.14614999,  0.068478  , -0.085784  ,\n",
       "       -0.23720001,  0.36037999, -0.46162   ,  0.26504001,  0.072533  ,\n",
       "       -0.0066208 ,  0.30719   , -0.4337    , -0.38782001,  0.12514   ,\n",
       "        0.077083  , -0.22266001,  0.55975997, -0.15103   ,  0.054541  ,\n",
       "        0.049737  , -0.073508  , -0.094238  , -0.09807   ,  0.31355   ,\n",
       "       -0.22803999,  0.13169999,  0.45491999,  0.32495001, -0.58771002,\n",
       "        0.11157   , -0.051746  ,  0.020469  , -0.21734001,  0.31428   ,\n",
       "       -0.18993001, -0.19921   ,  0.46401   , -0.13265   ,  0.24166   ,\n",
       "        0.059541  ,  0.067606  , -0.096733  , -0.076601  , -0.23103   ,\n",
       "       -0.30456001, -0.49704   , -0.17941999, -0.018639  ,  0.50572997,\n",
       "       -0.045136  ,  0.051193  ,  0.02656   ,  0.069832  ,  0.15838   ,\n",
       "       -0.19519   ,  0.18582   , -0.11794   , -0.63713002, -0.33759999,\n",
       "       -0.42997   ,  0.074482  , -0.16131   , -0.41417   ,  0.59508002,\n",
       "        0.27458   ,  0.17939   ,  0.14737999,  0.12890001, -0.27595001,\n",
       "        0.26425001,  0.073852  ,  0.19960999,  0.07841   , -0.31424001,\n",
       "       -0.12297   , -0.13381   ,  0.13451   ,  0.20556   ,  0.17596   ,\n",
       "        0.14714999, -0.36996999, -1.06620002, -0.19403   ,  0.15110999,\n",
       "        0.22338   , -0.23294   , -0.33289999,  0.19178   ,  0.14245   ,\n",
       "        0.084633  ,  0.10512   ,  0.17933001,  0.17058   ,  0.31066   ,\n",
       "       -0.31086001, -0.41389999, -0.1017    , -0.391     ,  0.33151001,\n",
       "       -0.046027  , -0.09093   ,  0.27157   ,  0.040941  , -0.19085   ,\n",
       "       -0.038705  ,  0.12789001, -0.514     ,  0.28712001,  0.095748  ,\n",
       "        1.6609    ,  0.1557    , -0.094605  , -0.043378  ,  0.17195   ,\n",
       "        0.43309   , -0.039645  ,  0.52766001,  0.051737  , -0.27200001,\n",
       "       -0.20137   ,  0.19543999, -0.1602    , -0.73433   ,  0.31546   ,\n",
       "        0.064551  , -0.25169   , -0.082348  ,  0.12053   , -0.42304999,\n",
       "        0.10633   , -0.035049  , -0.21144   , -0.64859003,  0.086155  ,\n",
       "       -0.33838999,  0.39782   ,  0.024342  ,  0.064293  ,  0.14286   ,\n",
       "       -0.57810003,  0.078375  ,  0.01964   , -0.31386   ,  0.10398   ,\n",
       "        0.17731   ,  0.098435  , -0.15798999,  0.036484  , -0.022712  ,\n",
       "       -0.53356999,  0.81462997,  0.25777999,  0.51334   , -0.76881999,\n",
       "       -0.17316   , -0.38406   ,  0.37472999,  0.086396  , -0.21864   ,\n",
       "        0.27587   , -0.10406   ,  0.021785  , -0.11514   ,  0.41641   ,\n",
       "        0.012729  , -0.047175  , -0.40651   ,  0.070361  , -0.141     ,\n",
       "        0.21243   , -0.32451001,  0.41108   ,  0.37566999, -0.22904   ,\n",
       "        0.23007999, -0.44674   , -0.10924   ,  0.21343   , -0.21244   ,\n",
       "        0.18073   , -0.57472998,  0.57914001,  0.17099001,  0.50050002,\n",
       "       -0.019581  , -1.62720001,  0.23616   ,  0.55410999,  0.12401   ,\n",
       "       -0.34678999,  0.36311001,  0.21776   , -0.040693  ,  0.34955999,\n",
       "        0.030313  , -0.22337   ,  0.003201  ,  0.19919001, -0.36947   ,\n",
       "       -0.039738  , -0.028459  , -0.12891001, -0.25411999, -0.31865001,\n",
       "       -0.10743   ,  0.0079095 ,  0.11391   ,  0.18514   , -0.36860001])"
      ]
     },
     "execution_count": 169,
     "metadata": {
      "tags": []
     },
     "output_type": "execute_result"
    }
   ],
   "source": [
    "#Check embeddings for word 'great'\n",
    "embedding_matrix[t.word_index['great']]"
   ]
  },
  {
   "cell_type": "code",
   "execution_count": 170,
   "metadata": {
    "id": "pA8zTdDeOkzF"
   },
   "outputs": [],
   "source": [
    "label_counts=dict()\n",
    "\n",
    "for labels in dfblogs_NN.labels.values:\n",
    "  for label in labels:\n",
    "      if label in label_counts:\n",
    "          label_counts[str(label)]+=1\n",
    "      else:\n",
    "          label_counts[str(label)]=1"
   ]
  },
  {
   "cell_type": "code",
   "execution_count": 171,
   "metadata": {
    "id": "e69KwTZuPU4t"
   },
   "outputs": [],
   "source": [
    "binarizer=MultiLabelBinarizer(classes=sorted(label_counts.keys()))\n",
    "\n",
    "y_train = binarizer.fit_transform(y_train)\n",
    "y_test = binarizer.transform(y_test)"
   ]
  },
  {
   "cell_type": "code",
   "execution_count": 172,
   "metadata": {
    "colab": {
     "base_uri": "https://localhost:8080/"
    },
    "id": "soaMJnPGOMoi",
    "outputId": "10bdad04-5512-443b-ac48-d3c0ff163643"
   },
   "outputs": [
    {
     "data": {
      "text/plain": [
       "(7000, 300)"
      ]
     },
     "execution_count": 172,
     "metadata": {
      "tags": []
     },
     "output_type": "execute_result"
    }
   ],
   "source": [
    "X_train.shape"
   ]
  },
  {
   "cell_type": "code",
   "execution_count": 173,
   "metadata": {
    "colab": {
     "base_uri": "https://localhost:8080/"
    },
    "id": "kXNZj9QcVul2",
    "outputId": "4b8293b7-48b4-46f7-db6b-7a404cfa3012"
   },
   "outputs": [
    {
     "data": {
      "text/plain": [
       "(3000, 300)"
      ]
     },
     "execution_count": 173,
     "metadata": {
      "tags": []
     },
     "output_type": "execute_result"
    }
   ],
   "source": [
    "X_test.shape"
   ]
  },
  {
   "cell_type": "code",
   "execution_count": 174,
   "metadata": {
    "id": "yu3-eNV6k3BD"
   },
   "outputs": [],
   "source": [
    "# To check the number of onehot coded y variable\n",
    "y_train_cat = tf.keras.utils.to_categorical(y_train)\n",
    "y_test_cat = tf.keras.utils.to_categorical(y_test)"
   ]
  },
  {
   "cell_type": "code",
   "execution_count": 175,
   "metadata": {
    "colab": {
     "base_uri": "https://localhost:8080/"
    },
    "id": "brq2YzX_B6L-",
    "outputId": "530422d5-c1f0-4e25-ac99-90f467b3a2f0"
   },
   "outputs": [
    {
     "data": {
      "text/plain": [
       "(7000, 57, 2)"
      ]
     },
     "execution_count": 175,
     "metadata": {
      "tags": []
     },
     "output_type": "execute_result"
    }
   ],
   "source": [
    "y_train_cat.shape"
   ]
  },
  {
   "cell_type": "code",
   "execution_count": 176,
   "metadata": {
    "colab": {
     "base_uri": "https://localhost:8080/"
    },
    "id": "Oplj3mPAB-xP",
    "outputId": "8f7c6086-ed46-4d54-de85-6d650151d291"
   },
   "outputs": [
    {
     "data": {
      "text/plain": [
       "(3000, 57, 2)"
      ]
     },
     "execution_count": 176,
     "metadata": {
      "tags": []
     },
     "output_type": "execute_result"
    }
   ],
   "source": [
    "y_test_cat.shape"
   ]
  },
  {
   "cell_type": "code",
   "execution_count": 177,
   "metadata": {
    "id": "W7PFPOI7ussD"
   },
   "outputs": [],
   "source": [
    "tf.keras.backend.clear_session()\n",
    "\n",
    "#Build a sequential model\n",
    "model = Sequential()"
   ]
  },
  {
   "cell_type": "code",
   "execution_count": 178,
   "metadata": {
    "id": "kSu0lwFYumwD"
   },
   "outputs": [],
   "source": [
    "# Add Embedding layer\n",
    "model.add(Embedding(top_words + 1, #Indexes that we need to deal with                    \n",
    "                    embedding_vector_length, #embedding_size i.e 300 in this case\n",
    "                    input_length=max_review_length, #Size of each blof i.e 300 in this case\n",
    "                    weights=[embedding_matrix], #Pre-trained embedding\n",
    "                    trainable=True #We do not want to change embedding\n",
    "                   )\n",
    "         )"
   ]
  },
  {
   "cell_type": "code",
   "execution_count": 179,
   "metadata": {
    "id": "5naWcSkrj-Vs"
   },
   "outputs": [],
   "source": [
    "\n",
    "#Flatten embedding layer output and flatten layers\n",
    "model.add(Flatten())\n",
    "model.add(Dropout(0.5))\n",
    "model.add(Dense(400,activation='relu'))\n",
    "model.add(Dropout(0.5))\n",
    "model.add(Dense(300,activation='relu'))\n",
    "model.add(Dropout(0.5))\n",
    "model.add(Dense(250,activation='relu'))\n",
    "model.add(Dropout(0.5))\n",
    "model.add(Dense(100,activation='relu'))\n",
    "model.add(Dropout(0.4))\n",
    "model.add(Dense(57,activation='softmax'))\n"
   ]
  },
  {
   "cell_type": "code",
   "execution_count": 180,
   "metadata": {
    "colab": {
     "base_uri": "https://localhost:8080/"
    },
    "id": "97g2p4U2vUoH",
    "outputId": "c5490f69-7868-4210-f926-0aecd7428f61"
   },
   "outputs": [
    {
     "name": "stdout",
     "output_type": "stream",
     "text": [
      "Model: \"sequential\"\n",
      "_________________________________________________________________\n",
      "Layer (type)                 Output Shape              Param #   \n",
      "=================================================================\n",
      "embedding (Embedding)        (None, 300, 300)          3000300   \n",
      "_________________________________________________________________\n",
      "flatten (Flatten)            (None, 90000)             0         \n",
      "_________________________________________________________________\n",
      "dropout (Dropout)            (None, 90000)             0         \n",
      "_________________________________________________________________\n",
      "dense (Dense)                (None, 400)               36000400  \n",
      "_________________________________________________________________\n",
      "dropout_1 (Dropout)          (None, 400)               0         \n",
      "_________________________________________________________________\n",
      "dense_1 (Dense)              (None, 300)               120300    \n",
      "_________________________________________________________________\n",
      "dropout_2 (Dropout)          (None, 300)               0         \n",
      "_________________________________________________________________\n",
      "dense_2 (Dense)              (None, 250)               75250     \n",
      "_________________________________________________________________\n",
      "dropout_3 (Dropout)          (None, 250)               0         \n",
      "_________________________________________________________________\n",
      "dense_3 (Dense)              (None, 100)               25100     \n",
      "_________________________________________________________________\n",
      "dropout_4 (Dropout)          (None, 100)               0         \n",
      "_________________________________________________________________\n",
      "dense_4 (Dense)              (None, 57)                5757      \n",
      "=================================================================\n",
      "Total params: 39,227,107\n",
      "Trainable params: 39,227,107\n",
      "Non-trainable params: 0\n",
      "_________________________________________________________________\n"
     ]
    }
   ],
   "source": [
    "model.summary()"
   ]
  },
  {
   "cell_type": "code",
   "execution_count": 181,
   "metadata": {
    "id": "eBdbW8lSvgER"
   },
   "outputs": [],
   "source": [
    "# Compile the model using Adam optimizer\n",
    "adam_op = tf.keras.optimizers.Adam(lr=0.0001)\n",
    "model.compile(optimizer=adam_op, loss='categorical_crossentropy', metrics=[tf.keras.metrics.Recall(), 'accuracy'])"
   ]
  },
  {
   "cell_type": "code",
   "execution_count": 182,
   "metadata": {
    "colab": {
     "base_uri": "https://localhost:8080/"
    },
    "id": "eCENckAMQXVM",
    "outputId": "713d235d-18a1-4ab0-b435-65cc30a4d471"
   },
   "outputs": [
    {
     "data": {
      "text/plain": [
       "(3000, 57)"
      ]
     },
     "execution_count": 182,
     "metadata": {
      "tags": []
     },
     "output_type": "execute_result"
    }
   ],
   "source": [
    "y_test.shape"
   ]
  },
  {
   "cell_type": "code",
   "execution_count": 183,
   "metadata": {
    "colab": {
     "base_uri": "https://localhost:8080/"
    },
    "id": "tCxtuem8Q7eh",
    "outputId": "aeda7888-6305-4754-8e02-812f46f28dca"
   },
   "outputs": [
    {
     "data": {
      "text/plain": [
       "(3000, 57)"
      ]
     },
     "execution_count": 183,
     "metadata": {
      "tags": []
     },
     "output_type": "execute_result"
    }
   ],
   "source": [
    "y_test.shape"
   ]
  },
  {
   "cell_type": "code",
   "execution_count": 184,
   "metadata": {
    "colab": {
     "base_uri": "https://localhost:8080/"
    },
    "id": "cxXsdoIWv7oK",
    "outputId": "e90aaaec-283e-4e8b-d69f-7a81636ae431"
   },
   "outputs": [
    {
     "name": "stdout",
     "output_type": "stream",
     "text": [
      "Epoch 1/100\n",
      "219/219 [==============================] - 10s 34ms/step - loss: 11949.8105 - recall: 0.0727 - accuracy: 0.1213 - val_loss: 84441.3359 - val_recall: 0.1237 - val_accuracy: 0.0000e+00\n",
      "Epoch 2/100\n",
      "219/219 [==============================] - 7s 32ms/step - loss: 12683035.0000 - recall: 0.1077 - accuracy: 0.1506 - val_loss: 36763136.0000 - val_recall: 0.1263 - val_accuracy: 0.0000e+00\n",
      "Epoch 3/100\n",
      "219/219 [==============================] - 7s 32ms/step - loss: 388348096.0000 - recall: 0.1065 - accuracy: 0.1506 - val_loss: 701299008.0000 - val_recall: 0.1263 - val_accuracy: 0.0000e+00\n",
      "Epoch 4/100\n",
      "219/219 [==============================] - 7s 31ms/step - loss: 3155843584.0000 - recall: 0.1055 - accuracy: 0.1567 - val_loss: 4584998912.0000 - val_recall: 0.1237 - val_accuracy: 0.0000e+00\n",
      "Epoch 5/100\n",
      "219/219 [==============================] - 7s 32ms/step - loss: 13912209408.0000 - recall: 0.1077 - accuracy: 0.1477 - val_loss: 17886627840.0000 - val_recall: 0.1263 - val_accuracy: 0.0000e+00\n",
      "Epoch 6/100\n",
      "219/219 [==============================] - 7s 32ms/step - loss: 42956906496.0000 - recall: 0.1078 - accuracy: 0.1480 - val_loss: 49939755008.0000 - val_recall: 0.1263 - val_accuracy: 0.0000e+00\n",
      "Epoch 7/100\n",
      "219/219 [==============================] - 7s 31ms/step - loss: 106554990592.0000 - recall: 0.1094 - accuracy: 0.1459 - val_loss: 119790600192.0000 - val_recall: 0.1263 - val_accuracy: 0.0000e+00\n",
      "Epoch 8/100\n",
      "219/219 [==============================] - 7s 32ms/step - loss: 226299510784.0000 - recall: 0.1106 - accuracy: 0.1496 - val_loss: 245085437952.0000 - val_recall: 0.1263 - val_accuracy: 0.0000e+00\n",
      "Epoch 9/100\n",
      "219/219 [==============================] - 7s 32ms/step - loss: 431749562368.0000 - recall: 0.1083 - accuracy: 0.1413 - val_loss: 460100567040.0000 - val_recall: 0.1263 - val_accuracy: 0.0000e+00\n",
      "Epoch 10/100\n",
      "219/219 [==============================] - 7s 32ms/step - loss: 753974116352.0000 - recall: 0.1074 - accuracy: 0.1500 - val_loss: 792125308928.0000 - val_recall: 0.1263 - val_accuracy: 0.0000e+00\n",
      "Epoch 11/100\n",
      "219/219 [==============================] - 7s 32ms/step - loss: 1236199276544.0000 - recall: 0.1096 - accuracy: 0.1489 - val_loss: 1261953220608.0000 - val_recall: 0.1263 - val_accuracy: 0.0000e+00\n",
      "Epoch 12/100\n",
      "219/219 [==============================] - 7s 31ms/step - loss: 1910936698880.0000 - recall: 0.1091 - accuracy: 0.1467 - val_loss: 1960144273408.0000 - val_recall: 0.1263 - val_accuracy: 0.0000e+00\n",
      "Epoch 13/100\n",
      "219/219 [==============================] - 7s 31ms/step - loss: 2867033014272.0000 - recall: 0.1102 - accuracy: 0.1483 - val_loss: 2888333787136.0000 - val_recall: 0.1263 - val_accuracy: 0.0000e+00\n",
      "Epoch 14/100\n",
      "219/219 [==============================] - 7s 31ms/step - loss: 4132049256448.0000 - recall: 0.1099 - accuracy: 0.1479 - val_loss: 4141538607104.0000 - val_recall: 0.1263 - val_accuracy: 0.0000e+00\n",
      "Epoch 15/100\n",
      "219/219 [==============================] - 7s 31ms/step - loss: 5741522452480.0000 - recall: 0.1113 - accuracy: 0.1486 - val_loss: 5772862816256.0000 - val_recall: 0.1263 - val_accuracy: 0.0000e+00\n",
      "Epoch 16/100\n",
      "219/219 [==============================] - 7s 32ms/step - loss: 7838276517888.0000 - recall: 0.1075 - accuracy: 0.1470 - val_loss: 7821303742464.0000 - val_recall: 0.1263 - val_accuracy: 0.0000e+00\n",
      "Epoch 17/100\n",
      "219/219 [==============================] - 7s 32ms/step - loss: 10452444643328.0000 - recall: 0.1125 - accuracy: 0.1531 - val_loss: 10403005333504.0000 - val_recall: 0.1263 - val_accuracy: 0.0000e+00\n",
      "Epoch 18/100\n",
      "219/219 [==============================] - 7s 31ms/step - loss: 13683496321024.0000 - recall: 0.1089 - accuracy: 0.1450 - val_loss: 13619494387712.0000 - val_recall: 0.1263 - val_accuracy: 0.0000e+00\n",
      "Epoch 19/100\n",
      "219/219 [==============================] - 7s 31ms/step - loss: 17533721640960.0000 - recall: 0.1084 - accuracy: 0.1407 - val_loss: 17320022900736.0000 - val_recall: 0.1237 - val_accuracy: 0.0000e+00\n",
      "Epoch 20/100\n",
      "219/219 [==============================] - 7s 32ms/step - loss: 22193016668160.0000 - recall: 0.1104 - accuracy: 0.1454 - val_loss: 22001567662080.0000 - val_recall: 0.1237 - val_accuracy: 0.0000e+00\n",
      "Epoch 21/100\n",
      "219/219 [==============================] - 7s 32ms/step - loss: 27727409184768.0000 - recall: 0.1094 - accuracy: 0.1414 - val_loss: 27425587068928.0000 - val_recall: 0.1263 - val_accuracy: 0.0000e+00\n",
      "Epoch 22/100\n",
      "219/219 [==============================] - 7s 32ms/step - loss: 34539275550720.0000 - recall: 0.1104 - accuracy: 0.1447 - val_loss: 33786687389696.0000 - val_recall: 0.1237 - val_accuracy: 0.0000e+00\n",
      "Epoch 23/100\n",
      "219/219 [==============================] - 7s 31ms/step - loss: 41997951827968.0000 - recall: 0.1105 - accuracy: 0.1491 - val_loss: 41293623328768.0000 - val_recall: 0.1237 - val_accuracy: 0.0000e+00\n",
      "Epoch 24/100\n",
      "219/219 [==============================] - 7s 31ms/step - loss: 51124644085760.0000 - recall: 0.1111 - accuracy: 0.1440 - val_loss: 50033328128000.0000 - val_recall: 0.1263 - val_accuracy: 0.0000e+00\n",
      "Epoch 25/100\n",
      "219/219 [==============================] - 7s 31ms/step - loss: 61089232453632.0000 - recall: 0.1095 - accuracy: 0.1450 - val_loss: 60073665626112.0000 - val_recall: 0.1237 - val_accuracy: 0.0000e+00\n",
      "Epoch 26/100\n",
      "219/219 [==============================] - 7s 32ms/step - loss: 73219688103936.0000 - recall: 0.1091 - accuracy: 0.1467 - val_loss: 71555732209664.0000 - val_recall: 0.1237 - val_accuracy: 0.0000e+00\n",
      "Epoch 27/100\n",
      "219/219 [==============================] - 7s 31ms/step - loss: 86474712154112.0000 - recall: 0.1091 - accuracy: 0.1406 - val_loss: 85364295335936.0000 - val_recall: 0.1263 - val_accuracy: 0.0000e+00\n",
      "Epoch 28/100\n",
      "219/219 [==============================] - 7s 31ms/step - loss: 101990902267904.0000 - recall: 0.1072 - accuracy: 0.1424 - val_loss: 100249301417984.0000 - val_recall: 0.1263 - val_accuracy: 0.0000e+00\n",
      "Epoch 29/100\n",
      "219/219 [==============================] - 7s 31ms/step - loss: 118905414615040.0000 - recall: 0.1090 - accuracy: 0.1471 - val_loss: 117179315912704.0000 - val_recall: 0.1263 - val_accuracy: 0.0000e+00\n",
      "Epoch 30/100\n",
      "219/219 [==============================] - 7s 32ms/step - loss: 138000361062400.0000 - recall: 0.1094 - accuracy: 0.1396 - val_loss: 135501554122752.0000 - val_recall: 0.1263 - val_accuracy: 0.0000e+00\n",
      "Epoch 31/100\n",
      "219/219 [==============================] - 7s 31ms/step - loss: 159739312865280.0000 - recall: 0.1088 - accuracy: 0.1401 - val_loss: 157005415186432.0000 - val_recall: 0.1263 - val_accuracy: 0.0000e+00\n",
      "Epoch 32/100\n",
      "219/219 [==============================] - 7s 31ms/step - loss: 183096771084288.0000 - recall: 0.1085 - accuracy: 0.1461 - val_loss: 181549760774144.0000 - val_recall: 0.1263 - val_accuracy: 0.0000e+00\n",
      "Epoch 33/100\n",
      "219/219 [==============================] - 7s 32ms/step - loss: 210248480587776.0000 - recall: 0.1089 - accuracy: 0.1444 - val_loss: 207239939883008.0000 - val_recall: 0.1263 - val_accuracy: 0.0000e+00\n",
      "Epoch 34/100\n",
      "219/219 [==============================] - 7s 31ms/step - loss: 240312194695168.0000 - recall: 0.1094 - accuracy: 0.1424 - val_loss: 236997000036352.0000 - val_recall: 0.1263 - val_accuracy: 0.0000e+00\n",
      "Epoch 35/100\n",
      "219/219 [==============================] - 7s 32ms/step - loss: 271925888679936.0000 - recall: 0.1107 - accuracy: 0.1523 - val_loss: 268654918762496.0000 - val_recall: 0.1237 - val_accuracy: 0.0000e+00\n",
      "Epoch 36/100\n",
      "219/219 [==============================] - 7s 32ms/step - loss: 308504749408256.0000 - recall: 0.1093 - accuracy: 0.1457 - val_loss: 305262082654208.0000 - val_recall: 0.1263 - val_accuracy: 0.0000e+00\n",
      "Epoch 37/100\n",
      "219/219 [==============================] - 7s 32ms/step - loss: 348016435265536.0000 - recall: 0.1079 - accuracy: 0.1419 - val_loss: 343345926766592.0000 - val_recall: 0.1263 - val_accuracy: 0.0000e+00\n",
      "Epoch 38/100\n",
      "219/219 [==============================] - 7s 32ms/step - loss: 392071626096640.0000 - recall: 0.1109 - accuracy: 0.1469 - val_loss: 387182711799808.0000 - val_recall: 0.1237 - val_accuracy: 0.0000e+00\n",
      "Epoch 39/100\n",
      "219/219 [==============================] - 7s 31ms/step - loss: 441284669997056.0000 - recall: 0.1087 - accuracy: 0.1440 - val_loss: 435951092367360.0000 - val_recall: 0.1263 - val_accuracy: 0.0000e+00\n",
      "Epoch 40/100\n",
      "219/219 [==============================] - 7s 32ms/step - loss: 490873624199168.0000 - recall: 0.1096 - accuracy: 0.1460 - val_loss: 484854797959168.0000 - val_recall: 0.1237 - val_accuracy: 0.0000e+00\n",
      "Epoch 41/100\n",
      "219/219 [==============================] - 7s 31ms/step - loss: 549566164238336.0000 - recall: 0.1089 - accuracy: 0.1403 - val_loss: 541689429098496.0000 - val_recall: 0.1237 - val_accuracy: 0.0000e+00\n",
      "Epoch 42/100\n",
      "219/219 [==============================] - 7s 32ms/step - loss: 610016553861120.0000 - recall: 0.1131 - accuracy: 0.1450 - val_loss: 604140233293824.0000 - val_recall: 0.1263 - val_accuracy: 0.0000e+00\n",
      "Epoch 43/100\n",
      "219/219 [==============================] - 7s 32ms/step - loss: 679636698660864.0000 - recall: 0.1115 - accuracy: 0.1461 - val_loss: 670417954013184.0000 - val_recall: 0.1263 - val_accuracy: 0.0000e+00\n",
      "Epoch 44/100\n",
      "219/219 [==============================] - 7s 32ms/step - loss: 748406708371456.0000 - recall: 0.1101 - accuracy: 0.1454 - val_loss: 742453346828288.0000 - val_recall: 0.1237 - val_accuracy: 0.0000e+00\n",
      "Epoch 45/100\n",
      "219/219 [==============================] - 7s 32ms/step - loss: 831449968148480.0000 - recall: 0.1069 - accuracy: 0.1419 - val_loss: 824444608053248.0000 - val_recall: 0.1263 - val_accuracy: 0.0000e+00\n",
      "Epoch 46/100\n",
      "219/219 [==============================] - 7s 32ms/step - loss: 914498596634624.0000 - recall: 0.1099 - accuracy: 0.1477 - val_loss: 905878463053824.0000 - val_recall: 0.1263 - val_accuracy: 0.0000e+00\n",
      "Epoch 47/100\n",
      "219/219 [==============================] - 7s 31ms/step - loss: 1005729741799424.0000 - recall: 0.1111 - accuracy: 0.1430 - val_loss: 996171157864448.0000 - val_recall: 0.1263 - val_accuracy: 0.0000e+00\n",
      "Epoch 48/100\n",
      "219/219 [==============================] - 7s 32ms/step - loss: 1103322941489152.0000 - recall: 0.1101 - accuracy: 0.1477 - val_loss: 1095285849718784.0000 - val_recall: 0.1263 - val_accuracy: 0.0000e+00\n",
      "Epoch 49/100\n",
      "219/219 [==============================] - 7s 31ms/step - loss: 1205673555656704.0000 - recall: 0.1088 - accuracy: 0.1389 - val_loss: 1203563921408000.0000 - val_recall: 0.1263 - val_accuracy: 0.0000e+00\n",
      "Epoch 50/100\n",
      "219/219 [==============================] - 7s 32ms/step - loss: 1325658701561856.0000 - recall: 0.1123 - accuracy: 0.1486 - val_loss: 1316473779781632.0000 - val_recall: 0.1237 - val_accuracy: 0.0000e+00\n",
      "Epoch 51/100\n",
      "219/219 [==============================] - 7s 32ms/step - loss: 1452785706991616.0000 - recall: 0.1101 - accuracy: 0.1490 - val_loss: 1438506685562880.0000 - val_recall: 0.1237 - val_accuracy: 0.0000e+00\n",
      "Epoch 52/100\n",
      "219/219 [==============================] - 7s 32ms/step - loss: 1571739255439360.0000 - recall: 0.1106 - accuracy: 0.1479 - val_loss: 1567058949046272.0000 - val_recall: 0.1263 - val_accuracy: 0.0000e+00\n",
      "Epoch 53/100\n",
      "219/219 [==============================] - 7s 32ms/step - loss: 1711740425338880.0000 - recall: 0.1067 - accuracy: 0.1449 - val_loss: 1709784738824192.0000 - val_recall: 0.1237 - val_accuracy: 0.0000e+00\n",
      "Epoch 54/100\n",
      "219/219 [==============================] - 7s 32ms/step - loss: 1868025292652544.0000 - recall: 0.1129 - accuracy: 0.1480 - val_loss: 1857136208379904.0000 - val_recall: 0.1237 - val_accuracy: 0.0000e+00\n",
      "Epoch 55/100\n",
      "219/219 [==============================] - 7s 32ms/step - loss: 2023871939084288.0000 - recall: 0.1084 - accuracy: 0.1426 - val_loss: 2022634048978944.0000 - val_recall: 0.1237 - val_accuracy: 0.0000e+00\n",
      "Epoch 56/100\n",
      "219/219 [==============================] - 7s 32ms/step - loss: 2202844031614976.0000 - recall: 0.1099 - accuracy: 0.1473 - val_loss: 2184989047259136.0000 - val_recall: 0.1237 - val_accuracy: 0.0000e+00\n",
      "Epoch 57/100\n",
      "219/219 [==============================] - 7s 32ms/step - loss: 2382709074690048.0000 - recall: 0.1088 - accuracy: 0.1439 - val_loss: 2370881271627776.0000 - val_recall: 0.1263 - val_accuracy: 0.0000e+00\n",
      "Epoch 58/100\n",
      "219/219 [==============================] - 7s 32ms/step - loss: 2573331266011136.0000 - recall: 0.1073 - accuracy: 0.1370 - val_loss: 2563939514712064.0000 - val_recall: 0.1237 - val_accuracy: 0.0000e+00\n",
      "Epoch 59/100\n",
      "219/219 [==============================] - 7s 32ms/step - loss: 2778951483129856.0000 - recall: 0.1086 - accuracy: 0.1446 - val_loss: 2767693836976128.0000 - val_recall: 0.1263 - val_accuracy: 0.0000e+00\n",
      "Epoch 60/100\n",
      "219/219 [==============================] - 7s 31ms/step - loss: 2994079147229184.0000 - recall: 0.1099 - accuracy: 0.1439 - val_loss: 2984516939415552.0000 - val_recall: 0.1263 - val_accuracy: 0.0000e+00\n",
      "Epoch 61/100\n",
      "219/219 [==============================] - 7s 32ms/step - loss: 3228206136033280.0000 - recall: 0.1074 - accuracy: 0.1426 - val_loss: 3216532146487296.0000 - val_recall: 0.1263 - val_accuracy: 0.0000e+00\n",
      "Epoch 62/100\n",
      "219/219 [==============================] - 7s 32ms/step - loss: 3467753105129472.0000 - recall: 0.1118 - accuracy: 0.1463 - val_loss: 3465893384290304.0000 - val_recall: 0.1237 - val_accuracy: 0.0000e+00\n",
      "Epoch 63/100\n",
      "219/219 [==============================] - 7s 32ms/step - loss: 3722399568625664.0000 - recall: 0.1117 - accuracy: 0.1389 - val_loss: 3718941314646016.0000 - val_recall: 0.1237 - val_accuracy: 0.0000e+00\n",
      "Epoch 64/100\n",
      "219/219 [==============================] - 7s 32ms/step - loss: 4008662897000448.0000 - recall: 0.1090 - accuracy: 0.1457 - val_loss: 4005413485805568.0000 - val_recall: 0.1263 - val_accuracy: 0.0000e+00\n",
      "Epoch 65/100\n",
      "219/219 [==============================] - 7s 32ms/step - loss: 4292851487735808.0000 - recall: 0.1070 - accuracy: 0.1401 - val_loss: 4294811603435520.0000 - val_recall: 0.1263 - val_accuracy: 0.0000e+00\n",
      "Epoch 66/100\n",
      "219/219 [==============================] - 7s 32ms/step - loss: 4594125189939200.0000 - recall: 0.1094 - accuracy: 0.1431 - val_loss: 4602846121033728.0000 - val_recall: 0.1263 - val_accuracy: 0.0000e+00\n",
      "Epoch 67/100\n",
      "219/219 [==============================] - 7s 32ms/step - loss: 4932528884416512.0000 - recall: 0.1104 - accuracy: 0.1419 - val_loss: 4924623997108224.0000 - val_recall: 0.1237 - val_accuracy: 0.0000e+00\n",
      "Epoch 68/100\n",
      "219/219 [==============================] - 7s 33ms/step - loss: 5272928664944640.0000 - recall: 0.1101 - accuracy: 0.1477 - val_loss: 5272661840101376.0000 - val_recall: 0.1263 - val_accuracy: 0.0000e+00\n",
      "Epoch 69/100\n",
      "219/219 [==============================] - 7s 32ms/step - loss: 5614537478766592.0000 - recall: 0.1109 - accuracy: 0.1514 - val_loss: 5640461901365248.0000 - val_recall: 0.1237 - val_accuracy: 0.0000e+00\n",
      "Epoch 70/100\n",
      "219/219 [==============================] - 7s 32ms/step - loss: 5998378169139200.0000 - recall: 0.1085 - accuracy: 0.1443 - val_loss: 6022410658643968.0000 - val_recall: 0.1263 - val_accuracy: 0.0000e+00\n",
      "Epoch 71/100\n",
      "219/219 [==============================] - 7s 33ms/step - loss: 6388837404114944.0000 - recall: 0.1087 - accuracy: 0.1371 - val_loss: 6422317747929088.0000 - val_recall: 0.1263 - val_accuracy: 0.0000e+00\n",
      "Epoch 72/100\n",
      "219/219 [==============================] - 7s 33ms/step - loss: 6825921730314240.0000 - recall: 0.1089 - accuracy: 0.1466 - val_loss: 6845679116746752.0000 - val_recall: 0.1237 - val_accuracy: 0.0000e+00\n",
      "Epoch 73/100\n",
      "219/219 [==============================] - 7s 33ms/step - loss: 7256624808853504.0000 - recall: 0.1094 - accuracy: 0.1394 - val_loss: 7291504238264320.0000 - val_recall: 0.1237 - val_accuracy: 0.0000e+00\n",
      "Epoch 74/100\n",
      "219/219 [==============================] - 7s 32ms/step - loss: 7721156660428800.0000 - recall: 0.1109 - accuracy: 0.1456 - val_loss: 7762675035537408.0000 - val_recall: 0.1237 - val_accuracy: 0.0000e+00\n",
      "Epoch 75/100\n",
      "219/219 [==============================] - 7s 32ms/step - loss: 8236177463181312.0000 - recall: 0.1101 - accuracy: 0.1394 - val_loss: 8266782326390784.0000 - val_recall: 0.1237 - val_accuracy: 0.0000e+00\n",
      "Epoch 76/100\n",
      "219/219 [==============================] - 7s 33ms/step - loss: 8779739934228480.0000 - recall: 0.1072 - accuracy: 0.1370 - val_loss: 8782021635604480.0000 - val_recall: 0.1263 - val_accuracy: 0.0000e+00\n",
      "Epoch 77/100\n",
      "219/219 [==============================] - 7s 32ms/step - loss: 9281264339124224.0000 - recall: 0.1098 - accuracy: 0.1469 - val_loss: 9313763282911232.0000 - val_recall: 0.1263 - val_accuracy: 0.0000e+00\n",
      "Epoch 78/100\n",
      "219/219 [==============================] - 7s 33ms/step - loss: 9875999198019584.0000 - recall: 0.1069 - accuracy: 0.1314 - val_loss: 9903113326559232.0000 - val_recall: 0.1263 - val_accuracy: 0.0000e+00\n",
      "Epoch 79/100\n",
      "219/219 [==============================] - 7s 33ms/step - loss: 10438723665657856.0000 - recall: 0.1098 - accuracy: 0.1399 - val_loss: 10494200684478464.0000 - val_recall: 0.1237 - val_accuracy: 0.0000e+00\n",
      "Epoch 80/100\n",
      "219/219 [==============================] - 7s 33ms/step - loss: 11056381838753792.0000 - recall: 0.1104 - accuracy: 0.1470 - val_loss: 11119739048820736.0000 - val_recall: 0.1237 - val_accuracy: 0.0000e+00\n",
      "Epoch 81/100\n",
      "219/219 [==============================] - 7s 33ms/step - loss: 11693017324847104.0000 - recall: 0.1088 - accuracy: 0.1494 - val_loss: 11787922143444992.0000 - val_recall: 0.1237 - val_accuracy: 0.0000e+00\n",
      "Epoch 82/100\n",
      "219/219 [==============================] - 7s 32ms/step - loss: 12454089824665600.0000 - recall: 0.1098 - accuracy: 0.1467 - val_loss: 12477138766659584.0000 - val_recall: 0.1237 - val_accuracy: 0.0000e+00\n",
      "Epoch 83/100\n",
      "219/219 [==============================] - 7s 33ms/step - loss: 13102273404076032.0000 - recall: 0.1069 - accuracy: 0.1391 - val_loss: 13202240915374080.0000 - val_recall: 0.1263 - val_accuracy: 0.0000e+00\n",
      "Epoch 84/100\n",
      "219/219 [==============================] - 7s 33ms/step - loss: 13868492348456960.0000 - recall: 0.1086 - accuracy: 0.1399 - val_loss: 13956665879560192.0000 - val_recall: 0.1263 - val_accuracy: 0.0000e+00\n",
      "Epoch 85/100\n",
      "219/219 [==============================] - 7s 33ms/step - loss: 14615772634546176.0000 - recall: 0.1108 - accuracy: 0.1459 - val_loss: 14747311376695296.0000 - val_recall: 0.1263 - val_accuracy: 0.0000e+00\n",
      "Epoch 86/100\n",
      "219/219 [==============================] - 7s 33ms/step - loss: 15445062099927040.0000 - recall: 0.1081 - accuracy: 0.1457 - val_loss: 15569035257184256.0000 - val_recall: 0.1237 - val_accuracy: 0.0000e+00\n",
      "Epoch 87/100\n",
      "219/219 [==============================] - 7s 33ms/step - loss: 16287398602211328.0000 - recall: 0.1097 - accuracy: 0.1419 - val_loss: 16417249422213120.0000 - val_recall: 0.1263 - val_accuracy: 0.0000e+00\n",
      "Epoch 88/100\n",
      "219/219 [==============================] - 7s 33ms/step - loss: 17196256631717888.0000 - recall: 0.1095 - accuracy: 0.1449 - val_loss: 17344032497729536.0000 - val_recall: 0.1237 - val_accuracy: 0.0000e+00\n",
      "Epoch 89/100\n",
      "219/219 [==============================] - 7s 33ms/step - loss: 18172786165940224.0000 - recall: 0.1099 - accuracy: 0.1450 - val_loss: 18290257816453120.0000 - val_recall: 0.1237 - val_accuracy: 0.0000e+00\n",
      "Epoch 90/100\n",
      "219/219 [==============================] - 7s 33ms/step - loss: 19071394255994880.0000 - recall: 0.1090 - accuracy: 0.1443 - val_loss: 19252779314839552.0000 - val_recall: 0.1237 - val_accuracy: 0.0000e+00\n",
      "Epoch 91/100\n",
      "219/219 [==============================] - 7s 33ms/step - loss: 20136133828542464.0000 - recall: 0.1086 - accuracy: 0.1426 - val_loss: 20284312347738112.0000 - val_recall: 0.1237 - val_accuracy: 0.0000e+00\n",
      "Epoch 92/100\n",
      "219/219 [==============================] - 7s 32ms/step - loss: 21167226627293184.0000 - recall: 0.1094 - accuracy: 0.1431 - val_loss: 21342392573493248.0000 - val_recall: 0.1237 - val_accuracy: 0.0000e+00\n",
      "Epoch 93/100\n",
      "219/219 [==============================] - 7s 33ms/step - loss: 22228646190120960.0000 - recall: 0.1092 - accuracy: 0.1437 - val_loss: 22464886571270144.0000 - val_recall: 0.1263 - val_accuracy: 0.0000e+00\n",
      "Epoch 94/100\n",
      "219/219 [==============================] - 7s 32ms/step - loss: 23443743977766912.0000 - recall: 0.1077 - accuracy: 0.1387 - val_loss: 23644653957939200.0000 - val_recall: 0.1237 - val_accuracy: 0.0000e+00\n",
      "Epoch 95/100\n",
      "219/219 [==============================] - 7s 33ms/step - loss: 24509166450114560.0000 - recall: 0.1097 - accuracy: 0.1470 - val_loss: 24808383936724992.0000 - val_recall: 0.1237 - val_accuracy: 0.0000e+00\n",
      "Epoch 96/100\n",
      "219/219 [==============================] - 7s 33ms/step - loss: 25804139892047872.0000 - recall: 0.1083 - accuracy: 0.1433 - val_loss: 26092841151234048.0000 - val_recall: 0.1237 - val_accuracy: 0.0000e+00\n",
      "Epoch 97/100\n",
      "219/219 [==============================] - 7s 33ms/step - loss: 27055751344160768.0000 - recall: 0.1096 - accuracy: 0.1393 - val_loss: 27366298954498048.0000 - val_recall: 0.1263 - val_accuracy: 0.0000e+00\n",
      "Epoch 98/100\n",
      "219/219 [==============================] - 7s 32ms/step - loss: 28437453060702208.0000 - recall: 0.1095 - accuracy: 0.1440 - val_loss: 28751741587554304.0000 - val_recall: 0.1237 - val_accuracy: 0.0000e+00\n",
      "Epoch 99/100\n",
      "219/219 [==============================] - 7s 32ms/step - loss: 29853192393064448.0000 - recall: 0.1125 - accuracy: 0.1554 - val_loss: 30165039231008768.0000 - val_recall: 0.1237 - val_accuracy: 0.0000e+00\n",
      "Epoch 100/100\n",
      "219/219 [==============================] - 7s 32ms/step - loss: 31375157004075008.0000 - recall: 0.1089 - accuracy: 0.1411 - val_loss: 31623726088847360.0000 - val_recall: 0.1263 - val_accuracy: 0.0000e+00\n"
     ]
    }
   ],
   "source": [
    "# Train the model\n",
    "#callback = tf.keras.callbacks.EarlyStopping(monitor='val_loss', patience=10, restore_best_weights=True, mode='min')\n",
    "history = model.fit(X_train,y_train,\n",
    "          epochs=100,\n",
    "          batch_size=32,          \n",
    "          validation_data=(X_test, y_test))"
   ]
  },
  {
   "cell_type": "code",
   "execution_count": 185,
   "metadata": {
    "colab": {
     "base_uri": "https://localhost:8080/"
    },
    "id": "5Zj3R7myhi4F",
    "outputId": "a85996d1-f164-4848-c5bd-281cced2bb55"
   },
   "outputs": [
    {
     "name": "stdout",
     "output_type": "stream",
     "text": [
      "94/94 [==============================] - 1s 5ms/step - loss: 31623726088847360.0000 - recall: 0.1263 - accuracy: 0.0000e+00\n"
     ]
    },
    {
     "data": {
      "text/plain": [
       "[3.162372608884736e+16, 0.1263333261013031, 0.0]"
      ]
     },
     "execution_count": 185,
     "metadata": {
      "tags": []
     },
     "output_type": "execute_result"
    }
   ],
   "source": [
    "model.evaluate(X_test, y_test)"
   ]
  },
  {
   "cell_type": "markdown",
   "metadata": {},
   "source": [
    "<b>Observation:</b>\n",
    "- It is very poor model as accuracy is not good and loss also very high.\n",
    "- Recall score is very low when compare to other models. "
   ]
  },
  {
   "cell_type": "code",
   "execution_count": 186,
   "metadata": {
    "id": "yciSG0ymiPCZ"
   },
   "outputs": [],
   "source": [
    "y_pred_nn = model.predict(X_test)"
   ]
  },
  {
   "cell_type": "code",
   "execution_count": 187,
   "metadata": {
    "colab": {
     "base_uri": "https://localhost:8080/"
    },
    "id": "sj7MrjMchvXZ",
    "outputId": "473131a7-a745-4607-f6c9-8c7e76943bbd"
   },
   "outputs": [
    {
     "name": "stdout",
     "output_type": "stream",
     "text": [
      "[1566, 1942, 2610, 730, 2438]\n",
      "('male',)\n",
      "('33-48', 'capricorn', 'internet', 'male')\n",
      "=================x==================x================x==========\n",
      "('male',)\n",
      "('33-48', 'capricorn', 'female', 'indunk')\n",
      "=================x==================x================x==========\n",
      "('male',)\n",
      "('23-27', 'female', 'gemini', 'indunk')\n",
      "=================x==================x================x==========\n",
      "('male',)\n",
      "('13-17', 'capricorn', 'male', 'student')\n",
      "=================x==================x================x==========\n",
      "('male',)\n",
      "('23-27', 'cancer', 'consulting', 'male')\n",
      "=================x==================x================x==========\n"
     ]
    }
   ],
   "source": [
    "predicted_value(y_predicted=y_pred_nn,y_test=y_test, n= 5)"
   ]
  },
  {
   "cell_type": "markdown",
   "metadata": {},
   "source": [
    "<b>Observation:</b>\n",
    "- First Sample: Gender feature prediected correctly and incorrect prediction for rest of the features.  \n",
    "- Second and Third Samples: Prediction is incorrect for all the features.\n",
    "- Fourth and Fifth Samples: Gender feature prediected correctly and incorrect prediction for rest of the features. "
   ]
  },
  {
   "cell_type": "code",
   "execution_count": 188,
   "metadata": {
    "colab": {
     "base_uri": "https://localhost:8080/"
    },
    "id": "1G8xhl6NmyKe",
    "outputId": "df0384df-d31f-4ef7-d9d8-0d0f055d2d68"
   },
   "outputs": [
    {
     "name": "stdout",
     "output_type": "stream",
     "text": [
      "              precision    recall  f1-score   support\n",
      "\n",
      "           0       0.00      0.00      0.00      1028\n",
      "           1       0.00      0.00      0.00      1452\n",
      "           2       0.00      0.00      0.00       520\n",
      "           3       0.00      0.00      0.00        17\n",
      "           4       0.00      0.00      0.00        15\n",
      "           5       0.00      0.00      0.00         4\n",
      "           6       0.00      0.00      0.00       208\n",
      "           7       0.00      0.00      0.00         7\n",
      "           8       0.00      0.00      0.00       275\n",
      "           9       0.00      0.00      0.00       130\n",
      "          10       0.00      0.00      0.00         4\n",
      "          11       0.00      0.00      0.00        19\n",
      "          12       0.00      0.00      0.00         7\n",
      "          13       0.00      0.00      0.00        18\n",
      "          14       0.00      0.00      0.00       274\n",
      "          15       0.00      0.00      0.00       221\n",
      "          16       0.00      0.00      0.00        14\n",
      "          17       0.00      0.00      0.00        83\n",
      "          18       0.00      0.00      0.00         1\n",
      "          19       0.00      0.00      0.00        30\n",
      "          20       0.00      0.00      0.00       119\n",
      "          21       0.00      0.00      0.00        60\n",
      "          22       0.00      0.00      0.00         3\n",
      "          23       0.00      0.00      0.00        18\n",
      "          24       0.00      0.00      0.00      1484\n",
      "          25       0.00      0.00      0.00       227\n",
      "          26       0.00      0.00      0.00        29\n",
      "          27       0.00      0.00      0.00        13\n",
      "          28       0.00      0.00      0.00      1096\n",
      "          29       0.00      0.00      0.00        74\n",
      "          30       0.00      0.00      0.00        11\n",
      "          31       0.00      0.00      0.00        40\n",
      "          32       0.00      0.00      0.00         8\n",
      "          33       0.00      0.00      0.00       258\n",
      "          34       0.00      0.00      0.00       265\n",
      "          35       0.51      1.00      0.67      1516\n",
      "          36       0.00      0.00      0.00        12\n",
      "          37       0.00      0.00      0.00         2\n",
      "          38       0.00      0.00      0.00        21\n",
      "          39       0.00      0.00      0.00        14\n",
      "          40       0.00      0.00      0.00        24\n",
      "          41       0.00      0.00      0.00        63\n",
      "          42       0.00      0.00      0.00       247\n",
      "          43       0.00      0.00      0.00        37\n",
      "          44       0.00      0.00      0.00        13\n",
      "          45       0.00      0.00      0.00        20\n",
      "          46       0.00      0.00      0.00       236\n",
      "          47       0.00      0.00      0.00        48\n",
      "          48       0.00      0.00      0.00       257\n",
      "          49       0.00      0.00      0.00        18\n",
      "          50       0.00      0.00      0.00       685\n",
      "          51       0.00      0.00      0.00       256\n",
      "          52       0.00      0.00      0.00       182\n",
      "          53       0.00      0.00      0.00        19\n",
      "          54       0.00      0.00      0.00        11\n",
      "          55       0.00      0.00      0.00        11\n",
      "          56       0.00      0.00      0.00       276\n",
      "\n",
      "   micro avg       0.51      0.13      0.20     12000\n",
      "   macro avg       0.01      0.02      0.01     12000\n",
      "weighted avg       0.06      0.13      0.08     12000\n",
      " samples avg       0.51      0.13      0.20     12000\n",
      "\n"
     ]
    }
   ],
   "source": [
    "print(classification_report(y_test,y_pred_nn))"
   ]
  },
  {
   "cell_type": "markdown",
   "metadata": {},
   "source": [
    "<b>Observation:</b> \n",
    "- Precision score is 0.51 for class 35.\n",
    "- Recall score is 1.0 for class 35.\n",
    "- F1 Score is 67 for class 35.\n",
    "- Precision, Recall and F1 Scores are 0.00 for remaining classes.\n",
    "- It is not good model. "
   ]
  },
  {
   "cell_type": "markdown",
   "metadata": {},
   "source": [
    "## Conclusion\n",
    "We can conclude that the build model using OneVsRestClassifier with MultinomimalNB and Logistic Regression, Decision Tree and Random classifier did not give much good accuracy. Also, Neutal Network with word embedding did not get good accuracy. In the end, we also evaluated our model performance using metrics like precision, recall, and F1 score but all the scores below 50%. The system requirement is not supporting to optimize further."
   ]
  },
  {
   "cell_type": "markdown",
   "metadata": {},
   "source": [
    "# End Project"
   ]
  }
 ],
 "metadata": {
  "accelerator": "GPU",
  "colab": {
   "collapsed_sections": [],
   "machine_shape": "hm",
   "name": "Statistical NLP - Project.ipynb",
   "provenance": []
  },
  "kernelspec": {
   "display_name": "Python 3",
   "language": "python",
   "name": "python3"
  },
  "language_info": {
   "codemirror_mode": {
    "name": "ipython",
    "version": 3
   },
   "file_extension": ".py",
   "mimetype": "text/x-python",
   "name": "python",
   "nbconvert_exporter": "python",
   "pygments_lexer": "ipython3",
   "version": "3.8.3"
  }
 },
 "nbformat": 4,
 "nbformat_minor": 1
}
