{
 "cells": [
  {
   "cell_type": "markdown",
   "metadata": {
    "id": "3ukwOXvX_EV1"
   },
   "source": [
    "<img src=\"http://drive.google.com/uc?export=view&id=1tpOCamr9aWz817atPnyXus8w5gJ3mIts\" width=500px>"
   ]
  },
  {
   "cell_type": "markdown",
   "metadata": {
    "id": "j9QC42UQq5Lk"
   },
   "source": [
    "## Lab on NNDL Part 1: Tensorflow Basic"
   ]
  },
  {
   "cell_type": "markdown",
   "metadata": {
    "id": "g_vbQDYan7_7"
   },
   "source": [
    "### Tensors\n",
    "\n",
    "Tensors are multi-dimensional arrays with a uniform type"
   ]
  },
  {
   "cell_type": "markdown",
   "metadata": {
    "id": "tCkxkFqIoUIR"
   },
   "source": [
    "##Question 1\n"
   ]
  },
  {
   "cell_type": "code",
   "execution_count": 1,
   "metadata": {
    "executionInfo": {
     "elapsed": 2257,
     "status": "ok",
     "timestamp": 1620536670729,
     "user": {
      "displayName": "Mohamed Yusuf",
      "photoUrl": "",
      "userId": "10392786702670607191"
     },
     "user_tz": -330
    },
    "id": "EIhF2llXAhWw"
   },
   "outputs": [],
   "source": [
    "%tensorflow_version 2.x"
   ]
  },
  {
   "cell_type": "code",
   "execution_count": 2,
   "metadata": {
    "colab": {
     "base_uri": "https://localhost:8080/"
    },
    "executionInfo": {
     "elapsed": 38370,
     "status": "ok",
     "timestamp": 1620536711210,
     "user": {
      "displayName": "Mohamed Yusuf",
      "photoUrl": "",
      "userId": "10392786702670607191"
     },
     "user_tz": -330
    },
    "id": "QaslY8v8Axaz",
    "outputId": "98bd1138-162d-464b-d668-14fd3475b6f8"
   },
   "outputs": [
    {
     "name": "stdout",
     "output_type": "stream",
     "text": [
      "Mounted at /drive\n"
     ]
    }
   ],
   "source": [
    "from google.colab import drive\n",
    "drive.mount('/drive')"
   ]
  },
  {
   "cell_type": "markdown",
   "metadata": {
    "id": "7V8C8aa0rGgN"
   },
   "source": [
    "### Create a rank-0 tensor\n",
    "- A \"scalar\" is called \"rank-0\" tensor\n",
    "- the tensor should contain value 99.99"
   ]
  },
  {
   "cell_type": "code",
   "execution_count": 3,
   "metadata": {
    "executionInfo": {
     "elapsed": 3185,
     "status": "ok",
     "timestamp": 1620536724279,
     "user": {
      "displayName": "Mohamed Yusuf",
      "photoUrl": "",
      "userId": "10392786702670607191"
     },
     "user_tz": -330
    },
    "id": "CmKTQCizra4b"
   },
   "outputs": [],
   "source": [
    "import tensorflow as tf\n",
    "import numpy as np"
   ]
  },
  {
   "cell_type": "code",
   "execution_count": 4,
   "metadata": {
    "colab": {
     "base_uri": "https://localhost:8080/"
    },
    "executionInfo": {
     "elapsed": 6062,
     "status": "ok",
     "timestamp": 1620536733116,
     "user": {
      "displayName": "Mohamed Yusuf",
      "photoUrl": "",
      "userId": "10392786702670607191"
     },
     "user_tz": -330
    },
    "id": "B6H2X7SinZbZ",
    "outputId": "a5958821-03c4-4c9b-9bc5-952aa33e9959"
   },
   "outputs": [
    {
     "name": "stdout",
     "output_type": "stream",
     "text": [
      "tf.Tensor(99.99, shape=(), dtype=float32)\n",
      "<class 'tensorflow.python.framework.ops.EagerTensor'>\n"
     ]
    }
   ],
   "source": [
    "rank_0_tensor = tf.constant(99.99)\n",
    "print(rank_0_tensor)\n",
    "print(type(rank_0_tensor))"
   ]
  },
  {
   "cell_type": "markdown",
   "metadata": {
    "id": "xRm8MfpVrkyz"
   },
   "source": [
    "### Create a rank-1 tensor\n",
    "\n",
    "- A \"vector\" (list) is called \"rank-1\" tensor [9,8,7,6,5]\n",
    "- A vector has one axis"
   ]
  },
  {
   "cell_type": "code",
   "execution_count": 5,
   "metadata": {
    "colab": {
     "base_uri": "https://localhost:8080/"
    },
    "executionInfo": {
     "elapsed": 853,
     "status": "ok",
     "timestamp": 1620536741396,
     "user": {
      "displayName": "Mohamed Yusuf",
      "photoUrl": "",
      "userId": "10392786702670607191"
     },
     "user_tz": -330
    },
    "id": "_TvWoaBOnZXX",
    "outputId": "8312c83a-2866-4c40-f0a9-4fc25157f370"
   },
   "outputs": [
    {
     "name": "stdout",
     "output_type": "stream",
     "text": [
      "tf.Tensor([9 8 7 6 5], shape=(5,), dtype=int32)\n",
      "<class 'tensorflow.python.framework.ops.EagerTensor'>\n"
     ]
    }
   ],
   "source": [
    "rank_1_tensor = tf.constant([9,8,7,6,5])\n",
    "print(rank_1_tensor)\n",
    "print(type(rank_1_tensor))"
   ]
  },
  {
   "cell_type": "markdown",
   "metadata": {
    "id": "KtiVmuAAsJjP"
   },
   "source": [
    "### Add 7 to all the elements of the above created tensor\n",
    "- Use Broadcasting"
   ]
  },
  {
   "cell_type": "code",
   "execution_count": 6,
   "metadata": {
    "colab": {
     "base_uri": "https://localhost:8080/"
    },
    "executionInfo": {
     "elapsed": 846,
     "status": "ok",
     "timestamp": 1620536746141,
     "user": {
      "displayName": "Mohamed Yusuf",
      "photoUrl": "",
      "userId": "10392786702670607191"
     },
     "user_tz": -330
    },
    "id": "lENBbpfIsskl",
    "outputId": "af8cbb9e-6719-4d47-8b6b-f8a1c788ed46"
   },
   "outputs": [
    {
     "name": "stdout",
     "output_type": "stream",
     "text": [
      "tf.Tensor(106.99, shape=(), dtype=float32)\n"
     ]
    }
   ],
   "source": [
    "value1 = tf.add(rank_0_tensor, 7)\n",
    "print(value1)"
   ]
  },
  {
   "cell_type": "code",
   "execution_count": 7,
   "metadata": {
    "colab": {
     "base_uri": "https://localhost:8080/"
    },
    "executionInfo": {
     "elapsed": 871,
     "status": "ok",
     "timestamp": 1620536754265,
     "user": {
      "displayName": "Mohamed Yusuf",
      "photoUrl": "",
      "userId": "10392786702670607191"
     },
     "user_tz": -330
    },
    "id": "8N5BiMxt_-IR",
    "outputId": "99a60205-9be1-4168-f2d0-2ea7fbd847f3"
   },
   "outputs": [
    {
     "name": "stdout",
     "output_type": "stream",
     "text": [
      "tf.Tensor([16 15 14 13 12], shape=(5,), dtype=int32)\n"
     ]
    }
   ],
   "source": [
    "value2 = tf.add(rank_1_tensor, 7)\n",
    "print(value2)"
   ]
  },
  {
   "cell_type": "markdown",
   "metadata": {
    "id": "U9QVsYQwtR9u"
   },
   "source": [
    "### Create a rank-2 tensor\n",
    "[[1, 2, 3], [ 4,5,6]]\n",
    "- A \"matrix\"  \"is called rank-2\" tensor\n",
    "- It has 2 axes"
   ]
  },
  {
   "cell_type": "code",
   "execution_count": 8,
   "metadata": {
    "colab": {
     "base_uri": "https://localhost:8080/"
    },
    "executionInfo": {
     "elapsed": 999,
     "status": "ok",
     "timestamp": 1620536759427,
     "user": {
      "displayName": "Mohamed Yusuf",
      "photoUrl": "",
      "userId": "10392786702670607191"
     },
     "user_tz": -330
    },
    "id": "IZx8BooXnZUr",
    "outputId": "efc69e42-87e2-42d9-ec55-8cf25eb67ba4"
   },
   "outputs": [
    {
     "name": "stdout",
     "output_type": "stream",
     "text": [
      "tf.Tensor(\n",
      "[[1 2 3]\n",
      " [4 5 6]], shape=(2, 3), dtype=int32)\n"
     ]
    }
   ],
   "source": [
    "rank_2_tensor = tf.constant([[1, 2, 3],\n",
    "                             [4, 5, 6]])\n",
    "print(rank_2_tensor)\n",
    "                             "
   ]
  },
  {
   "cell_type": "markdown",
   "metadata": {
    "id": "mrnIxOUmvX_M"
   },
   "source": [
    "### Change the shape of the above created tensor to shape (3,2)"
   ]
  },
  {
   "cell_type": "code",
   "execution_count": 9,
   "metadata": {
    "colab": {
     "base_uri": "https://localhost:8080/"
    },
    "executionInfo": {
     "elapsed": 882,
     "status": "ok",
     "timestamp": 1620536766718,
     "user": {
      "displayName": "Mohamed Yusuf",
      "photoUrl": "",
      "userId": "10392786702670607191"
     },
     "user_tz": -330
    },
    "id": "YdSy6RQLvXbi",
    "outputId": "b0978e06-5b48-42c0-8295-d6c61824898b"
   },
   "outputs": [
    {
     "data": {
      "text/plain": [
       "<tf.Tensor: shape=(3, 2), dtype=int32, numpy=\n",
       "array([[1, 2],\n",
       "       [3, 4],\n",
       "       [5, 6]], dtype=int32)>"
      ]
     },
     "execution_count": 9,
     "metadata": {
      "tags": []
     },
     "output_type": "execute_result"
    }
   ],
   "source": [
    "tf.reshape(rank_2_tensor, [3, 2])"
   ]
  },
  {
   "cell_type": "markdown",
   "metadata": {
    "id": "1ZXjABdNuWAT"
   },
   "source": [
    "### Check the dtype, number of axes and the shape of tensor"
   ]
  },
  {
   "cell_type": "code",
   "execution_count": 10,
   "metadata": {
    "colab": {
     "base_uri": "https://localhost:8080/"
    },
    "executionInfo": {
     "elapsed": 848,
     "status": "ok",
     "timestamp": 1620536771548,
     "user": {
      "displayName": "Mohamed Yusuf",
      "photoUrl": "",
      "userId": "10392786702670607191"
     },
     "user_tz": -330
    },
    "id": "vXj5xnbEuUwz",
    "outputId": "66159e23-a304-4e39-94c7-9a3f9e044ad7"
   },
   "outputs": [
    {
     "name": "stdout",
     "output_type": "stream",
     "text": [
      "dtype: <dtype: 'int32'>\n",
      "Number of axes: 2\n",
      "Shape: (2, 3)\n"
     ]
    }
   ],
   "source": [
    "print(\"dtype:\",rank_2_tensor.dtype)\n",
    "print(\"Number of axes:\",rank_2_tensor.ndim)\n",
    "print(\"Shape:\", rank_2_tensor.shape)\n"
   ]
  },
  {
   "cell_type": "markdown",
   "metadata": {
    "id": "yGsgzedZvB54"
   },
   "source": [
    "- Tensors can have more axes, like rank-3 or rank-4 tensor"
   ]
  },
  {
   "cell_type": "markdown",
   "metadata": {
    "id": "qYvGihNn_D2K"
   },
   "source": [
    "##Lab on NNDL Part 2: Cars selling price prediction"
   ]
  },
  {
   "cell_type": "markdown",
   "metadata": {
    "id": "S7nm5pOt_DkP"
   },
   "source": [
    "### Data Set -\n",
    "Domain: Finance, Business \n",
    "Data: https://www.kaggle.com/nehalbirla/vehicle-dataset-from-cardekho?select=Car+details+v3.csv\n",
    "\n",
    "The data contains various features of used cars.\n",
    "\n",
    "#### Features\n",
    "\n",
    "1. year\n",
    "\n",
    "2. selling_price: Price at which it was sold (**Target Feature**)\n",
    "\n",
    "3. km_driven\n",
    "\n",
    "4. fuel\n",
    "\n",
    "5. seller_type\n",
    "\n",
    "6. transmission\n",
    "\n",
    "7. Owner\n",
    "\n",
    "8. mileage\n",
    "\n",
    "9. engine\n",
    "\n",
    "10. max_power\n",
    "\n",
    "11. seats\n",
    "\n",
    " - - - - - - - - - - - - - - - - - - - - - - - - - - - - - - - - - - - - - - - - - - - - - - - "
   ]
  },
  {
   "cell_type": "markdown",
   "metadata": {
    "id": "YeoiMbH7djEv"
   },
   "source": [
    "##Objective\n",
    "\n",
    "Predict the selling price of used cars based on the given features"
   ]
  },
  {
   "cell_type": "markdown",
   "metadata": {
    "id": "sZXp-T3-xRNN"
   },
   "source": [
    "## Steps to perform:\n",
    "\n",
    "#### 1. Import important Libraries\n",
    "#### 2. Import Dataset and exploration\n",
    "#### 3. Data Pre-processing\n",
    "#### 4. Training a Neural Network Model\n",
    "#### 5. Evaluating the model\n",
    "#### 6. Conclusion\n",
    "\n",
    "\n",
    "- - - - - - - - - - - - - - - - - - - - - - - - - - - - - - - - - - - - - - - - - - - - - - - - - - -\n",
    "\n",
    "\n",
    "- - - - - - - - - - - - - - - - - - - - - - - - - - - - - - - - - - - - - - - - - - - - - - - - - - -\n"
   ]
  },
  {
   "cell_type": "markdown",
   "metadata": {
    "id": "pvJ1pMTuzUkv"
   },
   "source": [
    "### Import important libraries"
   ]
  },
  {
   "cell_type": "code",
   "execution_count": 11,
   "metadata": {
    "executionInfo": {
     "elapsed": 1463,
     "status": "ok",
     "timestamp": 1620536784349,
     "user": {
      "displayName": "Mohamed Yusuf",
      "photoUrl": "",
      "userId": "10392786702670607191"
     },
     "user_tz": -330
    },
    "id": "PGqq9f8VdLba"
   },
   "outputs": [],
   "source": [
    "import pandas as pd\n",
    "import numpy as np\n",
    "import matplotlib.pyplot as plt\n",
    "from sklearn.preprocessing import OneHotEncoder, StandardScaler\n",
    "from sklearn.model_selection import train_test_split\n",
    "from tensorflow.keras.models import Sequential\n",
    "from tensorflow.keras.layers import Flatten, Dense, Dropout, Input, BatchNormalization\n",
    "from keras.utils.vis_utils import plot_model \n",
    "from sklearn.metrics import r2_score\n",
    "from tensorflow.keras.callbacks import ModelCheckpoint\n",
    "import warnings\n",
    "warnings.filterwarnings('ignore')"
   ]
  },
  {
   "cell_type": "markdown",
   "metadata": {
    "id": "_88voqAH-O6J"
   },
   "source": [
    "## Question 1"
   ]
  },
  {
   "cell_type": "markdown",
   "metadata": {
    "id": "dRHCeJqP-evf"
   },
   "source": [
    "### Load the data\n",
    "- Load the data, check the shape of data"
   ]
  },
  {
   "cell_type": "code",
   "execution_count": 12,
   "metadata": {
    "colab": {
     "base_uri": "https://localhost:8080/",
     "height": 195
    },
    "executionInfo": {
     "elapsed": 1391,
     "status": "ok",
     "timestamp": 1620536791906,
     "user": {
      "displayName": "Mohamed Yusuf",
      "photoUrl": "",
      "userId": "10392786702670607191"
     },
     "user_tz": -330
    },
    "id": "Gr4YcffYd1FQ",
    "outputId": "e4b5d5a3-9851-42ce-8c57-f80c7408e3b7"
   },
   "outputs": [
    {
     "data": {
      "text/html": [
       "<div>\n",
       "<style scoped>\n",
       "    .dataframe tbody tr th:only-of-type {\n",
       "        vertical-align: middle;\n",
       "    }\n",
       "\n",
       "    .dataframe tbody tr th {\n",
       "        vertical-align: top;\n",
       "    }\n",
       "\n",
       "    .dataframe thead th {\n",
       "        text-align: right;\n",
       "    }\n",
       "</style>\n",
       "<table border=\"1\" class=\"dataframe\">\n",
       "  <thead>\n",
       "    <tr style=\"text-align: right;\">\n",
       "      <th></th>\n",
       "      <th>year</th>\n",
       "      <th>selling_price</th>\n",
       "      <th>km_driven</th>\n",
       "      <th>fuel</th>\n",
       "      <th>seller_type</th>\n",
       "      <th>transmission</th>\n",
       "      <th>owner</th>\n",
       "      <th>mileage</th>\n",
       "      <th>engine</th>\n",
       "      <th>max_power</th>\n",
       "      <th>seats</th>\n",
       "    </tr>\n",
       "  </thead>\n",
       "  <tbody>\n",
       "    <tr>\n",
       "      <th>0</th>\n",
       "      <td>2014</td>\n",
       "      <td>450000</td>\n",
       "      <td>145500</td>\n",
       "      <td>Diesel</td>\n",
       "      <td>Individual</td>\n",
       "      <td>Manual</td>\n",
       "      <td>First Owner</td>\n",
       "      <td>23.4 kmpl</td>\n",
       "      <td>1248 CC</td>\n",
       "      <td>74 bhp</td>\n",
       "      <td>5.0</td>\n",
       "    </tr>\n",
       "    <tr>\n",
       "      <th>1</th>\n",
       "      <td>2014</td>\n",
       "      <td>370000</td>\n",
       "      <td>120000</td>\n",
       "      <td>Diesel</td>\n",
       "      <td>Individual</td>\n",
       "      <td>Manual</td>\n",
       "      <td>Second Owner</td>\n",
       "      <td>21.14 kmpl</td>\n",
       "      <td>1498 CC</td>\n",
       "      <td>103.52 bhp</td>\n",
       "      <td>5.0</td>\n",
       "    </tr>\n",
       "    <tr>\n",
       "      <th>2</th>\n",
       "      <td>2006</td>\n",
       "      <td>158000</td>\n",
       "      <td>140000</td>\n",
       "      <td>Petrol</td>\n",
       "      <td>Individual</td>\n",
       "      <td>Manual</td>\n",
       "      <td>Third Owner</td>\n",
       "      <td>17.7 kmpl</td>\n",
       "      <td>1497 CC</td>\n",
       "      <td>78 bhp</td>\n",
       "      <td>5.0</td>\n",
       "    </tr>\n",
       "    <tr>\n",
       "      <th>3</th>\n",
       "      <td>2010</td>\n",
       "      <td>225000</td>\n",
       "      <td>127000</td>\n",
       "      <td>Diesel</td>\n",
       "      <td>Individual</td>\n",
       "      <td>Manual</td>\n",
       "      <td>First Owner</td>\n",
       "      <td>23.0 kmpl</td>\n",
       "      <td>1396 CC</td>\n",
       "      <td>90 bhp</td>\n",
       "      <td>5.0</td>\n",
       "    </tr>\n",
       "    <tr>\n",
       "      <th>4</th>\n",
       "      <td>2007</td>\n",
       "      <td>130000</td>\n",
       "      <td>120000</td>\n",
       "      <td>Petrol</td>\n",
       "      <td>Individual</td>\n",
       "      <td>Manual</td>\n",
       "      <td>First Owner</td>\n",
       "      <td>16.1 kmpl</td>\n",
       "      <td>1298 CC</td>\n",
       "      <td>88.2 bhp</td>\n",
       "      <td>5.0</td>\n",
       "    </tr>\n",
       "  </tbody>\n",
       "</table>\n",
       "</div>"
      ],
      "text/plain": [
       "   year  selling_price  km_driven  ...   engine   max_power seats\n",
       "0  2014         450000     145500  ...  1248 CC      74 bhp   5.0\n",
       "1  2014         370000     120000  ...  1498 CC  103.52 bhp   5.0\n",
       "2  2006         158000     140000  ...  1497 CC      78 bhp   5.0\n",
       "3  2010         225000     127000  ...  1396 CC      90 bhp   5.0\n",
       "4  2007         130000     120000  ...  1298 CC    88.2 bhp   5.0\n",
       "\n",
       "[5 rows x 11 columns]"
      ]
     },
     "execution_count": 12,
     "metadata": {
      "tags": []
     },
     "output_type": "execute_result"
    }
   ],
   "source": [
    "dfcar = pd.read_csv(\"/drive/MyDrive/car_data-1.csv\")\n",
    "dfcar.head()"
   ]
  },
  {
   "cell_type": "code",
   "execution_count": 13,
   "metadata": {
    "colab": {
     "base_uri": "https://localhost:8080/"
    },
    "executionInfo": {
     "elapsed": 831,
     "status": "ok",
     "timestamp": 1620536799200,
     "user": {
      "displayName": "Mohamed Yusuf",
      "photoUrl": "",
      "userId": "10392786702670607191"
     },
     "user_tz": -330
    },
    "id": "-gDC6cSW_FSK",
    "outputId": "7f078225-bead-434b-ef20-3009b4b6d94e"
   },
   "outputs": [
    {
     "data": {
      "text/plain": [
       "(8128, 11)"
      ]
     },
     "execution_count": 13,
     "metadata": {
      "tags": []
     },
     "output_type": "execute_result"
    }
   ],
   "source": [
    "dfcar.shape"
   ]
  },
  {
   "cell_type": "markdown",
   "metadata": {
    "id": "gD8WS9etHaz2"
   },
   "source": [
    "**Observation:**\n",
    "There are 8128 rows and 11 attributes in dataset"
   ]
  },
  {
   "cell_type": "markdown",
   "metadata": {
    "id": "HlLKVPVH_BCT"
   },
   "source": [
    "## Question 2"
   ]
  },
  {
   "cell_type": "markdown",
   "metadata": {
    "id": "ZxoGynuBeO4t"
   },
   "source": [
    "### Preprocess the data\n",
    "- Convert mileage, engine and max_power to numerical by extract numerical values from the strings\n",
    "- Label Encode: 'owner' column\n",
    "- One Hot Encode: 'fuel','seller_type','transmission' columns\n",
    "- Drop all the instances with null values"
   ]
  },
  {
   "cell_type": "markdown",
   "metadata": {
    "id": "lkbyhjULhZSg"
   },
   "source": [
    "**Covert Numeric Value**"
   ]
  },
  {
   "cell_type": "code",
   "execution_count": 14,
   "metadata": {
    "executionInfo": {
     "elapsed": 877,
     "status": "ok",
     "timestamp": 1620536850425,
     "user": {
      "displayName": "Mohamed Yusuf",
      "photoUrl": "",
      "userId": "10392786702670607191"
     },
     "user_tz": -330
    },
    "id": "WMsPLgUw4XED"
   },
   "outputs": [],
   "source": [
    "# Define the function for converting to numeric\n",
    "\n",
    "def convert_num(num):\n",
    "  try:\n",
    "    if type(num) == str:\n",
    "      return float(num.split()[0])\n",
    "    else:\n",
    "      return num\n",
    "  except:\n",
    "    return np.nan"
   ]
  },
  {
   "cell_type": "code",
   "execution_count": 15,
   "metadata": {
    "executionInfo": {
     "elapsed": 831,
     "status": "ok",
     "timestamp": 1620536856735,
     "user": {
      "displayName": "Mohamed Yusuf",
      "photoUrl": "",
      "userId": "10392786702670607191"
     },
     "user_tz": -330
    },
    "id": "N6_X49XxZb3g"
   },
   "outputs": [],
   "source": [
    "# Apply the function for mileage, engine and max_power\n",
    "dfcar[['mileage','engine','max_power']] = dfcar[['mileage','engine','max_power']].applymap(convert_num)"
   ]
  },
  {
   "cell_type": "code",
   "execution_count": 16,
   "metadata": {
    "colab": {
     "base_uri": "https://localhost:8080/",
     "height": 195
    },
    "executionInfo": {
     "elapsed": 889,
     "status": "ok",
     "timestamp": 1620536859613,
     "user": {
      "displayName": "Mohamed Yusuf",
      "photoUrl": "",
      "userId": "10392786702670607191"
     },
     "user_tz": -330
    },
    "id": "X_FaEocL4X4h",
    "outputId": "86804a99-6dc0-40b9-8e90-30297c4727cc"
   },
   "outputs": [
    {
     "data": {
      "text/html": [
       "<div>\n",
       "<style scoped>\n",
       "    .dataframe tbody tr th:only-of-type {\n",
       "        vertical-align: middle;\n",
       "    }\n",
       "\n",
       "    .dataframe tbody tr th {\n",
       "        vertical-align: top;\n",
       "    }\n",
       "\n",
       "    .dataframe thead th {\n",
       "        text-align: right;\n",
       "    }\n",
       "</style>\n",
       "<table border=\"1\" class=\"dataframe\">\n",
       "  <thead>\n",
       "    <tr style=\"text-align: right;\">\n",
       "      <th></th>\n",
       "      <th>year</th>\n",
       "      <th>selling_price</th>\n",
       "      <th>km_driven</th>\n",
       "      <th>fuel</th>\n",
       "      <th>seller_type</th>\n",
       "      <th>transmission</th>\n",
       "      <th>owner</th>\n",
       "      <th>mileage</th>\n",
       "      <th>engine</th>\n",
       "      <th>max_power</th>\n",
       "      <th>seats</th>\n",
       "    </tr>\n",
       "  </thead>\n",
       "  <tbody>\n",
       "    <tr>\n",
       "      <th>0</th>\n",
       "      <td>2014</td>\n",
       "      <td>450000</td>\n",
       "      <td>145500</td>\n",
       "      <td>Diesel</td>\n",
       "      <td>Individual</td>\n",
       "      <td>Manual</td>\n",
       "      <td>First Owner</td>\n",
       "      <td>23.40</td>\n",
       "      <td>1248.0</td>\n",
       "      <td>74.00</td>\n",
       "      <td>5.0</td>\n",
       "    </tr>\n",
       "    <tr>\n",
       "      <th>1</th>\n",
       "      <td>2014</td>\n",
       "      <td>370000</td>\n",
       "      <td>120000</td>\n",
       "      <td>Diesel</td>\n",
       "      <td>Individual</td>\n",
       "      <td>Manual</td>\n",
       "      <td>Second Owner</td>\n",
       "      <td>21.14</td>\n",
       "      <td>1498.0</td>\n",
       "      <td>103.52</td>\n",
       "      <td>5.0</td>\n",
       "    </tr>\n",
       "    <tr>\n",
       "      <th>2</th>\n",
       "      <td>2006</td>\n",
       "      <td>158000</td>\n",
       "      <td>140000</td>\n",
       "      <td>Petrol</td>\n",
       "      <td>Individual</td>\n",
       "      <td>Manual</td>\n",
       "      <td>Third Owner</td>\n",
       "      <td>17.70</td>\n",
       "      <td>1497.0</td>\n",
       "      <td>78.00</td>\n",
       "      <td>5.0</td>\n",
       "    </tr>\n",
       "    <tr>\n",
       "      <th>3</th>\n",
       "      <td>2010</td>\n",
       "      <td>225000</td>\n",
       "      <td>127000</td>\n",
       "      <td>Diesel</td>\n",
       "      <td>Individual</td>\n",
       "      <td>Manual</td>\n",
       "      <td>First Owner</td>\n",
       "      <td>23.00</td>\n",
       "      <td>1396.0</td>\n",
       "      <td>90.00</td>\n",
       "      <td>5.0</td>\n",
       "    </tr>\n",
       "    <tr>\n",
       "      <th>4</th>\n",
       "      <td>2007</td>\n",
       "      <td>130000</td>\n",
       "      <td>120000</td>\n",
       "      <td>Petrol</td>\n",
       "      <td>Individual</td>\n",
       "      <td>Manual</td>\n",
       "      <td>First Owner</td>\n",
       "      <td>16.10</td>\n",
       "      <td>1298.0</td>\n",
       "      <td>88.20</td>\n",
       "      <td>5.0</td>\n",
       "    </tr>\n",
       "  </tbody>\n",
       "</table>\n",
       "</div>"
      ],
      "text/plain": [
       "   year  selling_price  km_driven    fuel  ... mileage  engine max_power  seats\n",
       "0  2014         450000     145500  Diesel  ...   23.40  1248.0     74.00    5.0\n",
       "1  2014         370000     120000  Diesel  ...   21.14  1498.0    103.52    5.0\n",
       "2  2006         158000     140000  Petrol  ...   17.70  1497.0     78.00    5.0\n",
       "3  2010         225000     127000  Diesel  ...   23.00  1396.0     90.00    5.0\n",
       "4  2007         130000     120000  Petrol  ...   16.10  1298.0     88.20    5.0\n",
       "\n",
       "[5 rows x 11 columns]"
      ]
     },
     "execution_count": 16,
     "metadata": {
      "tags": []
     },
     "output_type": "execute_result"
    }
   ],
   "source": [
    "# Checking that string converted into numeric\n",
    "dfcar.head()"
   ]
  },
  {
   "cell_type": "markdown",
   "metadata": {
    "id": "WtTK_tnYIbh0"
   },
   "source": [
    "**Apply Label Encoder**"
   ]
  },
  {
   "cell_type": "code",
   "execution_count": 17,
   "metadata": {
    "colab": {
     "base_uri": "https://localhost:8080/"
    },
    "executionInfo": {
     "elapsed": 841,
     "status": "ok",
     "timestamp": 1620536866005,
     "user": {
      "displayName": "Mohamed Yusuf",
      "photoUrl": "",
      "userId": "10392786702670607191"
     },
     "user_tz": -330
    },
    "id": "FPAQ-IBf4Z9k",
    "outputId": "9abf6504-0c2a-4309-df95-0a0c3426e59a"
   },
   "outputs": [
    {
     "data": {
      "text/plain": [
       "array(['First Owner', 'Second Owner', 'Third Owner',\n",
       "       'Fourth & Above Owner', 'Test Drive Car'], dtype=object)"
      ]
     },
     "execution_count": 17,
     "metadata": {
      "tags": []
     },
     "output_type": "execute_result"
    }
   ],
   "source": [
    "# Checking the unique values in owner attribute\n",
    "dfcar['owner'].unique()"
   ]
  },
  {
   "cell_type": "code",
   "execution_count": 18,
   "metadata": {
    "colab": {
     "base_uri": "https://localhost:8080/",
     "height": 195
    },
    "executionInfo": {
     "elapsed": 1065,
     "status": "ok",
     "timestamp": 1620536869507,
     "user": {
      "displayName": "Mohamed Yusuf",
      "photoUrl": "",
      "userId": "10392786702670607191"
     },
     "user_tz": -330
    },
    "id": "aXweg7mb4gMo",
    "outputId": "7829f6da-fa0a-40a9-9413-488f049af020"
   },
   "outputs": [
    {
     "data": {
      "text/html": [
       "<div>\n",
       "<style scoped>\n",
       "    .dataframe tbody tr th:only-of-type {\n",
       "        vertical-align: middle;\n",
       "    }\n",
       "\n",
       "    .dataframe tbody tr th {\n",
       "        vertical-align: top;\n",
       "    }\n",
       "\n",
       "    .dataframe thead th {\n",
       "        text-align: right;\n",
       "    }\n",
       "</style>\n",
       "<table border=\"1\" class=\"dataframe\">\n",
       "  <thead>\n",
       "    <tr style=\"text-align: right;\">\n",
       "      <th></th>\n",
       "      <th>year</th>\n",
       "      <th>selling_price</th>\n",
       "      <th>km_driven</th>\n",
       "      <th>fuel</th>\n",
       "      <th>seller_type</th>\n",
       "      <th>transmission</th>\n",
       "      <th>owner</th>\n",
       "      <th>mileage</th>\n",
       "      <th>engine</th>\n",
       "      <th>max_power</th>\n",
       "      <th>seats</th>\n",
       "    </tr>\n",
       "  </thead>\n",
       "  <tbody>\n",
       "    <tr>\n",
       "      <th>0</th>\n",
       "      <td>2014</td>\n",
       "      <td>450000</td>\n",
       "      <td>145500</td>\n",
       "      <td>Diesel</td>\n",
       "      <td>Individual</td>\n",
       "      <td>Manual</td>\n",
       "      <td>1</td>\n",
       "      <td>23.40</td>\n",
       "      <td>1248.0</td>\n",
       "      <td>74.00</td>\n",
       "      <td>5.0</td>\n",
       "    </tr>\n",
       "    <tr>\n",
       "      <th>1</th>\n",
       "      <td>2014</td>\n",
       "      <td>370000</td>\n",
       "      <td>120000</td>\n",
       "      <td>Diesel</td>\n",
       "      <td>Individual</td>\n",
       "      <td>Manual</td>\n",
       "      <td>2</td>\n",
       "      <td>21.14</td>\n",
       "      <td>1498.0</td>\n",
       "      <td>103.52</td>\n",
       "      <td>5.0</td>\n",
       "    </tr>\n",
       "    <tr>\n",
       "      <th>2</th>\n",
       "      <td>2006</td>\n",
       "      <td>158000</td>\n",
       "      <td>140000</td>\n",
       "      <td>Petrol</td>\n",
       "      <td>Individual</td>\n",
       "      <td>Manual</td>\n",
       "      <td>3</td>\n",
       "      <td>17.70</td>\n",
       "      <td>1497.0</td>\n",
       "      <td>78.00</td>\n",
       "      <td>5.0</td>\n",
       "    </tr>\n",
       "    <tr>\n",
       "      <th>3</th>\n",
       "      <td>2010</td>\n",
       "      <td>225000</td>\n",
       "      <td>127000</td>\n",
       "      <td>Diesel</td>\n",
       "      <td>Individual</td>\n",
       "      <td>Manual</td>\n",
       "      <td>1</td>\n",
       "      <td>23.00</td>\n",
       "      <td>1396.0</td>\n",
       "      <td>90.00</td>\n",
       "      <td>5.0</td>\n",
       "    </tr>\n",
       "    <tr>\n",
       "      <th>4</th>\n",
       "      <td>2007</td>\n",
       "      <td>130000</td>\n",
       "      <td>120000</td>\n",
       "      <td>Petrol</td>\n",
       "      <td>Individual</td>\n",
       "      <td>Manual</td>\n",
       "      <td>1</td>\n",
       "      <td>16.10</td>\n",
       "      <td>1298.0</td>\n",
       "      <td>88.20</td>\n",
       "      <td>5.0</td>\n",
       "    </tr>\n",
       "  </tbody>\n",
       "</table>\n",
       "</div>"
      ],
      "text/plain": [
       "   year  selling_price  km_driven    fuel  ... mileage  engine  max_power  seats\n",
       "0  2014         450000     145500  Diesel  ...   23.40  1248.0      74.00    5.0\n",
       "1  2014         370000     120000  Diesel  ...   21.14  1498.0     103.52    5.0\n",
       "2  2006         158000     140000  Petrol  ...   17.70  1497.0      78.00    5.0\n",
       "3  2010         225000     127000  Diesel  ...   23.00  1396.0      90.00    5.0\n",
       "4  2007         130000     120000  Petrol  ...   16.10  1298.0      88.20    5.0\n",
       "\n",
       "[5 rows x 11 columns]"
      ]
     },
     "execution_count": 18,
     "metadata": {
      "tags": []
     },
     "output_type": "execute_result"
    }
   ],
   "source": [
    "# Assign the number for each value in owner attribute\n",
    "dic = {'First Owner':1, 'Second Owner':2, 'Third Owner':3,\n",
    "       'Fourth & Above Owner':4, 'Test Drive Car':5}\n",
    "       \n",
    "# Replace string value with number for each value\n",
    "dfcar['owner'] = dfcar['owner'].map(dic)\n",
    "dfcar.head()"
   ]
  },
  {
   "cell_type": "markdown",
   "metadata": {
    "id": "fBZoPJSwJBkT"
   },
   "source": [
    "**OneHot Encoder**"
   ]
  },
  {
   "cell_type": "code",
   "execution_count": 19,
   "metadata": {
    "colab": {
     "base_uri": "https://localhost:8080/",
     "height": 195
    },
    "executionInfo": {
     "elapsed": 850,
     "status": "ok",
     "timestamp": 1620536875506,
     "user": {
      "displayName": "Mohamed Yusuf",
      "photoUrl": "",
      "userId": "10392786702670607191"
     },
     "user_tz": -330
    },
    "id": "nVjmsyJc4kpO",
    "outputId": "b432708d-d4a1-4e9c-c295-4e4c4713f084"
   },
   "outputs": [
    {
     "data": {
      "text/html": [
       "<div>\n",
       "<style scoped>\n",
       "    .dataframe tbody tr th:only-of-type {\n",
       "        vertical-align: middle;\n",
       "    }\n",
       "\n",
       "    .dataframe tbody tr th {\n",
       "        vertical-align: top;\n",
       "    }\n",
       "\n",
       "    .dataframe thead th {\n",
       "        text-align: right;\n",
       "    }\n",
       "</style>\n",
       "<table border=\"1\" class=\"dataframe\">\n",
       "  <thead>\n",
       "    <tr style=\"text-align: right;\">\n",
       "      <th></th>\n",
       "      <th>fuel_CNG</th>\n",
       "      <th>fuel_Diesel</th>\n",
       "      <th>fuel_LPG</th>\n",
       "      <th>fuel_Petrol</th>\n",
       "      <th>seller_type_Dealer</th>\n",
       "      <th>seller_type_Individual</th>\n",
       "      <th>seller_type_Trustmark Dealer</th>\n",
       "      <th>transmission_Automatic</th>\n",
       "      <th>transmission_Manual</th>\n",
       "    </tr>\n",
       "  </thead>\n",
       "  <tbody>\n",
       "    <tr>\n",
       "      <th>0</th>\n",
       "      <td>0</td>\n",
       "      <td>1</td>\n",
       "      <td>0</td>\n",
       "      <td>0</td>\n",
       "      <td>0</td>\n",
       "      <td>1</td>\n",
       "      <td>0</td>\n",
       "      <td>0</td>\n",
       "      <td>1</td>\n",
       "    </tr>\n",
       "    <tr>\n",
       "      <th>1</th>\n",
       "      <td>0</td>\n",
       "      <td>1</td>\n",
       "      <td>0</td>\n",
       "      <td>0</td>\n",
       "      <td>0</td>\n",
       "      <td>1</td>\n",
       "      <td>0</td>\n",
       "      <td>0</td>\n",
       "      <td>1</td>\n",
       "    </tr>\n",
       "    <tr>\n",
       "      <th>2</th>\n",
       "      <td>0</td>\n",
       "      <td>0</td>\n",
       "      <td>0</td>\n",
       "      <td>1</td>\n",
       "      <td>0</td>\n",
       "      <td>1</td>\n",
       "      <td>0</td>\n",
       "      <td>0</td>\n",
       "      <td>1</td>\n",
       "    </tr>\n",
       "    <tr>\n",
       "      <th>3</th>\n",
       "      <td>0</td>\n",
       "      <td>1</td>\n",
       "      <td>0</td>\n",
       "      <td>0</td>\n",
       "      <td>0</td>\n",
       "      <td>1</td>\n",
       "      <td>0</td>\n",
       "      <td>0</td>\n",
       "      <td>1</td>\n",
       "    </tr>\n",
       "    <tr>\n",
       "      <th>4</th>\n",
       "      <td>0</td>\n",
       "      <td>0</td>\n",
       "      <td>0</td>\n",
       "      <td>1</td>\n",
       "      <td>0</td>\n",
       "      <td>1</td>\n",
       "      <td>0</td>\n",
       "      <td>0</td>\n",
       "      <td>1</td>\n",
       "    </tr>\n",
       "  </tbody>\n",
       "</table>\n",
       "</div>"
      ],
      "text/plain": [
       "   fuel_CNG  fuel_Diesel  ...  transmission_Automatic  transmission_Manual\n",
       "0         0            1  ...                       0                    1\n",
       "1         0            1  ...                       0                    1\n",
       "2         0            0  ...                       0                    1\n",
       "3         0            1  ...                       0                    1\n",
       "4         0            0  ...                       0                    1\n",
       "\n",
       "[5 rows x 9 columns]"
      ]
     },
     "execution_count": 19,
     "metadata": {
      "tags": []
     },
     "output_type": "execute_result"
    }
   ],
   "source": [
    "# Aply OneHot encode function\n",
    "onehot = OneHotEncoder(sparse=False, dtype=np.int64)\n",
    "cat_col = ['fuel','seller_type','transmission']\n",
    "trans = onehot.fit_transform(dfcar[cat_col])\n",
    "encoded_data = pd.DataFrame(trans, columns=onehot.get_feature_names(cat_col))\n",
    "encoded_data.head()"
   ]
  },
  {
   "cell_type": "code",
   "execution_count": 20,
   "metadata": {
    "colab": {
     "base_uri": "https://localhost:8080/",
     "height": 232
    },
    "executionInfo": {
     "elapsed": 922,
     "status": "ok",
     "timestamp": 1620536882964,
     "user": {
      "displayName": "Mohamed Yusuf",
      "photoUrl": "",
      "userId": "10392786702670607191"
     },
     "user_tz": -330
    },
    "id": "q7fwyFQn4qD2",
    "outputId": "e36a0dd1-efcb-4a6f-9a98-c7a75032c323"
   },
   "outputs": [
    {
     "data": {
      "text/html": [
       "<div>\n",
       "<style scoped>\n",
       "    .dataframe tbody tr th:only-of-type {\n",
       "        vertical-align: middle;\n",
       "    }\n",
       "\n",
       "    .dataframe tbody tr th {\n",
       "        vertical-align: top;\n",
       "    }\n",
       "\n",
       "    .dataframe thead th {\n",
       "        text-align: right;\n",
       "    }\n",
       "</style>\n",
       "<table border=\"1\" class=\"dataframe\">\n",
       "  <thead>\n",
       "    <tr style=\"text-align: right;\">\n",
       "      <th></th>\n",
       "      <th>year</th>\n",
       "      <th>selling_price</th>\n",
       "      <th>km_driven</th>\n",
       "      <th>owner</th>\n",
       "      <th>mileage</th>\n",
       "      <th>engine</th>\n",
       "      <th>max_power</th>\n",
       "      <th>seats</th>\n",
       "      <th>fuel_CNG</th>\n",
       "      <th>fuel_Diesel</th>\n",
       "      <th>fuel_LPG</th>\n",
       "      <th>fuel_Petrol</th>\n",
       "      <th>seller_type_Dealer</th>\n",
       "      <th>seller_type_Individual</th>\n",
       "      <th>seller_type_Trustmark Dealer</th>\n",
       "      <th>transmission_Automatic</th>\n",
       "      <th>transmission_Manual</th>\n",
       "    </tr>\n",
       "  </thead>\n",
       "  <tbody>\n",
       "    <tr>\n",
       "      <th>0</th>\n",
       "      <td>2014</td>\n",
       "      <td>450000</td>\n",
       "      <td>145500</td>\n",
       "      <td>1</td>\n",
       "      <td>23.40</td>\n",
       "      <td>1248.0</td>\n",
       "      <td>74.00</td>\n",
       "      <td>5.0</td>\n",
       "      <td>0</td>\n",
       "      <td>1</td>\n",
       "      <td>0</td>\n",
       "      <td>0</td>\n",
       "      <td>0</td>\n",
       "      <td>1</td>\n",
       "      <td>0</td>\n",
       "      <td>0</td>\n",
       "      <td>1</td>\n",
       "    </tr>\n",
       "    <tr>\n",
       "      <th>1</th>\n",
       "      <td>2014</td>\n",
       "      <td>370000</td>\n",
       "      <td>120000</td>\n",
       "      <td>2</td>\n",
       "      <td>21.14</td>\n",
       "      <td>1498.0</td>\n",
       "      <td>103.52</td>\n",
       "      <td>5.0</td>\n",
       "      <td>0</td>\n",
       "      <td>1</td>\n",
       "      <td>0</td>\n",
       "      <td>0</td>\n",
       "      <td>0</td>\n",
       "      <td>1</td>\n",
       "      <td>0</td>\n",
       "      <td>0</td>\n",
       "      <td>1</td>\n",
       "    </tr>\n",
       "    <tr>\n",
       "      <th>2</th>\n",
       "      <td>2006</td>\n",
       "      <td>158000</td>\n",
       "      <td>140000</td>\n",
       "      <td>3</td>\n",
       "      <td>17.70</td>\n",
       "      <td>1497.0</td>\n",
       "      <td>78.00</td>\n",
       "      <td>5.0</td>\n",
       "      <td>0</td>\n",
       "      <td>0</td>\n",
       "      <td>0</td>\n",
       "      <td>1</td>\n",
       "      <td>0</td>\n",
       "      <td>1</td>\n",
       "      <td>0</td>\n",
       "      <td>0</td>\n",
       "      <td>1</td>\n",
       "    </tr>\n",
       "    <tr>\n",
       "      <th>3</th>\n",
       "      <td>2010</td>\n",
       "      <td>225000</td>\n",
       "      <td>127000</td>\n",
       "      <td>1</td>\n",
       "      <td>23.00</td>\n",
       "      <td>1396.0</td>\n",
       "      <td>90.00</td>\n",
       "      <td>5.0</td>\n",
       "      <td>0</td>\n",
       "      <td>1</td>\n",
       "      <td>0</td>\n",
       "      <td>0</td>\n",
       "      <td>0</td>\n",
       "      <td>1</td>\n",
       "      <td>0</td>\n",
       "      <td>0</td>\n",
       "      <td>1</td>\n",
       "    </tr>\n",
       "    <tr>\n",
       "      <th>4</th>\n",
       "      <td>2007</td>\n",
       "      <td>130000</td>\n",
       "      <td>120000</td>\n",
       "      <td>1</td>\n",
       "      <td>16.10</td>\n",
       "      <td>1298.0</td>\n",
       "      <td>88.20</td>\n",
       "      <td>5.0</td>\n",
       "      <td>0</td>\n",
       "      <td>0</td>\n",
       "      <td>0</td>\n",
       "      <td>1</td>\n",
       "      <td>0</td>\n",
       "      <td>1</td>\n",
       "      <td>0</td>\n",
       "      <td>0</td>\n",
       "      <td>1</td>\n",
       "    </tr>\n",
       "  </tbody>\n",
       "</table>\n",
       "</div>"
      ],
      "text/plain": [
       "   year  selling_price  ...  transmission_Automatic  transmission_Manual\n",
       "0  2014         450000  ...                       0                    1\n",
       "1  2014         370000  ...                       0                    1\n",
       "2  2006         158000  ...                       0                    1\n",
       "3  2010         225000  ...                       0                    1\n",
       "4  2007         130000  ...                       0                    1\n",
       "\n",
       "[5 rows x 17 columns]"
      ]
     },
     "execution_count": 20,
     "metadata": {
      "tags": []
     },
     "output_type": "execute_result"
    }
   ],
   "source": [
    "# Drop the actual attributes and add the encoded attributes\n",
    "df1= dfcar.drop(columns=cat_col,axis=1)\n",
    "final_df = pd.concat([df1,encoded_data],axis=1)\n",
    "final_df.head()\n"
   ]
  },
  {
   "cell_type": "markdown",
   "metadata": {
    "id": "GBhzOmmiJaci"
   },
   "source": [
    "**Missing Value**"
   ]
  },
  {
   "cell_type": "code",
   "execution_count": 21,
   "metadata": {
    "colab": {
     "base_uri": "https://localhost:8080/"
    },
    "executionInfo": {
     "elapsed": 830,
     "status": "ok",
     "timestamp": 1620536889866,
     "user": {
      "displayName": "Mohamed Yusuf",
      "photoUrl": "",
      "userId": "10392786702670607191"
     },
     "user_tz": -330
    },
    "id": "hrtGjfu84tZY",
    "outputId": "973bc584-72ed-4e35-acd9-115e58d00857"
   },
   "outputs": [
    {
     "data": {
      "text/plain": [
       "year                              0\n",
       "selling_price                     0\n",
       "km_driven                         0\n",
       "owner                             0\n",
       "mileage                         221\n",
       "engine                          221\n",
       "max_power                       216\n",
       "seats                           221\n",
       "fuel_CNG                          0\n",
       "fuel_Diesel                       0\n",
       "fuel_LPG                          0\n",
       "fuel_Petrol                       0\n",
       "seller_type_Dealer                0\n",
       "seller_type_Individual            0\n",
       "seller_type_Trustmark Dealer      0\n",
       "transmission_Automatic            0\n",
       "transmission_Manual               0\n",
       "dtype: int64"
      ]
     },
     "execution_count": 21,
     "metadata": {
      "tags": []
     },
     "output_type": "execute_result"
    }
   ],
   "source": [
    "final_df.isnull().sum()"
   ]
  },
  {
   "cell_type": "markdown",
   "metadata": {
    "id": "d6zY-ar5JeZw"
   },
   "source": [
    "**Observation:** There are missing values in mileage, engine, seats and max_power attributes"
   ]
  },
  {
   "cell_type": "code",
   "execution_count": 22,
   "metadata": {
    "executionInfo": {
     "elapsed": 865,
     "status": "ok",
     "timestamp": 1620536918945,
     "user": {
      "displayName": "Mohamed Yusuf",
      "photoUrl": "",
      "userId": "10392786702670607191"
     },
     "user_tz": -330
    },
    "id": "btbL2MeO4wTs"
   },
   "outputs": [],
   "source": [
    "# Dropping missing values\n",
    "final_df.dropna(axis=0, inplace=True)"
   ]
  },
  {
   "cell_type": "code",
   "execution_count": 23,
   "metadata": {
    "colab": {
     "base_uri": "https://localhost:8080/"
    },
    "executionInfo": {
     "elapsed": 919,
     "status": "ok",
     "timestamp": 1620536921668,
     "user": {
      "displayName": "Mohamed Yusuf",
      "photoUrl": "",
      "userId": "10392786702670607191"
     },
     "user_tz": -330
    },
    "id": "-FjMTaMMhYi3",
    "outputId": "dc84d364-b7aa-47d1-975d-767ecd87da67"
   },
   "outputs": [
    {
     "data": {
      "text/plain": [
       "(7906, 17)"
      ]
     },
     "execution_count": 23,
     "metadata": {
      "tags": []
     },
     "output_type": "execute_result"
    }
   ],
   "source": [
    "# Checking the number of records and columns after dropping missing values\n",
    "final_df.shape"
   ]
  },
  {
   "cell_type": "markdown",
   "metadata": {
    "id": "Xhb8qzLvJzIg"
   },
   "source": [
    "**Observation:** There are 7906 records and 17 attributes after dropping missing values."
   ]
  },
  {
   "cell_type": "markdown",
   "metadata": {
    "id": "ez91ID6AEgPm"
   },
   "source": [
    "## Question 3"
   ]
  },
  {
   "cell_type": "markdown",
   "metadata": {
    "id": "9J4BlzVA_gZd"
   },
   "source": [
    "### Split the data and then scale the data\n",
    "- Split the data into ratio of 75:25 with random state=12\n",
    "- Perform standard scaling on X_train and X_test data\n"
   ]
  },
  {
   "cell_type": "code",
   "execution_count": 24,
   "metadata": {
    "colab": {
     "base_uri": "https://localhost:8080/"
    },
    "executionInfo": {
     "elapsed": 889,
     "status": "ok",
     "timestamp": 1620536929667,
     "user": {
      "displayName": "Mohamed Yusuf",
      "photoUrl": "",
      "userId": "10392786702670607191"
     },
     "user_tz": -330
    },
    "id": "IKEK8aEE_Csx",
    "outputId": "983d5800-2345-4155-f972-e6eb804eb05a"
   },
   "outputs": [
    {
     "data": {
      "text/plain": [
       "((5929, 16), (1977, 16), (5929,), (1977,))"
      ]
     },
     "execution_count": 24,
     "metadata": {
      "tags": []
     },
     "output_type": "execute_result"
    }
   ],
   "source": [
    "# Split the independent and target variables\n",
    "X = final_df.drop('selling_price', axis=1)\n",
    "y = final_df['selling_price']\n",
    "\n",
    "# Split train and test set\n",
    "X_train, X_test, y_train, y_test = train_test_split(X, y, test_size = 0.25, random_state=12)\n",
    "X_train.shape, X_test.shape, y_train.shape, y_test.shape"
   ]
  },
  {
   "cell_type": "code",
   "execution_count": 25,
   "metadata": {
    "executionInfo": {
     "elapsed": 881,
     "status": "ok",
     "timestamp": 1620536932776,
     "user": {
      "displayName": "Mohamed Yusuf",
      "photoUrl": "",
      "userId": "10392786702670607191"
     },
     "user_tz": -330
    },
    "id": "59F0lA4z8SH-"
   },
   "outputs": [],
   "source": [
    "# Apply the scaling\n",
    "sc = StandardScaler()\n",
    "scaledXtrain = sc.fit_transform(X_train)\n",
    "scaledXtest = sc.transform(X_test)"
   ]
  },
  {
   "cell_type": "markdown",
   "metadata": {
    "id": "cTPhO6v-AiZt"
   },
   "source": [
    "## Question 4"
   ]
  },
  {
   "cell_type": "markdown",
   "metadata": {
    "id": "SsZXmF3NAkna"
   },
   "source": [
    "### Create a Deep Neural Network Model for Regression\n",
    "- Initialize a Sequential model\n",
    "- Add 3 hidden layer with activation relu (Number of neurons = 64,128,32 respectively)\n",
    "- Add dropout layer after each hidden layer\n",
    "- Add a Dense layer with one neuron as output, use activation linear\n",
    "  \n"
   ]
  },
  {
   "cell_type": "code",
   "execution_count": 26,
   "metadata": {
    "executionInfo": {
     "elapsed": 841,
     "status": "ok",
     "timestamp": 1620536940047,
     "user": {
      "displayName": "Mohamed Yusuf",
      "photoUrl": "",
      "userId": "10392786702670607191"
     },
     "user_tz": -330
    },
    "id": "aKs04iIHAjxN"
   },
   "outputs": [],
   "source": [
    "#Initialize the model\n",
    "model = tf.keras.Sequential()"
   ]
  },
  {
   "cell_type": "code",
   "execution_count": 27,
   "metadata": {
    "executionInfo": {
     "elapsed": 836,
     "status": "ok",
     "timestamp": 1620536942738,
     "user": {
      "displayName": "Mohamed Yusuf",
      "photoUrl": "",
      "userId": "10392786702670607191"
     },
     "user_tz": -330
    },
    "id": "Hohh9YTsmlNK"
   },
   "outputs": [],
   "source": [
    "#Add Dense layer for prediction - Keras declares weights and bias automatically\n",
    "model.add(tf.keras.layers.Dense(64, input_shape=(16,), activation='relu'))\n",
    "model.add(Dropout(0.15))\n",
    "\n",
    "model.add(tf.keras.layers.Dense(128,  activation='relu'))\n",
    "model.add(Dropout(0.10))\n",
    "\n",
    "model.add(tf.keras.layers.Dense(32,  activation='relu'))\n",
    "model.add(Dropout(0.05))\n",
    "\n",
    "model.add(tf.keras.layers.Dense(1,  activation='linear'))"
   ]
  },
  {
   "cell_type": "markdown",
   "metadata": {
    "id": "aHstM0fX_-kI"
   },
   "source": [
    "### Check model summary and visualize the model"
   ]
  },
  {
   "cell_type": "code",
   "execution_count": 28,
   "metadata": {
    "colab": {
     "base_uri": "https://localhost:8080/"
    },
    "executionInfo": {
     "elapsed": 871,
     "status": "ok",
     "timestamp": 1620536949127,
     "user": {
      "displayName": "Mohamed Yusuf",
      "photoUrl": "",
      "userId": "10392786702670607191"
     },
     "user_tz": -330
    },
    "id": "xQjCMzUXBJbg",
    "outputId": "b4cdb8fb-d359-4bb9-df43-07e29d1c4a1f"
   },
   "outputs": [
    {
     "name": "stdout",
     "output_type": "stream",
     "text": [
      "Model: \"sequential\"\n",
      "_________________________________________________________________\n",
      "Layer (type)                 Output Shape              Param #   \n",
      "=================================================================\n",
      "dense (Dense)                (None, 64)                1088      \n",
      "_________________________________________________________________\n",
      "dropout (Dropout)            (None, 64)                0         \n",
      "_________________________________________________________________\n",
      "dense_1 (Dense)              (None, 128)               8320      \n",
      "_________________________________________________________________\n",
      "dropout_1 (Dropout)          (None, 128)               0         \n",
      "_________________________________________________________________\n",
      "dense_2 (Dense)              (None, 32)                4128      \n",
      "_________________________________________________________________\n",
      "dropout_2 (Dropout)          (None, 32)                0         \n",
      "_________________________________________________________________\n",
      "dense_3 (Dense)              (None, 1)                 33        \n",
      "=================================================================\n",
      "Total params: 13,569\n",
      "Trainable params: 13,569\n",
      "Non-trainable params: 0\n",
      "_________________________________________________________________\n"
     ]
    }
   ],
   "source": [
    "model.summary()"
   ]
  },
  {
   "cell_type": "markdown",
   "metadata": {
    "id": "aOMKEZLiKUw8"
   },
   "source": [
    "**Observation:** There are 13569 trainable parameters in the model."
   ]
  },
  {
   "cell_type": "code",
   "execution_count": 29,
   "metadata": {
    "colab": {
     "base_uri": "https://localhost:8080/",
     "height": 865
    },
    "executionInfo": {
     "elapsed": 1893,
     "status": "ok",
     "timestamp": 1620536957906,
     "user": {
      "displayName": "Mohamed Yusuf",
      "photoUrl": "",
      "userId": "10392786702670607191"
     },
     "user_tz": -330
    },
    "id": "Ksap6Rx0BNIw",
    "outputId": "d9f13cf7-c284-455d-e612-c9b35b2e3ead"
   },
   "outputs": [
    {
     "data": {
      "image/png": "[encoded data removed]",
      "text/plain": [
       "<IPython.core.display.Image object>"
      ]
     },
     "execution_count": 29,
     "metadata": {
      "tags": []
     },
     "output_type": "execute_result"
    }
   ],
   "source": [
    "plot_model(model, show_shapes=True, show_layer_names=True)"
   ]
  },
  {
   "cell_type": "markdown",
   "metadata": {
    "id": "y7WTmUI-Ey95"
   },
   "source": [
    "## Question 5"
   ]
  },
  {
   "cell_type": "markdown",
   "metadata": {
    "id": "C8u_jlbABTip"
   },
   "source": [
    "### Compile the model\n",
    "\n",
    "- Compile the model\n",
    "- Use \"adam\" optimizer\n",
    "- for calculating loss, use mean absolute error\n",
    "- use R2 score (coefficient of determination) as the metric"
   ]
  },
  {
   "cell_type": "code",
   "execution_count": 30,
   "metadata": {
    "executionInfo": {
     "elapsed": 843,
     "status": "ok",
     "timestamp": 1620536967345,
     "user": {
      "displayName": "Mohamed Yusuf",
      "photoUrl": "",
      "userId": "10392786702670607191"
     },
     "user_tz": -330
    },
    "id": "_bxtG5P9-5BP"
   },
   "outputs": [],
   "source": [
    "from keras import backend as K\n",
    "\n",
    "# Define the function for finding R2 score\n",
    "def r_2_score(y_true, y_pred):\n",
    "    SS_res =  K.sum(K.square( y_true-y_pred ))\n",
    "    SS_tot = K.sum(K.square( y_true - K.mean(y_true) ) )\n",
    "    return ( 1 - SS_res/(SS_tot + K.epsilon()) )"
   ]
  },
  {
   "cell_type": "code",
   "execution_count": 31,
   "metadata": {
    "executionInfo": {
     "elapsed": 868,
     "status": "ok",
     "timestamp": 1620536975039,
     "user": {
      "displayName": "Mohamed Yusuf",
      "photoUrl": "",
      "userId": "10392786702670607191"
     },
     "user_tz": -330
    },
    "id": "xwFMPVSS0LEL"
   },
   "outputs": [],
   "source": [
    "#Compile the model and r_2_Score used as metrics\n",
    "model.compile(optimizer='adam', loss='mean_absolute_error', metrics=[r_2_score])"
   ]
  },
  {
   "cell_type": "markdown",
   "metadata": {
    "id": "s-ntyk6k_EmT"
   },
   "source": [
    "Other metrics can also be used to track the learning of the model:\n",
    "\n",
    "To learn different metrics for classification and regression visit the following link:\n",
    "\n",
    "Link: https://keras.io/api/metrics/#usage-with-compile-amp-fit"
   ]
  },
  {
   "cell_type": "markdown",
   "metadata": {
    "id": "n9o45OHdjDhA"
   },
   "source": [
    "### Train your model\n",
    "\n",
    "- epochs: 1000\n",
    "- batch size: 32\n",
    "- Use test data as validation data\n",
    "- Also add callback, such that if validation loss doesn't decreases consecutively 10 times, stop the training and return the weights for the previous best model"
   ]
  },
  {
   "cell_type": "code",
   "execution_count": 32,
   "metadata": {
    "colab": {
     "base_uri": "https://localhost:8080/"
    },
    "executionInfo": {
     "elapsed": 243133,
     "status": "ok",
     "timestamp": 1620537243868,
     "user": {
      "displayName": "Mohamed Yusuf",
      "photoUrl": "",
      "userId": "10392786702670607191"
     },
     "user_tz": -330
    },
    "id": "-Y6tA30XjOH2",
    "outputId": "4e92e2b5-0994-43cf-e025-7e4f6066df99"
   },
   "outputs": [
    {
     "name": "stdout",
     "output_type": "stream",
     "text": [
      "Epoch 1/1000\n",
      "186/186 [==============================] - 4s 5ms/step - loss: 653907.2199 - r_2_score: -1.2499 - val_loss: 649167.0625 - val_r_2_score: -1.0157\n",
      "Epoch 2/1000\n",
      "186/186 [==============================] - 1s 3ms/step - loss: 619378.0471 - r_2_score: -1.0695 - val_loss: 547582.1250 - val_r_2_score: -0.6477\n",
      "Epoch 3/1000\n",
      "186/186 [==============================] - 1s 3ms/step - loss: 476975.1247 - r_2_score: -0.5074 - val_loss: 330842.0312 - val_r_2_score: 0.1952\n",
      "Epoch 4/1000\n",
      "186/186 [==============================] - 1s 3ms/step - loss: 309283.1337 - r_2_score: 0.3142 - val_loss: 256401.5469 - val_r_2_score: 0.5148\n",
      "Epoch 5/1000\n",
      "186/186 [==============================] - 1s 3ms/step - loss: 245202.9203 - r_2_score: 0.5144 - val_loss: 229487.9219 - val_r_2_score: 0.6055\n",
      "Epoch 6/1000\n",
      "186/186 [==============================] - 1s 3ms/step - loss: 213234.8580 - r_2_score: 0.6150 - val_loss: 214523.1562 - val_r_2_score: 0.6493\n",
      "Epoch 7/1000\n",
      "186/186 [==============================] - 1s 3ms/step - loss: 215226.7894 - r_2_score: 0.6234 - val_loss: 204599.0469 - val_r_2_score: 0.6752\n",
      "Epoch 8/1000\n",
      "186/186 [==============================] - 1s 3ms/step - loss: 210677.5316 - r_2_score: 0.6259 - val_loss: 198467.0781 - val_r_2_score: 0.6914\n",
      "Epoch 9/1000\n",
      "186/186 [==============================] - 1s 3ms/step - loss: 191466.8432 - r_2_score: 0.6728 - val_loss: 193844.9219 - val_r_2_score: 0.7031\n",
      "Epoch 10/1000\n",
      "186/186 [==============================] - 1s 3ms/step - loss: 194809.9680 - r_2_score: 0.6809 - val_loss: 191615.1250 - val_r_2_score: 0.7077\n",
      "Epoch 11/1000\n",
      "186/186 [==============================] - 1s 3ms/step - loss: 197812.1431 - r_2_score: 0.6902 - val_loss: 189842.5156 - val_r_2_score: 0.7128\n",
      "Epoch 12/1000\n",
      "186/186 [==============================] - 1s 3ms/step - loss: 189010.0341 - r_2_score: 0.7018 - val_loss: 188510.5469 - val_r_2_score: 0.7160\n",
      "Epoch 13/1000\n",
      "186/186 [==============================] - 1s 3ms/step - loss: 191335.7127 - r_2_score: 0.7067 - val_loss: 186892.8750 - val_r_2_score: 0.7216\n",
      "Epoch 14/1000\n",
      "186/186 [==============================] - 1s 3ms/step - loss: 187692.7022 - r_2_score: 0.7023 - val_loss: 185619.8906 - val_r_2_score: 0.7253\n",
      "Epoch 15/1000\n",
      "186/186 [==============================] - 1s 3ms/step - loss: 181495.5973 - r_2_score: 0.7147 - val_loss: 184704.3281 - val_r_2_score: 0.7273\n",
      "Epoch 16/1000\n",
      "186/186 [==============================] - 1s 3ms/step - loss: 182605.8392 - r_2_score: 0.6962 - val_loss: 183315.7188 - val_r_2_score: 0.7315\n",
      "Epoch 17/1000\n",
      "186/186 [==============================] - 1s 3ms/step - loss: 179526.5291 - r_2_score: 0.7166 - val_loss: 182291.0000 - val_r_2_score: 0.7339\n",
      "Epoch 18/1000\n",
      "186/186 [==============================] - 1s 3ms/step - loss: 183646.8583 - r_2_score: 0.7268 - val_loss: 181562.0781 - val_r_2_score: 0.7364\n",
      "Epoch 19/1000\n",
      "186/186 [==============================] - 1s 3ms/step - loss: 175272.2918 - r_2_score: 0.7507 - val_loss: 180411.1719 - val_r_2_score: 0.7405\n",
      "Epoch 20/1000\n",
      "186/186 [==============================] - 1s 3ms/step - loss: 178147.0536 - r_2_score: 0.7144 - val_loss: 179611.0625 - val_r_2_score: 0.7433\n",
      "Epoch 21/1000\n",
      "186/186 [==============================] - 1s 3ms/step - loss: 182543.3001 - r_2_score: 0.7256 - val_loss: 179229.6719 - val_r_2_score: 0.7431\n",
      "Epoch 22/1000\n",
      "186/186 [==============================] - 1s 3ms/step - loss: 170658.6883 - r_2_score: 0.6900 - val_loss: 177744.4844 - val_r_2_score: 0.7479\n",
      "Epoch 23/1000\n",
      "186/186 [==============================] - 1s 3ms/step - loss: 176923.9845 - r_2_score: 0.7345 - val_loss: 176591.4062 - val_r_2_score: 0.7505\n",
      "Epoch 24/1000\n",
      "186/186 [==============================] - 1s 3ms/step - loss: 170829.9070 - r_2_score: 0.7173 - val_loss: 175735.6875 - val_r_2_score: 0.7520\n",
      "Epoch 25/1000\n",
      "186/186 [==============================] - 1s 3ms/step - loss: 179626.1006 - r_2_score: 0.7260 - val_loss: 175421.6406 - val_r_2_score: 0.7527\n",
      "Epoch 26/1000\n",
      "186/186 [==============================] - 1s 3ms/step - loss: 177019.0957 - r_2_score: 0.7467 - val_loss: 174473.0625 - val_r_2_score: 0.7556\n",
      "Epoch 27/1000\n",
      "186/186 [==============================] - 1s 3ms/step - loss: 168328.3460 - r_2_score: 0.7311 - val_loss: 172987.9531 - val_r_2_score: 0.7588\n",
      "Epoch 28/1000\n",
      "186/186 [==============================] - 1s 3ms/step - loss: 180241.7146 - r_2_score: 0.7446 - val_loss: 172352.3438 - val_r_2_score: 0.7598\n",
      "Epoch 29/1000\n",
      "186/186 [==============================] - 1s 3ms/step - loss: 176573.8324 - r_2_score: 0.7281 - val_loss: 171740.5781 - val_r_2_score: 0.7608\n",
      "Epoch 30/1000\n",
      "186/186 [==============================] - 1s 3ms/step - loss: 178637.9305 - r_2_score: 0.7222 - val_loss: 170883.8438 - val_r_2_score: 0.7626\n",
      "Epoch 31/1000\n",
      "186/186 [==============================] - 1s 3ms/step - loss: 168481.6585 - r_2_score: 0.7361 - val_loss: 170265.2031 - val_r_2_score: 0.7637\n",
      "Epoch 32/1000\n",
      "186/186 [==============================] - 1s 3ms/step - loss: 174096.8438 - r_2_score: 0.7580 - val_loss: 169164.4531 - val_r_2_score: 0.7665\n",
      "Epoch 33/1000\n",
      "186/186 [==============================] - 1s 3ms/step - loss: 170241.2774 - r_2_score: 0.7493 - val_loss: 168046.9219 - val_r_2_score: 0.7684\n",
      "Epoch 34/1000\n",
      "186/186 [==============================] - 1s 3ms/step - loss: 168408.3155 - r_2_score: 0.7646 - val_loss: 167506.8438 - val_r_2_score: 0.7688\n",
      "Epoch 35/1000\n",
      "186/186 [==============================] - 1s 3ms/step - loss: 172127.7121 - r_2_score: 0.7638 - val_loss: 167254.1562 - val_r_2_score: 0.7695\n",
      "Epoch 36/1000\n",
      "186/186 [==============================] - 1s 3ms/step - loss: 170491.8988 - r_2_score: 0.7230 - val_loss: 166492.3438 - val_r_2_score: 0.7707\n",
      "Epoch 37/1000\n",
      "186/186 [==============================] - 1s 3ms/step - loss: 182489.1908 - r_2_score: 0.7595 - val_loss: 165897.7188 - val_r_2_score: 0.7722\n",
      "Epoch 38/1000\n",
      "186/186 [==============================] - 1s 3ms/step - loss: 165277.2406 - r_2_score: 0.7638 - val_loss: 164651.2812 - val_r_2_score: 0.7744\n",
      "Epoch 39/1000\n",
      "186/186 [==============================] - 1s 3ms/step - loss: 162400.9227 - r_2_score: 0.7760 - val_loss: 164902.4375 - val_r_2_score: 0.7753\n",
      "Epoch 40/1000\n",
      "186/186 [==============================] - 1s 3ms/step - loss: 164279.5453 - r_2_score: 0.7730 - val_loss: 163854.7500 - val_r_2_score: 0.7774\n",
      "Epoch 41/1000\n",
      "186/186 [==============================] - 1s 3ms/step - loss: 174070.4450 - r_2_score: 0.7604 - val_loss: 163602.1094 - val_r_2_score: 0.7767\n",
      "Epoch 42/1000\n",
      "186/186 [==============================] - 1s 3ms/step - loss: 162867.8249 - r_2_score: 0.7860 - val_loss: 162528.9844 - val_r_2_score: 0.7784\n",
      "Epoch 43/1000\n",
      "186/186 [==============================] - 1s 3ms/step - loss: 158222.0554 - r_2_score: 0.7786 - val_loss: 161618.8750 - val_r_2_score: 0.7794\n",
      "Epoch 44/1000\n",
      "186/186 [==============================] - 1s 3ms/step - loss: 165233.0572 - r_2_score: 0.7622 - val_loss: 160995.4219 - val_r_2_score: 0.7812\n",
      "Epoch 45/1000\n",
      "186/186 [==============================] - 1s 3ms/step - loss: 166653.9404 - r_2_score: 0.7887 - val_loss: 160472.9062 - val_r_2_score: 0.7821\n",
      "Epoch 46/1000\n",
      "186/186 [==============================] - 1s 3ms/step - loss: 167393.1846 - r_2_score: 0.7788 - val_loss: 160208.1875 - val_r_2_score: 0.7827\n",
      "Epoch 47/1000\n",
      "186/186 [==============================] - 1s 3ms/step - loss: 163695.7155 - r_2_score: 0.7858 - val_loss: 159702.6719 - val_r_2_score: 0.7838\n",
      "Epoch 48/1000\n",
      "186/186 [==============================] - 1s 3ms/step - loss: 165386.7797 - r_2_score: 0.7709 - val_loss: 158469.8125 - val_r_2_score: 0.7859\n",
      "Epoch 49/1000\n",
      "186/186 [==============================] - 1s 3ms/step - loss: 165557.7976 - r_2_score: 0.7545 - val_loss: 157467.2500 - val_r_2_score: 0.7868\n",
      "Epoch 50/1000\n",
      "186/186 [==============================] - 1s 3ms/step - loss: 164991.6331 - r_2_score: 0.7515 - val_loss: 157958.9375 - val_r_2_score: 0.7867\n",
      "Epoch 51/1000\n",
      "186/186 [==============================] - 1s 3ms/step - loss: 153575.8641 - r_2_score: 0.7874 - val_loss: 156862.5312 - val_r_2_score: 0.7871\n",
      "Epoch 52/1000\n",
      "186/186 [==============================] - 1s 3ms/step - loss: 156503.6865 - r_2_score: 0.7913 - val_loss: 155970.9844 - val_r_2_score: 0.7896\n",
      "Epoch 53/1000\n",
      "186/186 [==============================] - 1s 3ms/step - loss: 163701.1588 - r_2_score: 0.7969 - val_loss: 155525.1406 - val_r_2_score: 0.7903\n",
      "Epoch 54/1000\n",
      "186/186 [==============================] - 1s 3ms/step - loss: 166143.1655 - r_2_score: 0.7762 - val_loss: 154841.5312 - val_r_2_score: 0.7909\n",
      "Epoch 55/1000\n",
      "186/186 [==============================] - 1s 3ms/step - loss: 162195.6467 - r_2_score: 0.8016 - val_loss: 154601.1250 - val_r_2_score: 0.7919\n",
      "Epoch 56/1000\n",
      "186/186 [==============================] - 1s 3ms/step - loss: 155886.2981 - r_2_score: 0.7869 - val_loss: 154470.1719 - val_r_2_score: 0.7926\n",
      "Epoch 57/1000\n",
      "186/186 [==============================] - 1s 3ms/step - loss: 155104.0029 - r_2_score: 0.8058 - val_loss: 153344.6094 - val_r_2_score: 0.7936\n",
      "Epoch 58/1000\n",
      "186/186 [==============================] - 1s 3ms/step - loss: 160465.1819 - r_2_score: 0.7769 - val_loss: 153708.5469 - val_r_2_score: 0.7945\n",
      "Epoch 59/1000\n",
      "186/186 [==============================] - 1s 3ms/step - loss: 159840.6481 - r_2_score: 0.7870 - val_loss: 152570.6875 - val_r_2_score: 0.7951\n",
      "Epoch 60/1000\n",
      "186/186 [==============================] - 1s 3ms/step - loss: 161427.1890 - r_2_score: 0.7665 - val_loss: 151816.5781 - val_r_2_score: 0.7952\n",
      "Epoch 61/1000\n",
      "186/186 [==============================] - 1s 3ms/step - loss: 153415.6552 - r_2_score: 0.7973 - val_loss: 151385.6406 - val_r_2_score: 0.7954\n",
      "Epoch 62/1000\n",
      "186/186 [==============================] - 1s 3ms/step - loss: 157384.1324 - r_2_score: 0.7836 - val_loss: 151520.6562 - val_r_2_score: 0.7976\n",
      "Epoch 63/1000\n",
      "186/186 [==============================] - 1s 3ms/step - loss: 155616.0124 - r_2_score: 0.7926 - val_loss: 151375.3906 - val_r_2_score: 0.7984\n",
      "Epoch 64/1000\n",
      "186/186 [==============================] - 1s 3ms/step - loss: 155779.7126 - r_2_score: 0.7622 - val_loss: 150756.0156 - val_r_2_score: 0.8001\n",
      "Epoch 65/1000\n",
      "186/186 [==============================] - 1s 3ms/step - loss: 155786.6360 - r_2_score: 0.7934 - val_loss: 150093.7344 - val_r_2_score: 0.7996\n",
      "Epoch 66/1000\n",
      "186/186 [==============================] - 1s 3ms/step - loss: 155409.1325 - r_2_score: 0.7789 - val_loss: 149432.2812 - val_r_2_score: 0.8004\n",
      "Epoch 67/1000\n",
      "186/186 [==============================] - 1s 3ms/step - loss: 154626.7586 - r_2_score: 0.7666 - val_loss: 148878.0469 - val_r_2_score: 0.8018\n",
      "Epoch 68/1000\n",
      "186/186 [==============================] - 1s 3ms/step - loss: 151930.5379 - r_2_score: 0.7917 - val_loss: 148785.4219 - val_r_2_score: 0.8028\n",
      "Epoch 69/1000\n",
      "186/186 [==============================] - 1s 3ms/step - loss: 152705.5460 - r_2_score: 0.7560 - val_loss: 148702.5156 - val_r_2_score: 0.8034\n",
      "Epoch 70/1000\n",
      "186/186 [==============================] - 1s 3ms/step - loss: 147976.5866 - r_2_score: 0.8080 - val_loss: 148261.6250 - val_r_2_score: 0.8036\n",
      "Epoch 71/1000\n",
      "186/186 [==============================] - 1s 3ms/step - loss: 151719.7592 - r_2_score: 0.7934 - val_loss: 147878.6406 - val_r_2_score: 0.8052\n",
      "Epoch 72/1000\n",
      "186/186 [==============================] - 1s 3ms/step - loss: 146488.7828 - r_2_score: 0.8059 - val_loss: 147118.7656 - val_r_2_score: 0.8051\n",
      "Epoch 73/1000\n",
      "186/186 [==============================] - 1s 3ms/step - loss: 150337.2727 - r_2_score: 0.7682 - val_loss: 146727.7031 - val_r_2_score: 0.8059\n",
      "Epoch 74/1000\n",
      "186/186 [==============================] - 1s 3ms/step - loss: 148184.3231 - r_2_score: 0.7866 - val_loss: 146965.4531 - val_r_2_score: 0.8071\n",
      "Epoch 75/1000\n",
      "186/186 [==============================] - 1s 3ms/step - loss: 148745.3323 - r_2_score: 0.7894 - val_loss: 146418.1562 - val_r_2_score: 0.8060\n",
      "Epoch 76/1000\n",
      "186/186 [==============================] - 1s 3ms/step - loss: 153554.1344 - r_2_score: 0.7962 - val_loss: 146517.3438 - val_r_2_score: 0.8071\n",
      "Epoch 77/1000\n",
      "186/186 [==============================] - 1s 3ms/step - loss: 154344.2863 - r_2_score: 0.7889 - val_loss: 145642.1250 - val_r_2_score: 0.8076\n",
      "Epoch 78/1000\n",
      "186/186 [==============================] - 1s 3ms/step - loss: 148988.3235 - r_2_score: 0.8099 - val_loss: 145395.9688 - val_r_2_score: 0.8094\n",
      "Epoch 79/1000\n",
      "186/186 [==============================] - 1s 3ms/step - loss: 148792.4985 - r_2_score: 0.8016 - val_loss: 145323.7656 - val_r_2_score: 0.8102\n",
      "Epoch 80/1000\n",
      "186/186 [==============================] - 1s 3ms/step - loss: 150900.7449 - r_2_score: 0.7800 - val_loss: 144517.3125 - val_r_2_score: 0.8107\n",
      "Epoch 81/1000\n",
      "186/186 [==============================] - 1s 3ms/step - loss: 147302.3189 - r_2_score: 0.8007 - val_loss: 144272.7188 - val_r_2_score: 0.8118\n",
      "Epoch 82/1000\n",
      "186/186 [==============================] - 1s 3ms/step - loss: 151822.9410 - r_2_score: 0.8041 - val_loss: 143759.7812 - val_r_2_score: 0.8122\n",
      "Epoch 83/1000\n",
      "186/186 [==============================] - 1s 3ms/step - loss: 146755.3569 - r_2_score: 0.8067 - val_loss: 143384.5469 - val_r_2_score: 0.8122\n",
      "Epoch 84/1000\n",
      "186/186 [==============================] - 1s 3ms/step - loss: 149449.8834 - r_2_score: 0.8290 - val_loss: 143282.2812 - val_r_2_score: 0.8120\n",
      "Epoch 85/1000\n",
      "186/186 [==============================] - 1s 3ms/step - loss: 147022.4181 - r_2_score: 0.8223 - val_loss: 142732.5625 - val_r_2_score: 0.8133\n",
      "Epoch 86/1000\n",
      "186/186 [==============================] - 1s 3ms/step - loss: 149117.0166 - r_2_score: 0.8111 - val_loss: 142739.0469 - val_r_2_score: 0.8153\n",
      "Epoch 87/1000\n",
      "186/186 [==============================] - 1s 3ms/step - loss: 146841.8271 - r_2_score: 0.8182 - val_loss: 142064.6719 - val_r_2_score: 0.8125\n",
      "Epoch 88/1000\n",
      "186/186 [==============================] - 1s 3ms/step - loss: 143964.9633 - r_2_score: 0.8109 - val_loss: 141948.2031 - val_r_2_score: 0.8153\n",
      "Epoch 89/1000\n",
      "186/186 [==============================] - 1s 3ms/step - loss: 150077.1715 - r_2_score: 0.8072 - val_loss: 141414.9219 - val_r_2_score: 0.8153\n",
      "Epoch 90/1000\n",
      "186/186 [==============================] - 1s 3ms/step - loss: 144927.6776 - r_2_score: 0.8137 - val_loss: 141132.8125 - val_r_2_score: 0.8158\n",
      "Epoch 91/1000\n",
      "186/186 [==============================] - 1s 3ms/step - loss: 147795.2349 - r_2_score: 0.7965 - val_loss: 140657.9219 - val_r_2_score: 0.8177\n",
      "Epoch 92/1000\n",
      "186/186 [==============================] - 1s 3ms/step - loss: 144551.8687 - r_2_score: 0.8186 - val_loss: 140603.3281 - val_r_2_score: 0.8199\n",
      "Epoch 93/1000\n",
      "186/186 [==============================] - 1s 3ms/step - loss: 150769.0458 - r_2_score: 0.8142 - val_loss: 140144.5781 - val_r_2_score: 0.8196\n",
      "Epoch 94/1000\n",
      "186/186 [==============================] - 1s 3ms/step - loss: 141261.1626 - r_2_score: 0.8396 - val_loss: 139848.6875 - val_r_2_score: 0.8180\n",
      "Epoch 95/1000\n",
      "186/186 [==============================] - 1s 3ms/step - loss: 148334.9361 - r_2_score: 0.7928 - val_loss: 139428.1562 - val_r_2_score: 0.8196\n",
      "Epoch 96/1000\n",
      "186/186 [==============================] - 1s 3ms/step - loss: 143132.2717 - r_2_score: 0.8152 - val_loss: 139221.6719 - val_r_2_score: 0.8218\n",
      "Epoch 97/1000\n",
      "186/186 [==============================] - 1s 3ms/step - loss: 146799.5458 - r_2_score: 0.8400 - val_loss: 138720.5469 - val_r_2_score: 0.8216\n",
      "Epoch 98/1000\n",
      "186/186 [==============================] - 1s 3ms/step - loss: 143773.0021 - r_2_score: 0.8270 - val_loss: 138587.0156 - val_r_2_score: 0.8212\n",
      "Epoch 99/1000\n",
      "186/186 [==============================] - 1s 3ms/step - loss: 143689.7923 - r_2_score: 0.8269 - val_loss: 138240.5469 - val_r_2_score: 0.8207\n",
      "Epoch 100/1000\n",
      "186/186 [==============================] - 1s 3ms/step - loss: 143911.1212 - r_2_score: 0.8465 - val_loss: 138117.4375 - val_r_2_score: 0.8224\n",
      "Epoch 101/1000\n",
      "186/186 [==============================] - 1s 3ms/step - loss: 146758.7498 - r_2_score: 0.8272 - val_loss: 137777.0000 - val_r_2_score: 0.8215\n",
      "Epoch 102/1000\n",
      "186/186 [==============================] - 1s 3ms/step - loss: 143254.5124 - r_2_score: 0.8290 - val_loss: 137561.9844 - val_r_2_score: 0.8214\n",
      "Epoch 103/1000\n",
      "186/186 [==============================] - 1s 3ms/step - loss: 149573.0995 - r_2_score: 0.8073 - val_loss: 137231.9844 - val_r_2_score: 0.8223\n",
      "Epoch 104/1000\n",
      "186/186 [==============================] - 1s 3ms/step - loss: 142478.0122 - r_2_score: 0.7947 - val_loss: 137146.3438 - val_r_2_score: 0.8254\n",
      "Epoch 105/1000\n",
      "186/186 [==============================] - 1s 3ms/step - loss: 146854.1914 - r_2_score: 0.7934 - val_loss: 136348.2969 - val_r_2_score: 0.8236\n",
      "Epoch 106/1000\n",
      "186/186 [==============================] - 1s 3ms/step - loss: 146622.9424 - r_2_score: 0.7828 - val_loss: 136459.1094 - val_r_2_score: 0.8249\n",
      "Epoch 107/1000\n",
      "186/186 [==============================] - 1s 3ms/step - loss: 145637.3974 - r_2_score: 0.8134 - val_loss: 135944.6562 - val_r_2_score: 0.8263\n",
      "Epoch 108/1000\n",
      "186/186 [==============================] - 1s 3ms/step - loss: 142102.5025 - r_2_score: 0.8072 - val_loss: 135828.7812 - val_r_2_score: 0.8252\n",
      "Epoch 109/1000\n",
      "186/186 [==============================] - 1s 3ms/step - loss: 143053.2111 - r_2_score: 0.8335 - val_loss: 135246.2656 - val_r_2_score: 0.8274\n",
      "Epoch 110/1000\n",
      "186/186 [==============================] - 1s 3ms/step - loss: 146046.8584 - r_2_score: 0.8174 - val_loss: 134919.5469 - val_r_2_score: 0.8268\n",
      "Epoch 111/1000\n",
      "186/186 [==============================] - 1s 3ms/step - loss: 140934.2271 - r_2_score: 0.8167 - val_loss: 134721.1719 - val_r_2_score: 0.8280\n",
      "Epoch 112/1000\n",
      "186/186 [==============================] - 1s 3ms/step - loss: 141593.8067 - r_2_score: 0.8282 - val_loss: 134452.0312 - val_r_2_score: 0.8300\n",
      "Epoch 113/1000\n",
      "186/186 [==============================] - 1s 3ms/step - loss: 142633.7777 - r_2_score: 0.8110 - val_loss: 134049.1562 - val_r_2_score: 0.8304\n",
      "Epoch 114/1000\n",
      "186/186 [==============================] - 1s 3ms/step - loss: 136150.1947 - r_2_score: 0.8340 - val_loss: 133508.7188 - val_r_2_score: 0.8274\n",
      "Epoch 115/1000\n",
      "186/186 [==============================] - 1s 3ms/step - loss: 138939.7209 - r_2_score: 0.8516 - val_loss: 133323.6719 - val_r_2_score: 0.8290\n",
      "Epoch 116/1000\n",
      "186/186 [==============================] - 1s 3ms/step - loss: 135312.2692 - r_2_score: 0.8269 - val_loss: 133342.2656 - val_r_2_score: 0.8317\n",
      "Epoch 117/1000\n",
      "186/186 [==============================] - 1s 3ms/step - loss: 140511.1677 - r_2_score: 0.8257 - val_loss: 133559.5469 - val_r_2_score: 0.8334\n",
      "Epoch 118/1000\n",
      "186/186 [==============================] - 1s 3ms/step - loss: 138608.8063 - r_2_score: 0.8266 - val_loss: 132408.6406 - val_r_2_score: 0.8318\n",
      "Epoch 119/1000\n",
      "186/186 [==============================] - 1s 3ms/step - loss: 144348.0370 - r_2_score: 0.8208 - val_loss: 132662.6719 - val_r_2_score: 0.8352\n",
      "Epoch 120/1000\n",
      "186/186 [==============================] - 1s 3ms/step - loss: 137910.5258 - r_2_score: 0.8434 - val_loss: 132423.1875 - val_r_2_score: 0.8361\n",
      "Epoch 121/1000\n",
      "186/186 [==============================] - 1s 3ms/step - loss: 136921.1465 - r_2_score: 0.8428 - val_loss: 132070.8281 - val_r_2_score: 0.8341\n",
      "Epoch 122/1000\n",
      "186/186 [==============================] - 1s 3ms/step - loss: 141015.5401 - r_2_score: 0.8371 - val_loss: 132217.6562 - val_r_2_score: 0.8368\n",
      "Epoch 123/1000\n",
      "186/186 [==============================] - 1s 3ms/step - loss: 136276.6354 - r_2_score: 0.8498 - val_loss: 132145.9375 - val_r_2_score: 0.8384\n",
      "Epoch 124/1000\n",
      "186/186 [==============================] - 1s 3ms/step - loss: 138374.9373 - r_2_score: 0.8115 - val_loss: 131927.5156 - val_r_2_score: 0.8395\n",
      "Epoch 125/1000\n",
      "186/186 [==============================] - 1s 3ms/step - loss: 140939.2796 - r_2_score: 0.8379 - val_loss: 131342.5469 - val_r_2_score: 0.8390\n",
      "Epoch 126/1000\n",
      "186/186 [==============================] - 1s 3ms/step - loss: 133919.0281 - r_2_score: 0.8418 - val_loss: 131006.1797 - val_r_2_score: 0.8394\n",
      "Epoch 127/1000\n",
      "186/186 [==============================] - 1s 3ms/step - loss: 133060.7921 - r_2_score: 0.8235 - val_loss: 131630.5000 - val_r_2_score: 0.8421\n",
      "Epoch 128/1000\n",
      "186/186 [==============================] - 1s 3ms/step - loss: 139527.8762 - r_2_score: 0.8328 - val_loss: 130812.5234 - val_r_2_score: 0.8419\n",
      "Epoch 129/1000\n",
      "186/186 [==============================] - 1s 3ms/step - loss: 136605.8849 - r_2_score: 0.8335 - val_loss: 130387.5000 - val_r_2_score: 0.8415\n",
      "Epoch 130/1000\n",
      "186/186 [==============================] - 1s 3ms/step - loss: 141422.6997 - r_2_score: 0.8068 - val_loss: 130028.8984 - val_r_2_score: 0.8433\n",
      "Epoch 131/1000\n",
      "186/186 [==============================] - 1s 3ms/step - loss: 136504.6014 - r_2_score: 0.8432 - val_loss: 129903.6875 - val_r_2_score: 0.8413\n",
      "Epoch 132/1000\n",
      "186/186 [==============================] - 1s 3ms/step - loss: 140030.3928 - r_2_score: 0.8179 - val_loss: 130083.9609 - val_r_2_score: 0.8428\n",
      "Epoch 133/1000\n",
      "186/186 [==============================] - 1s 3ms/step - loss: 137764.2302 - r_2_score: 0.8235 - val_loss: 129861.7188 - val_r_2_score: 0.8427\n",
      "Epoch 134/1000\n",
      "186/186 [==============================] - 1s 3ms/step - loss: 146464.6646 - r_2_score: 0.8171 - val_loss: 129293.2578 - val_r_2_score: 0.8438\n",
      "Epoch 135/1000\n",
      "186/186 [==============================] - 1s 3ms/step - loss: 136182.2782 - r_2_score: 0.8227 - val_loss: 128991.7812 - val_r_2_score: 0.8426\n",
      "Epoch 136/1000\n",
      "186/186 [==============================] - 1s 3ms/step - loss: 141150.9402 - r_2_score: 0.8377 - val_loss: 128801.3906 - val_r_2_score: 0.8438\n",
      "Epoch 137/1000\n",
      "186/186 [==============================] - 1s 3ms/step - loss: 138930.2835 - r_2_score: 0.8434 - val_loss: 129082.5312 - val_r_2_score: 0.8460\n",
      "Epoch 138/1000\n",
      "186/186 [==============================] - 1s 3ms/step - loss: 131954.7501 - r_2_score: 0.8527 - val_loss: 128801.3672 - val_r_2_score: 0.8460\n",
      "Epoch 139/1000\n",
      "186/186 [==============================] - 1s 3ms/step - loss: 136653.7063 - r_2_score: 0.8466 - val_loss: 128537.7812 - val_r_2_score: 0.8461\n",
      "Epoch 140/1000\n",
      "186/186 [==============================] - 1s 3ms/step - loss: 136438.8849 - r_2_score: 0.8360 - val_loss: 128752.4922 - val_r_2_score: 0.8486\n",
      "Epoch 141/1000\n",
      "186/186 [==============================] - 1s 3ms/step - loss: 136766.8925 - r_2_score: 0.8280 - val_loss: 130327.7266 - val_r_2_score: 0.8495\n",
      "Epoch 142/1000\n",
      "186/186 [==============================] - 1s 3ms/step - loss: 129798.3816 - r_2_score: 0.8542 - val_loss: 128926.7812 - val_r_2_score: 0.8497\n",
      "Epoch 143/1000\n",
      "186/186 [==============================] - 1s 3ms/step - loss: 142284.3942 - r_2_score: 0.8362 - val_loss: 128293.3594 - val_r_2_score: 0.8493\n",
      "Epoch 144/1000\n",
      "186/186 [==============================] - 1s 3ms/step - loss: 137940.7858 - r_2_score: 0.8199 - val_loss: 128422.3828 - val_r_2_score: 0.8504\n",
      "Epoch 145/1000\n",
      "186/186 [==============================] - 1s 3ms/step - loss: 132297.4034 - r_2_score: 0.8525 - val_loss: 128089.0547 - val_r_2_score: 0.8512\n",
      "Epoch 146/1000\n",
      "186/186 [==============================] - 1s 3ms/step - loss: 133280.7771 - r_2_score: 0.8335 - val_loss: 127285.3906 - val_r_2_score: 0.8519\n",
      "Epoch 147/1000\n",
      "186/186 [==============================] - 1s 3ms/step - loss: 136586.9157 - r_2_score: 0.8139 - val_loss: 126900.7891 - val_r_2_score: 0.8517\n",
      "Epoch 148/1000\n",
      "186/186 [==============================] - 1s 3ms/step - loss: 132583.0804 - r_2_score: 0.8444 - val_loss: 126874.8359 - val_r_2_score: 0.8530\n",
      "Epoch 149/1000\n",
      "186/186 [==============================] - 1s 3ms/step - loss: 133746.9794 - r_2_score: 0.8478 - val_loss: 126515.4453 - val_r_2_score: 0.8532\n",
      "Epoch 150/1000\n",
      "186/186 [==============================] - 1s 3ms/step - loss: 130998.1847 - r_2_score: 0.8425 - val_loss: 127296.4141 - val_r_2_score: 0.8540\n",
      "Epoch 151/1000\n",
      "186/186 [==============================] - 1s 3ms/step - loss: 140876.0069 - r_2_score: 0.8531 - val_loss: 126899.3672 - val_r_2_score: 0.8557\n",
      "Epoch 152/1000\n",
      "186/186 [==============================] - 1s 3ms/step - loss: 133497.3480 - r_2_score: 0.8258 - val_loss: 126045.3281 - val_r_2_score: 0.8534\n",
      "Epoch 153/1000\n",
      "186/186 [==============================] - 1s 3ms/step - loss: 135068.9627 - r_2_score: 0.8552 - val_loss: 126186.2109 - val_r_2_score: 0.8574\n",
      "Epoch 154/1000\n",
      "186/186 [==============================] - 1s 3ms/step - loss: 132168.9763 - r_2_score: 0.8296 - val_loss: 125999.0859 - val_r_2_score: 0.8582\n",
      "Epoch 155/1000\n",
      "186/186 [==============================] - 1s 3ms/step - loss: 139626.0676 - r_2_score: 0.8349 - val_loss: 126428.7109 - val_r_2_score: 0.8580\n",
      "Epoch 156/1000\n",
      "186/186 [==============================] - 1s 3ms/step - loss: 128649.4024 - r_2_score: 0.8247 - val_loss: 125524.2266 - val_r_2_score: 0.8561\n",
      "Epoch 157/1000\n",
      "186/186 [==============================] - 1s 3ms/step - loss: 140105.2345 - r_2_score: 0.8117 - val_loss: 125881.3281 - val_r_2_score: 0.8588\n",
      "Epoch 158/1000\n",
      "186/186 [==============================] - 1s 3ms/step - loss: 135632.1273 - r_2_score: 0.8386 - val_loss: 125125.3984 - val_r_2_score: 0.8593\n",
      "Epoch 159/1000\n",
      "186/186 [==============================] - 1s 3ms/step - loss: 132668.1603 - r_2_score: 0.8239 - val_loss: 125829.4297 - val_r_2_score: 0.8609\n",
      "Epoch 160/1000\n",
      "186/186 [==============================] - 1s 3ms/step - loss: 131046.1006 - r_2_score: 0.8520 - val_loss: 125571.7578 - val_r_2_score: 0.8619\n",
      "Epoch 161/1000\n",
      "186/186 [==============================] - 1s 3ms/step - loss: 132065.1501 - r_2_score: 0.8484 - val_loss: 124690.3281 - val_r_2_score: 0.8596\n",
      "Epoch 162/1000\n",
      "186/186 [==============================] - 1s 3ms/step - loss: 131104.9432 - r_2_score: 0.8478 - val_loss: 124685.9219 - val_r_2_score: 0.8619\n",
      "Epoch 163/1000\n",
      "186/186 [==============================] - 1s 3ms/step - loss: 130407.1812 - r_2_score: 0.8398 - val_loss: 124874.8672 - val_r_2_score: 0.8634\n",
      "Epoch 164/1000\n",
      "186/186 [==============================] - 1s 3ms/step - loss: 128773.6061 - r_2_score: 0.8379 - val_loss: 124862.3203 - val_r_2_score: 0.8646\n",
      "Epoch 165/1000\n",
      "186/186 [==============================] - 1s 3ms/step - loss: 137684.3730 - r_2_score: 0.8476 - val_loss: 124096.6562 - val_r_2_score: 0.8628\n",
      "Epoch 166/1000\n",
      "186/186 [==============================] - 1s 3ms/step - loss: 140745.7789 - r_2_score: 0.8206 - val_loss: 124078.6484 - val_r_2_score: 0.8612\n",
      "Epoch 167/1000\n",
      "186/186 [==============================] - 1s 3ms/step - loss: 135065.0941 - r_2_score: 0.8434 - val_loss: 123876.6953 - val_r_2_score: 0.8648\n",
      "Epoch 168/1000\n",
      "186/186 [==============================] - 1s 3ms/step - loss: 130976.0612 - r_2_score: 0.8084 - val_loss: 124328.5625 - val_r_2_score: 0.8658\n",
      "Epoch 169/1000\n",
      "186/186 [==============================] - 1s 3ms/step - loss: 134895.9503 - r_2_score: 0.8528 - val_loss: 124630.4688 - val_r_2_score: 0.8679\n",
      "Epoch 170/1000\n",
      "186/186 [==============================] - 1s 3ms/step - loss: 135405.9868 - r_2_score: 0.8484 - val_loss: 123320.4375 - val_r_2_score: 0.8651\n",
      "Epoch 171/1000\n",
      "186/186 [==============================] - 1s 3ms/step - loss: 129872.9217 - r_2_score: 0.8628 - val_loss: 123974.2344 - val_r_2_score: 0.8674\n",
      "Epoch 172/1000\n",
      "186/186 [==============================] - 1s 3ms/step - loss: 133865.3225 - r_2_score: 0.8371 - val_loss: 124029.6719 - val_r_2_score: 0.8673\n",
      "Epoch 173/1000\n",
      "186/186 [==============================] - 1s 3ms/step - loss: 133958.0913 - r_2_score: 0.8455 - val_loss: 123851.5391 - val_r_2_score: 0.8687\n",
      "Epoch 174/1000\n",
      "186/186 [==============================] - 1s 3ms/step - loss: 134243.4566 - r_2_score: 0.8758 - val_loss: 123531.7656 - val_r_2_score: 0.8688\n",
      "Epoch 175/1000\n",
      "186/186 [==============================] - 1s 3ms/step - loss: 127434.4601 - r_2_score: 0.8798 - val_loss: 122969.9844 - val_r_2_score: 0.8675\n",
      "Epoch 176/1000\n",
      "186/186 [==============================] - 1s 3ms/step - loss: 136794.5967 - r_2_score: 0.8374 - val_loss: 123175.7422 - val_r_2_score: 0.8682\n",
      "Epoch 177/1000\n",
      "186/186 [==============================] - 1s 3ms/step - loss: 131022.1471 - r_2_score: 0.8404 - val_loss: 123618.4688 - val_r_2_score: 0.8689\n",
      "Epoch 178/1000\n",
      "186/186 [==============================] - 1s 3ms/step - loss: 125511.4486 - r_2_score: 0.8684 - val_loss: 122757.9844 - val_r_2_score: 0.8689\n",
      "Epoch 179/1000\n",
      "186/186 [==============================] - 1s 3ms/step - loss: 127517.3600 - r_2_score: 0.8586 - val_loss: 122473.4062 - val_r_2_score: 0.8698\n",
      "Epoch 180/1000\n",
      "186/186 [==============================] - 1s 3ms/step - loss: 131923.9907 - r_2_score: 0.8370 - val_loss: 122532.4922 - val_r_2_score: 0.8698\n",
      "Epoch 181/1000\n",
      "186/186 [==============================] - 1s 3ms/step - loss: 131668.8890 - r_2_score: 0.8634 - val_loss: 122823.0156 - val_r_2_score: 0.8710\n",
      "Epoch 182/1000\n",
      "186/186 [==============================] - 1s 3ms/step - loss: 126941.1129 - r_2_score: 0.8635 - val_loss: 122574.8594 - val_r_2_score: 0.8725\n",
      "Epoch 183/1000\n",
      "186/186 [==============================] - 1s 3ms/step - loss: 128794.2970 - r_2_score: 0.8215 - val_loss: 122564.8203 - val_r_2_score: 0.8708\n",
      "Epoch 184/1000\n",
      "186/186 [==============================] - 1s 3ms/step - loss: 135826.7189 - r_2_score: 0.8428 - val_loss: 122906.6719 - val_r_2_score: 0.8726\n",
      "Epoch 185/1000\n",
      "186/186 [==============================] - 1s 3ms/step - loss: 133217.0596 - r_2_score: 0.8500 - val_loss: 122562.6562 - val_r_2_score: 0.8726\n",
      "Epoch 186/1000\n",
      "186/186 [==============================] - 1s 3ms/step - loss: 134225.2825 - r_2_score: 0.8337 - val_loss: 124261.8516 - val_r_2_score: 0.8726\n",
      "Epoch 187/1000\n",
      "186/186 [==============================] - 1s 3ms/step - loss: 132428.3127 - r_2_score: 0.8335 - val_loss: 122390.5156 - val_r_2_score: 0.8725\n",
      "Epoch 188/1000\n",
      "186/186 [==============================] - 1s 3ms/step - loss: 134316.1525 - r_2_score: 0.8327 - val_loss: 122814.5312 - val_r_2_score: 0.8741\n",
      "Epoch 189/1000\n",
      "186/186 [==============================] - 1s 3ms/step - loss: 137662.3979 - r_2_score: 0.8561 - val_loss: 121734.3750 - val_r_2_score: 0.8737\n",
      "Epoch 190/1000\n",
      "186/186 [==============================] - 1s 3ms/step - loss: 130579.7209 - r_2_score: 0.8521 - val_loss: 122345.0547 - val_r_2_score: 0.8747\n",
      "Epoch 191/1000\n",
      "186/186 [==============================] - 1s 3ms/step - loss: 132565.4206 - r_2_score: 0.8500 - val_loss: 122535.9375 - val_r_2_score: 0.8751\n",
      "Epoch 192/1000\n",
      "186/186 [==============================] - 1s 3ms/step - loss: 129609.3905 - r_2_score: 0.8509 - val_loss: 121441.9609 - val_r_2_score: 0.8748\n",
      "Epoch 193/1000\n",
      "186/186 [==============================] - 1s 3ms/step - loss: 129440.6009 - r_2_score: 0.8396 - val_loss: 121034.6328 - val_r_2_score: 0.8744\n",
      "Epoch 194/1000\n",
      "186/186 [==============================] - 1s 3ms/step - loss: 131511.0578 - r_2_score: 0.8542 - val_loss: 121782.2109 - val_r_2_score: 0.8762\n",
      "Epoch 195/1000\n",
      "186/186 [==============================] - 1s 3ms/step - loss: 128307.4452 - r_2_score: 0.8745 - val_loss: 120942.1875 - val_r_2_score: 0.8753\n",
      "Epoch 196/1000\n",
      "186/186 [==============================] - 1s 3ms/step - loss: 125641.0878 - r_2_score: 0.8659 - val_loss: 121287.8672 - val_r_2_score: 0.8773\n",
      "Epoch 197/1000\n",
      "186/186 [==============================] - 1s 3ms/step - loss: 131840.4026 - r_2_score: 0.8570 - val_loss: 120903.0391 - val_r_2_score: 0.8765\n",
      "Epoch 198/1000\n",
      "186/186 [==============================] - 1s 3ms/step - loss: 134069.1197 - r_2_score: 0.8521 - val_loss: 120953.2422 - val_r_2_score: 0.8741\n",
      "Epoch 199/1000\n",
      "186/186 [==============================] - 1s 3ms/step - loss: 129398.5538 - r_2_score: 0.8670 - val_loss: 120979.2734 - val_r_2_score: 0.8768\n",
      "Epoch 200/1000\n",
      "186/186 [==============================] - 1s 3ms/step - loss: 130009.9840 - r_2_score: 0.8265 - val_loss: 120809.1484 - val_r_2_score: 0.8782\n",
      "Epoch 201/1000\n",
      "186/186 [==============================] - 1s 3ms/step - loss: 134981.7675 - r_2_score: 0.8726 - val_loss: 121347.1719 - val_r_2_score: 0.8785\n",
      "Epoch 202/1000\n",
      "186/186 [==============================] - 1s 3ms/step - loss: 128772.2220 - r_2_score: 0.8503 - val_loss: 120483.9141 - val_r_2_score: 0.8787\n",
      "Epoch 203/1000\n",
      "186/186 [==============================] - 1s 3ms/step - loss: 128117.0743 - r_2_score: 0.8489 - val_loss: 120836.5938 - val_r_2_score: 0.8788\n",
      "Epoch 204/1000\n",
      "186/186 [==============================] - 1s 3ms/step - loss: 129775.5113 - r_2_score: 0.8581 - val_loss: 120950.4141 - val_r_2_score: 0.8792\n",
      "Epoch 205/1000\n",
      "186/186 [==============================] - 1s 3ms/step - loss: 134217.2983 - r_2_score: 0.8382 - val_loss: 121265.9609 - val_r_2_score: 0.8803\n",
      "Epoch 206/1000\n",
      "186/186 [==============================] - 1s 3ms/step - loss: 130912.9352 - r_2_score: 0.8650 - val_loss: 120131.7109 - val_r_2_score: 0.8788\n",
      "Epoch 207/1000\n",
      "186/186 [==============================] - 1s 3ms/step - loss: 135249.7309 - r_2_score: 0.8650 - val_loss: 119921.2891 - val_r_2_score: 0.8785\n",
      "Epoch 208/1000\n",
      "186/186 [==============================] - 1s 3ms/step - loss: 132686.7203 - r_2_score: 0.8362 - val_loss: 120448.4297 - val_r_2_score: 0.8806\n",
      "Epoch 209/1000\n",
      "186/186 [==============================] - 1s 3ms/step - loss: 126294.4345 - r_2_score: 0.8710 - val_loss: 120477.3672 - val_r_2_score: 0.8804\n",
      "Epoch 210/1000\n",
      "186/186 [==============================] - 1s 3ms/step - loss: 131624.8005 - r_2_score: 0.8473 - val_loss: 120198.2422 - val_r_2_score: 0.8811\n",
      "Epoch 211/1000\n",
      "186/186 [==============================] - 1s 3ms/step - loss: 131382.1674 - r_2_score: 0.8499 - val_loss: 119781.6562 - val_r_2_score: 0.8809\n",
      "Epoch 212/1000\n",
      "186/186 [==============================] - 1s 3ms/step - loss: 128175.6360 - r_2_score: 0.8606 - val_loss: 119537.3750 - val_r_2_score: 0.8815\n",
      "Epoch 213/1000\n",
      "186/186 [==============================] - 1s 3ms/step - loss: 127402.9330 - r_2_score: 0.8742 - val_loss: 119328.8672 - val_r_2_score: 0.8804\n",
      "Epoch 214/1000\n",
      "186/186 [==============================] - 1s 3ms/step - loss: 125528.9194 - r_2_score: 0.8545 - val_loss: 119284.3984 - val_r_2_score: 0.8798\n",
      "Epoch 215/1000\n",
      "186/186 [==============================] - 1s 3ms/step - loss: 125387.3785 - r_2_score: 0.8490 - val_loss: 118759.1875 - val_r_2_score: 0.8791\n",
      "Epoch 216/1000\n",
      "186/186 [==============================] - 1s 3ms/step - loss: 124986.8919 - r_2_score: 0.8426 - val_loss: 119358.9766 - val_r_2_score: 0.8818\n",
      "Epoch 217/1000\n",
      "186/186 [==============================] - 1s 3ms/step - loss: 128025.1364 - r_2_score: 0.8684 - val_loss: 119271.4219 - val_r_2_score: 0.8811\n",
      "Epoch 218/1000\n",
      "186/186 [==============================] - 1s 3ms/step - loss: 125236.4840 - r_2_score: 0.8609 - val_loss: 119185.5078 - val_r_2_score: 0.8825\n",
      "Epoch 219/1000\n",
      "186/186 [==============================] - 1s 3ms/step - loss: 128158.8504 - r_2_score: 0.8467 - val_loss: 118981.3516 - val_r_2_score: 0.8808\n",
      "Epoch 220/1000\n",
      "186/186 [==============================] - 1s 3ms/step - loss: 130400.9674 - r_2_score: 0.8212 - val_loss: 120358.5000 - val_r_2_score: 0.8833\n",
      "Epoch 221/1000\n",
      "186/186 [==============================] - 1s 3ms/step - loss: 127838.2744 - r_2_score: 0.8678 - val_loss: 118583.2266 - val_r_2_score: 0.8816\n",
      "Epoch 222/1000\n",
      "186/186 [==============================] - 1s 3ms/step - loss: 129446.4191 - r_2_score: 0.8505 - val_loss: 120507.3750 - val_r_2_score: 0.8834\n",
      "Epoch 223/1000\n",
      "186/186 [==============================] - 1s 3ms/step - loss: 129807.8231 - r_2_score: 0.8576 - val_loss: 118747.8984 - val_r_2_score: 0.8832\n",
      "Epoch 224/1000\n",
      "186/186 [==============================] - 1s 3ms/step - loss: 132131.1263 - r_2_score: 0.8417 - val_loss: 118862.8672 - val_r_2_score: 0.8834\n",
      "Epoch 225/1000\n",
      "186/186 [==============================] - 1s 3ms/step - loss: 129384.8530 - r_2_score: 0.8458 - val_loss: 118653.5703 - val_r_2_score: 0.8826\n",
      "Epoch 226/1000\n",
      "186/186 [==============================] - 1s 3ms/step - loss: 128361.4854 - r_2_score: 0.8707 - val_loss: 119029.4062 - val_r_2_score: 0.8837\n",
      "Epoch 227/1000\n",
      "186/186 [==============================] - 1s 3ms/step - loss: 126110.3574 - r_2_score: 0.8483 - val_loss: 118382.3516 - val_r_2_score: 0.8829\n",
      "Epoch 228/1000\n",
      "186/186 [==============================] - 1s 3ms/step - loss: 129224.8176 - r_2_score: 0.8626 - val_loss: 118065.6172 - val_r_2_score: 0.8833\n",
      "Epoch 229/1000\n",
      "186/186 [==============================] - 1s 3ms/step - loss: 126636.1397 - r_2_score: 0.8538 - val_loss: 118777.0703 - val_r_2_score: 0.8848\n",
      "Epoch 230/1000\n",
      "186/186 [==============================] - 1s 3ms/step - loss: 132727.7750 - r_2_score: 0.8530 - val_loss: 118286.9688 - val_r_2_score: 0.8839\n",
      "Epoch 231/1000\n",
      "186/186 [==============================] - 1s 3ms/step - loss: 126792.9072 - r_2_score: 0.8555 - val_loss: 118551.5000 - val_r_2_score: 0.8853\n",
      "Epoch 232/1000\n",
      "186/186 [==============================] - 1s 3ms/step - loss: 127804.8893 - r_2_score: 0.8572 - val_loss: 118303.1797 - val_r_2_score: 0.8850\n",
      "Epoch 233/1000\n",
      "186/186 [==============================] - 1s 3ms/step - loss: 125414.2994 - r_2_score: 0.8574 - val_loss: 118199.2422 - val_r_2_score: 0.8836\n",
      "Epoch 234/1000\n",
      "186/186 [==============================] - 1s 3ms/step - loss: 125190.8250 - r_2_score: 0.8705 - val_loss: 118060.3203 - val_r_2_score: 0.8840\n",
      "Epoch 235/1000\n",
      "186/186 [==============================] - 1s 3ms/step - loss: 125679.5204 - r_2_score: 0.8727 - val_loss: 118452.0078 - val_r_2_score: 0.8863\n",
      "Epoch 236/1000\n",
      "186/186 [==============================] - 1s 3ms/step - loss: 126071.0919 - r_2_score: 0.8610 - val_loss: 118187.8125 - val_r_2_score: 0.8860\n",
      "Epoch 237/1000\n",
      "186/186 [==============================] - 1s 3ms/step - loss: 126661.3382 - r_2_score: 0.8719 - val_loss: 118830.4766 - val_r_2_score: 0.8862\n",
      "Epoch 238/1000\n",
      "186/186 [==============================] - 1s 3ms/step - loss: 131459.2100 - r_2_score: 0.8429 - val_loss: 118135.2031 - val_r_2_score: 0.8874\n",
      "Epoch 239/1000\n",
      "186/186 [==============================] - 1s 3ms/step - loss: 129688.0405 - r_2_score: 0.8553 - val_loss: 119032.1406 - val_r_2_score: 0.8868\n",
      "Epoch 240/1000\n",
      "186/186 [==============================] - 1s 3ms/step - loss: 133011.9635 - r_2_score: 0.8175 - val_loss: 118194.7031 - val_r_2_score: 0.8821\n",
      "Epoch 241/1000\n",
      "186/186 [==============================] - 1s 3ms/step - loss: 124647.0743 - r_2_score: 0.8664 - val_loss: 117653.2578 - val_r_2_score: 0.8847\n",
      "Epoch 242/1000\n",
      "186/186 [==============================] - 1s 3ms/step - loss: 124109.0960 - r_2_score: 0.8751 - val_loss: 117659.0312 - val_r_2_score: 0.8853\n",
      "Epoch 243/1000\n",
      "186/186 [==============================] - 1s 3ms/step - loss: 125498.5916 - r_2_score: 0.8475 - val_loss: 117489.0234 - val_r_2_score: 0.8860\n",
      "Epoch 244/1000\n",
      "186/186 [==============================] - 1s 3ms/step - loss: 130292.9511 - r_2_score: 0.8416 - val_loss: 117737.7656 - val_r_2_score: 0.8874\n",
      "Epoch 245/1000\n",
      "186/186 [==============================] - 1s 3ms/step - loss: 127887.7692 - r_2_score: 0.8743 - val_loss: 118253.1016 - val_r_2_score: 0.8879\n",
      "Epoch 246/1000\n",
      "186/186 [==============================] - 1s 3ms/step - loss: 124630.4946 - r_2_score: 0.8409 - val_loss: 117632.4297 - val_r_2_score: 0.8862\n",
      "Epoch 247/1000\n",
      "186/186 [==============================] - 1s 3ms/step - loss: 125269.9038 - r_2_score: 0.8623 - val_loss: 117383.1094 - val_r_2_score: 0.8879\n",
      "Epoch 248/1000\n",
      "186/186 [==============================] - 1s 3ms/step - loss: 128576.8361 - r_2_score: 0.8564 - val_loss: 117603.6641 - val_r_2_score: 0.8884\n",
      "Epoch 249/1000\n",
      "186/186 [==============================] - 1s 3ms/step - loss: 123432.7339 - r_2_score: 0.8375 - val_loss: 117143.1719 - val_r_2_score: 0.8878\n",
      "Epoch 250/1000\n",
      "186/186 [==============================] - 1s 3ms/step - loss: 128431.6535 - r_2_score: 0.8449 - val_loss: 117088.8750 - val_r_2_score: 0.8878\n",
      "Epoch 251/1000\n",
      "186/186 [==============================] - 1s 3ms/step - loss: 124190.3736 - r_2_score: 0.8466 - val_loss: 116787.1094 - val_r_2_score: 0.8889\n",
      "Epoch 252/1000\n",
      "186/186 [==============================] - 1s 3ms/step - loss: 127770.3687 - r_2_score: 0.8546 - val_loss: 117077.6641 - val_r_2_score: 0.8885\n",
      "Epoch 253/1000\n",
      "186/186 [==============================] - 1s 3ms/step - loss: 126934.0222 - r_2_score: 0.8575 - val_loss: 117207.5391 - val_r_2_score: 0.8892\n",
      "Epoch 254/1000\n",
      "186/186 [==============================] - 1s 3ms/step - loss: 124719.5381 - r_2_score: 0.8722 - val_loss: 116718.2188 - val_r_2_score: 0.8889\n",
      "Epoch 255/1000\n",
      "186/186 [==============================] - 1s 3ms/step - loss: 127846.5351 - r_2_score: 0.8517 - val_loss: 116719.3281 - val_r_2_score: 0.8891\n",
      "Epoch 256/1000\n",
      "186/186 [==============================] - 1s 3ms/step - loss: 127866.4226 - r_2_score: 0.8602 - val_loss: 116565.1406 - val_r_2_score: 0.8873\n",
      "Epoch 257/1000\n",
      "186/186 [==============================] - 1s 3ms/step - loss: 131059.7089 - r_2_score: 0.8355 - val_loss: 116588.4297 - val_r_2_score: 0.8889\n",
      "Epoch 258/1000\n",
      "186/186 [==============================] - 1s 3ms/step - loss: 128595.9631 - r_2_score: 0.8602 - val_loss: 116448.2344 - val_r_2_score: 0.8886\n",
      "Epoch 259/1000\n",
      "186/186 [==============================] - 1s 3ms/step - loss: 126022.1491 - r_2_score: 0.8508 - val_loss: 117039.4766 - val_r_2_score: 0.8899\n",
      "Epoch 260/1000\n",
      "186/186 [==============================] - 1s 3ms/step - loss: 128042.9481 - r_2_score: 0.8607 - val_loss: 116313.2656 - val_r_2_score: 0.8912\n",
      "Epoch 261/1000\n",
      "186/186 [==============================] - 1s 3ms/step - loss: 122214.9822 - r_2_score: 0.8662 - val_loss: 116924.1328 - val_r_2_score: 0.8913\n",
      "Epoch 262/1000\n",
      "186/186 [==============================] - 1s 3ms/step - loss: 132350.8981 - r_2_score: 0.8629 - val_loss: 116719.3359 - val_r_2_score: 0.8913\n",
      "Epoch 263/1000\n",
      "186/186 [==============================] - 1s 3ms/step - loss: 127343.6410 - r_2_score: 0.8725 - val_loss: 116522.4844 - val_r_2_score: 0.8913\n",
      "Epoch 264/1000\n",
      "186/186 [==============================] - 1s 3ms/step - loss: 121193.5113 - r_2_score: 0.8618 - val_loss: 116352.1016 - val_r_2_score: 0.8872\n",
      "Epoch 265/1000\n",
      "186/186 [==============================] - 1s 3ms/step - loss: 129074.7759 - r_2_score: 0.8766 - val_loss: 115730.9375 - val_r_2_score: 0.8905\n",
      "Epoch 266/1000\n",
      "186/186 [==============================] - 1s 3ms/step - loss: 127563.0381 - r_2_score: 0.8621 - val_loss: 116092.3047 - val_r_2_score: 0.8915\n",
      "Epoch 267/1000\n",
      "186/186 [==============================] - 1s 3ms/step - loss: 123467.7183 - r_2_score: 0.8635 - val_loss: 115714.9219 - val_r_2_score: 0.8901\n",
      "Epoch 268/1000\n",
      "186/186 [==============================] - 1s 3ms/step - loss: 129118.5501 - r_2_score: 0.8617 - val_loss: 116204.5234 - val_r_2_score: 0.8916\n",
      "Epoch 269/1000\n",
      "186/186 [==============================] - 1s 3ms/step - loss: 127192.7439 - r_2_score: 0.8762 - val_loss: 116075.0078 - val_r_2_score: 0.8905\n",
      "Epoch 270/1000\n",
      "186/186 [==============================] - 1s 3ms/step - loss: 128687.5707 - r_2_score: 0.8505 - val_loss: 119767.5391 - val_r_2_score: 0.8906\n",
      "Epoch 271/1000\n",
      "186/186 [==============================] - 1s 3ms/step - loss: 132107.3763 - r_2_score: 0.8547 - val_loss: 117106.0156 - val_r_2_score: 0.8926\n",
      "Epoch 272/1000\n",
      "186/186 [==============================] - 1s 3ms/step - loss: 126077.6527 - r_2_score: 0.8700 - val_loss: 116613.8047 - val_r_2_score: 0.8928\n",
      "Epoch 273/1000\n",
      "186/186 [==============================] - 1s 3ms/step - loss: 123729.6199 - r_2_score: 0.8741 - val_loss: 116861.4766 - val_r_2_score: 0.8926\n",
      "Epoch 274/1000\n",
      "186/186 [==============================] - 1s 3ms/step - loss: 129846.6933 - r_2_score: 0.8650 - val_loss: 115622.5703 - val_r_2_score: 0.8925\n",
      "Epoch 275/1000\n",
      "186/186 [==============================] - 1s 3ms/step - loss: 123967.6324 - r_2_score: 0.8312 - val_loss: 115894.7188 - val_r_2_score: 0.8938\n",
      "Epoch 276/1000\n",
      "186/186 [==============================] - 1s 3ms/step - loss: 128909.5602 - r_2_score: 0.8544 - val_loss: 115447.1094 - val_r_2_score: 0.8927\n",
      "Epoch 277/1000\n",
      "186/186 [==============================] - 1s 3ms/step - loss: 128661.7679 - r_2_score: 0.8533 - val_loss: 115053.7344 - val_r_2_score: 0.8915\n",
      "Epoch 278/1000\n",
      "186/186 [==============================] - 1s 3ms/step - loss: 125787.1321 - r_2_score: 0.8422 - val_loss: 115257.2656 - val_r_2_score: 0.8922\n",
      "Epoch 279/1000\n",
      "186/186 [==============================] - 1s 3ms/step - loss: 123831.9539 - r_2_score: 0.8739 - val_loss: 116435.5312 - val_r_2_score: 0.8938\n",
      "Epoch 280/1000\n",
      "186/186 [==============================] - 1s 3ms/step - loss: 124824.1919 - r_2_score: 0.8632 - val_loss: 116452.0156 - val_r_2_score: 0.8940\n",
      "Epoch 281/1000\n",
      "186/186 [==============================] - 1s 3ms/step - loss: 128717.3617 - r_2_score: 0.8435 - val_loss: 116319.4766 - val_r_2_score: 0.8940\n",
      "Epoch 282/1000\n",
      "186/186 [==============================] - 1s 3ms/step - loss: 129351.3808 - r_2_score: 0.8624 - val_loss: 116498.5469 - val_r_2_score: 0.8950\n",
      "Epoch 283/1000\n",
      "186/186 [==============================] - 1s 3ms/step - loss: 129795.6756 - r_2_score: 0.8651 - val_loss: 115723.4219 - val_r_2_score: 0.8943\n",
      "Epoch 284/1000\n",
      "186/186 [==============================] - 1s 3ms/step - loss: 125689.9794 - r_2_score: 0.8614 - val_loss: 115401.7266 - val_r_2_score: 0.8933\n",
      "Epoch 285/1000\n",
      "186/186 [==============================] - 1s 3ms/step - loss: 130117.4504 - r_2_score: 0.8590 - val_loss: 114779.1719 - val_r_2_score: 0.8937\n",
      "Epoch 286/1000\n",
      "186/186 [==============================] - 1s 3ms/step - loss: 122605.7393 - r_2_score: 0.8481 - val_loss: 115001.9453 - val_r_2_score: 0.8940\n",
      "Epoch 287/1000\n",
      "186/186 [==============================] - 1s 3ms/step - loss: 126162.3227 - r_2_score: 0.8532 - val_loss: 115884.7812 - val_r_2_score: 0.8936\n",
      "Epoch 288/1000\n",
      "186/186 [==============================] - 1s 3ms/step - loss: 124850.1876 - r_2_score: 0.8735 - val_loss: 114844.3438 - val_r_2_score: 0.8932\n",
      "Epoch 289/1000\n",
      "186/186 [==============================] - 1s 3ms/step - loss: 121989.6745 - r_2_score: 0.8681 - val_loss: 114853.7969 - val_r_2_score: 0.8947\n",
      "Epoch 290/1000\n",
      "186/186 [==============================] - 1s 3ms/step - loss: 126629.2294 - r_2_score: 0.8696 - val_loss: 114876.9062 - val_r_2_score: 0.8950\n",
      "Epoch 291/1000\n",
      "186/186 [==============================] - 1s 3ms/step - loss: 125252.0127 - r_2_score: 0.8790 - val_loss: 115762.6016 - val_r_2_score: 0.8946\n",
      "Epoch 292/1000\n",
      "186/186 [==============================] - 1s 3ms/step - loss: 127904.5645 - r_2_score: 0.8636 - val_loss: 114455.4531 - val_r_2_score: 0.8941\n",
      "Epoch 293/1000\n",
      "186/186 [==============================] - 1s 3ms/step - loss: 124252.2257 - r_2_score: 0.8517 - val_loss: 114679.0312 - val_r_2_score: 0.8954\n",
      "Epoch 294/1000\n",
      "186/186 [==============================] - 1s 3ms/step - loss: 122500.2017 - r_2_score: 0.8779 - val_loss: 115003.6250 - val_r_2_score: 0.8953\n",
      "Epoch 295/1000\n",
      "186/186 [==============================] - 1s 3ms/step - loss: 122616.4509 - r_2_score: 0.8502 - val_loss: 114232.5781 - val_r_2_score: 0.8920\n",
      "Epoch 296/1000\n",
      "186/186 [==============================] - 1s 3ms/step - loss: 123983.9276 - r_2_score: 0.8489 - val_loss: 114073.3828 - val_r_2_score: 0.8945\n",
      "Epoch 297/1000\n",
      "186/186 [==============================] - 1s 3ms/step - loss: 129076.6085 - r_2_score: 0.8521 - val_loss: 114268.0000 - val_r_2_score: 0.8958\n",
      "Epoch 298/1000\n",
      "186/186 [==============================] - 1s 3ms/step - loss: 134915.6946 - r_2_score: 0.8587 - val_loss: 114353.2344 - val_r_2_score: 0.8959\n",
      "Epoch 299/1000\n",
      "186/186 [==============================] - 1s 3ms/step - loss: 124234.9190 - r_2_score: 0.8750 - val_loss: 117114.8047 - val_r_2_score: 0.8960\n",
      "Epoch 300/1000\n",
      "186/186 [==============================] - 1s 3ms/step - loss: 127995.4962 - r_2_score: 0.8447 - val_loss: 114379.9297 - val_r_2_score: 0.8961\n",
      "Epoch 301/1000\n",
      "186/186 [==============================] - 1s 3ms/step - loss: 126378.9913 - r_2_score: 0.8663 - val_loss: 115232.7812 - val_r_2_score: 0.8969\n",
      "Epoch 302/1000\n",
      "186/186 [==============================] - 1s 3ms/step - loss: 121898.2323 - r_2_score: 0.8601 - val_loss: 115016.7578 - val_r_2_score: 0.8972\n",
      "Epoch 303/1000\n",
      "186/186 [==============================] - 1s 3ms/step - loss: 129079.7487 - r_2_score: 0.8721 - val_loss: 114375.9062 - val_r_2_score: 0.8968\n",
      "Epoch 304/1000\n",
      "186/186 [==============================] - 1s 3ms/step - loss: 121413.3371 - r_2_score: 0.8756 - val_loss: 114607.7969 - val_r_2_score: 0.8959\n",
      "Epoch 305/1000\n",
      "186/186 [==============================] - 1s 3ms/step - loss: 123432.9546 - r_2_score: 0.8724 - val_loss: 113963.9766 - val_r_2_score: 0.8954\n",
      "Epoch 306/1000\n",
      "186/186 [==============================] - 1s 3ms/step - loss: 122980.4484 - r_2_score: 0.8638 - val_loss: 116363.9062 - val_r_2_score: 0.8955\n",
      "Epoch 307/1000\n",
      "186/186 [==============================] - 1s 3ms/step - loss: 123556.7167 - r_2_score: 0.8675 - val_loss: 113810.8125 - val_r_2_score: 0.8933\n",
      "Epoch 308/1000\n",
      "186/186 [==============================] - 1s 3ms/step - loss: 127549.3962 - r_2_score: 0.8478 - val_loss: 114040.6484 - val_r_2_score: 0.8967\n",
      "Epoch 309/1000\n",
      "186/186 [==============================] - 1s 3ms/step - loss: 125812.6481 - r_2_score: 0.8759 - val_loss: 113568.3047 - val_r_2_score: 0.8936\n",
      "Epoch 310/1000\n",
      "186/186 [==============================] - 1s 3ms/step - loss: 131662.8701 - r_2_score: 0.8578 - val_loss: 113962.8438 - val_r_2_score: 0.8963\n",
      "Epoch 311/1000\n",
      "186/186 [==============================] - 1s 3ms/step - loss: 123797.9587 - r_2_score: 0.8669 - val_loss: 113294.6328 - val_r_2_score: 0.8958\n",
      "Epoch 312/1000\n",
      "186/186 [==============================] - 1s 3ms/step - loss: 126811.0882 - r_2_score: 0.8658 - val_loss: 113886.5000 - val_r_2_score: 0.8971\n",
      "Epoch 313/1000\n",
      "186/186 [==============================] - 1s 3ms/step - loss: 120632.7372 - r_2_score: 0.8863 - val_loss: 113567.4531 - val_r_2_score: 0.8969\n",
      "Epoch 314/1000\n",
      "186/186 [==============================] - 1s 3ms/step - loss: 125385.4900 - r_2_score: 0.8589 - val_loss: 113200.6328 - val_r_2_score: 0.8958\n",
      "Epoch 315/1000\n",
      "186/186 [==============================] - 1s 3ms/step - loss: 125047.1999 - r_2_score: 0.8751 - val_loss: 114344.0703 - val_r_2_score: 0.8977\n",
      "Epoch 316/1000\n",
      "186/186 [==============================] - 1s 3ms/step - loss: 122606.8547 - r_2_score: 0.8655 - val_loss: 113704.5625 - val_r_2_score: 0.8957\n",
      "Epoch 317/1000\n",
      "186/186 [==============================] - 1s 3ms/step - loss: 124057.5777 - r_2_score: 0.8660 - val_loss: 113064.6406 - val_r_2_score: 0.8974\n",
      "Epoch 318/1000\n",
      "186/186 [==============================] - 1s 3ms/step - loss: 119270.3938 - r_2_score: 0.8741 - val_loss: 113246.2422 - val_r_2_score: 0.8933\n",
      "Epoch 319/1000\n",
      "186/186 [==============================] - 1s 3ms/step - loss: 127348.4545 - r_2_score: 0.8182 - val_loss: 112759.1953 - val_r_2_score: 0.8956\n",
      "Epoch 320/1000\n",
      "186/186 [==============================] - 1s 3ms/step - loss: 121509.4977 - r_2_score: 0.8598 - val_loss: 112969.4922 - val_r_2_score: 0.8969\n",
      "Epoch 321/1000\n",
      "186/186 [==============================] - 1s 3ms/step - loss: 121134.8081 - r_2_score: 0.8866 - val_loss: 112769.9609 - val_r_2_score: 0.8967\n",
      "Epoch 322/1000\n",
      "186/186 [==============================] - 1s 3ms/step - loss: 121698.7887 - r_2_score: 0.8711 - val_loss: 113797.1953 - val_r_2_score: 0.8984\n",
      "Epoch 323/1000\n",
      "186/186 [==============================] - 1s 3ms/step - loss: 123951.5592 - r_2_score: 0.8737 - val_loss: 114420.2734 - val_r_2_score: 0.8987\n",
      "Epoch 324/1000\n",
      "186/186 [==============================] - 1s 3ms/step - loss: 123448.3757 - r_2_score: 0.8513 - val_loss: 113248.2891 - val_r_2_score: 0.8962\n",
      "Epoch 325/1000\n",
      "186/186 [==============================] - 1s 3ms/step - loss: 122641.7462 - r_2_score: 0.8734 - val_loss: 113432.5156 - val_r_2_score: 0.8982\n",
      "Epoch 326/1000\n",
      "186/186 [==============================] - 1s 3ms/step - loss: 122105.6326 - r_2_score: 0.8526 - val_loss: 112622.9219 - val_r_2_score: 0.8970\n",
      "Epoch 327/1000\n",
      "186/186 [==============================] - 1s 3ms/step - loss: 126382.4745 - r_2_score: 0.8557 - val_loss: 112504.2109 - val_r_2_score: 0.8982\n",
      "Epoch 328/1000\n",
      "186/186 [==============================] - 1s 3ms/step - loss: 118989.0636 - r_2_score: 0.8603 - val_loss: 112621.4609 - val_r_2_score: 0.8975\n",
      "Epoch 329/1000\n",
      "186/186 [==============================] - 1s 3ms/step - loss: 127419.0239 - r_2_score: 0.8572 - val_loss: 112476.4844 - val_r_2_score: 0.8981\n",
      "Epoch 330/1000\n",
      "186/186 [==============================] - 1s 3ms/step - loss: 119917.7886 - r_2_score: 0.8559 - val_loss: 112538.1250 - val_r_2_score: 0.8972\n",
      "Epoch 331/1000\n",
      "186/186 [==============================] - 1s 3ms/step - loss: 127803.6439 - r_2_score: 0.8826 - val_loss: 112924.0703 - val_r_2_score: 0.8981\n",
      "Epoch 332/1000\n",
      "186/186 [==============================] - 1s 3ms/step - loss: 127226.6200 - r_2_score: 0.8660 - val_loss: 113548.0234 - val_r_2_score: 0.8992\n",
      "Epoch 333/1000\n",
      "186/186 [==============================] - 1s 3ms/step - loss: 133255.6034 - r_2_score: 0.8666 - val_loss: 112426.1797 - val_r_2_score: 0.8984\n",
      "Epoch 334/1000\n",
      "186/186 [==============================] - 1s 3ms/step - loss: 119545.7501 - r_2_score: 0.8802 - val_loss: 112741.4062 - val_r_2_score: 0.8991\n",
      "Epoch 335/1000\n",
      "186/186 [==============================] - 1s 3ms/step - loss: 117626.9152 - r_2_score: 0.8667 - val_loss: 113317.2656 - val_r_2_score: 0.8998\n",
      "Epoch 336/1000\n",
      "186/186 [==============================] - 1s 3ms/step - loss: 124517.8115 - r_2_score: 0.8620 - val_loss: 113273.4297 - val_r_2_score: 0.8996\n",
      "Epoch 337/1000\n",
      "186/186 [==============================] - 1s 3ms/step - loss: 124426.3698 - r_2_score: 0.8533 - val_loss: 112365.0938 - val_r_2_score: 0.8963\n",
      "Epoch 338/1000\n",
      "186/186 [==============================] - 1s 3ms/step - loss: 123665.4488 - r_2_score: 0.8353 - val_loss: 112260.3125 - val_r_2_score: 0.8996\n",
      "Epoch 339/1000\n",
      "186/186 [==============================] - 1s 4ms/step - loss: 124830.7066 - r_2_score: 0.8718 - val_loss: 112151.8750 - val_r_2_score: 0.8994\n",
      "Epoch 340/1000\n",
      "186/186 [==============================] - 1s 3ms/step - loss: 124865.4080 - r_2_score: 0.8522 - val_loss: 112385.0625 - val_r_2_score: 0.8994\n",
      "Epoch 341/1000\n",
      "186/186 [==============================] - 1s 3ms/step - loss: 123704.2754 - r_2_score: 0.8643 - val_loss: 112148.3047 - val_r_2_score: 0.8991\n",
      "Epoch 342/1000\n",
      "186/186 [==============================] - 1s 3ms/step - loss: 125879.6491 - r_2_score: 0.8510 - val_loss: 112811.2344 - val_r_2_score: 0.9016\n",
      "Epoch 343/1000\n",
      "186/186 [==============================] - 1s 3ms/step - loss: 127604.6731 - r_2_score: 0.8639 - val_loss: 112219.2344 - val_r_2_score: 0.8994\n",
      "Epoch 344/1000\n",
      "186/186 [==============================] - 1s 3ms/step - loss: 123903.4682 - r_2_score: 0.8504 - val_loss: 112528.4453 - val_r_2_score: 0.8993\n",
      "Epoch 345/1000\n",
      "186/186 [==============================] - 1s 3ms/step - loss: 125357.9720 - r_2_score: 0.8673 - val_loss: 111900.4531 - val_r_2_score: 0.8980\n",
      "Epoch 346/1000\n",
      "186/186 [==============================] - 1s 3ms/step - loss: 127764.8318 - r_2_score: 0.8656 - val_loss: 112234.1484 - val_r_2_score: 0.8982\n",
      "Epoch 347/1000\n",
      "186/186 [==============================] - 1s 3ms/step - loss: 121725.5408 - r_2_score: 0.8674 - val_loss: 112032.0234 - val_r_2_score: 0.8959\n",
      "Epoch 348/1000\n",
      "186/186 [==============================] - 1s 3ms/step - loss: 125756.2736 - r_2_score: 0.8588 - val_loss: 112100.3359 - val_r_2_score: 0.9003\n",
      "Epoch 349/1000\n",
      "186/186 [==============================] - 1s 3ms/step - loss: 126457.2823 - r_2_score: 0.8404 - val_loss: 111770.9375 - val_r_2_score: 0.8965\n",
      "Epoch 350/1000\n",
      "186/186 [==============================] - 1s 3ms/step - loss: 126682.1764 - r_2_score: 0.8823 - val_loss: 111804.6328 - val_r_2_score: 0.8997\n",
      "Epoch 351/1000\n",
      "186/186 [==============================] - 1s 3ms/step - loss: 123882.4681 - r_2_score: 0.8553 - val_loss: 111577.5469 - val_r_2_score: 0.8987\n",
      "Epoch 352/1000\n",
      "186/186 [==============================] - 1s 3ms/step - loss: 123963.7281 - r_2_score: 0.8806 - val_loss: 112097.7578 - val_r_2_score: 0.8999\n",
      "Epoch 353/1000\n",
      "186/186 [==============================] - 1s 3ms/step - loss: 120090.9238 - r_2_score: 0.8646 - val_loss: 111962.0938 - val_r_2_score: 0.8996\n",
      "Epoch 354/1000\n",
      "186/186 [==============================] - 1s 3ms/step - loss: 128780.0311 - r_2_score: 0.8383 - val_loss: 111658.0000 - val_r_2_score: 0.8994\n",
      "Epoch 355/1000\n",
      "186/186 [==============================] - 1s 3ms/step - loss: 123446.1601 - r_2_score: 0.8739 - val_loss: 111149.3906 - val_r_2_score: 0.8970\n",
      "Epoch 356/1000\n",
      "186/186 [==============================] - 1s 3ms/step - loss: 119073.6488 - r_2_score: 0.8576 - val_loss: 112353.3594 - val_r_2_score: 0.8998\n",
      "Epoch 357/1000\n",
      "186/186 [==============================] - 1s 3ms/step - loss: 124349.9011 - r_2_score: 0.8700 - val_loss: 112893.1406 - val_r_2_score: 0.9001\n",
      "Epoch 358/1000\n",
      "186/186 [==============================] - 1s 3ms/step - loss: 124390.6668 - r_2_score: 0.8556 - val_loss: 111337.1562 - val_r_2_score: 0.8984\n",
      "Epoch 359/1000\n",
      "186/186 [==============================] - 1s 3ms/step - loss: 123000.5653 - r_2_score: 0.8652 - val_loss: 113093.3281 - val_r_2_score: 0.8993\n",
      "Epoch 360/1000\n",
      "186/186 [==============================] - 1s 3ms/step - loss: 122133.7517 - r_2_score: 0.8760 - val_loss: 110905.4609 - val_r_2_score: 0.8979\n",
      "Epoch 361/1000\n",
      "186/186 [==============================] - 1s 3ms/step - loss: 125638.2231 - r_2_score: 0.8418 - val_loss: 111047.4297 - val_r_2_score: 0.8977\n",
      "Epoch 362/1000\n",
      "186/186 [==============================] - 1s 3ms/step - loss: 124170.4235 - r_2_score: 0.8584 - val_loss: 111179.3203 - val_r_2_score: 0.8987\n",
      "Epoch 363/1000\n",
      "186/186 [==============================] - 1s 3ms/step - loss: 123325.1060 - r_2_score: 0.8496 - val_loss: 110837.6250 - val_r_2_score: 0.8977\n",
      "Epoch 364/1000\n",
      "186/186 [==============================] - 1s 3ms/step - loss: 122746.3986 - r_2_score: 0.8738 - val_loss: 111462.8359 - val_r_2_score: 0.8994\n",
      "Epoch 365/1000\n",
      "186/186 [==============================] - 1s 3ms/step - loss: 120941.3986 - r_2_score: 0.8657 - val_loss: 112180.3438 - val_r_2_score: 0.9003\n",
      "Epoch 366/1000\n",
      "186/186 [==============================] - 1s 3ms/step - loss: 121327.2035 - r_2_score: 0.8811 - val_loss: 110844.2656 - val_r_2_score: 0.8997\n",
      "Epoch 367/1000\n",
      "186/186 [==============================] - 1s 3ms/step - loss: 126523.8033 - r_2_score: 0.8468 - val_loss: 112029.0078 - val_r_2_score: 0.9003\n",
      "Epoch 368/1000\n",
      "186/186 [==============================] - 1s 3ms/step - loss: 121255.0711 - r_2_score: 0.8649 - val_loss: 110497.5547 - val_r_2_score: 0.8972\n",
      "Epoch 369/1000\n",
      "186/186 [==============================] - 1s 3ms/step - loss: 124302.4917 - r_2_score: 0.8802 - val_loss: 110717.2812 - val_r_2_score: 0.8987\n",
      "Epoch 370/1000\n",
      "186/186 [==============================] - 1s 3ms/step - loss: 120801.7506 - r_2_score: 0.8693 - val_loss: 110704.1562 - val_r_2_score: 0.8985\n",
      "Epoch 371/1000\n",
      "186/186 [==============================] - 1s 3ms/step - loss: 122157.8504 - r_2_score: 0.8752 - val_loss: 110725.1562 - val_r_2_score: 0.8987\n",
      "Epoch 372/1000\n",
      "186/186 [==============================] - 1s 3ms/step - loss: 128810.7139 - r_2_score: 0.8610 - val_loss: 111429.8359 - val_r_2_score: 0.9005\n",
      "Epoch 373/1000\n",
      "186/186 [==============================] - 1s 3ms/step - loss: 119881.7714 - r_2_score: 0.8629 - val_loss: 111359.3828 - val_r_2_score: 0.9006\n",
      "Epoch 374/1000\n",
      "186/186 [==============================] - 1s 3ms/step - loss: 121215.3943 - r_2_score: 0.8928 - val_loss: 110693.8125 - val_r_2_score: 0.8984\n",
      "Epoch 375/1000\n",
      "186/186 [==============================] - 1s 3ms/step - loss: 123881.3783 - r_2_score: 0.8465 - val_loss: 112083.6016 - val_r_2_score: 0.9008\n",
      "Epoch 376/1000\n",
      "186/186 [==============================] - 1s 3ms/step - loss: 122898.2894 - r_2_score: 0.8217 - val_loss: 110296.1797 - val_r_2_score: 0.8978\n",
      "Epoch 377/1000\n",
      "186/186 [==============================] - 1s 3ms/step - loss: 126313.0523 - r_2_score: 0.8541 - val_loss: 110740.5547 - val_r_2_score: 0.9006\n",
      "Epoch 378/1000\n",
      "186/186 [==============================] - 1s 3ms/step - loss: 120970.2570 - r_2_score: 0.8594 - val_loss: 111387.2969 - val_r_2_score: 0.9012\n",
      "Epoch 379/1000\n",
      "186/186 [==============================] - 1s 3ms/step - loss: 128037.8595 - r_2_score: 0.8507 - val_loss: 110748.1406 - val_r_2_score: 0.9000\n",
      "Epoch 380/1000\n",
      "186/186 [==============================] - 1s 3ms/step - loss: 118218.0942 - r_2_score: 0.8769 - val_loss: 110675.0938 - val_r_2_score: 0.9006\n",
      "Epoch 381/1000\n",
      "186/186 [==============================] - 1s 3ms/step - loss: 122428.4384 - r_2_score: 0.8741 - val_loss: 110989.4141 - val_r_2_score: 0.9014\n",
      "Epoch 382/1000\n",
      "186/186 [==============================] - 1s 3ms/step - loss: 122454.0475 - r_2_score: 0.8649 - val_loss: 110124.8516 - val_r_2_score: 0.8976\n",
      "Epoch 383/1000\n",
      "186/186 [==============================] - 1s 3ms/step - loss: 122320.9998 - r_2_score: 0.8643 - val_loss: 109982.1094 - val_r_2_score: 0.8995\n",
      "Epoch 384/1000\n",
      "186/186 [==============================] - 1s 3ms/step - loss: 121424.0078 - r_2_score: 0.8682 - val_loss: 111719.0547 - val_r_2_score: 0.9009\n",
      "Epoch 385/1000\n",
      "186/186 [==============================] - 1s 3ms/step - loss: 119797.0989 - r_2_score: 0.8826 - val_loss: 111200.2812 - val_r_2_score: 0.9006\n",
      "Epoch 386/1000\n",
      "186/186 [==============================] - 1s 3ms/step - loss: 124053.1886 - r_2_score: 0.8765 - val_loss: 112865.6328 - val_r_2_score: 0.9002\n",
      "Epoch 387/1000\n",
      "186/186 [==============================] - 1s 3ms/step - loss: 120403.2572 - r_2_score: 0.8739 - val_loss: 110308.1250 - val_r_2_score: 0.8987\n",
      "Epoch 388/1000\n",
      "186/186 [==============================] - 1s 3ms/step - loss: 126494.0609 - r_2_score: 0.8664 - val_loss: 110038.0391 - val_r_2_score: 0.8977\n",
      "Epoch 389/1000\n",
      "186/186 [==============================] - 1s 3ms/step - loss: 121021.2861 - r_2_score: 0.8742 - val_loss: 109818.2422 - val_r_2_score: 0.8965\n",
      "Epoch 390/1000\n",
      "186/186 [==============================] - 1s 3ms/step - loss: 121581.7726 - r_2_score: 0.8604 - val_loss: 110070.2891 - val_r_2_score: 0.8993\n",
      "Epoch 391/1000\n",
      "186/186 [==============================] - 1s 3ms/step - loss: 123769.6446 - r_2_score: 0.8674 - val_loss: 109851.0391 - val_r_2_score: 0.8964\n",
      "Epoch 392/1000\n",
      "186/186 [==============================] - 1s 3ms/step - loss: 121938.4071 - r_2_score: 0.8757 - val_loss: 111876.7188 - val_r_2_score: 0.9018\n",
      "Epoch 393/1000\n",
      "186/186 [==============================] - 1s 3ms/step - loss: 125629.3347 - r_2_score: 0.8716 - val_loss: 109761.1094 - val_r_2_score: 0.8993\n",
      "Epoch 394/1000\n",
      "186/186 [==============================] - 1s 3ms/step - loss: 118662.9816 - r_2_score: 0.8864 - val_loss: 111024.0625 - val_r_2_score: 0.9003\n",
      "Epoch 395/1000\n",
      "186/186 [==============================] - 1s 3ms/step - loss: 120790.8523 - r_2_score: 0.8643 - val_loss: 109890.3203 - val_r_2_score: 0.8994\n",
      "Epoch 396/1000\n",
      "186/186 [==============================] - 1s 3ms/step - loss: 120239.7533 - r_2_score: 0.8758 - val_loss: 110767.2188 - val_r_2_score: 0.9007\n",
      "Epoch 397/1000\n",
      "186/186 [==============================] - 1s 3ms/step - loss: 122179.3794 - r_2_score: 0.8720 - val_loss: 109162.0391 - val_r_2_score: 0.8972\n",
      "Epoch 398/1000\n",
      "186/186 [==============================] - 1s 3ms/step - loss: 116578.8565 - r_2_score: 0.8741 - val_loss: 109989.8828 - val_r_2_score: 0.9002\n",
      "Epoch 399/1000\n",
      "186/186 [==============================] - 1s 3ms/step - loss: 121169.7785 - r_2_score: 0.8706 - val_loss: 109441.6562 - val_r_2_score: 0.9007\n",
      "Epoch 400/1000\n",
      "186/186 [==============================] - 1s 3ms/step - loss: 121577.6967 - r_2_score: 0.8568 - val_loss: 110337.5859 - val_r_2_score: 0.9011\n",
      "Epoch 401/1000\n",
      "186/186 [==============================] - 1s 3ms/step - loss: 121677.5972 - r_2_score: 0.8779 - val_loss: 110021.7422 - val_r_2_score: 0.9004\n",
      "Epoch 402/1000\n",
      "186/186 [==============================] - 1s 3ms/step - loss: 119830.2820 - r_2_score: 0.8582 - val_loss: 108982.4688 - val_r_2_score: 0.8974\n",
      "Epoch 403/1000\n",
      "186/186 [==============================] - 1s 3ms/step - loss: 121995.9723 - r_2_score: 0.8606 - val_loss: 108915.7578 - val_r_2_score: 0.8981\n",
      "Epoch 404/1000\n",
      "186/186 [==============================] - 1s 3ms/step - loss: 120863.8598 - r_2_score: 0.8773 - val_loss: 109892.8672 - val_r_2_score: 0.9001\n",
      "Epoch 405/1000\n",
      "186/186 [==============================] - 1s 3ms/step - loss: 122553.9309 - r_2_score: 0.8737 - val_loss: 111055.5156 - val_r_2_score: 0.9012\n",
      "Epoch 406/1000\n",
      "186/186 [==============================] - 1s 3ms/step - loss: 119888.6838 - r_2_score: 0.8707 - val_loss: 109020.0469 - val_r_2_score: 0.8993\n",
      "Epoch 407/1000\n",
      "186/186 [==============================] - 1s 3ms/step - loss: 123107.9537 - r_2_score: 0.8453 - val_loss: 111726.0156 - val_r_2_score: 0.9012\n",
      "Epoch 408/1000\n",
      "186/186 [==============================] - 1s 3ms/step - loss: 121148.1529 - r_2_score: 0.8812 - val_loss: 109265.7812 - val_r_2_score: 0.8989\n",
      "Epoch 409/1000\n",
      "186/186 [==============================] - 1s 3ms/step - loss: 117002.4352 - r_2_score: 0.8640 - val_loss: 109469.6484 - val_r_2_score: 0.8999\n",
      "Epoch 410/1000\n",
      "186/186 [==============================] - 1s 3ms/step - loss: 119366.6802 - r_2_score: 0.8726 - val_loss: 109341.7500 - val_r_2_score: 0.9002\n",
      "Epoch 411/1000\n",
      "186/186 [==============================] - 1s 3ms/step - loss: 119076.7979 - r_2_score: 0.8749 - val_loss: 109270.1328 - val_r_2_score: 0.8989\n",
      "Epoch 412/1000\n",
      "186/186 [==============================] - 1s 3ms/step - loss: 123243.9596 - r_2_score: 0.8770 - val_loss: 109064.6406 - val_r_2_score: 0.8994\n",
      "Epoch 413/1000\n",
      "186/186 [==============================] - 1s 3ms/step - loss: 128456.8379 - r_2_score: 0.8690 - val_loss: 109004.1641 - val_r_2_score: 0.8994\n"
     ]
    }
   ],
   "source": [
    "callback = tf.keras.callbacks.EarlyStopping(monitor='val_loss', patience=10, restore_best_weights=True, mode='min')\n",
    "history = model.fit(scaledXtrain, y_train,\n",
    "            validation_data=(scaledXtest, y_test), \n",
    "            epochs=1000,\n",
    "            batch_size = 32,\n",
    "            verbose=1,\n",
    "            callbacks= callback\n",
    "         )"
   ]
  },
  {
   "cell_type": "markdown",
   "metadata": {
    "id": "TOtFTNn4LEE4"
   },
   "source": [
    "**Observation:** val_r_2_score is -1.0157 in first epoch. It is increased drastically to 0.8994 in last epoch. Training stopped at 413 epoch since the loss is not decreasing consecutively 10 times."
   ]
  },
  {
   "cell_type": "markdown",
   "metadata": {
    "id": "AW4SEP8kT2ls"
   },
   "source": [
    "## Question 6"
   ]
  },
  {
   "cell_type": "markdown",
   "metadata": {
    "id": "EJDoix_7JU61"
   },
   "source": [
    "### Evaluate the model\n",
    "- Evaluate the model on test data\n",
    "- Visualize the model's learning"
   ]
  },
  {
   "cell_type": "code",
   "execution_count": 33,
   "metadata": {
    "colab": {
     "base_uri": "https://localhost:8080/"
    },
    "executionInfo": {
     "elapsed": 852,
     "status": "ok",
     "timestamp": 1620537729205,
     "user": {
      "displayName": "Mohamed Yusuf",
      "photoUrl": "",
      "userId": "10392786702670607191"
     },
     "user_tz": -330
    },
    "id": "HdH8pYBIjHGL",
    "outputId": "8fab5f17-7515-4dd3-f58c-d7c39f4cc8a9"
   },
   "outputs": [
    {
     "name": "stdout",
     "output_type": "stream",
     "text": [
      "62/62 [==============================] - 0s 1ms/step - loss: 108915.7578 - r_2_score: 0.8981\n"
     ]
    },
    {
     "data": {
      "text/plain": [
       "[108915.7578125, 0.8981474041938782]"
      ]
     },
     "execution_count": 33,
     "metadata": {
      "tags": []
     },
     "output_type": "execute_result"
    }
   ],
   "source": [
    "model.evaluate(scaledXtest, y_test, batch_size=32)"
   ]
  },
  {
   "cell_type": "markdown",
   "metadata": {
    "id": "E4-3G8h0KPS_"
   },
   "source": [
    "- Hint: The R2 score will get affected by batch size. \n",
    "\n",
    "**Batch Size**: Number of samples considered in one iteration"
   ]
  },
  {
   "cell_type": "markdown",
   "metadata": {
    "id": "MHmWkGM9E61i"
   },
   "source": [
    "### Check the R2 score on complete test data"
   ]
  },
  {
   "cell_type": "code",
   "execution_count": 34,
   "metadata": {
    "colab": {
     "base_uri": "https://localhost:8080/"
    },
    "executionInfo": {
     "elapsed": 894,
     "status": "ok",
     "timestamp": 1620537737949,
     "user": {
      "displayName": "Mohamed Yusuf",
      "photoUrl": "",
      "userId": "10392786702670607191"
     },
     "user_tz": -330
    },
    "id": "5Ts_powwDqdK",
    "outputId": "3d02246e-1b14-422e-d611-4bd11893a2b5"
   },
   "outputs": [
    {
     "name": "stdout",
     "output_type": "stream",
     "text": [
      "0.945390530840729\n"
     ]
    }
   ],
   "source": [
    "y_pred = model.predict(scaledXtest)\n",
    "print(r2_score(y_test,y_pred))"
   ]
  },
  {
   "cell_type": "markdown",
   "metadata": {
    "id": "hUpDD74Xjh01"
   },
   "source": [
    "### Visualize model learning\n",
    "- Visualize model learning using train and test r2 score\n",
    "- Visualize model learning using train and test loss"
   ]
  },
  {
   "cell_type": "code",
   "execution_count": 35,
   "metadata": {
    "colab": {
     "base_uri": "https://localhost:8080/",
     "height": 573
    },
    "executionInfo": {
     "elapsed": 1137,
     "status": "ok",
     "timestamp": 1620537745674,
     "user": {
      "displayName": "Mohamed Yusuf",
      "photoUrl": "",
      "userId": "10392786702670607191"
     },
     "user_tz": -330
    },
    "id": "WSiMhJPpk3GO",
    "outputId": "d4593f91-076e-441f-bfa5-6c83cf835eb7"
   },
   "outputs": [
    {
     "data": {
      "image/png": "[encoded data removed]",
      "text/plain": [
       "<Figure size 432x288 with 1 Axes>"
      ]
     },
     "metadata": {
      "needs_background": "light",
      "tags": []
     },
     "output_type": "display_data"
    },
    {
     "data": {
      "image/png": "[encoded data removed]",
      "text/plain": [
       "<Figure size 432x288 with 1 Axes>"
      ]
     },
     "metadata": {
      "needs_background": "light",
      "tags": []
     },
     "output_type": "display_data"
    }
   ],
   "source": [
    "plt.plot(history.history['r_2_score'])\n",
    "plt.plot(history.history['val_r_2_score'])\n",
    "plt.title('model r2_score')\n",
    "plt.ylabel('r2_score')\n",
    "plt.xlabel('epoch')\n",
    "plt.legend(['train', 'test'], loc='upper left')\n",
    "plt.show()\n",
    "# summarize history for loss\n",
    "plt.plot(history.history['loss'])\n",
    "plt.plot(history.history['val_loss'])\n",
    "plt.title('model loss')\n",
    "plt.ylabel('loss')\n",
    "plt.xlabel('epoch')\n",
    "plt.legend(['train', 'test'], loc='upper left')\n",
    "plt.show()\n"
   ]
  },
  {
   "cell_type": "markdown",
   "metadata": {
    "id": "KuRkl0T8L8bd"
   },
   "source": [
    "**Observation:** Above graphs show that R2 score is drastically increased from 1 epoch to 200 epoch. Loss also drastically decreased from 1 epoch to 413 epoch. It shows that this is the good fit model. "
   ]
  },
  {
   "cell_type": "markdown",
   "metadata": {
    "id": "mLyDSOeh6KKc"
   },
   "source": [
    "##  Model tuning and Hyperparameter Tuning\n",
    "## Question 7 (Optional)"
   ]
  },
  {
   "cell_type": "markdown",
   "metadata": {
    "id": "U9_FYXve6TPD"
   },
   "source": [
    "### Create another Deep Neural Network Model for Regression to experiment with other hyper-parameters\n",
    "- Initialize a Sequential model\n",
    "- Add a batch normalization layer\n",
    "- Add 3 hidden layer with activation leaky-relu (Number of neurons = 64,128,32 respectively)\n",
    "- Add dropout layer after each hidden layer\n",
    "- Add a Dense layer with one neuron as output, use activation linear\n",
    "  \n"
   ]
  },
  {
   "cell_type": "code",
   "execution_count": 36,
   "metadata": {
    "executionInfo": {
     "elapsed": 866,
     "status": "ok",
     "timestamp": 1620537856719,
     "user": {
      "displayName": "Mohamed Yusuf",
      "photoUrl": "",
      "userId": "10392786702670607191"
     },
     "user_tz": -330
    },
    "id": "smKhJZSx2EZk"
   },
   "outputs": [],
   "source": [
    "from tensorflow.keras.layers import LeakyReLU\n",
    "modellek = tf.keras.Sequential()"
   ]
  },
  {
   "cell_type": "code",
   "execution_count": 37,
   "metadata": {
    "executionInfo": {
     "elapsed": 863,
     "status": "ok",
     "timestamp": 1620537860746,
     "user": {
      "displayName": "Mohamed Yusuf",
      "photoUrl": "",
      "userId": "10392786702670607191"
     },
     "user_tz": -330
    },
    "id": "k3YL1YQB2Fau"
   },
   "outputs": [],
   "source": [
    "\n",
    "#Add input layer\n",
    "modellek.add(tf.keras.Input(shape=(16)))\n",
    "\n",
    "# Adding layer for batch normalization\n",
    "modellek.add(tf.keras.layers.BatchNormalization())\n",
    "\n",
    "# Add hidden layers with LeakRelu activation function\n",
    "modellek.add(Dense(64))\n",
    "modellek.add(LeakyReLU(alpha=0.05)) \n",
    "\n",
    "modellek.add(Dropout(0.15))  # Add Dropout layer\n",
    "modellek.add(tf.keras.layers.BatchNormalization())\n",
    "\n",
    "modellek.add(Dense(128))\n",
    "modellek.add(LeakyReLU(alpha=0.05))\n",
    "\n",
    "modellek.add(Dropout(0.10))\n",
    "modellek.add(tf.keras.layers.BatchNormalization())\n",
    "\n",
    "modellek.add(Dense(32))\n",
    "modellek.add(LeakyReLU(alpha=0.05))\n",
    "modellek.add(Dropout(0.05))\n",
    "\n",
    "# Add output layers\n",
    "modellek.add(Dense(1,activation='linear'))"
   ]
  },
  {
   "cell_type": "code",
   "execution_count": 38,
   "metadata": {
    "colab": {
     "base_uri": "https://localhost:8080/"
    },
    "executionInfo": {
     "elapsed": 865,
     "status": "ok",
     "timestamp": 1620537868701,
     "user": {
      "displayName": "Mohamed Yusuf",
      "photoUrl": "",
      "userId": "10392786702670607191"
     },
     "user_tz": -330
    },
    "id": "D1MehTiZzcUM",
    "outputId": "a01c45c9-b8b8-4b93-eb65-8244dd0ed285"
   },
   "outputs": [
    {
     "name": "stdout",
     "output_type": "stream",
     "text": [
      "Model: \"sequential_1\"\n",
      "_________________________________________________________________\n",
      "Layer (type)                 Output Shape              Param #   \n",
      "=================================================================\n",
      "batch_normalization (BatchNo (None, 16)                64        \n",
      "_________________________________________________________________\n",
      "dense_4 (Dense)              (None, 64)                1088      \n",
      "_________________________________________________________________\n",
      "leaky_re_lu (LeakyReLU)      (None, 64)                0         \n",
      "_________________________________________________________________\n",
      "dropout_3 (Dropout)          (None, 64)                0         \n",
      "_________________________________________________________________\n",
      "batch_normalization_1 (Batch (None, 64)                256       \n",
      "_________________________________________________________________\n",
      "dense_5 (Dense)              (None, 128)               8320      \n",
      "_________________________________________________________________\n",
      "leaky_re_lu_1 (LeakyReLU)    (None, 128)               0         \n",
      "_________________________________________________________________\n",
      "dropout_4 (Dropout)          (None, 128)               0         \n",
      "_________________________________________________________________\n",
      "batch_normalization_2 (Batch (None, 128)               512       \n",
      "_________________________________________________________________\n",
      "dense_6 (Dense)              (None, 32)                4128      \n",
      "_________________________________________________________________\n",
      "leaky_re_lu_2 (LeakyReLU)    (None, 32)                0         \n",
      "_________________________________________________________________\n",
      "dropout_5 (Dropout)          (None, 32)                0         \n",
      "_________________________________________________________________\n",
      "dense_7 (Dense)              (None, 1)                 33        \n",
      "=================================================================\n",
      "Total params: 14,401\n",
      "Trainable params: 13,985\n",
      "Non-trainable params: 416\n",
      "_________________________________________________________________\n"
     ]
    }
   ],
   "source": [
    "modellek.summary()"
   ]
  },
  {
   "cell_type": "markdown",
   "metadata": {
    "id": "d-5tN-Wx8_8X"
   },
   "source": [
    "### Compile the model\n",
    "\n",
    "- Compile the model\n",
    "- Use \"adam\" optimizer \n",
    "- for calculating loss, use mean absolute error\n",
    "- use R2 score (coefficient of determination) as the metric"
   ]
  },
  {
   "cell_type": "code",
   "execution_count": 39,
   "metadata": {
    "executionInfo": {
     "elapsed": 861,
     "status": "ok",
     "timestamp": 1620538085788,
     "user": {
      "displayName": "Mohamed Yusuf",
      "photoUrl": "",
      "userId": "10392786702670607191"
     },
     "user_tz": -330
    },
    "id": "v3RAGJxN8vq6"
   },
   "outputs": [],
   "source": [
    "# Compile the model with adam optimizer\n",
    "modellek.compile(loss='mean_absolute_error',optimizer='adam', metrics=[r_2_score])"
   ]
  },
  {
   "cell_type": "markdown",
   "metadata": {
    "id": "QjDCS5gy91KU"
   },
   "source": [
    "### Train your model\n",
    "\n",
    "- epochs: 1000\n",
    "- batch size: 16\n",
    "- Use test data as validation data\n",
    "- Also add callback, such that if validation loss doesn't decreases consecutively 10 times, stop the training and return the weights for the previous best model\n",
    "- Add checkpoints to save the model after every epoch\n"
   ]
  },
  {
   "cell_type": "code",
   "execution_count": 40,
   "metadata": {
    "colab": {
     "base_uri": "https://localhost:8080/"
    },
    "executionInfo": {
     "elapsed": 132173,
     "status": "ok",
     "timestamp": 1620538273641,
     "user": {
      "displayName": "Mohamed Yusuf",
      "photoUrl": "",
      "userId": "10392786702670607191"
     },
     "user_tz": -330
    },
    "id": "amNM6S2w90So",
    "outputId": "ca600a2f-94c8-4a58-e4f7-909252b5e3bd"
   },
   "outputs": [
    {
     "name": "stdout",
     "output_type": "stream",
     "text": [
      "Epoch 1/1000\n",
      "371/371 [==============================] - 2s 4ms/step - loss: 644460.1286 - r_2_score: -1.8864 - val_loss: 653328.2500 - val_r_2_score: -1.8194\n",
      "INFO:tensorflow:Assets written to: ./checkpoint/assets\n",
      "Epoch 2/1000\n",
      "371/371 [==============================] - 1s 4ms/step - loss: 646552.2853 - r_2_score: -1.7390 - val_loss: 650682.3125 - val_r_2_score: -1.7996\n",
      "INFO:tensorflow:Assets written to: ./checkpoint/assets\n",
      "Epoch 3/1000\n",
      "371/371 [==============================] - 1s 4ms/step - loss: 640390.6868 - r_2_score: -1.7035 - val_loss: 640792.1875 - val_r_2_score: -1.7272\n",
      "INFO:tensorflow:Assets written to: ./checkpoint/assets\n",
      "Epoch 4/1000\n",
      "371/371 [==============================] - 1s 4ms/step - loss: 629015.0732 - r_2_score: -1.7491 - val_loss: 627032.6250 - val_r_2_score: -1.6276\n",
      "INFO:tensorflow:Assets written to: ./checkpoint/assets\n",
      "Epoch 5/1000\n",
      "371/371 [==============================] - 1s 4ms/step - loss: 604737.1159 - r_2_score: -1.5151 - val_loss: 601190.3750 - val_r_2_score: -1.4482\n",
      "INFO:tensorflow:Assets written to: ./checkpoint/assets\n",
      "Epoch 6/1000\n",
      "371/371 [==============================] - 1s 4ms/step - loss: 575541.0478 - r_2_score: -1.3696 - val_loss: 574922.4375 - val_r_2_score: -1.2702\n",
      "INFO:tensorflow:Assets written to: ./checkpoint/assets\n",
      "Epoch 7/1000\n",
      "371/371 [==============================] - 1s 4ms/step - loss: 545494.1494 - r_2_score: -1.1706 - val_loss: 543596.6875 - val_r_2_score: -1.0708\n",
      "INFO:tensorflow:Assets written to: ./checkpoint/assets\n",
      "Epoch 8/1000\n",
      "371/371 [==============================] - 1s 4ms/step - loss: 503606.1986 - r_2_score: -0.8862 - val_loss: 494414.0938 - val_r_2_score: -0.7803\n",
      "INFO:tensorflow:Assets written to: ./checkpoint/assets\n",
      "Epoch 9/1000\n",
      "371/371 [==============================] - 1s 4ms/step - loss: 467857.7936 - r_2_score: -0.5776 - val_loss: 464533.5312 - val_r_2_score: -0.5756\n",
      "INFO:tensorflow:Assets written to: ./checkpoint/assets\n",
      "Epoch 10/1000\n",
      "371/371 [==============================] - 1s 4ms/step - loss: 404997.5319 - r_2_score: -0.2680 - val_loss: 388819.5938 - val_r_2_score: -0.1689\n",
      "INFO:tensorflow:Assets written to: ./checkpoint/assets\n",
      "Epoch 11/1000\n",
      "371/371 [==============================] - 1s 4ms/step - loss: 361437.6617 - r_2_score: -0.0504 - val_loss: 371394.0000 - val_r_2_score: -0.1018\n",
      "INFO:tensorflow:Assets written to: ./checkpoint/assets\n",
      "Epoch 12/1000\n",
      "371/371 [==============================] - 1s 4ms/step - loss: 326155.3493 - r_2_score: 0.1569 - val_loss: 321161.0938 - val_r_2_score: 0.1563\n",
      "INFO:tensorflow:Assets written to: ./checkpoint/assets\n",
      "Epoch 13/1000\n",
      "371/371 [==============================] - 1s 4ms/step - loss: 306958.4005 - r_2_score: 0.2968 - val_loss: 291221.7500 - val_r_2_score: 0.3148\n",
      "INFO:tensorflow:Assets written to: ./checkpoint/assets\n",
      "Epoch 14/1000\n",
      "371/371 [==============================] - 1s 4ms/step - loss: 252396.2992 - r_2_score: 0.3837 - val_loss: 253272.6719 - val_r_2_score: 0.5027\n",
      "INFO:tensorflow:Assets written to: ./checkpoint/assets\n",
      "Epoch 15/1000\n",
      "371/371 [==============================] - 1s 4ms/step - loss: 265756.6076 - r_2_score: 0.4781 - val_loss: 230556.6719 - val_r_2_score: 0.5674\n",
      "INFO:tensorflow:Assets written to: ./checkpoint/assets\n",
      "Epoch 16/1000\n",
      "371/371 [==============================] - 1s 4ms/step - loss: 235261.4581 - r_2_score: 0.4606 - val_loss: 207822.3125 - val_r_2_score: 0.6532\n",
      "INFO:tensorflow:Assets written to: ./checkpoint/assets\n",
      "Epoch 17/1000\n",
      "371/371 [==============================] - 1s 4ms/step - loss: 241330.6384 - r_2_score: 0.4527 - val_loss: 219283.3906 - val_r_2_score: 0.6072\n",
      "Epoch 18/1000\n",
      "371/371 [==============================] - 1s 4ms/step - loss: 242564.6046 - r_2_score: 0.4659 - val_loss: 197722.6719 - val_r_2_score: 0.6790\n",
      "INFO:tensorflow:Assets written to: ./checkpoint/assets\n",
      "Epoch 19/1000\n",
      "371/371 [==============================] - 1s 4ms/step - loss: 249492.1105 - r_2_score: 0.3035 - val_loss: 200531.5938 - val_r_2_score: 0.6724\n",
      "Epoch 20/1000\n",
      "371/371 [==============================] - 1s 4ms/step - loss: 237707.4354 - r_2_score: 0.3887 - val_loss: 208290.6875 - val_r_2_score: 0.6476\n",
      "Epoch 21/1000\n",
      "371/371 [==============================] - 1s 4ms/step - loss: 226177.1647 - r_2_score: 0.3660 - val_loss: 211975.7344 - val_r_2_score: 0.6339\n",
      "Epoch 22/1000\n",
      "371/371 [==============================] - 1s 4ms/step - loss: 228679.7360 - r_2_score: 0.3888 - val_loss: 210002.3125 - val_r_2_score: 0.6414\n",
      "Epoch 23/1000\n",
      "371/371 [==============================] - 1s 4ms/step - loss: 236991.7175 - r_2_score: 0.3702 - val_loss: 202423.3125 - val_r_2_score: 0.6713\n",
      "Epoch 24/1000\n",
      "371/371 [==============================] - 1s 4ms/step - loss: 232252.1521 - r_2_score: 0.3388 - val_loss: 201679.2969 - val_r_2_score: 0.6711\n",
      "Epoch 25/1000\n",
      "371/371 [==============================] - 1s 4ms/step - loss: 235001.7548 - r_2_score: 0.0492 - val_loss: 189321.0312 - val_r_2_score: 0.7048\n",
      "INFO:tensorflow:Assets written to: ./checkpoint/assets\n",
      "Epoch 26/1000\n",
      "371/371 [==============================] - 1s 4ms/step - loss: 239843.6025 - r_2_score: 0.3272 - val_loss: 193065.7969 - val_r_2_score: 0.6997\n",
      "Epoch 27/1000\n",
      "371/371 [==============================] - 1s 4ms/step - loss: 243497.3781 - r_2_score: 0.2249 - val_loss: 190496.1406 - val_r_2_score: 0.7036\n",
      "Epoch 28/1000\n",
      "371/371 [==============================] - 1s 4ms/step - loss: 225553.0509 - r_2_score: 0.4357 - val_loss: 187945.8125 - val_r_2_score: 0.7100\n",
      "INFO:tensorflow:Assets written to: ./checkpoint/assets\n",
      "Epoch 29/1000\n",
      "371/371 [==============================] - 1s 4ms/step - loss: 229445.0129 - r_2_score: 0.2871 - val_loss: 191402.8125 - val_r_2_score: 0.6987\n",
      "Epoch 30/1000\n",
      "371/371 [==============================] - 1s 4ms/step - loss: 243428.4509 - r_2_score: 0.2970 - val_loss: 189096.0312 - val_r_2_score: 0.7072\n",
      "Epoch 31/1000\n",
      "371/371 [==============================] - 1s 4ms/step - loss: 227654.0180 - r_2_score: 0.3902 - val_loss: 194524.4844 - val_r_2_score: 0.6577\n",
      "Epoch 32/1000\n",
      "371/371 [==============================] - 1s 4ms/step - loss: 235635.6317 - r_2_score: 0.2920 - val_loss: 195977.7969 - val_r_2_score: 0.6617\n",
      "Epoch 33/1000\n",
      "371/371 [==============================] - 1s 4ms/step - loss: 223412.8317 - r_2_score: 0.3238 - val_loss: 182391.7812 - val_r_2_score: 0.7106\n",
      "INFO:tensorflow:Assets written to: ./checkpoint/assets\n",
      "Epoch 34/1000\n",
      "371/371 [==============================] - 1s 4ms/step - loss: 227435.5123 - r_2_score: 0.3631 - val_loss: 187889.4219 - val_r_2_score: 0.6609\n",
      "Epoch 35/1000\n",
      "371/371 [==============================] - 1s 4ms/step - loss: 214157.3986 - r_2_score: 0.4631 - val_loss: 186908.9375 - val_r_2_score: 0.6832\n",
      "Epoch 36/1000\n",
      "371/371 [==============================] - 1s 4ms/step - loss: 217640.7049 - r_2_score: 0.3807 - val_loss: 192024.9531 - val_r_2_score: 0.6148\n",
      "Epoch 37/1000\n",
      "371/371 [==============================] - 1s 4ms/step - loss: 215943.7592 - r_2_score: 0.3506 - val_loss: 187678.9844 - val_r_2_score: 0.6612\n",
      "Epoch 38/1000\n",
      "371/371 [==============================] - 1s 4ms/step - loss: 230788.7692 - r_2_score: 0.4197 - val_loss: 188150.5312 - val_r_2_score: 0.6483\n",
      "Epoch 39/1000\n",
      "371/371 [==============================] - 1s 4ms/step - loss: 220882.3557 - r_2_score: 0.2691 - val_loss: 178791.5781 - val_r_2_score: 0.7198\n",
      "INFO:tensorflow:Assets written to: ./checkpoint/assets\n",
      "Epoch 40/1000\n",
      "371/371 [==============================] - 1s 4ms/step - loss: 210906.8502 - r_2_score: 0.4158 - val_loss: 180879.4062 - val_r_2_score: 0.6672\n",
      "Epoch 41/1000\n",
      "371/371 [==============================] - 1s 4ms/step - loss: 221200.2111 - r_2_score: 0.3797 - val_loss: 179292.9688 - val_r_2_score: 0.6719\n",
      "Epoch 42/1000\n",
      "371/371 [==============================] - 1s 4ms/step - loss: 208560.5566 - r_2_score: 0.3599 - val_loss: 181786.2188 - val_r_2_score: 0.7004\n",
      "Epoch 43/1000\n",
      "371/371 [==============================] - 1s 4ms/step - loss: 227762.2669 - r_2_score: 0.3977 - val_loss: 163477.3125 - val_r_2_score: 0.7307\n",
      "INFO:tensorflow:Assets written to: ./checkpoint/assets\n",
      "Epoch 44/1000\n",
      "371/371 [==============================] - 1s 4ms/step - loss: 213511.7127 - r_2_score: 0.4761 - val_loss: 177978.4062 - val_r_2_score: 0.7055\n",
      "Epoch 45/1000\n",
      "371/371 [==============================] - 1s 4ms/step - loss: 225321.6773 - r_2_score: 0.3706 - val_loss: 175677.6562 - val_r_2_score: 0.6195\n",
      "Epoch 46/1000\n",
      "371/371 [==============================] - 1s 4ms/step - loss: 213590.4443 - r_2_score: 0.3557 - val_loss: 170567.1406 - val_r_2_score: 0.7002\n",
      "Epoch 47/1000\n",
      "371/371 [==============================] - 1s 4ms/step - loss: 217994.4068 - r_2_score: 0.4937 - val_loss: 170584.6406 - val_r_2_score: 0.6635\n",
      "Epoch 48/1000\n",
      "371/371 [==============================] - 1s 4ms/step - loss: 206855.8783 - r_2_score: 0.3981 - val_loss: 177687.9062 - val_r_2_score: 0.5937\n",
      "Epoch 49/1000\n",
      "371/371 [==============================] - 1s 4ms/step - loss: 216376.9542 - r_2_score: 0.4698 - val_loss: 156061.5312 - val_r_2_score: 0.7241\n",
      "INFO:tensorflow:Assets written to: ./checkpoint/assets\n",
      "Epoch 50/1000\n",
      "371/371 [==============================] - 1s 4ms/step - loss: 213471.2773 - r_2_score: 0.3954 - val_loss: 158763.0312 - val_r_2_score: 0.7516\n",
      "Epoch 51/1000\n",
      "371/371 [==============================] - 1s 4ms/step - loss: 214630.3816 - r_2_score: 0.4821 - val_loss: 164486.3906 - val_r_2_score: 0.6976\n",
      "Epoch 52/1000\n",
      "371/371 [==============================] - 1s 4ms/step - loss: 208232.9940 - r_2_score: 0.5529 - val_loss: 150381.7188 - val_r_2_score: 0.7622\n",
      "INFO:tensorflow:Assets written to: ./checkpoint/assets\n",
      "Epoch 53/1000\n",
      "371/371 [==============================] - 1s 4ms/step - loss: 213552.1623 - r_2_score: 0.4500 - val_loss: 163731.1250 - val_r_2_score: 0.7221\n",
      "Epoch 54/1000\n",
      "371/371 [==============================] - 1s 4ms/step - loss: 205801.8968 - r_2_score: 0.4763 - val_loss: 169060.7812 - val_r_2_score: 0.6711\n",
      "Epoch 55/1000\n",
      "371/371 [==============================] - 1s 4ms/step - loss: 202772.2581 - r_2_score: 0.5059 - val_loss: 152311.1719 - val_r_2_score: 0.7560\n",
      "Epoch 56/1000\n",
      "371/371 [==============================] - 1s 4ms/step - loss: 208839.0477 - r_2_score: 0.4988 - val_loss: 158045.5312 - val_r_2_score: 0.6731\n",
      "Epoch 57/1000\n",
      "371/371 [==============================] - 1s 4ms/step - loss: 213644.8517 - r_2_score: 0.4593 - val_loss: 156950.1250 - val_r_2_score: 0.7345\n",
      "Epoch 58/1000\n",
      "371/371 [==============================] - 1s 4ms/step - loss: 211155.8493 - r_2_score: 0.5002 - val_loss: 158804.1406 - val_r_2_score: 0.7129\n",
      "Epoch 59/1000\n",
      "371/371 [==============================] - 1s 4ms/step - loss: 224035.4317 - r_2_score: 0.4686 - val_loss: 154690.7500 - val_r_2_score: 0.5711\n",
      "Epoch 60/1000\n",
      "371/371 [==============================] - 1s 4ms/step - loss: 207916.2734 - r_2_score: 0.4348 - val_loss: 151721.7031 - val_r_2_score: 0.7682\n",
      "Epoch 61/1000\n",
      "371/371 [==============================] - 1s 4ms/step - loss: 196497.0296 - r_2_score: 0.4640 - val_loss: 160818.7969 - val_r_2_score: 0.7706\n",
      "Epoch 62/1000\n",
      "371/371 [==============================] - 1s 4ms/step - loss: 207841.6554 - r_2_score: 0.5034 - val_loss: 153934.5938 - val_r_2_score: 0.7744\n"
     ]
    }
   ],
   "source": [
    "# Adding checkpoint to save the model after every epoch\n",
    "check_point = ModelCheckpoint('./checkpoint',monitor='val_loss',save_best_only=True,save_freq='epoch')\n",
    "callback = tf.keras.callbacks.EarlyStopping(monitor='val_loss', patience=10, restore_best_weights=True, mode='min')\n",
    "\n",
    "# Traini the model\n",
    "history = modellek.fit(scaledXtrain, y_train,\n",
    "            validation_data=(scaledXtest, y_test), \n",
    "            epochs=1000,\n",
    "            batch_size = 16,\n",
    "            verbose=1,\n",
    "            callbacks= [callback,check_point]\n",
    "         )"
   ]
  },
  {
   "cell_type": "markdown",
   "metadata": {
    "id": "FhwFKY73nJeP"
   },
   "source": [
    "**Observation:** With batch size 16, val_r_2_score is -1.8194 and it is increased to 0.7744 at 62 epoch since loss is not decreasing consecutively 10 times."
   ]
  },
  {
   "cell_type": "markdown",
   "metadata": {
    "id": "GHbYwXdgDQhs"
   },
   "source": [
    "### Check the R2 score on complete test data"
   ]
  },
  {
   "cell_type": "code",
   "execution_count": 41,
   "metadata": {
    "colab": {
     "base_uri": "https://localhost:8080/"
    },
    "executionInfo": {
     "elapsed": 1428,
     "status": "ok",
     "timestamp": 1620538295956,
     "user": {
      "displayName": "Mohamed Yusuf",
      "photoUrl": "",
      "userId": "10392786702670607191"
     },
     "user_tz": -330
    },
    "id": "p7Ly-csS90PM",
    "outputId": "8eede9e6-0b12-4e58-d8fc-4d2837def5d4"
   },
   "outputs": [
    {
     "name": "stdout",
     "output_type": "stream",
     "text": [
      "124/124 [==============================] - 0s 2ms/step - loss: 150381.7188 - r_2_score: 0.7622\n",
      "0.8469230309545733\n"
     ]
    }
   ],
   "source": [
    "modellek.evaluate(scaledXtest,y_test,batch_size=16)\n",
    "\n",
    "y_pred= modellek.predict(scaledXtest)\n",
    "print(r2_score(y_test,y_pred))"
   ]
  },
  {
   "cell_type": "markdown",
   "metadata": {
    "id": "mcZazFM7DiVr"
   },
   "source": [
    "### Visualize model learning\n",
    "- Visualize model learning using train and test r2 score\n",
    "- Visualize model learning using train and test loss"
   ]
  },
  {
   "cell_type": "code",
   "execution_count": 98,
   "metadata": {
    "colab": {
     "base_uri": "https://localhost:8080/",
     "height": 573
    },
    "executionInfo": {
     "elapsed": 1484,
     "status": "ok",
     "timestamp": 1620478336847,
     "user": {
      "displayName": "Mohamed Yusuf",
      "photoUrl": "",
      "userId": "10392786702670607191"
     },
     "user_tz": -330
    },
    "id": "cH-8qHgp90Jv",
    "outputId": "8ac5ee2f-2751-4ea4-fabf-e01ba38ab1b4"
   },
   "outputs": [
    {
     "data": {
      "image/png": "[encoded data removed]",
      "text/plain": [
       "<Figure size 432x288 with 1 Axes>"
      ]
     },
     "metadata": {
      "needs_background": "light",
      "tags": []
     },
     "output_type": "display_data"
    },
    {
     "data": {
      "image/png": "[encoded data removed]",
      "text/plain": [
       "<Figure size 432x288 with 1 Axes>"
      ]
     },
     "metadata": {
      "needs_background": "light",
      "tags": []
     },
     "output_type": "display_data"
    }
   ],
   "source": [
    "plt.plot(history.history['r_2_score'])\n",
    "plt.plot(history.history['val_r_2_score'])\n",
    "plt.title('model r2_score')\n",
    "plt.ylabel('r2_score')\n",
    "plt.xlabel('epoch')\n",
    "plt.legend(['train', 'test'], loc='upper left')\n",
    "plt.show()\n",
    "# summarize history for loss\n",
    "plt.plot(history.history['loss'])\n",
    "plt.plot(history.history['val_loss'])\n",
    "plt.title('model loss')\n",
    "plt.ylabel('loss')\n",
    "plt.xlabel('epoch')\n",
    "plt.legend(['train', 'test'], loc='upper left')\n",
    "plt.show()"
   ]
  },
  {
   "cell_type": "markdown",
   "metadata": {
    "id": "MqV5H_sjodZ0"
   },
   "source": [
    "**Observation:** r2 score is increased from 1 epoch to 62 epoch. R2 score for training set is lower than test set. Loss is drastically reduced from 1 epoch to 62 epoch. Loss for test is lower than training set. "
   ]
  },
  {
   "cell_type": "markdown",
   "metadata": {
    "id": "POU_v9owFLWp"
   },
   "source": [
    "### Create another Deep Neural Network Model for Regression to experiment with other hyper-parameters\n",
    "- Initialize a Sequential model\n",
    "- Add a batch normalization layer\n",
    "- Intialize weights using HeUniform with seed = 7\n",
    "- Add 4 hidden layer with activation relu (Number of neurons = 256,128,64,32 in each layer respectively)\n",
    "- Add dropout layer after each hidden layer\n",
    "- Add a Dense layer with one neuron as output, use activation linear\n",
    "  \n"
   ]
  },
  {
   "cell_type": "code",
   "execution_count": 42,
   "metadata": {
    "executionInfo": {
     "elapsed": 852,
     "status": "ok",
     "timestamp": 1620539164703,
     "user": {
      "displayName": "Mohamed Yusuf",
      "photoUrl": "",
      "userId": "10392786702670607191"
     },
     "user_tz": -330
    },
    "id": "rWvuPeAIFEUv"
   },
   "outputs": [],
   "source": [
    "# Initilalize the model\n",
    "model_rg = tf.keras.Sequential()\n",
    "\n",
    "# Initilaize the weights\n",
    "initializer = tf.keras.initializers.HeUniform(seed=7)\n",
    "\n",
    "# Add input layer\n",
    "model_rg.add(tf.keras.Input(shape=(16)))\n",
    "\n",
    "# Add hidden layers and dropout\n",
    "model_rg.add(Dense(256,activation='relu',kernel_initializer=initializer))\n",
    "model_rg.add(Dropout(0.15))\n",
    "\n",
    "# Add batch normalization\n",
    "model_rg.add(tf.keras.layers.BatchNormalization())\n",
    "\n",
    "model_rg.add(Dense(128,activation='relu'))\n",
    "model_rg.add(Dropout(0.10))\n",
    "\n",
    "model_rg.add(tf.keras.layers.BatchNormalization())\n",
    "\n",
    "model_rg.add(Dense(64,activation='relu'))\n",
    "model_rg.add(Dropout(0.05))\n",
    "\n",
    "model_rg.add(tf.keras.layers.BatchNormalization())\n",
    "\n",
    "model_rg.add(Dense(32,activation='relu'))\n",
    "model_rg.add(Dropout(0.10))\n",
    "\n",
    "# Add output layer\n",
    "model_rg.add(Dense(1,activation='linear'))"
   ]
  },
  {
   "cell_type": "code",
   "execution_count": 43,
   "metadata": {
    "colab": {
     "base_uri": "https://localhost:8080/"
    },
    "executionInfo": {
     "elapsed": 870,
     "status": "ok",
     "timestamp": 1620539173338,
     "user": {
      "displayName": "Mohamed Yusuf",
      "photoUrl": "",
      "userId": "10392786702670607191"
     },
     "user_tz": -330
    },
    "id": "EL--zAmbECm3",
    "outputId": "9fa38af8-5101-4d76-cb42-887f2e570563"
   },
   "outputs": [
    {
     "name": "stdout",
     "output_type": "stream",
     "text": [
      "Model: \"sequential_2\"\n",
      "_________________________________________________________________\n",
      "Layer (type)                 Output Shape              Param #   \n",
      "=================================================================\n",
      "dense_8 (Dense)              (None, 256)               4352      \n",
      "_________________________________________________________________\n",
      "dropout_6 (Dropout)          (None, 256)               0         \n",
      "_________________________________________________________________\n",
      "batch_normalization_3 (Batch (None, 256)               1024      \n",
      "_________________________________________________________________\n",
      "dense_9 (Dense)              (None, 128)               32896     \n",
      "_________________________________________________________________\n",
      "dropout_7 (Dropout)          (None, 128)               0         \n",
      "_________________________________________________________________\n",
      "batch_normalization_4 (Batch (None, 128)               512       \n",
      "_________________________________________________________________\n",
      "dense_10 (Dense)             (None, 64)                8256      \n",
      "_________________________________________________________________\n",
      "dropout_8 (Dropout)          (None, 64)                0         \n",
      "_________________________________________________________________\n",
      "batch_normalization_5 (Batch (None, 64)                256       \n",
      "_________________________________________________________________\n",
      "dense_11 (Dense)             (None, 32)                2080      \n",
      "_________________________________________________________________\n",
      "dropout_9 (Dropout)          (None, 32)                0         \n",
      "_________________________________________________________________\n",
      "dense_12 (Dense)             (None, 1)                 33        \n",
      "=================================================================\n",
      "Total params: 49,409\n",
      "Trainable params: 48,513\n",
      "Non-trainable params: 896\n",
      "_________________________________________________________________\n"
     ]
    }
   ],
   "source": [
    "model_rg.summary()"
   ]
  },
  {
   "cell_type": "markdown",
   "metadata": {
    "id": "yNoD20dGHKNk"
   },
   "source": [
    "### Compile the model\n",
    "\n",
    "- Compile the model\n",
    "- Use \"adam\" optimizer with learning rate = 0.002\n",
    "- for calculating loss, use mean squared error\n",
    "- use R2 score (coefficient of determination) as the metric"
   ]
  },
  {
   "cell_type": "code",
   "execution_count": 44,
   "metadata": {
    "executionInfo": {
     "elapsed": 855,
     "status": "ok",
     "timestamp": 1620539203165,
     "user": {
      "displayName": "Mohamed Yusuf",
      "photoUrl": "",
      "userId": "10392786702670607191"
     },
     "user_tz": -330
    },
    "id": "b2U5EAPBF6ct"
   },
   "outputs": [],
   "source": [
    "# Compile the model with adam optimizer\n",
    "opt = tf.keras.optimizers.Adam(learning_rate=0.01)\n",
    "model_rg.compile(loss='mse',optimizer=opt, metrics=[r_2_score])"
   ]
  },
  {
   "cell_type": "markdown",
   "metadata": {
    "id": "TNhawruvHgLR"
   },
   "source": [
    "### Train your model\n",
    "\n",
    "- epochs: 1000\n",
    "- batch size: 64\n",
    "- Use test data as validation data\n",
    "- Also add callback, such that if validation loss doesn't decreases consecutively 10 times, stop the training and return the weights for the previous best model\n",
    "\n"
   ]
  },
  {
   "cell_type": "code",
   "execution_count": 45,
   "metadata": {
    "colab": {
     "base_uri": "https://localhost:8080/"
    },
    "executionInfo": {
     "elapsed": 25193,
     "status": "ok",
     "timestamp": 1620539300546,
     "user": {
      "displayName": "Mohamed Yusuf",
      "photoUrl": "",
      "userId": "10392786702670607191"
     },
     "user_tz": -330
    },
    "id": "rf_Y0p7yECiz",
    "outputId": "f3f87989-5013-46d3-8198-985003d44db6"
   },
   "outputs": [
    {
     "name": "stdout",
     "output_type": "stream",
     "text": [
      "Epoch 1/1000\n",
      "93/93 [==============================] - 1s 6ms/step - loss: 1078708449541.4468 - r_2_score: -0.9063 - val_loss: 1123042590720.0000 - val_r_2_score: -0.7554\n",
      "INFO:tensorflow:Assets written to: ./checkpoint/assets\n",
      "Epoch 2/1000\n",
      "93/93 [==============================] - 0s 5ms/step - loss: 1061045309527.1489 - r_2_score: -0.8112 - val_loss: 1002712858624.0000 - val_r_2_score: -0.5721\n",
      "INFO:tensorflow:Assets written to: ./checkpoint/assets\n",
      "Epoch 3/1000\n",
      "93/93 [==============================] - 0s 5ms/step - loss: 914779158833.0212 - r_2_score: -0.5789 - val_loss: 694079586304.0000 - val_r_2_score: -0.0708\n",
      "INFO:tensorflow:Assets written to: ./checkpoint/assets\n",
      "Epoch 4/1000\n",
      "93/93 [==============================] - 0s 5ms/step - loss: 544691593041.7021 - r_2_score: 0.0997 - val_loss: 335170600960.0000 - val_r_2_score: 0.4523\n",
      "INFO:tensorflow:Assets written to: ./checkpoint/assets\n",
      "Epoch 5/1000\n",
      "93/93 [==============================] - 0s 4ms/step - loss: 250944372038.8085 - r_2_score: 0.6607 - val_loss: 136146198528.0000 - val_r_2_score: 0.7654\n",
      "INFO:tensorflow:Assets written to: ./checkpoint/assets\n",
      "Epoch 6/1000\n",
      "93/93 [==============================] - 0s 4ms/step - loss: 125356037664.6808 - r_2_score: 0.7157 - val_loss: 174685257728.0000 - val_r_2_score: 0.7561\n",
      "Epoch 7/1000\n",
      "93/93 [==============================] - 0s 5ms/step - loss: 109935628723.7447 - r_2_score: 0.7732 - val_loss: 91447754752.0000 - val_r_2_score: 0.8576\n",
      "INFO:tensorflow:Assets written to: ./checkpoint/assets\n",
      "Epoch 8/1000\n",
      "93/93 [==============================] - 0s 5ms/step - loss: 116344726201.1915 - r_2_score: 0.7525 - val_loss: 66624606208.0000 - val_r_2_score: 0.8831\n",
      "INFO:tensorflow:Assets written to: ./checkpoint/assets\n",
      "Epoch 9/1000\n",
      "93/93 [==============================] - 0s 5ms/step - loss: 114889551349.1064 - r_2_score: 0.7294 - val_loss: 111272017920.0000 - val_r_2_score: 0.8494\n",
      "Epoch 10/1000\n",
      "93/93 [==============================] - 0s 5ms/step - loss: 115270508195.4043 - r_2_score: 0.6404 - val_loss: 62934990848.0000 - val_r_2_score: 0.8982\n",
      "INFO:tensorflow:Assets written to: ./checkpoint/assets\n",
      "Epoch 11/1000\n",
      "93/93 [==============================] - 0s 4ms/step - loss: 107622386491.9149 - r_2_score: 0.7691 - val_loss: 68095369216.0000 - val_r_2_score: 0.8909\n",
      "Epoch 12/1000\n",
      "93/93 [==============================] - 0s 5ms/step - loss: 96914590349.6170 - r_2_score: 0.7310 - val_loss: 160413122560.0000 - val_r_2_score: 0.7681\n",
      "Epoch 13/1000\n",
      "93/93 [==============================] - 0s 5ms/step - loss: 103077044659.7447 - r_2_score: 0.7674 - val_loss: 128145833984.0000 - val_r_2_score: 0.7862\n",
      "Epoch 14/1000\n",
      "93/93 [==============================] - 0s 5ms/step - loss: 87515697239.1489 - r_2_score: 0.7320 - val_loss: 193455931392.0000 - val_r_2_score: 0.6131\n",
      "Epoch 15/1000\n",
      "93/93 [==============================] - 0s 5ms/step - loss: 87301376261.4468 - r_2_score: 0.7869 - val_loss: 234367025152.0000 - val_r_2_score: 0.6682\n",
      "Epoch 16/1000\n",
      "93/93 [==============================] - 0s 5ms/step - loss: 117228680475.2340 - r_2_score: 0.7374 - val_loss: 94849794048.0000 - val_r_2_score: 0.8599\n",
      "Epoch 17/1000\n",
      "93/93 [==============================] - 0s 5ms/step - loss: 93409025786.5532 - r_2_score: 0.7446 - val_loss: 121909723136.0000 - val_r_2_score: 0.7894\n",
      "Epoch 18/1000\n",
      "93/93 [==============================] - 0s 4ms/step - loss: 98465254203.9149 - r_2_score: 0.7277 - val_loss: 134610788352.0000 - val_r_2_score: 0.7238\n",
      "Epoch 19/1000\n",
      "93/93 [==============================] - 0s 5ms/step - loss: 115228516221.2766 - r_2_score: 0.6897 - val_loss: 173110247424.0000 - val_r_2_score: 0.6805\n",
      "Epoch 20/1000\n",
      "93/93 [==============================] - 0s 5ms/step - loss: 93213607543.8298 - r_2_score: 0.7750 - val_loss: 78552399872.0000 - val_r_2_score: 0.8744\n"
     ]
    }
   ],
   "source": [
    "# Add checkpoint to save the model after each epoch\n",
    "check_point = ModelCheckpoint('./checkpoint',monitor='val_loss',save_best_only=True,save_freq='epoch')\n",
    "callback = tf.keras.callbacks.EarlyStopping(monitor='val_loss', patience=10, restore_best_weights=True, mode='min')\n",
    "\n",
    "# Train the model\n",
    "history = model_rg.fit(scaledXtrain, y_train,\n",
    "            validation_data=(scaledXtest, y_test), \n",
    "            epochs=1000,\n",
    "            batch_size = 64,\n",
    "            verbose=1,\n",
    "            callbacks= [callback,check_point]\n",
    "         )"
   ]
  },
  {
   "cell_type": "markdown",
   "metadata": {
    "id": "1ZfYynMIq_m3"
   },
   "source": [
    "**Observation:** With batch size 64, val_r_2_score is -0.75544 and it is increased to 0.8744 at 20 epoch since loss is not decreasing consecutively 10 times."
   ]
  },
  {
   "cell_type": "markdown",
   "metadata": {
    "id": "MR6_a6QxICXv"
   },
   "source": [
    "### Check the R2 score on complete test data"
   ]
  },
  {
   "cell_type": "code",
   "execution_count": 46,
   "metadata": {
    "colab": {
     "base_uri": "https://localhost:8080/"
    },
    "executionInfo": {
     "elapsed": 843,
     "status": "ok",
     "timestamp": 1620539406644,
     "user": {
      "displayName": "Mohamed Yusuf",
      "photoUrl": "",
      "userId": "10392786702670607191"
     },
     "user_tz": -330
    },
    "id": "eSNJsVwnECf-",
    "outputId": "1d89728d-7978-4333-8744-8c435b308d50"
   },
   "outputs": [
    {
     "name": "stdout",
     "output_type": "stream",
     "text": [
      "31/31 [==============================] - 0s 2ms/step - loss: 62934990848.0000 - r_2_score: 0.8982\n",
      "0.911011501695256\n"
     ]
    }
   ],
   "source": [
    "model_rg.evaluate(scaledXtest,y_test,batch_size=64)\n",
    "\n",
    "y_pred= model_rg.predict(scaledXtest)\n",
    "print(r2_score(y_test,y_pred))"
   ]
  },
  {
   "cell_type": "markdown",
   "metadata": {
    "id": "xWZIMT2rIYDc"
   },
   "source": [
    "### Visualize model learning\n",
    "- Visualize model learning using train and test r2 score\n",
    "- Visualize model learning using train and test loss"
   ]
  },
  {
   "cell_type": "code",
   "execution_count": 47,
   "metadata": {
    "colab": {
     "base_uri": "https://localhost:8080/",
     "height": 573
    },
    "executionInfo": {
     "elapsed": 1095,
     "status": "ok",
     "timestamp": 1620539418075,
     "user": {
      "displayName": "Mohamed Yusuf",
      "photoUrl": "",
      "userId": "10392786702670607191"
     },
     "user_tz": -330
    },
    "id": "uDMefTaLECdK",
    "outputId": "d218d18e-1c42-46d9-f63b-545bedf2ef9a"
   },
   "outputs": [
    {
     "data": {
      "image/png": "[encoded data removed]",
      "text/plain": [
       "<Figure size 432x288 with 1 Axes>"
      ]
     },
     "metadata": {
      "needs_background": "light",
      "tags": []
     },
     "output_type": "display_data"
    },
    {
     "data": {
      "image/png": "[encoded data removed]",
      "text/plain": [
       "<Figure size 432x288 with 1 Axes>"
      ]
     },
     "metadata": {
      "needs_background": "light",
      "tags": []
     },
     "output_type": "display_data"
    }
   ],
   "source": [
    "plt.plot(history.history['r_2_score'])\n",
    "plt.plot(history.history['val_r_2_score'])\n",
    "plt.title('model r2_score')\n",
    "plt.ylabel('r2_score')\n",
    "plt.xlabel('epoch')\n",
    "plt.legend(['train', 'test'], loc='upper left')\n",
    "plt.show()\n",
    "# summarize history for loss\n",
    "plt.plot(history.history['loss'])\n",
    "plt.plot(history.history['val_loss'])\n",
    "plt.title('model loss')\n",
    "plt.ylabel('loss')\n",
    "plt.xlabel('epoch')\n",
    "plt.legend(['train', 'test'], loc='upper left')\n",
    "plt.show()"
   ]
  },
  {
   "cell_type": "markdown",
   "metadata": {
    "id": "gWQMIr52rc0D"
   },
   "source": [
    "**Observation:** Above graphs show that R2 score is drastically increased from 1 epoch to 20 epoch. Loss also drastically decreased from 1 epoch to 20 epoch. "
   ]
  },
  {
   "cell_type": "markdown",
   "metadata": {
    "id": "RevPR4tAr1xp"
   },
   "source": [
    "**Take Away:** There is a change in loss if there is a change in Batch size, number of hidden layers, Batch normalization and actiavation funcation. "
   ]
  }
 ],
 "metadata": {
  "accelerator": "GPU",
  "colab": {
   "collapsed_sections": [],
   "name": "R7 Lab questions NNDL.ipynb",
   "provenance": []
  },
  "kernelspec": {
   "display_name": "Python 3",
   "language": "python",
   "name": "python3"
  },
  "language_info": {
   "codemirror_mode": {
    "name": "ipython",
    "version": 3
   },
   "file_extension": ".py",
   "mimetype": "text/x-python",
   "name": "python",
   "nbconvert_exporter": "python",
   "pygments_lexer": "ipython3",
   "version": "3.8.3"
  }
 },
 "nbformat": 4,
 "nbformat_minor": 1
}
