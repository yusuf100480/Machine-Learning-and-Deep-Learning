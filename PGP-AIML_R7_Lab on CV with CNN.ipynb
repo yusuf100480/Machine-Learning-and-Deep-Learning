{
 "cells": [
  {
   "cell_type": "markdown",
   "metadata": {
    "id": "Hbln1O8gBEih"
   },
   "source": [
    "![alt text](https://drive.google.com/uc?export=view&id=1UXScsVx_Wni_JuDdB8LeTnM6jsPfIwkW)\n",
    "\n",
    "Proprietary content. © Great Learning. All Rights Reserved. Unauthorized use or distribution prohibited."
   ]
  },
  {
   "cell_type": "markdown",
   "metadata": {
    "id": "Q91KqmCRu64D"
   },
   "source": [
    "# Mobile Phone Detection in an Image\n",
    "\n",
    "## Domain\n",
    "Mobile Phones, Computer Vision\n",
    "\n",
    "## Business Context\n",
    "The ability to process visual information using machine learning algorithms can be very useful. Electronics companies can use it to identify the presence of a mobile in an image (location), mobile brand just by looking at the image, and minor damages if there are any. The computer vision field has multiple applications and based on the available data it can be used to meet business objectives.\n",
    "Here, we will use a simple convolutional neural network to classify images with and without mobile phones. \n",
    " \n",
    "## Objective\n",
    "\n",
    "Given the images and label whether an image has a mobile phone or not, can you train a model that allows you to map and find the presence of mobile phones within the selected images.\n"
   ]
  },
  {
   "cell_type": "markdown",
   "metadata": {
    "id": "b0Qw0vEHBUvm"
   },
   "source": [
    "### Package version\n",
    "- tensorflow==2.3.0\n",
    "- matplotlib==3.2.1\n",
    "- h5py==2.10.0\n",
    "- google==2.0.3"
   ]
  },
  {
   "cell_type": "markdown",
   "metadata": {
    "id": "yapdCjMwFl02"
   },
   "source": [
    "## Table of Content\n",
    "\n",
    "1. Import Libraries\n",
    "\n",
    "2. Setting options\n",
    "\n",
    "3. Data loading and Data Analysis \n",
    "\n",
    "4. Visualize and Standardize the data\n",
    "\n",
    "5. Model Building\n",
    "\n",
    "6. Evaluate Model\n",
    "\n",
    "7. Conclusion and Interpretation"
   ]
  },
  {
   "cell_type": "markdown",
   "metadata": {
    "id": "mSnjdKmpG82x"
   },
   "source": [
    "## 1. Import Libraries"
   ]
  },
  {
   "cell_type": "markdown",
   "metadata": {
    "id": "8z2Z7-OAs8QG"
   },
   "source": [
    "Let us start by mounting the drive"
   ]
  },
  {
   "cell_type": "code",
   "execution_count": 9,
   "metadata": {
    "colab": {
     "base_uri": "https://localhost:8080/"
    },
    "id": "REFUdThmpz_d",
    "outputId": "2fcf5ee3-9cf5-4218-c070-2f69128492e3"
   },
   "outputs": [
    {
     "name": "stdout",
     "output_type": "stream",
     "text": [
      "Mounted at /content/drive\n"
     ]
    }
   ],
   "source": [
    "from google.colab import drive\n",
    "drive.mount('/content/drive')"
   ]
  },
  {
   "cell_type": "markdown",
   "metadata": {
    "id": "ucnevGLoyKf_"
   },
   "source": [
    "Let us check for the version of installed tensorflow."
   ]
  },
  {
   "cell_type": "code",
   "execution_count": 149,
   "metadata": {
    "colab": {
     "base_uri": "https://localhost:8080/"
    },
    "id": "W5as47YxyJVk",
    "outputId": "5b2cbbb1-ec29-4818-da55-b3228a2ff379"
   },
   "outputs": [
    {
     "name": "stdout",
     "output_type": "stream",
     "text": [
      "2.5.0\n"
     ]
    }
   ],
   "source": [
    "# used to supress display of warnings\n",
    "import warnings\n",
    "\n",
    "# os is used to provide a way of using operating system dependent functionality\n",
    "# We use it for setting working folder\n",
    "import os\n",
    "\n",
    "# Pandas is used for data manipulation and analysis\n",
    "import pandas as pd \n",
    "\n",
    "# Numpy is used for large, multi-dimensional arrays and matrices, along with mathematical operators on these arrays\n",
    "import numpy as np\n",
    "\n",
    "# Matplotlib is a data visualization library for 2D plots of arrays, built on NumPy arrays \n",
    "# and designed to work with the broader SciPy stack\n",
    "import matplotlib.pyplot as plt\n",
    "%matplotlib inline\n",
    "from matplotlib import pyplot\n",
    "\n",
    "# Seaborn is based on matplotlib, which aids in drawing attractive and informative statistical graphics.\n",
    "import seaborn as sns\n",
    "import tensorflow as tf\n",
    "print(tensorflow.__version__)\n",
    "\n",
    "\n",
    "# from tensorflow.keras.utils import np_utils\n",
    "from tensorflow.keras.models import Sequential\n",
    "from tensorflow.keras.layers import Dense, Dropout, Activation, Flatten\n",
    "from tensorflow.keras.layers import Conv2D, MaxPooling2D\n",
    "from tensorflow.keras.optimizers import SGD\n",
    "# from tensorflow.keras.constraints import maxnorm\n",
    "from PIL import Image\n",
    "from PIL import ImageMath\n",
    "\n",
    "import glob"
   ]
  },
  {
   "cell_type": "markdown",
   "metadata": {
    "id": "MRj03V7AHAYe"
   },
   "source": [
    "## 2. Setting Options"
   ]
  },
  {
   "cell_type": "code",
   "execution_count": 11,
   "metadata": {
    "id": "7I9dogoKHn6w"
   },
   "outputs": [],
   "source": [
    "# suppress display of warnings\n",
    "warnings.filterwarnings('ignore')\n",
    "\n",
    "# display all dataframe columns\n",
    "pd.options.display.max_columns = None\n",
    "\n",
    "# display all dataframe rows\n",
    "pd.options.display.max_rows = None"
   ]
  },
  {
   "cell_type": "markdown",
   "metadata": {
    "id": "ufAqcNVCHIut"
   },
   "source": [
    "## 3. Data loading and Data Analysis "
   ]
  },
  {
   "cell_type": "markdown",
   "metadata": {
    "id": "LDYN63hu2s97"
   },
   "source": [
    "### Read images and save the pixel information to an array. Also, save their corresponding label to a list ( YES-Mobile - 1, NO-Mobile - 0). Resize the images to shape (128, 128, 3)."
   ]
  },
  {
   "cell_type": "code",
   "execution_count": 12,
   "metadata": {
    "id": "Vb1KBSl3XB2e"
   },
   "outputs": [],
   "source": [
    "# To change the directory\n",
    "os.chdir('/content/drive/MyDrive/Colab Notebooks/CNN/mobile-images')"
   ]
  },
  {
   "cell_type": "code",
   "execution_count": 13,
   "metadata": {
    "colab": {
     "base_uri": "https://localhost:8080/"
    },
    "id": "s1YCDdD2XV8m",
    "outputId": "43750cf6-ec8a-4923-9eb8-ce87fc6e4a63"
   },
   "outputs": [
    {
     "data": {
      "text/plain": [
       "['yes-mobile', 'no-mobile']"
      ]
     },
     "execution_count": 13,
     "metadata": {
      "tags": []
     },
     "output_type": "execute_result"
    }
   ],
   "source": [
    "# Print the list of directories in working directory\n",
    "os.listdir()"
   ]
  },
  {
   "cell_type": "code",
   "execution_count": 14,
   "metadata": {
    "id": "BEc9eeZzXk4w"
   },
   "outputs": [],
   "source": [
    "# Read the impages from save the pixel details and labels into the arrays. \n",
    "\n",
    "import cv2\n",
    "filepath = \"/content/drive/MyDrive/Colab Notebooks/CNN/mobile-images\"\n",
    "\n",
    "yes_images=[]\n",
    "yes_labels=[]\n",
    "no_images=[]\n",
    "no_labels=[]\n",
    "\n",
    "for i in os.listdir():\n",
    "    if i == 'no-mobile':\n",
    "        lbl = 0\n",
    "    elif i == 'yes-mobile':\n",
    "        lbl = 1\n",
    "    imgfiles = glob.glob(filepath+\"/\"+ i +\"/*.png\", recursive=True)\n",
    "    for j in range(0, len(imgfiles)):\n",
    "        img = cv2.imread(imgfiles[j])\n",
    "        img = cv2.resize(img, (128,128))\n",
    "        if lbl == 0:\n",
    "            no_images.append(img)\n",
    "            no_labels.append(lbl)\n",
    "        elif lbl == 1:\n",
    "            yes_images.append(img)\n",
    "            yes_labels.append(lbl)\n"
   ]
  },
  {
   "cell_type": "code",
   "execution_count": 17,
   "metadata": {
    "colab": {
     "base_uri": "https://localhost:8080/",
     "height": 145
    },
    "id": "zpOzYLQSnyof",
    "outputId": "42b5cf51-35a1-4f33-be9b-f70334706d2b"
   },
   "outputs": [
    {
     "data": {
      "image/png": "[encoded data removed]",
      "text/plain": [
       "<PIL.Image.Image image mode=RGB size=128x128 at 0x7F721C42BD50>"
      ]
     },
     "metadata": {
      "tags": []
     },
     "output_type": "display_data"
    }
   ],
   "source": [
    "# Plot the sample image\n",
    "from google.colab.patches import cv2_imshow\n",
    "cv2_imshow(yes_images[0])\n"
   ]
  },
  {
   "cell_type": "code",
   "execution_count": 18,
   "metadata": {
    "colab": {
     "base_uri": "https://localhost:8080/"
    },
    "id": "oEVcF-uXymyK",
    "outputId": "2328fe69-fa52-47e7-b4b0-e38da0bd6081"
   },
   "outputs": [
    {
     "data": {
      "text/plain": [
       "124"
      ]
     },
     "execution_count": 18,
     "metadata": {
      "tags": []
     },
     "output_type": "execute_result"
    }
   ],
   "source": [
    "# Print the total number of images with phone\n",
    "len(yes_images)"
   ]
  },
  {
   "cell_type": "code",
   "execution_count": 20,
   "metadata": {
    "colab": {
     "base_uri": "https://localhost:8080/"
    },
    "id": "5Sb7g6NZyqKJ",
    "outputId": "76d2d960-41f0-4a08-8a79-51aec19e5951"
   },
   "outputs": [
    {
     "data": {
      "text/plain": [
       "121"
      ]
     },
     "execution_count": 20,
     "metadata": {
      "tags": []
     },
     "output_type": "execute_result"
    }
   ],
   "source": [
    "# Print the total number of images without phone\n",
    "len(no_images)"
   ]
  },
  {
   "cell_type": "markdown",
   "metadata": {
    "id": "FrfveOqeFtfz"
   },
   "source": [
    "### Check shape and size of the images"
   ]
  },
  {
   "cell_type": "code",
   "execution_count": 21,
   "metadata": {
    "colab": {
     "base_uri": "https://localhost:8080/"
    },
    "id": "095qjZcYTRnV",
    "outputId": "65d08717-4f3f-4651-cb0f-a9acd63a937f"
   },
   "outputs": [
    {
     "data": {
      "text/plain": [
       "(128, 128, 3)"
      ]
     },
     "execution_count": 21,
     "metadata": {
      "tags": []
     },
     "output_type": "execute_result"
    }
   ],
   "source": [
    "# Print the shape of images with phone\n",
    "yes_images[10].shape"
   ]
  },
  {
   "cell_type": "markdown",
   "metadata": {
    "id": "f-SoPLBx-ExV"
   },
   "source": [
    "- There are 128X128 with 3 channels size"
   ]
  },
  {
   "cell_type": "code",
   "execution_count": 22,
   "metadata": {
    "colab": {
     "base_uri": "https://localhost:8080/"
    },
    "id": "n2iSs104S9NF",
    "outputId": "f486890a-9ab8-4a43-c9ee-a3b240ef049a"
   },
   "outputs": [
    {
     "data": {
      "text/plain": [
       "(128, 128, 3)"
      ]
     },
     "execution_count": 22,
     "metadata": {
      "tags": []
     },
     "output_type": "execute_result"
    }
   ],
   "source": [
    "# Print the shape of images without phone\n",
    "no_images[10].shape"
   ]
  },
  {
   "cell_type": "markdown",
   "metadata": {
    "id": "ym2g-gLB-ZHd"
   },
   "source": [
    "- There are 128X128 with 3 channels size"
   ]
  },
  {
   "cell_type": "markdown",
   "metadata": {
    "id": "t3NWL9_NIdwK"
   },
   "source": [
    "###  What is the percentage of images with and without mobile phone in the data"
   ]
  },
  {
   "cell_type": "code",
   "execution_count": 23,
   "metadata": {
    "colab": {
     "base_uri": "https://localhost:8080/"
    },
    "id": "NKy7Lw5mFVTi",
    "outputId": "4c745f37-e231-45d6-e3d3-7efeb48401f1"
   },
   "outputs": [
    {
     "name": "stdout",
     "output_type": "stream",
     "text": [
      "Images without Phone 49 %\n",
      "Images with Phone 51 %\n"
     ]
    }
   ],
   "source": [
    "print(\"Images without Phone\", round((len(no_images) / (len(no_images) + len(yes_images)))*100), \"%\")\n",
    "print(\"Images with Phone\", round((len(yes_images) / (len(no_images) + len(yes_images)))*100), \"%\")"
   ]
  },
  {
   "cell_type": "markdown",
   "metadata": {
    "id": "JVZ2zlPNDOmi"
   },
   "source": [
    "### Concatenate above two arrays (array having image details of with and without mobile) into one variable and check the final size of the data\n",
    "### Concatenate lists having label data into one list"
   ]
  },
  {
   "cell_type": "code",
   "execution_count": 24,
   "metadata": {
    "id": "88u5BB9NDs2N"
   },
   "outputs": [],
   "source": [
    "import numpy as np\n",
    "\n",
    "# Merge the images with phone and without phone\n",
    "x_img = np.concatenate((yes_images, no_images), axis=0)"
   ]
  },
  {
   "cell_type": "code",
   "execution_count": 25,
   "metadata": {
    "colab": {
     "base_uri": "https://localhost:8080/"
    },
    "id": "Hb67Y6Fs0GDY",
    "outputId": "8deca7b4-ed9c-4940-b5be-59f3086721fb"
   },
   "outputs": [
    {
     "data": {
      "text/plain": [
       "numpy.ndarray"
      ]
     },
     "execution_count": 25,
     "metadata": {
      "tags": []
     },
     "output_type": "execute_result"
    }
   ],
   "source": [
    "type(x_img)"
   ]
  },
  {
   "cell_type": "code",
   "execution_count": 26,
   "metadata": {
    "colab": {
     "base_uri": "https://localhost:8080/"
    },
    "id": "-oAHxV8U0KTD",
    "outputId": "a5773840-9777-4454-f27b-6cf1a5712c39"
   },
   "outputs": [
    {
     "data": {
      "text/plain": [
       "(245, 128, 128, 3)"
      ]
     },
     "execution_count": 26,
     "metadata": {
      "tags": []
     },
     "output_type": "execute_result"
    }
   ],
   "source": [
    "# Print the shape\n",
    "x_img.shape"
   ]
  },
  {
   "cell_type": "markdown",
   "metadata": {
    "id": "6Ucfz-P0wyMU"
   },
   "source": [
    "- There are 245 images with 128x128 with 3 channels"
   ]
  },
  {
   "cell_type": "code",
   "execution_count": 27,
   "metadata": {
    "id": "N470Boux0OvU"
   },
   "outputs": [],
   "source": [
    "# Merge the labels\n",
    "y_lbl = np.concatenate((yes_labels, no_labels), axis=0)"
   ]
  },
  {
   "cell_type": "code",
   "execution_count": 28,
   "metadata": {
    "colab": {
     "base_uri": "https://localhost:8080/"
    },
    "id": "AZwbRDiw0cBn",
    "outputId": "1ab6ed5f-ea59-4488-85b4-dd2efac8ac00"
   },
   "outputs": [
    {
     "data": {
      "text/plain": [
       "numpy.ndarray"
      ]
     },
     "execution_count": 28,
     "metadata": {
      "tags": []
     },
     "output_type": "execute_result"
    }
   ],
   "source": [
    "type(y_lbl)"
   ]
  },
  {
   "cell_type": "code",
   "execution_count": 29,
   "metadata": {
    "colab": {
     "base_uri": "https://localhost:8080/"
    },
    "id": "cA0mRd_70h7M",
    "outputId": "b71aa574-4551-4f5e-faa8-55f4e576211a"
   },
   "outputs": [
    {
     "data": {
      "text/plain": [
       "(245,)"
      ]
     },
     "execution_count": 29,
     "metadata": {
      "tags": []
     },
     "output_type": "execute_result"
    }
   ],
   "source": [
    "y_lbl.shape"
   ]
  },
  {
   "cell_type": "markdown",
   "metadata": {
    "id": "ThaEYJotxJIq"
   },
   "source": [
    "- - There are 245 lables."
   ]
  },
  {
   "cell_type": "code",
   "execution_count": 30,
   "metadata": {
    "colab": {
     "base_uri": "https://localhost:8080/"
    },
    "id": "wSMWfYnO1yDK",
    "outputId": "6710b04b-5272-4797-e180-1ed0f574d1a1"
   },
   "outputs": [
    {
     "data": {
      "text/plain": [
       "array([1, 1, 1, 1, 1, 1, 1, 1, 1, 1, 1, 1, 1, 1, 1, 1, 1, 1, 1, 1, 1, 1,\n",
       "       1, 1, 1, 1, 1, 1, 1, 1, 1, 1, 1, 1, 1, 1, 1, 1, 1, 1, 1, 1, 1, 1,\n",
       "       1, 1, 1, 1, 1, 1, 1, 1, 1, 1, 1, 1, 1, 1, 1, 1, 1, 1, 1, 1, 1, 1,\n",
       "       1, 1, 1, 1, 1, 1, 1, 1, 1, 1, 1, 1, 1, 1, 1, 1, 1, 1, 1, 1, 1, 1,\n",
       "       1, 1, 1, 1, 1, 1, 1, 1, 1, 1, 1, 1, 1, 1, 1, 1, 1, 1, 1, 1, 1, 1,\n",
       "       1, 1, 1, 1, 1, 1, 1, 1, 1, 1, 1, 1, 1, 1, 0, 0, 0, 0, 0, 0, 0, 0,\n",
       "       0, 0, 0, 0, 0, 0, 0, 0, 0, 0, 0, 0, 0, 0, 0, 0, 0, 0, 0, 0, 0, 0,\n",
       "       0, 0, 0, 0, 0, 0, 0, 0, 0, 0, 0, 0, 0, 0, 0, 0, 0, 0, 0, 0, 0, 0,\n",
       "       0, 0, 0, 0, 0, 0, 0, 0, 0, 0, 0, 0, 0, 0, 0, 0, 0, 0, 0, 0, 0, 0,\n",
       "       0, 0, 0, 0, 0, 0, 0, 0, 0, 0, 0, 0, 0, 0, 0, 0, 0, 0, 0, 0, 0, 0,\n",
       "       0, 0, 0, 0, 0, 0, 0, 0, 0, 0, 0, 0, 0, 0, 0, 0, 0, 0, 0, 0, 0, 0,\n",
       "       0, 0, 0])"
      ]
     },
     "execution_count": 30,
     "metadata": {
      "tags": []
     },
     "output_type": "execute_result"
    }
   ],
   "source": [
    "# Print the lables.\n",
    "y_lbl"
   ]
  },
  {
   "cell_type": "markdown",
   "metadata": {
    "id": "rVv66DvSDvY0"
   },
   "source": [
    "### Shuffle the above data and labels ( Data and label should be in sync)"
   ]
  },
  {
   "cell_type": "code",
   "execution_count": 31,
   "metadata": {
    "id": "JC2Uu4r0EFDX"
   },
   "outputs": [],
   "source": [
    "# Shuffle the images with their labels.\n",
    "from sklearn.utils import shuffle\n",
    "data, labels = shuffle(x_img, y_lbl, random_state=95)"
   ]
  },
  {
   "cell_type": "code",
   "execution_count": 32,
   "metadata": {
    "colab": {
     "base_uri": "https://localhost:8080/"
    },
    "id": "im-orbcN2QKm",
    "outputId": "bf736769-397d-4e78-8bad-dfc9eba9c531"
   },
   "outputs": [
    {
     "data": {
      "text/plain": [
       "array([1, 0, 0, 0, 1, 1, 1, 1, 0, 0, 1, 0, 0, 1, 1, 0, 0, 1, 1, 1, 1, 0,\n",
       "       1, 1, 1, 1, 0, 1, 0, 1, 0, 0, 1, 0, 1, 0, 1, 1, 0, 0, 0, 0, 0, 0,\n",
       "       0, 0, 1, 1, 0, 1, 1, 0, 0, 1, 1, 1, 1, 1, 1, 0, 1, 1, 0, 1, 1, 0,\n",
       "       1, 1, 1, 0, 1, 0, 0, 0, 1, 0, 1, 1, 0, 0, 1, 1, 0, 0, 0, 0, 0, 1,\n",
       "       1, 0, 1, 0, 1, 1, 1, 0, 1, 0, 0, 0, 0, 1, 1, 1, 1, 1, 1, 1, 0, 1,\n",
       "       1, 0, 0, 0, 1, 1, 0, 0, 0, 1, 0, 0, 1, 0, 0, 0, 0, 1, 1, 0, 1, 1,\n",
       "       1, 0, 1, 1, 0, 1, 0, 0, 1, 0, 0, 1, 0, 0, 1, 1, 1, 1, 0, 1, 0, 0,\n",
       "       0, 0, 1, 0, 0, 0, 1, 1, 0, 0, 0, 0, 1, 0, 0, 1, 0, 1, 1, 0, 1, 0,\n",
       "       0, 0, 1, 1, 1, 0, 0, 1, 1, 0, 0, 1, 0, 1, 0, 0, 0, 1, 0, 1, 1, 0,\n",
       "       1, 0, 0, 0, 0, 0, 1, 0, 0, 1, 0, 1, 1, 1, 0, 1, 1, 0, 0, 0, 0, 1,\n",
       "       1, 1, 1, 1, 1, 0, 1, 1, 0, 1, 0, 0, 1, 1, 1, 0, 1, 0, 1, 1, 0, 1,\n",
       "       1, 1, 0])"
      ]
     },
     "execution_count": 32,
     "metadata": {
      "tags": []
     },
     "output_type": "execute_result"
    }
   ],
   "source": [
    "labels"
   ]
  },
  {
   "cell_type": "markdown",
   "metadata": {
    "id": "IERuYS1BHuCq"
   },
   "source": [
    "## 4. Visualize and Standardize the data"
   ]
  },
  {
   "cell_type": "markdown",
   "metadata": {
    "id": "kxODV6HKykuc"
   },
   "source": [
    "### Visualise the first 10 images in the data and print their corresponding labels."
   ]
  },
  {
   "cell_type": "code",
   "execution_count": 33,
   "metadata": {
    "colab": {
     "base_uri": "https://localhost:8080/",
     "height": 95
    },
    "id": "__YELlwqE8Cl",
    "outputId": "145b768a-6bcd-4fec-b9c6-b9a3fe380fc8"
   },
   "outputs": [
    {
     "data": {
      "image/png": "[encoded data removed]",
      "text/plain": [
       "<Figure size 720x72 with 10 Axes>"
      ]
     },
     "metadata": {
      "needs_background": "light",
      "tags": []
     },
     "output_type": "display_data"
    },
    {
     "name": "stdout",
     "output_type": "stream",
     "text": [
      "[1 0 0 0 1 1 1 1 0 0]\n"
     ]
    }
   ],
   "source": [
    "%matplotlib inline\n",
    "import matplotlib.pyplot as plt\n",
    "plt.figure(figsize=(10, 1))\n",
    "for i in range(10):\n",
    "    plt.subplot(1, 10, i+1)\n",
    "    plt.imshow(data[i], cmap=\"gray\")\n",
    "    plt.axis('off')\n",
    "plt.show()\n",
    "print(labels[:10])"
   ]
  },
  {
   "cell_type": "markdown",
   "metadata": {
    "id": "LUvm8AMvEFaA"
   },
   "source": [
    "### Split the data into train and test"
   ]
  },
  {
   "cell_type": "code",
   "execution_count": 34,
   "metadata": {
    "id": "kKVEf3zWF0Qq"
   },
   "outputs": [],
   "source": [
    "from sklearn.model_selection import train_test_split"
   ]
  },
  {
   "cell_type": "code",
   "execution_count": 35,
   "metadata": {
    "id": "egL9aVMa3eOI"
   },
   "outputs": [],
   "source": [
    "x_train, x_test, y_train, y_test = train_test_split(data,labels,random_state=26)"
   ]
  },
  {
   "cell_type": "markdown",
   "metadata": {
    "id": "y1ZC0x0I3-jo"
   },
   "source": [
    "### Print shape of the X train and X test data"
   ]
  },
  {
   "cell_type": "code",
   "execution_count": 36,
   "metadata": {
    "colab": {
     "base_uri": "https://localhost:8080/"
    },
    "id": "Dm8gmQt2FEUd",
    "outputId": "c157468e-05d8-4a2c-9e2a-185d3fdf1947"
   },
   "outputs": [
    {
     "data": {
      "text/plain": [
       "(183, 128, 128, 3)"
      ]
     },
     "execution_count": 36,
     "metadata": {
      "tags": []
     },
     "output_type": "execute_result"
    }
   ],
   "source": [
    "# Print the training set shape\n",
    "x_train.shape"
   ]
  },
  {
   "cell_type": "markdown",
   "metadata": {
    "id": "QSvtO278IGZn"
   },
   "source": [
    "- There are 183 images in training set"
   ]
  },
  {
   "cell_type": "code",
   "execution_count": 37,
   "metadata": {
    "colab": {
     "base_uri": "https://localhost:8080/"
    },
    "id": "xUM58VVu387y",
    "outputId": "7e9695b5-1fb3-472d-ec9e-0f68d69125d5"
   },
   "outputs": [
    {
     "data": {
      "text/plain": [
       "(62, 128, 128, 3)"
      ]
     },
     "execution_count": 37,
     "metadata": {
      "tags": []
     },
     "output_type": "execute_result"
    }
   ],
   "source": [
    "# Print the test set shape\n",
    "x_test.shape"
   ]
  },
  {
   "cell_type": "markdown",
   "metadata": {
    "id": "du9LgkpIIPp0"
   },
   "source": [
    "- There are 62 images in test set"
   ]
  },
  {
   "cell_type": "markdown",
   "metadata": {
    "id": "W1Zgo_3LFSWE"
   },
   "source": [
    "### Normalize the data by dividing by 255"
   ]
  },
  {
   "cell_type": "code",
   "execution_count": 38,
   "metadata": {
    "colab": {
     "base_uri": "https://localhost:8080/"
    },
    "id": "7cwIc60Y4tNb",
    "outputId": "de073738-9788-4543-c37e-e2833f4f0a60"
   },
   "outputs": [
    {
     "data": {
      "text/plain": [
       "array([[[170, 170, 170],\n",
       "        [170, 170, 170],\n",
       "        [170, 170, 170],\n",
       "        ...,\n",
       "        [175, 175, 175],\n",
       "        [176, 176, 176],\n",
       "        [176, 176, 176]],\n",
       "\n",
       "       [[170, 170, 170],\n",
       "        [170, 170, 170],\n",
       "        [170, 170, 170],\n",
       "        ...,\n",
       "        [175, 175, 175],\n",
       "        [176, 176, 176],\n",
       "        [176, 176, 176]],\n",
       "\n",
       "       [[170, 170, 170],\n",
       "        [169, 169, 169],\n",
       "        [168, 168, 168],\n",
       "        ...,\n",
       "        [176, 176, 176],\n",
       "        [176, 176, 176],\n",
       "        [176, 176, 176]],\n",
       "\n",
       "       ...,\n",
       "\n",
       "       [[152, 152, 152],\n",
       "        [152, 152, 152],\n",
       "        [151, 151, 151],\n",
       "        ...,\n",
       "        [169, 169, 169],\n",
       "        [169, 169, 169],\n",
       "        [169, 169, 169]],\n",
       "\n",
       "       [[150, 150, 150],\n",
       "        [150, 150, 150],\n",
       "        [150, 150, 150],\n",
       "        ...,\n",
       "        [165, 165, 165],\n",
       "        [164, 164, 164],\n",
       "        [164, 164, 164]],\n",
       "\n",
       "       [[147, 147, 147],\n",
       "        [147, 147, 147],\n",
       "        [147, 147, 147],\n",
       "        ...,\n",
       "        [161, 161, 161],\n",
       "        [159, 159, 159],\n",
       "        [159, 159, 159]]], dtype=uint8)"
      ]
     },
     "execution_count": 38,
     "metadata": {
      "tags": []
     },
     "output_type": "execute_result"
    }
   ],
   "source": [
    "# Verify the data before normalization\n",
    "x_train[0]"
   ]
  },
  {
   "cell_type": "code",
   "execution_count": 39,
   "metadata": {
    "id": "AMDN2gK0FZ22"
   },
   "outputs": [],
   "source": [
    "# Apply normalization\n",
    "x_train = x_train/255.0\n",
    "x_test = x_test/255.0"
   ]
  },
  {
   "cell_type": "code",
   "execution_count": 40,
   "metadata": {
    "colab": {
     "base_uri": "https://localhost:8080/"
    },
    "id": "qppxdtXG41ta",
    "outputId": "669bdc19-a124-49bf-9e22-582d2c6cd253"
   },
   "outputs": [
    {
     "data": {
      "text/plain": [
       "array([[[0.66666667, 0.66666667, 0.66666667],\n",
       "        [0.66666667, 0.66666667, 0.66666667],\n",
       "        [0.66666667, 0.66666667, 0.66666667],\n",
       "        ...,\n",
       "        [0.68627451, 0.68627451, 0.68627451],\n",
       "        [0.69019608, 0.69019608, 0.69019608],\n",
       "        [0.69019608, 0.69019608, 0.69019608]],\n",
       "\n",
       "       [[0.66666667, 0.66666667, 0.66666667],\n",
       "        [0.66666667, 0.66666667, 0.66666667],\n",
       "        [0.66666667, 0.66666667, 0.66666667],\n",
       "        ...,\n",
       "        [0.68627451, 0.68627451, 0.68627451],\n",
       "        [0.69019608, 0.69019608, 0.69019608],\n",
       "        [0.69019608, 0.69019608, 0.69019608]],\n",
       "\n",
       "       [[0.66666667, 0.66666667, 0.66666667],\n",
       "        [0.6627451 , 0.6627451 , 0.6627451 ],\n",
       "        [0.65882353, 0.65882353, 0.65882353],\n",
       "        ...,\n",
       "        [0.69019608, 0.69019608, 0.69019608],\n",
       "        [0.69019608, 0.69019608, 0.69019608],\n",
       "        [0.69019608, 0.69019608, 0.69019608]],\n",
       "\n",
       "       ...,\n",
       "\n",
       "       [[0.59607843, 0.59607843, 0.59607843],\n",
       "        [0.59607843, 0.59607843, 0.59607843],\n",
       "        [0.59215686, 0.59215686, 0.59215686],\n",
       "        ...,\n",
       "        [0.6627451 , 0.6627451 , 0.6627451 ],\n",
       "        [0.6627451 , 0.6627451 , 0.6627451 ],\n",
       "        [0.6627451 , 0.6627451 , 0.6627451 ]],\n",
       "\n",
       "       [[0.58823529, 0.58823529, 0.58823529],\n",
       "        [0.58823529, 0.58823529, 0.58823529],\n",
       "        [0.58823529, 0.58823529, 0.58823529],\n",
       "        ...,\n",
       "        [0.64705882, 0.64705882, 0.64705882],\n",
       "        [0.64313725, 0.64313725, 0.64313725],\n",
       "        [0.64313725, 0.64313725, 0.64313725]],\n",
       "\n",
       "       [[0.57647059, 0.57647059, 0.57647059],\n",
       "        [0.57647059, 0.57647059, 0.57647059],\n",
       "        [0.57647059, 0.57647059, 0.57647059],\n",
       "        ...,\n",
       "        [0.63137255, 0.63137255, 0.63137255],\n",
       "        [0.62352941, 0.62352941, 0.62352941],\n",
       "        [0.62352941, 0.62352941, 0.62352941]]])"
      ]
     },
     "execution_count": 40,
     "metadata": {
      "tags": []
     },
     "output_type": "execute_result"
    }
   ],
   "source": [
    "# Verify the data after normalization\n",
    "x_train[0]"
   ]
  },
  {
   "cell_type": "markdown",
   "metadata": {
    "id": "bogxx3cezol1"
   },
   "source": [
    "###  One hot encode the labels for train and test data \n",
    "Hint:- We need to one hot encode the labels for the model to understand the labels better. We will be using categorical cross entropy as our loss function and for this purpose we need our labels to be in one hot encoded format."
   ]
  },
  {
   "cell_type": "code",
   "execution_count": 41,
   "metadata": {
    "colab": {
     "base_uri": "https://localhost:8080/"
    },
    "id": "4R0pPQFBFjp1",
    "outputId": "12e1171a-dfdd-41a0-e30a-106deac56575"
   },
   "outputs": [
    {
     "data": {
      "text/plain": [
       "array([1, 1, 0, 0, 1, 0, 0, 0, 1, 1, 1, 0, 1, 1, 1, 0, 0, 0, 1, 0, 1, 0,\n",
       "       0, 1, 1, 1, 0, 1, 0, 0, 0, 0, 1, 0, 1, 0, 0, 1, 0, 0, 0, 1, 0, 1,\n",
       "       0, 0, 0, 1, 0, 0, 0, 0, 1, 1, 0, 1, 1, 0, 0, 0, 1, 0])"
      ]
     },
     "execution_count": 41,
     "metadata": {
      "tags": []
     },
     "output_type": "execute_result"
    }
   ],
   "source": [
    "# Verify the lable before applying onehot encode\n",
    "y_test"
   ]
  },
  {
   "cell_type": "code",
   "execution_count": 42,
   "metadata": {
    "id": "QRQY0NiE5la5"
   },
   "outputs": [],
   "source": [
    "from tensorflow.keras.utils import to_categorical"
   ]
  },
  {
   "cell_type": "code",
   "execution_count": 43,
   "metadata": {
    "id": "2F23NFOc5wj5"
   },
   "outputs": [],
   "source": [
    "# Apply onehot encode\n",
    "y_train_cat = to_categorical(y_train)\n",
    "y_test_cat = to_categorical(y_test)"
   ]
  },
  {
   "cell_type": "code",
   "execution_count": 45,
   "metadata": {
    "colab": {
     "base_uri": "https://localhost:8080/"
    },
    "id": "YseoneUm6AB6",
    "outputId": "c024dc3a-9e63-4385-db88-f4d8a3834b11"
   },
   "outputs": [
    {
     "data": {
      "text/plain": [
       "array([[0., 1.],\n",
       "       [0., 1.],\n",
       "       [1., 0.],\n",
       "       [1., 0.],\n",
       "       [0., 1.],\n",
       "       [1., 0.],\n",
       "       [1., 0.],\n",
       "       [1., 0.],\n",
       "       [0., 1.],\n",
       "       [0., 1.],\n",
       "       [0., 1.],\n",
       "       [1., 0.],\n",
       "       [0., 1.],\n",
       "       [0., 1.],\n",
       "       [0., 1.],\n",
       "       [1., 0.],\n",
       "       [1., 0.],\n",
       "       [1., 0.],\n",
       "       [0., 1.],\n",
       "       [1., 0.],\n",
       "       [0., 1.],\n",
       "       [1., 0.],\n",
       "       [1., 0.],\n",
       "       [0., 1.],\n",
       "       [0., 1.],\n",
       "       [0., 1.],\n",
       "       [1., 0.],\n",
       "       [0., 1.],\n",
       "       [1., 0.],\n",
       "       [1., 0.],\n",
       "       [1., 0.],\n",
       "       [1., 0.],\n",
       "       [0., 1.],\n",
       "       [1., 0.],\n",
       "       [0., 1.],\n",
       "       [1., 0.],\n",
       "       [1., 0.],\n",
       "       [0., 1.],\n",
       "       [1., 0.],\n",
       "       [1., 0.],\n",
       "       [1., 0.],\n",
       "       [0., 1.],\n",
       "       [1., 0.],\n",
       "       [0., 1.],\n",
       "       [1., 0.],\n",
       "       [1., 0.],\n",
       "       [1., 0.],\n",
       "       [0., 1.],\n",
       "       [1., 0.],\n",
       "       [1., 0.],\n",
       "       [1., 0.],\n",
       "       [1., 0.],\n",
       "       [0., 1.],\n",
       "       [0., 1.],\n",
       "       [1., 0.],\n",
       "       [0., 1.],\n",
       "       [0., 1.],\n",
       "       [1., 0.],\n",
       "       [1., 0.],\n",
       "       [1., 0.],\n",
       "       [0., 1.],\n",
       "       [1., 0.]], dtype=float32)"
      ]
     },
     "execution_count": 45,
     "metadata": {
      "tags": []
     },
     "output_type": "execute_result"
    }
   ],
   "source": [
    "# Verify the label after onehot encoding\n",
    "y_test_cat"
   ]
  },
  {
   "cell_type": "markdown",
   "metadata": {
    "id": "xztigzzfITt-"
   },
   "source": [
    "## 5. Model building"
   ]
  },
  {
   "cell_type": "markdown",
   "metadata": {
    "id": "UJDUoaEj1d6e"
   },
   "source": [
    "### Define the model architecture using TensorFlow with a Conv2D layer followed by dense layers with activation as ReLu and softmax respectively. "
   ]
  },
  {
   "cell_type": "code",
   "execution_count": 101,
   "metadata": {
    "id": "RhT_PLicFuDu"
   },
   "outputs": [],
   "source": [
    "from tensorflow.keras.layers import Conv2D, Dropout\n",
    "\n",
    "#tf.keras.backend.clear_session()\n",
    "model = Sequential()\n",
    "\n",
    "# Add convolutional layer with 3x3 filter size and 32 filters\n",
    "model.add(Conv2D(32,(3,3),activation='relu',input_shape=(128,128,3)))\n",
    "model.add(MaxPooling2D((2,2))) # Add pooling layer with 2x2 size\n",
    "\n",
    "# Add another convolutional layer with 3x3 filter size and 64 filters\n",
    "model.add(Conv2D(64,(3,3),activation='relu'))\n",
    "model.add(MaxPooling2D((2,2))) # Add pooling layer with 2x2 size\n",
    "\n",
    "# Add flatten layer\n",
    "model.add(Flatten())\n",
    "\n",
    "# Add dense layers\n",
    "model.add(Dense(64, activation='relu'))\n",
    "model.add(Dense(32, activation='relu'))\n",
    "\n",
    "# Add output layers\n",
    "model.add(Dense(2,activation='softmax'))\n"
   ]
  },
  {
   "cell_type": "markdown",
   "metadata": {
    "id": "DAJbHWAbF1Ko"
   },
   "source": [
    "### Compile the above model using appropriate loss metric. Try with sgd, adam optimizer and \"accuracy\" as metrics. "
   ]
  },
  {
   "cell_type": "code",
   "execution_count": 102,
   "metadata": {
    "id": "wBcO5lBmGMCW"
   },
   "outputs": [],
   "source": [
    "# Compile the model\n",
    "model.compile(loss=\"categorical_crossentropy\", metrics=[\"accuracy\"], optimizer=\"adam\")"
   ]
  },
  {
   "cell_type": "markdown",
   "metadata": {
    "id": "5t90ufg46jLl"
   },
   "source": [
    "### Fit the model on the training dataset along with it's equivalent one hot encoded labels"
   ]
  },
  {
   "cell_type": "code",
   "execution_count": 103,
   "metadata": {
    "colab": {
     "base_uri": "https://localhost:8080/"
    },
    "id": "1OSrPoT9GPKs",
    "outputId": "55bb8011-8823-4aa7-b38a-dc817377a98f"
   },
   "outputs": [
    {
     "name": "stdout",
     "output_type": "stream",
     "text": [
      "Epoch 1/10\n",
      "6/6 [==============================] - 5s 736ms/step - loss: 0.8296 - accuracy: 0.4918 - val_loss: 0.7072 - val_accuracy: 0.4194\n",
      "Epoch 2/10\n",
      "6/6 [==============================] - 4s 702ms/step - loss: 0.6332 - accuracy: 0.5410 - val_loss: 0.6061 - val_accuracy: 0.8548\n",
      "Epoch 3/10\n",
      "6/6 [==============================] - 4s 696ms/step - loss: 0.5244 - accuracy: 0.8525 - val_loss: 0.4711 - val_accuracy: 0.8548\n",
      "Epoch 4/10\n",
      "6/6 [==============================] - 4s 695ms/step - loss: 0.3886 - accuracy: 0.8743 - val_loss: 0.3683 - val_accuracy: 0.8226\n",
      "Epoch 5/10\n",
      "6/6 [==============================] - 4s 705ms/step - loss: 0.2931 - accuracy: 0.8852 - val_loss: 0.3551 - val_accuracy: 0.8548\n",
      "Epoch 6/10\n",
      "6/6 [==============================] - 4s 696ms/step - loss: 0.2222 - accuracy: 0.9180 - val_loss: 0.4710 - val_accuracy: 0.8387\n",
      "Epoch 7/10\n",
      "6/6 [==============================] - 4s 701ms/step - loss: 0.1802 - accuracy: 0.9399 - val_loss: 0.4541 - val_accuracy: 0.8710\n",
      "Epoch 8/10\n",
      "6/6 [==============================] - 4s 701ms/step - loss: 0.1253 - accuracy: 0.9617 - val_loss: 0.4472 - val_accuracy: 0.8387\n",
      "Epoch 9/10\n",
      "6/6 [==============================] - 4s 704ms/step - loss: 0.0947 - accuracy: 0.9781 - val_loss: 0.9287 - val_accuracy: 0.7581\n",
      "Epoch 10/10\n",
      "6/6 [==============================] - 4s 706ms/step - loss: 0.1778 - accuracy: 0.9399 - val_loss: 0.4671 - val_accuracy: 0.8710\n"
     ]
    }
   ],
   "source": [
    "# Train the model\n",
    "training_history = model.fit(x_train,y_train_cat,validation_data=(x_test,y_test_cat),epochs=10,batch_size=32)"
   ]
  },
  {
   "cell_type": "markdown",
   "metadata": {
    "id": "algw3-VGIj-N"
   },
   "source": [
    "## 6. Evaluate the model\n"
   ]
  },
  {
   "cell_type": "markdown",
   "metadata": {
    "id": "PJ44TJ4gGQUC"
   },
   "source": [
    "### Evaluate the model on test data and print loss and accuracy"
   ]
  },
  {
   "cell_type": "code",
   "execution_count": 104,
   "metadata": {
    "colab": {
     "base_uri": "https://localhost:8080/"
    },
    "id": "ThluFnGNGWh7",
    "outputId": "c63b5237-fc7a-4e01-cd19-5a9c6f45c8cd"
   },
   "outputs": [
    {
     "name": "stdout",
     "output_type": "stream",
     "text": [
      "2/2 [==============================] - 0s 167ms/step - loss: 0.4671 - accuracy: 0.8710\n"
     ]
    },
    {
     "data": {
      "text/plain": [
       "[0.4671388864517212, 0.8709677457809448]"
      ]
     },
     "execution_count": 104,
     "metadata": {
      "tags": []
     },
     "output_type": "execute_result"
    }
   ],
   "source": [
    "# Evaluate test set\n",
    "model.evaluate(x_test, y_test_cat, batch_size=32)"
   ]
  },
  {
   "cell_type": "code",
   "execution_count": 105,
   "metadata": {
    "colab": {
     "base_uri": "https://localhost:8080/"
    },
    "id": "v-GTsmZWN2Wg",
    "outputId": "e0163fbb-ddc0-49a5-c315-f6ca72efa398"
   },
   "outputs": [
    {
     "name": "stdout",
     "output_type": "stream",
     "text": [
      "6/6 [==============================] - 1s 167ms/step - loss: 0.0758 - accuracy: 0.9781\n"
     ]
    },
    {
     "data": {
      "text/plain": [
       "[0.07577158510684967, 0.9781420826911926]"
      ]
     },
     "execution_count": 105,
     "metadata": {
      "tags": []
     },
     "output_type": "execute_result"
    }
   ],
   "source": [
    "# Evaluate training set\n",
    "model.evaluate(x_train, y_train_cat)"
   ]
  },
  {
   "cell_type": "markdown",
   "metadata": {
    "id": "hyzKGfaKGapH"
   },
   "source": [
    "### Predict label data of the test data and check confusion matrix"
   ]
  },
  {
   "cell_type": "code",
   "execution_count": 106,
   "metadata": {
    "colab": {
     "base_uri": "https://localhost:8080/"
    },
    "id": "jqlmsPhxGh-K",
    "outputId": "477e2a0f-0294-4aa5-a60f-9854f75f213f"
   },
   "outputs": [
    {
     "data": {
      "text/plain": [
       "array([[30,  6],\n",
       "       [ 2, 24]])"
      ]
     },
     "execution_count": 106,
     "metadata": {
      "tags": []
     },
     "output_type": "execute_result"
    }
   ],
   "source": [
    "# Predict the label for test set\n",
    "y_pred= np.argmax(model.predict(x_test), axis=1)\n",
    "\n",
    "# Print confusion matrix\n",
    "from sklearn.metrics import confusion_matrix\n",
    "confusion_matrix(y_test, y_pred)"
   ]
  },
  {
   "cell_type": "markdown",
   "metadata": {
    "id": "C3cctwoeGwHa"
   },
   "source": [
    "### Display test images and their predicted label for a few samples"
   ]
  },
  {
   "cell_type": "code",
   "execution_count": 107,
   "metadata": {
    "colab": {
     "base_uri": "https://localhost:8080/",
     "height": 285
    },
    "id": "di9lvYtDRiL1",
    "outputId": "a93b7ee5-b3ec-416d-818d-e6a98321d488"
   },
   "outputs": [
    {
     "data": {
      "text/plain": [
       "1"
      ]
     },
     "execution_count": 107,
     "metadata": {
      "tags": []
     },
     "output_type": "execute_result"
    },
    {
     "data": {
      "image/png": "[encoded data removed]",
      "text/plain": [
       "<Figure size 432x288 with 1 Axes>"
      ]
     },
     "metadata": {
      "needs_background": "light",
      "tags": []
     },
     "output_type": "display_data"
    }
   ],
   "source": [
    "# Plot the image with predicted label\n",
    "plt.imshow(x_test[0], cmap=\"gray\")\n",
    "y_pred[0]"
   ]
  },
  {
   "cell_type": "code",
   "execution_count": 108,
   "metadata": {
    "colab": {
     "base_uri": "https://localhost:8080/",
     "height": 95
    },
    "id": "FvbAyNElHH_G",
    "outputId": "b4c84d90-a282-470c-ff20-77a8c6cf18b0"
   },
   "outputs": [
    {
     "data": {
      "image/png": "[encoded data removed]",
      "text/plain": [
       "<Figure size 720x72 with 5 Axes>"
      ]
     },
     "metadata": {
      "needs_background": "light",
      "tags": []
     },
     "output_type": "display_data"
    },
    {
     "name": "stdout",
     "output_type": "stream",
     "text": [
      "[1 1 1 0 1]\n"
     ]
    }
   ],
   "source": [
    "# Plot the image with predicted label\n",
    "%matplotlib inline\n",
    "import matplotlib.pyplot as plt\n",
    "plt.figure(figsize=(10, 1))\n",
    "for i in range(5):\n",
    "    plt.subplot(1, 10, i+1)\n",
    "    plt.imshow(x_test[i], cmap=\"gray\")\n",
    "    plt.axis('off')\n",
    "plt.show()\n",
    "print(y_pred[:5])"
   ]
  },
  {
   "cell_type": "markdown",
   "metadata": {
    "id": "ZruCtc4GGkVr"
   },
   "source": [
    "### Print following plots\n",
    "1. Plot training accuracy vs validation accuracy\n",
    "2. Plot training loss vs validation loss"
   ]
  },
  {
   "cell_type": "code",
   "execution_count": 109,
   "metadata": {
    "colab": {
     "base_uri": "https://localhost:8080/",
     "height": 295
    },
    "id": "2nf532Q_HWWM",
    "outputId": "50e30b67-22c5-447b-99fd-65e3d4b3c371"
   },
   "outputs": [
    {
     "data": {
      "image/png": "[encoded data removed]",
      "text/plain": [
       "<Figure size 432x288 with 1 Axes>"
      ]
     },
     "metadata": {
      "needs_background": "light",
      "tags": []
     },
     "output_type": "display_data"
    }
   ],
   "source": [
    "plt.plot(training_history.history['accuracy'])\n",
    "plt.plot(training_history.history['val_accuracy'])\n",
    "plt.title('Accuracy')\n",
    "plt.ylabel('Accuracy')\n",
    "plt.xlabel('epoch')\n",
    "plt.legend(['train', 'test'], loc='upper left')\n",
    "plt.show()"
   ]
  },
  {
   "cell_type": "code",
   "execution_count": 110,
   "metadata": {
    "colab": {
     "base_uri": "https://localhost:8080/",
     "height": 295
    },
    "id": "XrP0F807T3GV",
    "outputId": "7c5c55ec-9f48-40a9-cbca-6a6d43e75883"
   },
   "outputs": [
    {
     "data": {
      "image/png": "[encoded data removed]",
      "text/plain": [
       "<Figure size 432x288 with 1 Axes>"
      ]
     },
     "metadata": {
      "needs_background": "light",
      "tags": []
     },
     "output_type": "display_data"
    }
   ],
   "source": [
    "plt.plot(training_history.history['loss'])\n",
    "plt.plot(training_history.history['val_loss'])\n",
    "plt.title('Loss')\n",
    "plt.ylabel('Loss')\n",
    "plt.xlabel('epoch')\n",
    "plt.legend(['train', 'test'], loc='upper left')\n",
    "plt.show()"
   ]
  },
  {
   "cell_type": "markdown",
   "metadata": {
    "id": "hH63EB-xGHJq"
   },
   "source": [
    "## 7.  Conclusion and Interpretation"
   ]
  },
  {
   "cell_type": "markdown",
   "metadata": {
    "id": "5ixHI0FcHIMo"
   },
   "source": [
    "### Write your observations and findings"
   ]
  },
  {
   "cell_type": "markdown",
   "metadata": {
    "id": "zSuVVx0ro0yG"
   },
   "source": [
    "- In above accuracy graph, training accuracy (0.93) is higher than test accuracy (0.87) in last epoch. Training accuracy is raised and test accuracy is down at 8th epoch.\n",
    "- In Loss graph, training loss (0.1778) is less than test loss (0.4617) in ast epoch. Test loss is raised and training loss is dropped suddenly at 8th epoch. Hence Training accuracy is raised at 8th epoch. \n",
    "- It shows that this model is overfit. "
   ]
  },
  {
   "cell_type": "markdown",
   "metadata": {
    "id": "WnoWVy0GGPs5"
   },
   "source": [
    "## 8. Further Explore"
   ]
  },
  {
   "cell_type": "markdown",
   "metadata": {
    "id": "NKEwRyW9JnCd"
   },
   "source": [
    "### Try changing a few hyperparameters such as number of layers in the network or number of units in a hidden layer or try different activation functions in the hidden layers and see if you get better results than the previous network"
   ]
  },
  {
   "cell_type": "code",
   "execution_count": 150,
   "metadata": {
    "id": "OFRVkBdnHbW4"
   },
   "outputs": [],
   "source": [
    "tf.keras.backend.clear_session()\n",
    "model = Sequential()\n",
    "# Add the convolutional layer with 3x3 filter size and 64 filters \n",
    "model.add(Conv2D(64,(3,3),activation='relu',input_shape=(128,128,3)))\n",
    "model.add(MaxPooling2D((2,2)))\n",
    "\n",
    "# Add another convolutional layer with 3x3 filter size and 32 filters\n",
    "model.add(Conv2D(32,(3,3),activation='relu'))\n",
    "model.add(MaxPooling2D((2,2))) # Add pooling layer with 2x2 size\n",
    "model.add(Dropout(0.2))  # Add dropout layer\n",
    "\n",
    "# Add flatten layer\n",
    "model.add(Flatten())\n",
    "\n",
    "# Add dense layers and dropout layers\n",
    "model.add(Dense(64, activation='relu'))\n",
    "model.add(Dropout(0.2))\n",
    "\n",
    "model.add(Dense(32, activation='relu'))\n",
    "model.add(Dropout(0.2))\n",
    "\n",
    "# Add output layer\n",
    "model.add(Dense(2,activation='softmax'))\n"
   ]
  },
  {
   "cell_type": "code",
   "execution_count": 151,
   "metadata": {
    "id": "UvO9T8pMb60Y"
   },
   "outputs": [],
   "source": [
    "# Complie the model with Adam optimizer learning rate 0.0001 \n",
    "optimizers = tf.keras.optimizers.Adam(learning_rate=0.0001)\n",
    "model.compile(loss=\"categorical_crossentropy\", metrics=[\"accuracy\"], optimizer=optimizers)"
   ]
  },
  {
   "cell_type": "code",
   "execution_count": 152,
   "metadata": {
    "colab": {
     "base_uri": "https://localhost:8080/"
    },
    "id": "-bxTGU19cFA0",
    "outputId": "c8e7c692-46d4-46ca-9882-6e7b60b9cfbc"
   },
   "outputs": [
    {
     "name": "stdout",
     "output_type": "stream",
     "text": [
      "Epoch 1/10\n",
      "8/8 [==============================] - 6s 720ms/step - loss: 0.7012 - accuracy: 0.4918 - val_loss: 0.6919 - val_accuracy: 0.4194\n",
      "Epoch 2/10\n",
      "8/8 [==============================] - 6s 695ms/step - loss: 0.6805 - accuracy: 0.5574 - val_loss: 0.6900 - val_accuracy: 0.4194\n",
      "Epoch 3/10\n",
      "8/8 [==============================] - 6s 699ms/step - loss: 0.6770 - accuracy: 0.5847 - val_loss: 0.6512 - val_accuracy: 0.8065\n",
      "Epoch 4/10\n",
      "8/8 [==============================] - 6s 698ms/step - loss: 0.6513 - accuracy: 0.6339 - val_loss: 0.6249 - val_accuracy: 0.8710\n",
      "Epoch 5/10\n",
      "8/8 [==============================] - 6s 701ms/step - loss: 0.6282 - accuracy: 0.6776 - val_loss: 0.6215 - val_accuracy: 0.5161\n",
      "Epoch 6/10\n",
      "8/8 [==============================] - 6s 701ms/step - loss: 0.5930 - accuracy: 0.6721 - val_loss: 0.5488 - val_accuracy: 0.8387\n",
      "Epoch 7/10\n",
      "8/8 [==============================] - 6s 701ms/step - loss: 0.5624 - accuracy: 0.7486 - val_loss: 0.5083 - val_accuracy: 0.8387\n",
      "Epoch 8/10\n",
      "8/8 [==============================] - 6s 702ms/step - loss: 0.5228 - accuracy: 0.7978 - val_loss: 0.4774 - val_accuracy: 0.8387\n",
      "Epoch 9/10\n",
      "8/8 [==============================] - 6s 705ms/step - loss: 0.4880 - accuracy: 0.8470 - val_loss: 0.4632 - val_accuracy: 0.8871\n",
      "Epoch 10/10\n",
      "8/8 [==============================] - 6s 700ms/step - loss: 0.4564 - accuracy: 0.8087 - val_loss: 0.3973 - val_accuracy: 0.8387\n"
     ]
    }
   ],
   "source": [
    "# Train the model\n",
    "training_history = model.fit(x_train,y_train_cat,validation_data=(x_test,y_test_cat),epochs=10,batch_size=25)"
   ]
  },
  {
   "cell_type": "code",
   "execution_count": 153,
   "metadata": {
    "colab": {
     "base_uri": "https://localhost:8080/",
     "height": 295
    },
    "id": "-5e9tc7si8LL",
    "outputId": "38096803-ee48-4d36-fa3b-01372e05e39f"
   },
   "outputs": [
    {
     "data": {
      "image/png": "[encoded data removed]",
      "text/plain": [
       "<Figure size 432x288 with 1 Axes>"
      ]
     },
     "metadata": {
      "needs_background": "light",
      "tags": []
     },
     "output_type": "display_data"
    }
   ],
   "source": [
    "plt.plot(training_history.history['accuracy'])\n",
    "plt.plot(training_history.history['val_accuracy'])\n",
    "plt.title('Accuracy')\n",
    "plt.ylabel('Accuracy')\n",
    "plt.xlabel('epoch')\n",
    "plt.legend(['train', 'test'], loc='upper left')\n",
    "plt.show()"
   ]
  },
  {
   "cell_type": "code",
   "execution_count": 154,
   "metadata": {
    "colab": {
     "base_uri": "https://localhost:8080/",
     "height": 295
    },
    "id": "dXDgiuADjFR4",
    "outputId": "b3d12b70-6864-4335-c9eb-2b4faa66cccf"
   },
   "outputs": [
    {
     "data": {
      "image/png": "[encoded data removed]",
      "text/plain": [
       "<Figure size 432x288 with 1 Axes>"
      ]
     },
     "metadata": {
      "needs_background": "light",
      "tags": []
     },
     "output_type": "display_data"
    }
   ],
   "source": [
    "plt.plot(training_history.history['loss'])\n",
    "plt.plot(training_history.history['val_loss'])\n",
    "plt.title('Loss')\n",
    "plt.ylabel('Loss')\n",
    "plt.xlabel('epoch')\n",
    "plt.legend(['train', 'test'], loc='upper left')\n",
    "plt.show()"
   ]
  },
  {
   "cell_type": "code",
   "execution_count": 155,
   "metadata": {
    "colab": {
     "base_uri": "https://localhost:8080/"
    },
    "id": "abdkFLQzjWpD",
    "outputId": "69ec7e30-f838-4643-b8c0-08d49e8df70f"
   },
   "outputs": [
    {
     "name": "stdout",
     "output_type": "stream",
     "text": [
      "WARNING:tensorflow:5 out of the last 9 calls to <function Model.make_predict_function.<locals>.predict_function at 0x7f7215c9a0e0> triggered tf.function retracing. Tracing is expensive and the excessive number of tracings could be due to (1) creating @tf.function repeatedly in a loop, (2) passing tensors with different shapes, (3) passing Python objects instead of tensors. For (1), please define your @tf.function outside of the loop. For (2), @tf.function has experimental_relax_shapes=True option that relaxes argument shapes that can avoid unnecessary retracing. For (3), please refer to https://www.tensorflow.org/guide/function#controlling_retracing and https://www.tensorflow.org/api_docs/python/tf/function for  more details.\n"
     ]
    },
    {
     "data": {
      "text/plain": [
       "array([[32,  4],\n",
       "       [ 6, 20]])"
      ]
     },
     "execution_count": 155,
     "metadata": {
      "tags": []
     },
     "output_type": "execute_result"
    }
   ],
   "source": [
    "# Predict the label for test set\n",
    "y_pred_lbl= np.argmax(model.predict(x_test), axis=1)\n",
    "\n",
    "# Print the confusion matrix\n",
    "from sklearn.metrics import confusion_matrix\n",
    "confusion_matrix(y_test, y_pred_lbl)"
   ]
  },
  {
   "cell_type": "markdown",
   "metadata": {
    "id": "FKqRrXHeqWjg"
   },
   "source": [
    "### Observation:\n",
    "- As part of performance tuning, increased number of filters in first convolutional layer and decreased number of filters in second convolutional layer. Also, few dropout layers added in the network. \n",
    "- This parameter tuning help us to reduce the overfit. \n",
    "- Training accuracy is (.80) and test accuracy is (0.83)\n",
    "- The training loss is 0.4564 and test loss is 0.3973."
   ]
  }
 ],
 "metadata": {
  "accelerator": "GPU",
  "colab": {
   "collapsed_sections": [],
   "name": "R7 CV with CNN Lab Question Notebook.ipynb",
   "provenance": []
  },
  "kernelspec": {
   "display_name": "Python 3",
   "language": "python",
   "name": "python3"
  },
  "language_info": {
   "codemirror_mode": {
    "name": "ipython",
    "version": 3
   },
   "file_extension": ".py",
   "mimetype": "text/x-python",
   "name": "python",
   "nbconvert_exporter": "python",
   "pygments_lexer": "ipython3",
   "version": "3.8.3"
  }
 },
 "nbformat": 4,
 "nbformat_minor": 1
}
